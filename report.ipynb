{
 "cells": [
  {
   "attachments": {},
   "cell_type": "markdown",
   "metadata": {},
   "source": [
    "# Load libraries"
   ]
  },
  {
   "cell_type": "code",
   "execution_count": 2,
   "metadata": {},
   "outputs": [],
   "source": [
    "import os\n",
    "from tqdm import tqdm\n",
    "from codes.bb import *\n",
    "import pandas as pd\n",
    "import networkx as nx\n",
    "import plotly.express as px\n",
    "import matplotlib.pyplot as plt\n",
    "import plotly.graph_objects as go"
   ]
  },
  {
   "attachments": {},
   "cell_type": "markdown",
   "metadata": {},
   "source": [
    "# Exploring data"
   ]
  },
  {
   "cell_type": "code",
   "execution_count": 129,
   "metadata": {},
   "outputs": [
    {
     "name": "stderr",
     "output_type": "stream",
     "text": [
      "100%|██████████| 147/147 [00:00<00:00, 26612.69it/s]\n"
     ]
    }
   ],
   "source": [
    "# read nrm files\n",
    "nmr_folder = 'data/nmr_rand'\n",
    "df_nmr = {'fn': [], 'i': [], 'j': [], 'dij': []}\n",
    "for fn in tqdm(os.listdir(nmr_folder)):\n",
    "    if not fn.endswith('.nmr'):\n",
    "        continue\n",
    "    fn = os.path.join(nmr_folder, fn)\n",
    "    with open(fn, 'r') as fd:\n",
    "        for edge in fd:\n",
    "            i, j, dij = edge.split()[:3]\n",
    "            # parse the edge\n",
    "            i, j, dij = int(i), int(j), float(dij)\n",
    "            # add the edge\n",
    "            df_nmr['fn'].append(fn)\n",
    "            df_nmr['i'].append(i)\n",
    "            df_nmr['j'].append(j)\n",
    "            df_nmr['dij'].append(dij)\n",
    "# convert to dataframe\n",
    "df_nmr = pd.DataFrame(df_nmr)\n",
    "# add columns for dmax, pdb and chain\n",
    "df_nmr['DMAX'] = df_nmr['fn'].apply(lambda fn: int(fn.split('dmax_')[1].split('.')[0]))\n",
    "df_nmr['PDB'] = df_nmr['fn'].apply(lambda fn: fn.split('/')[-1].split('_')[0])\n",
    "df_nmr['chain'] = df_nmr['fn'].apply(lambda fn: fn.split('/')[-1].split('_')[2])"
   ]
  },
  {
   "cell_type": "code",
   "execution_count": 130,
   "metadata": {},
   "outputs": [
    {
     "data": {
      "text/html": [
       "<div>\n",
       "<style scoped>\n",
       "    .dataframe tbody tr th:only-of-type {\n",
       "        vertical-align: middle;\n",
       "    }\n",
       "\n",
       "    .dataframe tbody tr th {\n",
       "        vertical-align: top;\n",
       "    }\n",
       "\n",
       "    .dataframe thead th {\n",
       "        text-align: right;\n",
       "    }\n",
       "</style>\n",
       "<table border=\"1\" class=\"dataframe\">\n",
       "  <thead>\n",
       "    <tr style=\"text-align: right;\">\n",
       "      <th></th>\n",
       "      <th>PDB</th>\n",
       "      <th>|V|</th>\n",
       "      <th>|E_5|</th>\n",
       "      <th>|S_5|</th>\n",
       "    </tr>\n",
       "  </thead>\n",
       "  <tbody>\n",
       "    <tr>\n",
       "      <th>16</th>\n",
       "      <td>test5</td>\n",
       "      <td>17</td>\n",
       "      <td>5</td>\n",
       "      <td>7</td>\n",
       "    </tr>\n",
       "    <tr>\n",
       "      <th>14</th>\n",
       "      <td>test490</td>\n",
       "      <td>18</td>\n",
       "      <td>5</td>\n",
       "      <td>7</td>\n",
       "    </tr>\n",
       "    <tr>\n",
       "      <th>22</th>\n",
       "      <td>test591</td>\n",
       "      <td>18</td>\n",
       "      <td>5</td>\n",
       "      <td>8</td>\n",
       "    </tr>\n",
       "    <tr>\n",
       "      <th>4</th>\n",
       "      <td>test190</td>\n",
       "      <td>18</td>\n",
       "      <td>5</td>\n",
       "      <td>5</td>\n",
       "    </tr>\n",
       "    <tr>\n",
       "      <th>13</th>\n",
       "      <td>test475</td>\n",
       "      <td>18</td>\n",
       "      <td>5</td>\n",
       "      <td>6</td>\n",
       "    </tr>\n",
       "    <tr>\n",
       "      <th>47</th>\n",
       "      <td>test952</td>\n",
       "      <td>19</td>\n",
       "      <td>5</td>\n",
       "      <td>6</td>\n",
       "    </tr>\n",
       "    <tr>\n",
       "      <th>34</th>\n",
       "      <td>test763</td>\n",
       "      <td>19</td>\n",
       "      <td>5</td>\n",
       "      <td>8</td>\n",
       "    </tr>\n",
       "    <tr>\n",
       "      <th>35</th>\n",
       "      <td>test765</td>\n",
       "      <td>19</td>\n",
       "      <td>5</td>\n",
       "      <td>8</td>\n",
       "    </tr>\n",
       "    <tr>\n",
       "      <th>40</th>\n",
       "      <td>test874</td>\n",
       "      <td>19</td>\n",
       "      <td>5</td>\n",
       "      <td>6</td>\n",
       "    </tr>\n",
       "    <tr>\n",
       "      <th>30</th>\n",
       "      <td>test754</td>\n",
       "      <td>19</td>\n",
       "      <td>5</td>\n",
       "      <td>5</td>\n",
       "    </tr>\n",
       "    <tr>\n",
       "      <th>42</th>\n",
       "      <td>test886</td>\n",
       "      <td>19</td>\n",
       "      <td>5</td>\n",
       "      <td>9</td>\n",
       "    </tr>\n",
       "    <tr>\n",
       "      <th>48</th>\n",
       "      <td>test995</td>\n",
       "      <td>19</td>\n",
       "      <td>5</td>\n",
       "      <td>7</td>\n",
       "    </tr>\n",
       "    <tr>\n",
       "      <th>29</th>\n",
       "      <td>test748</td>\n",
       "      <td>19</td>\n",
       "      <td>5</td>\n",
       "      <td>8</td>\n",
       "    </tr>\n",
       "    <tr>\n",
       "      <th>9</th>\n",
       "      <td>test415</td>\n",
       "      <td>19</td>\n",
       "      <td>5</td>\n",
       "      <td>7</td>\n",
       "    </tr>\n",
       "    <tr>\n",
       "      <th>8</th>\n",
       "      <td>test390</td>\n",
       "      <td>19</td>\n",
       "      <td>5</td>\n",
       "      <td>6</td>\n",
       "    </tr>\n",
       "    <tr>\n",
       "      <th>7</th>\n",
       "      <td>test336</td>\n",
       "      <td>19</td>\n",
       "      <td>5</td>\n",
       "      <td>9</td>\n",
       "    </tr>\n",
       "    <tr>\n",
       "      <th>6</th>\n",
       "      <td>test309</td>\n",
       "      <td>19</td>\n",
       "      <td>5</td>\n",
       "      <td>6</td>\n",
       "    </tr>\n",
       "    <tr>\n",
       "      <th>46</th>\n",
       "      <td>test919</td>\n",
       "      <td>19</td>\n",
       "      <td>5</td>\n",
       "      <td>6</td>\n",
       "    </tr>\n",
       "    <tr>\n",
       "      <th>5</th>\n",
       "      <td>test307</td>\n",
       "      <td>19</td>\n",
       "      <td>5</td>\n",
       "      <td>7</td>\n",
       "    </tr>\n",
       "    <tr>\n",
       "      <th>31</th>\n",
       "      <td>test756</td>\n",
       "      <td>20</td>\n",
       "      <td>5</td>\n",
       "      <td>7</td>\n",
       "    </tr>\n",
       "    <tr>\n",
       "      <th>32</th>\n",
       "      <td>test757</td>\n",
       "      <td>20</td>\n",
       "      <td>5</td>\n",
       "      <td>7</td>\n",
       "    </tr>\n",
       "    <tr>\n",
       "      <th>33</th>\n",
       "      <td>test762</td>\n",
       "      <td>20</td>\n",
       "      <td>5</td>\n",
       "      <td>6</td>\n",
       "    </tr>\n",
       "    <tr>\n",
       "      <th>45</th>\n",
       "      <td>test912</td>\n",
       "      <td>20</td>\n",
       "      <td>5</td>\n",
       "      <td>8</td>\n",
       "    </tr>\n",
       "    <tr>\n",
       "      <th>41</th>\n",
       "      <td>test882</td>\n",
       "      <td>20</td>\n",
       "      <td>5</td>\n",
       "      <td>7</td>\n",
       "    </tr>\n",
       "    <tr>\n",
       "      <th>43</th>\n",
       "      <td>test892</td>\n",
       "      <td>20</td>\n",
       "      <td>5</td>\n",
       "      <td>7</td>\n",
       "    </tr>\n",
       "    <tr>\n",
       "      <th>37</th>\n",
       "      <td>test817</td>\n",
       "      <td>20</td>\n",
       "      <td>5</td>\n",
       "      <td>8</td>\n",
       "    </tr>\n",
       "    <tr>\n",
       "      <th>38</th>\n",
       "      <td>test818</td>\n",
       "      <td>20</td>\n",
       "      <td>5</td>\n",
       "      <td>8</td>\n",
       "    </tr>\n",
       "    <tr>\n",
       "      <th>39</th>\n",
       "      <td>test855</td>\n",
       "      <td>20</td>\n",
       "      <td>5</td>\n",
       "      <td>7</td>\n",
       "    </tr>\n",
       "    <tr>\n",
       "      <th>44</th>\n",
       "      <td>test904</td>\n",
       "      <td>20</td>\n",
       "      <td>5</td>\n",
       "      <td>6</td>\n",
       "    </tr>\n",
       "    <tr>\n",
       "      <th>36</th>\n",
       "      <td>test770</td>\n",
       "      <td>20</td>\n",
       "      <td>5</td>\n",
       "      <td>5</td>\n",
       "    </tr>\n",
       "    <tr>\n",
       "      <th>0</th>\n",
       "      <td>test102</td>\n",
       "      <td>20</td>\n",
       "      <td>5</td>\n",
       "      <td>7</td>\n",
       "    </tr>\n",
       "    <tr>\n",
       "      <th>27</th>\n",
       "      <td>test72</td>\n",
       "      <td>20</td>\n",
       "      <td>5</td>\n",
       "      <td>6</td>\n",
       "    </tr>\n",
       "    <tr>\n",
       "      <th>1</th>\n",
       "      <td>test139</td>\n",
       "      <td>20</td>\n",
       "      <td>5</td>\n",
       "      <td>6</td>\n",
       "    </tr>\n",
       "    <tr>\n",
       "      <th>2</th>\n",
       "      <td>test156</td>\n",
       "      <td>20</td>\n",
       "      <td>5</td>\n",
       "      <td>7</td>\n",
       "    </tr>\n",
       "    <tr>\n",
       "      <th>3</th>\n",
       "      <td>test189</td>\n",
       "      <td>20</td>\n",
       "      <td>5</td>\n",
       "      <td>7</td>\n",
       "    </tr>\n",
       "    <tr>\n",
       "      <th>10</th>\n",
       "      <td>test429</td>\n",
       "      <td>20</td>\n",
       "      <td>5</td>\n",
       "      <td>7</td>\n",
       "    </tr>\n",
       "    <tr>\n",
       "      <th>11</th>\n",
       "      <td>test445</td>\n",
       "      <td>20</td>\n",
       "      <td>5</td>\n",
       "      <td>7</td>\n",
       "    </tr>\n",
       "    <tr>\n",
       "      <th>12</th>\n",
       "      <td>test452</td>\n",
       "      <td>20</td>\n",
       "      <td>5</td>\n",
       "      <td>8</td>\n",
       "    </tr>\n",
       "    <tr>\n",
       "      <th>15</th>\n",
       "      <td>test495</td>\n",
       "      <td>20</td>\n",
       "      <td>5</td>\n",
       "      <td>7</td>\n",
       "    </tr>\n",
       "    <tr>\n",
       "      <th>17</th>\n",
       "      <td>test512</td>\n",
       "      <td>20</td>\n",
       "      <td>5</td>\n",
       "      <td>7</td>\n",
       "    </tr>\n",
       "    <tr>\n",
       "      <th>18</th>\n",
       "      <td>test526</td>\n",
       "      <td>20</td>\n",
       "      <td>5</td>\n",
       "      <td>6</td>\n",
       "    </tr>\n",
       "    <tr>\n",
       "      <th>19</th>\n",
       "      <td>test553</td>\n",
       "      <td>20</td>\n",
       "      <td>5</td>\n",
       "      <td>7</td>\n",
       "    </tr>\n",
       "    <tr>\n",
       "      <th>20</th>\n",
       "      <td>test584</td>\n",
       "      <td>20</td>\n",
       "      <td>5</td>\n",
       "      <td>7</td>\n",
       "    </tr>\n",
       "    <tr>\n",
       "      <th>21</th>\n",
       "      <td>test590</td>\n",
       "      <td>20</td>\n",
       "      <td>5</td>\n",
       "      <td>8</td>\n",
       "    </tr>\n",
       "    <tr>\n",
       "      <th>23</th>\n",
       "      <td>test639</td>\n",
       "      <td>20</td>\n",
       "      <td>5</td>\n",
       "      <td>7</td>\n",
       "    </tr>\n",
       "    <tr>\n",
       "      <th>25</th>\n",
       "      <td>test67</td>\n",
       "      <td>20</td>\n",
       "      <td>5</td>\n",
       "      <td>7</td>\n",
       "    </tr>\n",
       "    <tr>\n",
       "      <th>26</th>\n",
       "      <td>test674</td>\n",
       "      <td>20</td>\n",
       "      <td>5</td>\n",
       "      <td>7</td>\n",
       "    </tr>\n",
       "    <tr>\n",
       "      <th>28</th>\n",
       "      <td>test728</td>\n",
       "      <td>20</td>\n",
       "      <td>5</td>\n",
       "      <td>8</td>\n",
       "    </tr>\n",
       "    <tr>\n",
       "      <th>24</th>\n",
       "      <td>test669</td>\n",
       "      <td>20</td>\n",
       "      <td>5</td>\n",
       "      <td>8</td>\n",
       "    </tr>\n",
       "  </tbody>\n",
       "</table>\n",
       "</div>"
      ],
      "text/plain": [
       "        PDB  |V|  |E_5|  |S_5|\n",
       "16    test5   17      5      7\n",
       "14  test490   18      5      7\n",
       "22  test591   18      5      8\n",
       "4   test190   18      5      5\n",
       "13  test475   18      5      6\n",
       "47  test952   19      5      6\n",
       "34  test763   19      5      8\n",
       "35  test765   19      5      8\n",
       "40  test874   19      5      6\n",
       "30  test754   19      5      5\n",
       "42  test886   19      5      9\n",
       "48  test995   19      5      7\n",
       "29  test748   19      5      8\n",
       "9   test415   19      5      7\n",
       "8   test390   19      5      6\n",
       "7   test336   19      5      9\n",
       "6   test309   19      5      6\n",
       "46  test919   19      5      6\n",
       "5   test307   19      5      7\n",
       "31  test756   20      5      7\n",
       "32  test757   20      5      7\n",
       "33  test762   20      5      6\n",
       "45  test912   20      5      8\n",
       "41  test882   20      5      7\n",
       "43  test892   20      5      7\n",
       "37  test817   20      5      8\n",
       "38  test818   20      5      8\n",
       "39  test855   20      5      7\n",
       "44  test904   20      5      6\n",
       "36  test770   20      5      5\n",
       "0   test102   20      5      7\n",
       "27   test72   20      5      6\n",
       "1   test139   20      5      6\n",
       "2   test156   20      5      7\n",
       "3   test189   20      5      7\n",
       "10  test429   20      5      7\n",
       "11  test445   20      5      7\n",
       "12  test452   20      5      8\n",
       "15  test495   20      5      7\n",
       "17  test512   20      5      7\n",
       "18  test526   20      5      6\n",
       "19  test553   20      5      7\n",
       "20  test584   20      5      7\n",
       "21  test590   20      5      8\n",
       "23  test639   20      5      7\n",
       "25   test67   20      5      7\n",
       "26  test674   20      5      7\n",
       "28  test728   20      5      8\n",
       "24  test669   20      5      8"
      ]
     },
     "execution_count": 130,
     "metadata": {},
     "output_type": "execute_result"
    }
   ],
   "source": [
    "def get_lenS(fnmr):\n",
    "    flog = fnmr.replace('.nmr', '.log')\n",
    "    with open(flog, 'r') as fd:\n",
    "        for row in fd:\n",
    "            if '> lenS' in row:\n",
    "                return int(row.split()[-1])\n",
    "# columns of interest\n",
    "cols = ['PDB','DMAX','i','j','fn']\n",
    "dfA = df_nmr[cols].groupby(['PDB','DMAX']).agg({'i':'count', 'j':'max', 'fn':'max'}).reset_index()\n",
    "dfA.rename(columns={'i':'|E|', 'j':'|V|'}, inplace=True)\n",
    "# dict of dataframes, one for each dmax\n",
    "df_DMAX = {dmax:None for dmax in dfA['DMAX'].unique()} \n",
    "for dmax in df_DMAX:\n",
    "    df_DMAX[dmax] = dfA[dfA['DMAX'] == dmax].groupby(['PDB','|V|']).max().reset_index()\n",
    "    # rename columns\n",
    "    df_DMAX[dmax].rename(columns={'|E|':f'|E_{dmax}|','fn':f'|S_{dmax}|'}, inplace=True)\n",
    "    # parse the log file to get the length of S\n",
    "    df_DMAX[dmax][f'|S_{dmax}|'] = df_DMAX[dmax][f'|S_{dmax}|'].apply(get_lenS)\n",
    "    # drop redundant columns\n",
    "    if dmax == min(df_DMAX):\n",
    "        df_DMAX[dmax].drop(columns=['DMAX'], inplace=True)\n",
    "    else:\n",
    "        df_DMAX[dmax].drop(columns=['DMAX','|V|'], inplace=True)\n",
    "# merge all dataframes\n",
    "dfB = df_DMAX[min(df_DMAX)]\n",
    "for dmax in df_DMAX:\n",
    "    if dmax == min(df_DMAX):\n",
    "        continue\n",
    "    dfB = pd.merge(dfB, df_DMAX[dmax], on=['PDB'])\n",
    "# sort by |V|\n",
    "df_DMAX = dfB.sort_values(by=['|V|'])\n",
    "cols = df_DMAX.columns.tolist()\n",
    "# change df_MAX column order\n",
    "cols = cols[:2] + sorted(cols[2:])\n",
    "df_DMAX = df_DMAX[cols]\n",
    "# convert to latex\n",
    "tex = df_DMAX.to_latex(index=False,\n",
    "                column_format='lrrc',\n",
    "                header=cols, # list of column names\n",
    "                escape=False,\n",
    "                caption=f'Number of nodes and edges for each instance.',\n",
    "                label=f'tab:instances',\n",
    "                multicolumn=False,\n",
    "                multicolumn_format='c')\n",
    "# save tex to file\n",
    "with open('latex/tables/instances.tex', 'w') as fd:\n",
    "    fd.write(tex)\n",
    "# display\n",
    "df_DMAX"
   ]
  },
  {
   "cell_type": "code",
   "execution_count": 131,
   "metadata": {},
   "outputs": [
    {
     "name": "stderr",
     "output_type": "stream",
     "text": [
      "100%|██████████| 147/147 [00:00<00:00, 32226.78it/s]"
     ]
    },
    {
     "name": "stdout",
     "output_type": "stream",
     "text": [
      "   DMAX  |s|_max\n",
      "0     5        5\n"
     ]
    },
    {
     "name": "stderr",
     "output_type": "stream",
     "text": [
      "\n"
     ]
    }
   ],
   "source": [
    "# |s| is the number of edges covering the segment s\n",
    "df = {'PDB':[], 'DMAX':[], 'sid':[], '|s|':[]}\n",
    "for fn in tqdm(os.listdir(nmr_folder)):\n",
    "    # skip non-dmp files\n",
    "    if not fn.endswith('.dmp'):\n",
    "        continue\n",
    "    # get pdb and dmax\n",
    "    pdb = fn.split('_')[0]\n",
    "    dmax = int(fn.split('dmax_')[1].split('.')[0])\n",
    "    fn = os.path.join(nmr_folder, fn)\n",
    "    with open(fn, 'r') as fd:\n",
    "        reading = False # flag to start reading\n",
    "        for row in fd:\n",
    "            if 'segments [sid i j weight EID]:' in row:\n",
    "                reading = True\n",
    "                continue\n",
    "            if 'E [idx eid i j SID]:' in row:\n",
    "                break\n",
    "            if reading:\n",
    "                v = [int(s) for s in row.split()]\n",
    "                sid, i, j = int(v[0]), int(v[1]), int(v[2])                \n",
    "                df['PDB'].append(pdb)\n",
    "                df['DMAX'].append(dmax)\n",
    "                df['|s|'].append(len(v)-4)\n",
    "                df['sid'].append(sid)\n",
    "df = pd.DataFrame(df)\n",
    "dfA = df.groupby(['DMAX']).agg({'|s|':'max'}).reset_index().sort_values(by=['DMAX'])\n",
    "dfA.rename(columns={'|s|':'|s|_max'}, inplace=True)\n",
    "print(dfA)\n"
   ]
  },
  {
   "cell_type": "code",
   "execution_count": 132,
   "metadata": {},
   "outputs": [
    {
     "data": {
      "application/vnd.plotly.v1+json": {
       "config": {
        "plotlyServerURL": "https://plot.ly"
       },
       "data": [
        {
         "name": "dmax=5",
         "text": [
          "test590, sid:1",
          "test756, sid:7",
          "test756, sid:1",
          "test5, sid:1",
          "test336, sid:9",
          "test336, sid:7",
          "test336, sid:5",
          "test336, sid:1",
          "test584, sid:1",
          "test309, sid:6",
          "test309, sid:1",
          "test818, sid:8",
          "test818, sid:4",
          "test818, sid:1",
          "test139, sid:1",
          "test770, sid:1",
          "test855, sid:7",
          "test855, sid:1",
          "test591, sid:6",
          "test591, sid:8",
          "test189, sid:1",
          "test189, sid:7",
          "test748, sid:1",
          "test156, sid:1",
          "test757, sid:1",
          "test156, sid:7",
          "test765, sid:8",
          "test674, sid:1",
          "test190, sid:1",
          "test415, sid:1",
          "test415, sid:7",
          "test754, sid:1",
          "test765, sid:1",
          "test490, sid:1",
          "test995, sid:1",
          "test995, sid:3",
          "test669, sid:8",
          "test429, sid:1",
          "test429, sid:7",
          "test512, sid:1",
          "test72, sid:1",
          "test72, sid:5",
          "test669, sid:6",
          "test763, sid:1",
          "test763, sid:8",
          "test919, sid:4",
          "test919, sid:6",
          "test886, sid:1",
          "test886, sid:9",
          "test67, sid:2",
          "test763, sid:3",
          "test591, sid:1",
          "test669, sid:4",
          "test912, sid:8",
          "test817, sid:1",
          "test817, sid:3",
          "test817, sid:5",
          "test817, sid:7",
          "test892, sid:1",
          "test445, sid:1",
          "test669, sid:1",
          "test882, sid:1",
          "test874, sid:1",
          "test904, sid:1",
          "test904, sid:6",
          "test728, sid:1",
          "test728, sid:7",
          "test912, sid:1",
          "test882, sid:7",
          "test102, sid:7",
          "test67, sid:7",
          "test452, sid:8",
          "test526, sid:6",
          "test639, sid:1",
          "test495, sid:7",
          "test452, sid:1",
          "test390, sid:1",
          "test390, sid:6",
          "test307, sid:1",
          "test590, sid:8",
          "test475, sid:1",
          "test952, sid:1",
          "test495, sid:1",
          "test590, sid:3",
          "test553, sid:7",
          "test553, sid:1",
          "test475, sid:4",
          "test817, sid:8",
          "test892, sid:2",
          "test892, sid:3",
          "test892, sid:5",
          "test892, sid:7",
          "test445, sid:2",
          "test445, sid:5",
          "test584, sid:5",
          "test445, sid:7",
          "test882, sid:2",
          "test882, sid:4",
          "test882, sid:5",
          "test495, sid:2",
          "test874, sid:3",
          "test445, sid:3",
          "test584, sid:7",
          "test336, sid:4",
          "test336, sid:8",
          "test5, sid:2",
          "test756, sid:6",
          "test475, sid:6",
          "test757, sid:2",
          "test336, sid:6",
          "test490, sid:2",
          "test490, sid:7",
          "test995, sid:2",
          "test995, sid:4",
          "test995, sid:5",
          "test874, sid:6",
          "test817, sid:2",
          "test390, sid:2",
          "test817, sid:4",
          "test817, sid:6",
          "test336, sid:2",
          "test995, sid:7",
          "test757, sid:7",
          "test904, sid:3",
          "test72, sid:3",
          "test307, sid:2",
          "test72, sid:6",
          "test763, sid:2",
          "test763, sid:4",
          "test763, sid:5",
          "test763, sid:7",
          "test919, sid:3",
          "test72, sid:2",
          "test919, sid:5",
          "test886, sid:2",
          "test886, sid:4",
          "test886, sid:6",
          "test886, sid:8",
          "test67, sid:1",
          "test590, sid:2",
          "test67, sid:3",
          "test67, sid:4",
          "test590, sid:4",
          "test512, sid:7",
          "test512, sid:4",
          "test512, sid:2",
          "test584, sid:3",
          "test762, sid:2",
          "test762, sid:4",
          "test762, sid:6",
          "test452, sid:7",
          "test728, sid:2",
          "test728, sid:6",
          "test728, sid:8",
          "test912, sid:2",
          "test912, sid:5",
          "test912, sid:7",
          "test669, sid:3",
          "test452, sid:2",
          "test669, sid:5",
          "test669, sid:7",
          "test307, sid:7",
          "test429, sid:2",
          "test429, sid:3",
          "test307, sid:5",
          "test904, sid:2",
          "test67, sid:6",
          "test584, sid:2",
          "test190, sid:3",
          "test754, sid:3",
          "test139, sid:2",
          "test189, sid:6",
          "test639, sid:4",
          "test748, sid:2",
          "test952, sid:2",
          "test770, sid:5",
          "test748, sid:4",
          "test415, sid:4",
          "test770, sid:4",
          "test765, sid:3",
          "test770, sid:3",
          "test765, sid:2",
          "test770, sid:2",
          "test748, sid:6",
          "test415, sid:6",
          "test526, sid:1",
          "test748, sid:8",
          "test855, sid:6",
          "test952, sid:6",
          "test639, sid:2",
          "test855, sid:2",
          "test156, sid:2",
          "test754, sid:5",
          "test754, sid:2",
          "test765, sid:5",
          "test189, sid:2",
          "test415, sid:2",
          "test190, sid:5",
          "test674, sid:2",
          "test102, sid:5",
          "test309, sid:3",
          "test102, sid:6",
          "test309, sid:2",
          "test102, sid:1",
          "test591, sid:2",
          "test553, sid:6",
          "test818, sid:7",
          "test674, sid:7",
          "test818, sid:5",
          "test818, sid:2",
          "test818, sid:3",
          "test156, sid:4",
          "test190, sid:2",
          "test591, sid:5",
          "test526, sid:5",
          "test190, sid:4",
          "test765, sid:7",
          "test591, sid:7",
          "test139, sid:6",
          "test912, sid:6",
          "test156, sid:5",
          "test765, sid:6",
          "test526, sid:4",
          "test669, sid:2",
          "test452, sid:6",
          "test452, sid:4",
          "test728, sid:3",
          "test452, sid:3",
          "test912, sid:4",
          "test728, sid:5",
          "test156, sid:6",
          "test765, sid:4",
          "test512, sid:5",
          "test307, sid:6",
          "test67, sid:5",
          "test102, sid:2",
          "test591, sid:3",
          "test886, sid:7",
          "test591, sid:4",
          "test886, sid:5",
          "test886, sid:3",
          "test639, sid:7",
          "test590, sid:5",
          "test639, sid:5",
          "test919, sid:2",
          "test919, sid:1",
          "test590, sid:7",
          "test763, sid:6",
          "test189, sid:4",
          "test189, sid:5",
          "test639, sid:3",
          "test72, sid:4",
          "test748, sid:3",
          "test307, sid:3",
          "test748, sid:5",
          "test512, sid:6",
          "test762, sid:5",
          "test512, sid:3",
          "test748, sid:7",
          "test429, sid:6",
          "test429, sid:4",
          "test156, sid:3",
          "test674, sid:4",
          "test553, sid:4",
          "test390, sid:4",
          "test952, sid:4",
          "test995, sid:6",
          "test762, sid:3",
          "test390, sid:5",
          "test490, sid:3",
          "test757, sid:6",
          "test757, sid:5",
          "test757, sid:3",
          "test475, sid:2",
          "test139, sid:4",
          "test756, sid:4",
          "test855, sid:3",
          "test756, sid:2",
          "test5, sid:7",
          "test5, sid:5",
          "test5, sid:3",
          "test139, sid:5",
          "test475, sid:5",
          "test818, sid:6",
          "test336, sid:3",
          "test553, sid:2",
          "test553, sid:5",
          "test584, sid:6",
          "test584, sid:4",
          "test475, sid:3",
          "test952, sid:5",
          "test102, sid:4",
          "test754, sid:4",
          "test762, sid:1",
          "test674, sid:6",
          "test904, sid:5",
          "test904, sid:4",
          "test309, sid:5",
          "test874, sid:4",
          "test874, sid:2",
          "test495, sid:3",
          "test495, sid:6",
          "test882, sid:3",
          "test415, sid:3",
          "test495, sid:4",
          "test445, sid:6",
          "test882, sid:6",
          "test892, sid:6",
          "test415, sid:5",
          "test892, sid:4",
          "test445, sid:4",
          "test639, sid:6",
          "test5, sid:4",
          "test874, sid:5",
          "test390, sid:3",
          "test728, sid:4",
          "test429, sid:5",
          "test307, sid:4",
          "test855, sid:4",
          "test674, sid:3",
          "test309, sid:4",
          "test553, sid:3",
          "test855, sid:5",
          "test5, sid:6",
          "test674, sid:5",
          "test490, sid:4",
          "test590, sid:6",
          "test912, sid:3",
          "test756, sid:3",
          "test495, sid:5",
          "test756, sid:5",
          "test952, sid:3",
          "test189, sid:3",
          "test526, sid:2",
          "test139, sid:3",
          "test757, sid:4",
          "test490, sid:6",
          "test102, sid:3",
          "test452, sid:5",
          "test526, sid:3",
          "test490, sid:5"
         ],
         "type": "scatter",
         "x": [
          0.002932551319648094,
          0.005865102639296188,
          0.008797653958944282,
          0.011730205278592375,
          0.01466275659824047,
          0.017595307917888565,
          0.020527859237536656,
          0.02346041055718475,
          0.026392961876832845,
          0.02932551319648094,
          0.03225806451612903,
          0.03519061583577713,
          0.03812316715542522,
          0.04105571847507331,
          0.04398826979472141,
          0.0469208211143695,
          0.04985337243401759,
          0.05278592375366569,
          0.05571847507331378,
          0.05865102639296188,
          0.06158357771260997,
          0.06451612903225806,
          0.06744868035190615,
          0.07038123167155426,
          0.07331378299120235,
          0.07624633431085044,
          0.07917888563049853,
          0.08211143695014662,
          0.08504398826979472,
          0.08797653958944282,
          0.09090909090909091,
          0.093841642228739,
          0.0967741935483871,
          0.09970674486803519,
          0.10263929618768329,
          0.10557184750733138,
          0.10850439882697947,
          0.11143695014662756,
          0.11436950146627566,
          0.11730205278592376,
          0.12023460410557185,
          0.12316715542521994,
          0.12609970674486803,
          0.12903225806451613,
          0.13196480938416422,
          0.1348973607038123,
          0.1378299120234604,
          0.14076246334310852,
          0.1436950146627566,
          0.1466275659824047,
          0.1495601173020528,
          0.15249266862170088,
          0.15542521994134897,
          0.15835777126099707,
          0.16129032258064516,
          0.16422287390029325,
          0.16715542521994134,
          0.17008797653958943,
          0.17302052785923755,
          0.17595307917888564,
          0.17888563049853373,
          0.18181818181818182,
          0.18475073313782991,
          0.187683284457478,
          0.1906158357771261,
          0.1935483870967742,
          0.19648093841642228,
          0.19941348973607037,
          0.20234604105571846,
          0.20527859237536658,
          0.20821114369501467,
          0.21114369501466276,
          0.21407624633431085,
          0.21700879765395895,
          0.21994134897360704,
          0.22287390029325513,
          0.22580645161290322,
          0.2287390029325513,
          0.2316715542521994,
          0.23460410557184752,
          0.2375366568914956,
          0.2404692082111437,
          0.2434017595307918,
          0.24633431085043989,
          0.24926686217008798,
          0.25219941348973607,
          0.25513196480938416,
          0.25806451612903225,
          0.26099706744868034,
          0.26392961876832843,
          0.2668621700879765,
          0.2697947214076246,
          0.2727272727272727,
          0.2756598240469208,
          0.2785923753665689,
          0.28152492668621704,
          0.2844574780058651,
          0.2873900293255132,
          0.2903225806451613,
          0.2932551319648094,
          0.2961876832844575,
          0.2991202346041056,
          0.3020527859237537,
          0.30498533724340177,
          0.30791788856304986,
          0.31085043988269795,
          0.31378299120234604,
          0.31671554252199413,
          0.3196480938416422,
          0.3225806451612903,
          0.3255131964809384,
          0.3284457478005865,
          0.3313782991202346,
          0.3343108504398827,
          0.33724340175953077,
          0.34017595307917886,
          0.34310850439882695,
          0.3460410557184751,
          0.3489736070381232,
          0.3519061583577713,
          0.3548387096774194,
          0.35777126099706746,
          0.36070381231671556,
          0.36363636363636365,
          0.36656891495601174,
          0.36950146627565983,
          0.3724340175953079,
          0.375366568914956,
          0.3782991202346041,
          0.3812316715542522,
          0.3841642228739003,
          0.3870967741935484,
          0.39002932551319647,
          0.39296187683284456,
          0.39589442815249265,
          0.39882697947214074,
          0.40175953079178883,
          0.4046920821114369,
          0.40762463343108507,
          0.41055718475073316,
          0.41348973607038125,
          0.41642228739002934,
          0.41935483870967744,
          0.4222873900293255,
          0.4252199413489736,
          0.4281524926686217,
          0.4310850439882698,
          0.4340175953079179,
          0.436950146627566,
          0.4398826979472141,
          0.44281524926686217,
          0.44574780058651026,
          0.44868035190615835,
          0.45161290322580644,
          0.45454545454545453,
          0.4574780058651026,
          0.4604105571847507,
          0.4633431085043988,
          0.4662756598240469,
          0.46920821114369504,
          0.47214076246334313,
          0.4750733137829912,
          0.4780058651026393,
          0.4809384164222874,
          0.4838709677419355,
          0.4868035190615836,
          0.4897360703812317,
          0.49266862170087977,
          0.49560117302052786,
          0.49853372434017595,
          0.501466275659824,
          0.5043988269794721,
          0.5073313782991202,
          0.5102639296187683,
          0.5131964809384164,
          0.5161290322580645,
          0.5190615835777126,
          0.5219941348973607,
          0.5249266862170088,
          0.5278592375366569,
          0.530791788856305,
          0.533724340175953,
          0.5366568914956011,
          0.5395894428152492,
          0.5425219941348973,
          0.5454545454545454,
          0.5483870967741935,
          0.5513196480938416,
          0.5542521994134897,
          0.5571847507331378,
          0.5601173020527859,
          0.5630498533724341,
          0.5659824046920822,
          0.5689149560117303,
          0.5718475073313783,
          0.5747800586510264,
          0.5777126099706745,
          0.5806451612903226,
          0.5835777126099707,
          0.5865102639296188,
          0.5894428152492669,
          0.592375366568915,
          0.5953079178885631,
          0.5982404692082112,
          0.6011730205278593,
          0.6041055718475073,
          0.6070381231671554,
          0.6099706744868035,
          0.6129032258064516,
          0.6158357771260997,
          0.6187683284457478,
          0.6217008797653959,
          0.624633431085044,
          0.6275659824046921,
          0.6304985337243402,
          0.6334310850439883,
          0.6363636363636364,
          0.6392961876832844,
          0.6422287390029325,
          0.6451612903225806,
          0.6480938416422287,
          0.6510263929618768,
          0.6539589442815249,
          0.656891495601173,
          0.6598240469208211,
          0.6627565982404692,
          0.6656891495601173,
          0.6686217008797654,
          0.6715542521994134,
          0.6744868035190615,
          0.6774193548387096,
          0.6803519061583577,
          0.6832844574780058,
          0.6862170087976539,
          0.6891495601173021,
          0.6920821114369502,
          0.6950146627565983,
          0.6979472140762464,
          0.7008797653958945,
          0.7038123167155426,
          0.7067448680351907,
          0.7096774193548387,
          0.7126099706744868,
          0.7155425219941349,
          0.718475073313783,
          0.7214076246334311,
          0.7243401759530792,
          0.7272727272727273,
          0.7302052785923754,
          0.7331378299120235,
          0.7360703812316716,
          0.7390029325513197,
          0.7419354838709677,
          0.7448680351906158,
          0.7478005865102639,
          0.750733137829912,
          0.7536656891495601,
          0.7565982404692082,
          0.7595307917888563,
          0.7624633431085044,
          0.7653958944281525,
          0.7683284457478006,
          0.7712609970674487,
          0.7741935483870968,
          0.7771260997067448,
          0.7800586510263929,
          0.782991202346041,
          0.7859237536656891,
          0.7888563049853372,
          0.7917888563049853,
          0.7947214076246334,
          0.7976539589442815,
          0.8005865102639296,
          0.8035190615835777,
          0.8064516129032258,
          0.8093841642228738,
          0.8123167155425219,
          0.8152492668621701,
          0.8181818181818182,
          0.8211143695014663,
          0.8240469208211144,
          0.8269794721407625,
          0.8299120234604106,
          0.8328445747800587,
          0.8357771260997068,
          0.8387096774193549,
          0.841642228739003,
          0.844574780058651,
          0.8475073313782991,
          0.8504398826979472,
          0.8533724340175953,
          0.8563049853372434,
          0.8592375366568915,
          0.8621700879765396,
          0.8651026392961877,
          0.8680351906158358,
          0.8709677419354839,
          0.873900293255132,
          0.8768328445747801,
          0.8797653958944281,
          0.8826979472140762,
          0.8856304985337243,
          0.8885630498533724,
          0.8914956011730205,
          0.8944281524926686,
          0.8973607038123167,
          0.9002932551319648,
          0.9032258064516129,
          0.906158357771261,
          0.9090909090909091,
          0.9120234604105572,
          0.9149560117302052,
          0.9178885630498533,
          0.9208211143695014,
          0.9237536656891495,
          0.9266862170087976,
          0.9296187683284457,
          0.9325513196480938,
          0.9354838709677419,
          0.9384164222873901,
          0.9413489736070382,
          0.9442815249266863,
          0.9472140762463344,
          0.9501466275659824,
          0.9530791788856305,
          0.9560117302052786,
          0.9589442815249267,
          0.9618768328445748,
          0.9648093841642229,
          0.967741935483871,
          0.9706744868035191,
          0.9736070381231672,
          0.9765395894428153,
          0.9794721407624634,
          0.9824046920821115,
          0.9853372434017595,
          0.9882697947214076,
          0.9912023460410557,
          0.9941348973607038,
          0.9970674486803519,
          1
         ],
         "y": [
          1,
          1,
          1,
          1,
          1,
          1,
          1,
          1,
          1,
          1,
          1,
          1,
          1,
          1,
          1,
          1,
          1,
          1,
          1,
          1,
          1,
          1,
          1,
          1,
          1,
          1,
          1,
          1,
          1,
          1,
          1,
          1,
          1,
          1,
          1,
          1,
          1,
          1,
          1,
          1,
          1,
          1,
          1,
          1,
          1,
          1,
          1,
          1,
          1,
          1,
          1,
          1,
          1,
          1,
          1,
          1,
          1,
          1,
          1,
          1,
          1,
          1,
          1,
          1,
          1,
          1,
          1,
          1,
          1,
          1,
          1,
          1,
          1,
          1,
          1,
          1,
          1,
          1,
          1,
          1,
          1,
          1,
          1,
          1,
          1,
          1,
          2,
          2,
          2,
          2,
          2,
          2,
          2,
          2,
          2,
          2,
          2,
          2,
          2,
          2,
          2,
          2,
          2,
          2,
          2,
          2,
          2,
          2,
          2,
          2,
          2,
          2,
          2,
          2,
          2,
          2,
          2,
          2,
          2,
          2,
          2,
          2,
          2,
          2,
          2,
          2,
          2,
          2,
          2,
          2,
          2,
          2,
          2,
          2,
          2,
          2,
          2,
          2,
          2,
          2,
          2,
          2,
          2,
          2,
          2,
          2,
          2,
          2,
          2,
          2,
          2,
          2,
          2,
          2,
          2,
          2,
          2,
          2,
          2,
          2,
          2,
          2,
          2,
          2,
          2,
          2,
          2,
          2,
          2,
          2,
          2,
          2,
          2,
          2,
          2,
          2,
          2,
          2,
          2,
          2,
          2,
          2,
          2,
          2,
          2,
          2,
          2,
          2,
          2,
          2,
          2,
          2,
          2,
          2,
          2,
          2,
          2,
          2,
          2,
          2,
          2,
          2,
          2,
          2,
          2,
          2,
          2,
          2,
          2,
          2,
          2,
          2,
          2,
          2,
          2,
          2,
          2,
          2,
          2,
          3,
          3,
          3,
          3,
          3,
          3,
          3,
          3,
          3,
          3,
          3,
          3,
          3,
          3,
          3,
          3,
          3,
          3,
          3,
          3,
          3,
          3,
          3,
          3,
          3,
          3,
          3,
          3,
          3,
          3,
          3,
          3,
          3,
          3,
          3,
          3,
          3,
          3,
          3,
          3,
          3,
          3,
          3,
          3,
          3,
          3,
          3,
          3,
          3,
          3,
          3,
          3,
          3,
          3,
          3,
          3,
          3,
          3,
          3,
          3,
          3,
          3,
          3,
          3,
          3,
          3,
          3,
          3,
          3,
          3,
          3,
          3,
          3,
          3,
          3,
          3,
          3,
          3,
          3,
          3,
          3,
          3,
          3,
          3,
          3,
          3,
          3,
          3,
          3,
          3,
          3,
          3,
          4,
          4,
          4,
          4,
          4,
          4,
          4,
          4,
          4,
          4,
          4,
          4,
          4,
          4,
          4,
          4,
          4,
          4,
          4,
          4,
          4,
          4,
          4,
          4,
          4,
          4,
          4,
          4,
          5,
          5
         ]
        }
       ],
       "layout": {
        "barmode": "overlay",
        "template": {
         "data": {
          "bar": [
           {
            "error_x": {
             "color": "#2a3f5f"
            },
            "error_y": {
             "color": "#2a3f5f"
            },
            "marker": {
             "line": {
              "color": "#E5ECF6",
              "width": 0.5
             },
             "pattern": {
              "fillmode": "overlay",
              "size": 10,
              "solidity": 0.2
             }
            },
            "type": "bar"
           }
          ],
          "barpolar": [
           {
            "marker": {
             "line": {
              "color": "#E5ECF6",
              "width": 0.5
             },
             "pattern": {
              "fillmode": "overlay",
              "size": 10,
              "solidity": 0.2
             }
            },
            "type": "barpolar"
           }
          ],
          "carpet": [
           {
            "aaxis": {
             "endlinecolor": "#2a3f5f",
             "gridcolor": "white",
             "linecolor": "white",
             "minorgridcolor": "white",
             "startlinecolor": "#2a3f5f"
            },
            "baxis": {
             "endlinecolor": "#2a3f5f",
             "gridcolor": "white",
             "linecolor": "white",
             "minorgridcolor": "white",
             "startlinecolor": "#2a3f5f"
            },
            "type": "carpet"
           }
          ],
          "choropleth": [
           {
            "colorbar": {
             "outlinewidth": 0,
             "ticks": ""
            },
            "type": "choropleth"
           }
          ],
          "contour": [
           {
            "colorbar": {
             "outlinewidth": 0,
             "ticks": ""
            },
            "colorscale": [
             [
              0,
              "#0d0887"
             ],
             [
              0.1111111111111111,
              "#46039f"
             ],
             [
              0.2222222222222222,
              "#7201a8"
             ],
             [
              0.3333333333333333,
              "#9c179e"
             ],
             [
              0.4444444444444444,
              "#bd3786"
             ],
             [
              0.5555555555555556,
              "#d8576b"
             ],
             [
              0.6666666666666666,
              "#ed7953"
             ],
             [
              0.7777777777777778,
              "#fb9f3a"
             ],
             [
              0.8888888888888888,
              "#fdca26"
             ],
             [
              1,
              "#f0f921"
             ]
            ],
            "type": "contour"
           }
          ],
          "contourcarpet": [
           {
            "colorbar": {
             "outlinewidth": 0,
             "ticks": ""
            },
            "type": "contourcarpet"
           }
          ],
          "heatmap": [
           {
            "colorbar": {
             "outlinewidth": 0,
             "ticks": ""
            },
            "colorscale": [
             [
              0,
              "#0d0887"
             ],
             [
              0.1111111111111111,
              "#46039f"
             ],
             [
              0.2222222222222222,
              "#7201a8"
             ],
             [
              0.3333333333333333,
              "#9c179e"
             ],
             [
              0.4444444444444444,
              "#bd3786"
             ],
             [
              0.5555555555555556,
              "#d8576b"
             ],
             [
              0.6666666666666666,
              "#ed7953"
             ],
             [
              0.7777777777777778,
              "#fb9f3a"
             ],
             [
              0.8888888888888888,
              "#fdca26"
             ],
             [
              1,
              "#f0f921"
             ]
            ],
            "type": "heatmap"
           }
          ],
          "heatmapgl": [
           {
            "colorbar": {
             "outlinewidth": 0,
             "ticks": ""
            },
            "colorscale": [
             [
              0,
              "#0d0887"
             ],
             [
              0.1111111111111111,
              "#46039f"
             ],
             [
              0.2222222222222222,
              "#7201a8"
             ],
             [
              0.3333333333333333,
              "#9c179e"
             ],
             [
              0.4444444444444444,
              "#bd3786"
             ],
             [
              0.5555555555555556,
              "#d8576b"
             ],
             [
              0.6666666666666666,
              "#ed7953"
             ],
             [
              0.7777777777777778,
              "#fb9f3a"
             ],
             [
              0.8888888888888888,
              "#fdca26"
             ],
             [
              1,
              "#f0f921"
             ]
            ],
            "type": "heatmapgl"
           }
          ],
          "histogram": [
           {
            "marker": {
             "pattern": {
              "fillmode": "overlay",
              "size": 10,
              "solidity": 0.2
             }
            },
            "type": "histogram"
           }
          ],
          "histogram2d": [
           {
            "colorbar": {
             "outlinewidth": 0,
             "ticks": ""
            },
            "colorscale": [
             [
              0,
              "#0d0887"
             ],
             [
              0.1111111111111111,
              "#46039f"
             ],
             [
              0.2222222222222222,
              "#7201a8"
             ],
             [
              0.3333333333333333,
              "#9c179e"
             ],
             [
              0.4444444444444444,
              "#bd3786"
             ],
             [
              0.5555555555555556,
              "#d8576b"
             ],
             [
              0.6666666666666666,
              "#ed7953"
             ],
             [
              0.7777777777777778,
              "#fb9f3a"
             ],
             [
              0.8888888888888888,
              "#fdca26"
             ],
             [
              1,
              "#f0f921"
             ]
            ],
            "type": "histogram2d"
           }
          ],
          "histogram2dcontour": [
           {
            "colorbar": {
             "outlinewidth": 0,
             "ticks": ""
            },
            "colorscale": [
             [
              0,
              "#0d0887"
             ],
             [
              0.1111111111111111,
              "#46039f"
             ],
             [
              0.2222222222222222,
              "#7201a8"
             ],
             [
              0.3333333333333333,
              "#9c179e"
             ],
             [
              0.4444444444444444,
              "#bd3786"
             ],
             [
              0.5555555555555556,
              "#d8576b"
             ],
             [
              0.6666666666666666,
              "#ed7953"
             ],
             [
              0.7777777777777778,
              "#fb9f3a"
             ],
             [
              0.8888888888888888,
              "#fdca26"
             ],
             [
              1,
              "#f0f921"
             ]
            ],
            "type": "histogram2dcontour"
           }
          ],
          "mesh3d": [
           {
            "colorbar": {
             "outlinewidth": 0,
             "ticks": ""
            },
            "type": "mesh3d"
           }
          ],
          "parcoords": [
           {
            "line": {
             "colorbar": {
              "outlinewidth": 0,
              "ticks": ""
             }
            },
            "type": "parcoords"
           }
          ],
          "pie": [
           {
            "automargin": true,
            "type": "pie"
           }
          ],
          "scatter": [
           {
            "fillpattern": {
             "fillmode": "overlay",
             "size": 10,
             "solidity": 0.2
            },
            "type": "scatter"
           }
          ],
          "scatter3d": [
           {
            "line": {
             "colorbar": {
              "outlinewidth": 0,
              "ticks": ""
             }
            },
            "marker": {
             "colorbar": {
              "outlinewidth": 0,
              "ticks": ""
             }
            },
            "type": "scatter3d"
           }
          ],
          "scattercarpet": [
           {
            "marker": {
             "colorbar": {
              "outlinewidth": 0,
              "ticks": ""
             }
            },
            "type": "scattercarpet"
           }
          ],
          "scattergeo": [
           {
            "marker": {
             "colorbar": {
              "outlinewidth": 0,
              "ticks": ""
             }
            },
            "type": "scattergeo"
           }
          ],
          "scattergl": [
           {
            "marker": {
             "colorbar": {
              "outlinewidth": 0,
              "ticks": ""
             }
            },
            "type": "scattergl"
           }
          ],
          "scattermapbox": [
           {
            "marker": {
             "colorbar": {
              "outlinewidth": 0,
              "ticks": ""
             }
            },
            "type": "scattermapbox"
           }
          ],
          "scatterpolar": [
           {
            "marker": {
             "colorbar": {
              "outlinewidth": 0,
              "ticks": ""
             }
            },
            "type": "scatterpolar"
           }
          ],
          "scatterpolargl": [
           {
            "marker": {
             "colorbar": {
              "outlinewidth": 0,
              "ticks": ""
             }
            },
            "type": "scatterpolargl"
           }
          ],
          "scatterternary": [
           {
            "marker": {
             "colorbar": {
              "outlinewidth": 0,
              "ticks": ""
             }
            },
            "type": "scatterternary"
           }
          ],
          "surface": [
           {
            "colorbar": {
             "outlinewidth": 0,
             "ticks": ""
            },
            "colorscale": [
             [
              0,
              "#0d0887"
             ],
             [
              0.1111111111111111,
              "#46039f"
             ],
             [
              0.2222222222222222,
              "#7201a8"
             ],
             [
              0.3333333333333333,
              "#9c179e"
             ],
             [
              0.4444444444444444,
              "#bd3786"
             ],
             [
              0.5555555555555556,
              "#d8576b"
             ],
             [
              0.6666666666666666,
              "#ed7953"
             ],
             [
              0.7777777777777778,
              "#fb9f3a"
             ],
             [
              0.8888888888888888,
              "#fdca26"
             ],
             [
              1,
              "#f0f921"
             ]
            ],
            "type": "surface"
           }
          ],
          "table": [
           {
            "cells": {
             "fill": {
              "color": "#EBF0F8"
             },
             "line": {
              "color": "white"
             }
            },
            "header": {
             "fill": {
              "color": "#C8D4E3"
             },
             "line": {
              "color": "white"
             }
            },
            "type": "table"
           }
          ]
         },
         "layout": {
          "annotationdefaults": {
           "arrowcolor": "#2a3f5f",
           "arrowhead": 0,
           "arrowwidth": 1
          },
          "autotypenumbers": "strict",
          "coloraxis": {
           "colorbar": {
            "outlinewidth": 0,
            "ticks": ""
           }
          },
          "colorscale": {
           "diverging": [
            [
             0,
             "#8e0152"
            ],
            [
             0.1,
             "#c51b7d"
            ],
            [
             0.2,
             "#de77ae"
            ],
            [
             0.3,
             "#f1b6da"
            ],
            [
             0.4,
             "#fde0ef"
            ],
            [
             0.5,
             "#f7f7f7"
            ],
            [
             0.6,
             "#e6f5d0"
            ],
            [
             0.7,
             "#b8e186"
            ],
            [
             0.8,
             "#7fbc41"
            ],
            [
             0.9,
             "#4d9221"
            ],
            [
             1,
             "#276419"
            ]
           ],
           "sequential": [
            [
             0,
             "#0d0887"
            ],
            [
             0.1111111111111111,
             "#46039f"
            ],
            [
             0.2222222222222222,
             "#7201a8"
            ],
            [
             0.3333333333333333,
             "#9c179e"
            ],
            [
             0.4444444444444444,
             "#bd3786"
            ],
            [
             0.5555555555555556,
             "#d8576b"
            ],
            [
             0.6666666666666666,
             "#ed7953"
            ],
            [
             0.7777777777777778,
             "#fb9f3a"
            ],
            [
             0.8888888888888888,
             "#fdca26"
            ],
            [
             1,
             "#f0f921"
            ]
           ],
           "sequentialminus": [
            [
             0,
             "#0d0887"
            ],
            [
             0.1111111111111111,
             "#46039f"
            ],
            [
             0.2222222222222222,
             "#7201a8"
            ],
            [
             0.3333333333333333,
             "#9c179e"
            ],
            [
             0.4444444444444444,
             "#bd3786"
            ],
            [
             0.5555555555555556,
             "#d8576b"
            ],
            [
             0.6666666666666666,
             "#ed7953"
            ],
            [
             0.7777777777777778,
             "#fb9f3a"
            ],
            [
             0.8888888888888888,
             "#fdca26"
            ],
            [
             1,
             "#f0f921"
            ]
           ]
          },
          "colorway": [
           "#636efa",
           "#EF553B",
           "#00cc96",
           "#ab63fa",
           "#FFA15A",
           "#19d3f3",
           "#FF6692",
           "#B6E880",
           "#FF97FF",
           "#FECB52"
          ],
          "font": {
           "color": "#2a3f5f"
          },
          "geo": {
           "bgcolor": "white",
           "lakecolor": "white",
           "landcolor": "#E5ECF6",
           "showlakes": true,
           "showland": true,
           "subunitcolor": "white"
          },
          "hoverlabel": {
           "align": "left"
          },
          "hovermode": "closest",
          "mapbox": {
           "style": "light"
          },
          "paper_bgcolor": "white",
          "plot_bgcolor": "#E5ECF6",
          "polar": {
           "angularaxis": {
            "gridcolor": "white",
            "linecolor": "white",
            "ticks": ""
           },
           "bgcolor": "#E5ECF6",
           "radialaxis": {
            "gridcolor": "white",
            "linecolor": "white",
            "ticks": ""
           }
          },
          "scene": {
           "xaxis": {
            "backgroundcolor": "#E5ECF6",
            "gridcolor": "white",
            "gridwidth": 2,
            "linecolor": "white",
            "showbackground": true,
            "ticks": "",
            "zerolinecolor": "white"
           },
           "yaxis": {
            "backgroundcolor": "#E5ECF6",
            "gridcolor": "white",
            "gridwidth": 2,
            "linecolor": "white",
            "showbackground": true,
            "ticks": "",
            "zerolinecolor": "white"
           },
           "zaxis": {
            "backgroundcolor": "#E5ECF6",
            "gridcolor": "white",
            "gridwidth": 2,
            "linecolor": "white",
            "showbackground": true,
            "ticks": "",
            "zerolinecolor": "white"
           }
          },
          "shapedefaults": {
           "line": {
            "color": "#2a3f5f"
           }
          },
          "ternary": {
           "aaxis": {
            "gridcolor": "white",
            "linecolor": "white",
            "ticks": ""
           },
           "baxis": {
            "gridcolor": "white",
            "linecolor": "white",
            "ticks": ""
           },
           "bgcolor": "#E5ECF6",
           "caxis": {
            "gridcolor": "white",
            "linecolor": "white",
            "ticks": ""
           }
          },
          "title": {
           "x": 0.05
          },
          "xaxis": {
           "automargin": true,
           "gridcolor": "white",
           "linecolor": "white",
           "ticks": "",
           "title": {
            "standoff": 15
           },
           "zerolinecolor": "white",
           "zerolinewidth": 2
          },
          "yaxis": {
           "automargin": true,
           "gridcolor": "white",
           "linecolor": "white",
           "ticks": "",
           "title": {
            "standoff": 15
           },
           "zerolinecolor": "white",
           "zerolinewidth": 2
          }
         }
        },
        "title": {
         "text": "CDF of number of edges per segment"
        },
        "xaxis": {
         "range": [
          0,
          1.05
         ],
         "title": {
          "text": "CDF"
         }
        },
        "yaxis": {
         "title": {
          "text": "Number of edges on a given segment"
         },
         "type": "log"
        }
       }
      },
      "text/html": [
       "<div>                            <div id=\"4fc3d137-fb22-49af-b1c1-da5d7dc38d33\" class=\"plotly-graph-div\" style=\"height:525px; width:100%;\"></div>            <script type=\"text/javascript\">                require([\"plotly\"], function(Plotly) {                    window.PLOTLYENV=window.PLOTLYENV || {};                                    if (document.getElementById(\"4fc3d137-fb22-49af-b1c1-da5d7dc38d33\")) {                    Plotly.newPlot(                        \"4fc3d137-fb22-49af-b1c1-da5d7dc38d33\",                        [{\"name\":\"dmax=5\",\"x\":[0.002932551319648094,0.005865102639296188,0.008797653958944282,0.011730205278592375,0.01466275659824047,0.017595307917888565,0.020527859237536656,0.02346041055718475,0.026392961876832845,0.02932551319648094,0.03225806451612903,0.03519061583577713,0.03812316715542522,0.04105571847507331,0.04398826979472141,0.0469208211143695,0.04985337243401759,0.05278592375366569,0.05571847507331378,0.05865102639296188,0.06158357771260997,0.06451612903225806,0.06744868035190615,0.07038123167155426,0.07331378299120235,0.07624633431085044,0.07917888563049853,0.08211143695014662,0.08504398826979472,0.08797653958944282,0.09090909090909091,0.093841642228739,0.0967741935483871,0.09970674486803519,0.10263929618768329,0.10557184750733138,0.10850439882697947,0.11143695014662756,0.11436950146627566,0.11730205278592376,0.12023460410557185,0.12316715542521994,0.12609970674486803,0.12903225806451613,0.13196480938416422,0.1348973607038123,0.1378299120234604,0.14076246334310852,0.1436950146627566,0.1466275659824047,0.1495601173020528,0.15249266862170088,0.15542521994134897,0.15835777126099707,0.16129032258064516,0.16422287390029325,0.16715542521994134,0.17008797653958943,0.17302052785923755,0.17595307917888564,0.17888563049853373,0.18181818181818182,0.18475073313782991,0.187683284457478,0.1906158357771261,0.1935483870967742,0.19648093841642228,0.19941348973607037,0.20234604105571846,0.20527859237536658,0.20821114369501467,0.21114369501466276,0.21407624633431085,0.21700879765395895,0.21994134897360704,0.22287390029325513,0.22580645161290322,0.2287390029325513,0.2316715542521994,0.23460410557184752,0.2375366568914956,0.2404692082111437,0.2434017595307918,0.24633431085043989,0.24926686217008798,0.25219941348973607,0.25513196480938416,0.25806451612903225,0.26099706744868034,0.26392961876832843,0.2668621700879765,0.2697947214076246,0.2727272727272727,0.2756598240469208,0.2785923753665689,0.28152492668621704,0.2844574780058651,0.2873900293255132,0.2903225806451613,0.2932551319648094,0.2961876832844575,0.2991202346041056,0.3020527859237537,0.30498533724340177,0.30791788856304986,0.31085043988269795,0.31378299120234604,0.31671554252199413,0.3196480938416422,0.3225806451612903,0.3255131964809384,0.3284457478005865,0.3313782991202346,0.3343108504398827,0.33724340175953077,0.34017595307917886,0.34310850439882695,0.3460410557184751,0.3489736070381232,0.3519061583577713,0.3548387096774194,0.35777126099706746,0.36070381231671556,0.36363636363636365,0.36656891495601174,0.36950146627565983,0.3724340175953079,0.375366568914956,0.3782991202346041,0.3812316715542522,0.3841642228739003,0.3870967741935484,0.39002932551319647,0.39296187683284456,0.39589442815249265,0.39882697947214074,0.40175953079178883,0.4046920821114369,0.40762463343108507,0.41055718475073316,0.41348973607038125,0.41642228739002934,0.41935483870967744,0.4222873900293255,0.4252199413489736,0.4281524926686217,0.4310850439882698,0.4340175953079179,0.436950146627566,0.4398826979472141,0.44281524926686217,0.44574780058651026,0.44868035190615835,0.45161290322580644,0.45454545454545453,0.4574780058651026,0.4604105571847507,0.4633431085043988,0.4662756598240469,0.46920821114369504,0.47214076246334313,0.4750733137829912,0.4780058651026393,0.4809384164222874,0.4838709677419355,0.4868035190615836,0.4897360703812317,0.49266862170087977,0.49560117302052786,0.49853372434017595,0.501466275659824,0.5043988269794721,0.5073313782991202,0.5102639296187683,0.5131964809384164,0.5161290322580645,0.5190615835777126,0.5219941348973607,0.5249266862170088,0.5278592375366569,0.530791788856305,0.533724340175953,0.5366568914956011,0.5395894428152492,0.5425219941348973,0.5454545454545454,0.5483870967741935,0.5513196480938416,0.5542521994134897,0.5571847507331378,0.5601173020527859,0.5630498533724341,0.5659824046920822,0.5689149560117303,0.5718475073313783,0.5747800586510264,0.5777126099706745,0.5806451612903226,0.5835777126099707,0.5865102639296188,0.5894428152492669,0.592375366568915,0.5953079178885631,0.5982404692082112,0.6011730205278593,0.6041055718475073,0.6070381231671554,0.6099706744868035,0.6129032258064516,0.6158357771260997,0.6187683284457478,0.6217008797653959,0.624633431085044,0.6275659824046921,0.6304985337243402,0.6334310850439883,0.6363636363636364,0.6392961876832844,0.6422287390029325,0.6451612903225806,0.6480938416422287,0.6510263929618768,0.6539589442815249,0.656891495601173,0.6598240469208211,0.6627565982404692,0.6656891495601173,0.6686217008797654,0.6715542521994134,0.6744868035190615,0.6774193548387096,0.6803519061583577,0.6832844574780058,0.6862170087976539,0.6891495601173021,0.6920821114369502,0.6950146627565983,0.6979472140762464,0.7008797653958945,0.7038123167155426,0.7067448680351907,0.7096774193548387,0.7126099706744868,0.7155425219941349,0.718475073313783,0.7214076246334311,0.7243401759530792,0.7272727272727273,0.7302052785923754,0.7331378299120235,0.7360703812316716,0.7390029325513197,0.7419354838709677,0.7448680351906158,0.7478005865102639,0.750733137829912,0.7536656891495601,0.7565982404692082,0.7595307917888563,0.7624633431085044,0.7653958944281525,0.7683284457478006,0.7712609970674487,0.7741935483870968,0.7771260997067448,0.7800586510263929,0.782991202346041,0.7859237536656891,0.7888563049853372,0.7917888563049853,0.7947214076246334,0.7976539589442815,0.8005865102639296,0.8035190615835777,0.8064516129032258,0.8093841642228738,0.8123167155425219,0.8152492668621701,0.8181818181818182,0.8211143695014663,0.8240469208211144,0.8269794721407625,0.8299120234604106,0.8328445747800587,0.8357771260997068,0.8387096774193549,0.841642228739003,0.844574780058651,0.8475073313782991,0.8504398826979472,0.8533724340175953,0.8563049853372434,0.8592375366568915,0.8621700879765396,0.8651026392961877,0.8680351906158358,0.8709677419354839,0.873900293255132,0.8768328445747801,0.8797653958944281,0.8826979472140762,0.8856304985337243,0.8885630498533724,0.8914956011730205,0.8944281524926686,0.8973607038123167,0.9002932551319648,0.9032258064516129,0.906158357771261,0.9090909090909091,0.9120234604105572,0.9149560117302052,0.9178885630498533,0.9208211143695014,0.9237536656891495,0.9266862170087976,0.9296187683284457,0.9325513196480938,0.9354838709677419,0.9384164222873901,0.9413489736070382,0.9442815249266863,0.9472140762463344,0.9501466275659824,0.9530791788856305,0.9560117302052786,0.9589442815249267,0.9618768328445748,0.9648093841642229,0.967741935483871,0.9706744868035191,0.9736070381231672,0.9765395894428153,0.9794721407624634,0.9824046920821115,0.9853372434017595,0.9882697947214076,0.9912023460410557,0.9941348973607038,0.9970674486803519,1.0],\"y\":[1,1,1,1,1,1,1,1,1,1,1,1,1,1,1,1,1,1,1,1,1,1,1,1,1,1,1,1,1,1,1,1,1,1,1,1,1,1,1,1,1,1,1,1,1,1,1,1,1,1,1,1,1,1,1,1,1,1,1,1,1,1,1,1,1,1,1,1,1,1,1,1,1,1,1,1,1,1,1,1,1,1,1,1,1,1,2,2,2,2,2,2,2,2,2,2,2,2,2,2,2,2,2,2,2,2,2,2,2,2,2,2,2,2,2,2,2,2,2,2,2,2,2,2,2,2,2,2,2,2,2,2,2,2,2,2,2,2,2,2,2,2,2,2,2,2,2,2,2,2,2,2,2,2,2,2,2,2,2,2,2,2,2,2,2,2,2,2,2,2,2,2,2,2,2,2,2,2,2,2,2,2,2,2,2,2,2,2,2,2,2,2,2,2,2,2,2,2,2,2,2,2,2,2,2,2,2,2,2,2,2,2,2,2,2,2,2,2,2,3,3,3,3,3,3,3,3,3,3,3,3,3,3,3,3,3,3,3,3,3,3,3,3,3,3,3,3,3,3,3,3,3,3,3,3,3,3,3,3,3,3,3,3,3,3,3,3,3,3,3,3,3,3,3,3,3,3,3,3,3,3,3,3,3,3,3,3,3,3,3,3,3,3,3,3,3,3,3,3,3,3,3,3,3,3,3,3,3,3,3,3,4,4,4,4,4,4,4,4,4,4,4,4,4,4,4,4,4,4,4,4,4,4,4,4,4,4,4,4,5,5],\"type\":\"scatter\",\"text\":[\"test590, sid:1\",\"test756, sid:7\",\"test756, sid:1\",\"test5, sid:1\",\"test336, sid:9\",\"test336, sid:7\",\"test336, sid:5\",\"test336, sid:1\",\"test584, sid:1\",\"test309, sid:6\",\"test309, sid:1\",\"test818, sid:8\",\"test818, sid:4\",\"test818, sid:1\",\"test139, sid:1\",\"test770, sid:1\",\"test855, sid:7\",\"test855, sid:1\",\"test591, sid:6\",\"test591, sid:8\",\"test189, sid:1\",\"test189, sid:7\",\"test748, sid:1\",\"test156, sid:1\",\"test757, sid:1\",\"test156, sid:7\",\"test765, sid:8\",\"test674, sid:1\",\"test190, sid:1\",\"test415, sid:1\",\"test415, sid:7\",\"test754, sid:1\",\"test765, sid:1\",\"test490, sid:1\",\"test995, sid:1\",\"test995, sid:3\",\"test669, sid:8\",\"test429, sid:1\",\"test429, sid:7\",\"test512, sid:1\",\"test72, sid:1\",\"test72, sid:5\",\"test669, sid:6\",\"test763, sid:1\",\"test763, sid:8\",\"test919, sid:4\",\"test919, sid:6\",\"test886, sid:1\",\"test886, sid:9\",\"test67, sid:2\",\"test763, sid:3\",\"test591, sid:1\",\"test669, sid:4\",\"test912, sid:8\",\"test817, sid:1\",\"test817, sid:3\",\"test817, sid:5\",\"test817, sid:7\",\"test892, sid:1\",\"test445, sid:1\",\"test669, sid:1\",\"test882, sid:1\",\"test874, sid:1\",\"test904, sid:1\",\"test904, sid:6\",\"test728, sid:1\",\"test728, sid:7\",\"test912, sid:1\",\"test882, sid:7\",\"test102, sid:7\",\"test67, sid:7\",\"test452, sid:8\",\"test526, sid:6\",\"test639, sid:1\",\"test495, sid:7\",\"test452, sid:1\",\"test390, sid:1\",\"test390, sid:6\",\"test307, sid:1\",\"test590, sid:8\",\"test475, sid:1\",\"test952, sid:1\",\"test495, sid:1\",\"test590, sid:3\",\"test553, sid:7\",\"test553, sid:1\",\"test475, sid:4\",\"test817, sid:8\",\"test892, sid:2\",\"test892, sid:3\",\"test892, sid:5\",\"test892, sid:7\",\"test445, sid:2\",\"test445, sid:5\",\"test584, sid:5\",\"test445, sid:7\",\"test882, sid:2\",\"test882, sid:4\",\"test882, sid:5\",\"test495, sid:2\",\"test874, sid:3\",\"test445, sid:3\",\"test584, sid:7\",\"test336, sid:4\",\"test336, sid:8\",\"test5, sid:2\",\"test756, sid:6\",\"test475, sid:6\",\"test757, sid:2\",\"test336, sid:6\",\"test490, sid:2\",\"test490, sid:7\",\"test995, sid:2\",\"test995, sid:4\",\"test995, sid:5\",\"test874, sid:6\",\"test817, sid:2\",\"test390, sid:2\",\"test817, sid:4\",\"test817, sid:6\",\"test336, sid:2\",\"test995, sid:7\",\"test757, sid:7\",\"test904, sid:3\",\"test72, sid:3\",\"test307, sid:2\",\"test72, sid:6\",\"test763, sid:2\",\"test763, sid:4\",\"test763, sid:5\",\"test763, sid:7\",\"test919, sid:3\",\"test72, sid:2\",\"test919, sid:5\",\"test886, sid:2\",\"test886, sid:4\",\"test886, sid:6\",\"test886, sid:8\",\"test67, sid:1\",\"test590, sid:2\",\"test67, sid:3\",\"test67, sid:4\",\"test590, sid:4\",\"test512, sid:7\",\"test512, sid:4\",\"test512, sid:2\",\"test584, sid:3\",\"test762, sid:2\",\"test762, sid:4\",\"test762, sid:6\",\"test452, sid:7\",\"test728, sid:2\",\"test728, sid:6\",\"test728, sid:8\",\"test912, sid:2\",\"test912, sid:5\",\"test912, sid:7\",\"test669, sid:3\",\"test452, sid:2\",\"test669, sid:5\",\"test669, sid:7\",\"test307, sid:7\",\"test429, sid:2\",\"test429, sid:3\",\"test307, sid:5\",\"test904, sid:2\",\"test67, sid:6\",\"test584, sid:2\",\"test190, sid:3\",\"test754, sid:3\",\"test139, sid:2\",\"test189, sid:6\",\"test639, sid:4\",\"test748, sid:2\",\"test952, sid:2\",\"test770, sid:5\",\"test748, sid:4\",\"test415, sid:4\",\"test770, sid:4\",\"test765, sid:3\",\"test770, sid:3\",\"test765, sid:2\",\"test770, sid:2\",\"test748, sid:6\",\"test415, sid:6\",\"test526, sid:1\",\"test748, sid:8\",\"test855, sid:6\",\"test952, sid:6\",\"test639, sid:2\",\"test855, sid:2\",\"test156, sid:2\",\"test754, sid:5\",\"test754, sid:2\",\"test765, sid:5\",\"test189, sid:2\",\"test415, sid:2\",\"test190, sid:5\",\"test674, sid:2\",\"test102, sid:5\",\"test309, sid:3\",\"test102, sid:6\",\"test309, sid:2\",\"test102, sid:1\",\"test591, sid:2\",\"test553, sid:6\",\"test818, sid:7\",\"test674, sid:7\",\"test818, sid:5\",\"test818, sid:2\",\"test818, sid:3\",\"test156, sid:4\",\"test190, sid:2\",\"test591, sid:5\",\"test526, sid:5\",\"test190, sid:4\",\"test765, sid:7\",\"test591, sid:7\",\"test139, sid:6\",\"test912, sid:6\",\"test156, sid:5\",\"test765, sid:6\",\"test526, sid:4\",\"test669, sid:2\",\"test452, sid:6\",\"test452, sid:4\",\"test728, sid:3\",\"test452, sid:3\",\"test912, sid:4\",\"test728, sid:5\",\"test156, sid:6\",\"test765, sid:4\",\"test512, sid:5\",\"test307, sid:6\",\"test67, sid:5\",\"test102, sid:2\",\"test591, sid:3\",\"test886, sid:7\",\"test591, sid:4\",\"test886, sid:5\",\"test886, sid:3\",\"test639, sid:7\",\"test590, sid:5\",\"test639, sid:5\",\"test919, sid:2\",\"test919, sid:1\",\"test590, sid:7\",\"test763, sid:6\",\"test189, sid:4\",\"test189, sid:5\",\"test639, sid:3\",\"test72, sid:4\",\"test748, sid:3\",\"test307, sid:3\",\"test748, sid:5\",\"test512, sid:6\",\"test762, sid:5\",\"test512, sid:3\",\"test748, sid:7\",\"test429, sid:6\",\"test429, sid:4\",\"test156, sid:3\",\"test674, sid:4\",\"test553, sid:4\",\"test390, sid:4\",\"test952, sid:4\",\"test995, sid:6\",\"test762, sid:3\",\"test390, sid:5\",\"test490, sid:3\",\"test757, sid:6\",\"test757, sid:5\",\"test757, sid:3\",\"test475, sid:2\",\"test139, sid:4\",\"test756, sid:4\",\"test855, sid:3\",\"test756, sid:2\",\"test5, sid:7\",\"test5, sid:5\",\"test5, sid:3\",\"test139, sid:5\",\"test475, sid:5\",\"test818, sid:6\",\"test336, sid:3\",\"test553, sid:2\",\"test553, sid:5\",\"test584, sid:6\",\"test584, sid:4\",\"test475, sid:3\",\"test952, sid:5\",\"test102, sid:4\",\"test754, sid:4\",\"test762, sid:1\",\"test674, sid:6\",\"test904, sid:5\",\"test904, sid:4\",\"test309, sid:5\",\"test874, sid:4\",\"test874, sid:2\",\"test495, sid:3\",\"test495, sid:6\",\"test882, sid:3\",\"test415, sid:3\",\"test495, sid:4\",\"test445, sid:6\",\"test882, sid:6\",\"test892, sid:6\",\"test415, sid:5\",\"test892, sid:4\",\"test445, sid:4\",\"test639, sid:6\",\"test5, sid:4\",\"test874, sid:5\",\"test390, sid:3\",\"test728, sid:4\",\"test429, sid:5\",\"test307, sid:4\",\"test855, sid:4\",\"test674, sid:3\",\"test309, sid:4\",\"test553, sid:3\",\"test855, sid:5\",\"test5, sid:6\",\"test674, sid:5\",\"test490, sid:4\",\"test590, sid:6\",\"test912, sid:3\",\"test756, sid:3\",\"test495, sid:5\",\"test756, sid:5\",\"test952, sid:3\",\"test189, sid:3\",\"test526, sid:2\",\"test139, sid:3\",\"test757, sid:4\",\"test490, sid:6\",\"test102, sid:3\",\"test452, sid:5\",\"test526, sid:3\",\"test490, sid:5\"]}],                        {\"template\":{\"data\":{\"histogram2dcontour\":[{\"type\":\"histogram2dcontour\",\"colorbar\":{\"outlinewidth\":0,\"ticks\":\"\"},\"colorscale\":[[0.0,\"#0d0887\"],[0.1111111111111111,\"#46039f\"],[0.2222222222222222,\"#7201a8\"],[0.3333333333333333,\"#9c179e\"],[0.4444444444444444,\"#bd3786\"],[0.5555555555555556,\"#d8576b\"],[0.6666666666666666,\"#ed7953\"],[0.7777777777777778,\"#fb9f3a\"],[0.8888888888888888,\"#fdca26\"],[1.0,\"#f0f921\"]]}],\"choropleth\":[{\"type\":\"choropleth\",\"colorbar\":{\"outlinewidth\":0,\"ticks\":\"\"}}],\"histogram2d\":[{\"type\":\"histogram2d\",\"colorbar\":{\"outlinewidth\":0,\"ticks\":\"\"},\"colorscale\":[[0.0,\"#0d0887\"],[0.1111111111111111,\"#46039f\"],[0.2222222222222222,\"#7201a8\"],[0.3333333333333333,\"#9c179e\"],[0.4444444444444444,\"#bd3786\"],[0.5555555555555556,\"#d8576b\"],[0.6666666666666666,\"#ed7953\"],[0.7777777777777778,\"#fb9f3a\"],[0.8888888888888888,\"#fdca26\"],[1.0,\"#f0f921\"]]}],\"heatmap\":[{\"type\":\"heatmap\",\"colorbar\":{\"outlinewidth\":0,\"ticks\":\"\"},\"colorscale\":[[0.0,\"#0d0887\"],[0.1111111111111111,\"#46039f\"],[0.2222222222222222,\"#7201a8\"],[0.3333333333333333,\"#9c179e\"],[0.4444444444444444,\"#bd3786\"],[0.5555555555555556,\"#d8576b\"],[0.6666666666666666,\"#ed7953\"],[0.7777777777777778,\"#fb9f3a\"],[0.8888888888888888,\"#fdca26\"],[1.0,\"#f0f921\"]]}],\"heatmapgl\":[{\"type\":\"heatmapgl\",\"colorbar\":{\"outlinewidth\":0,\"ticks\":\"\"},\"colorscale\":[[0.0,\"#0d0887\"],[0.1111111111111111,\"#46039f\"],[0.2222222222222222,\"#7201a8\"],[0.3333333333333333,\"#9c179e\"],[0.4444444444444444,\"#bd3786\"],[0.5555555555555556,\"#d8576b\"],[0.6666666666666666,\"#ed7953\"],[0.7777777777777778,\"#fb9f3a\"],[0.8888888888888888,\"#fdca26\"],[1.0,\"#f0f921\"]]}],\"contourcarpet\":[{\"type\":\"contourcarpet\",\"colorbar\":{\"outlinewidth\":0,\"ticks\":\"\"}}],\"contour\":[{\"type\":\"contour\",\"colorbar\":{\"outlinewidth\":0,\"ticks\":\"\"},\"colorscale\":[[0.0,\"#0d0887\"],[0.1111111111111111,\"#46039f\"],[0.2222222222222222,\"#7201a8\"],[0.3333333333333333,\"#9c179e\"],[0.4444444444444444,\"#bd3786\"],[0.5555555555555556,\"#d8576b\"],[0.6666666666666666,\"#ed7953\"],[0.7777777777777778,\"#fb9f3a\"],[0.8888888888888888,\"#fdca26\"],[1.0,\"#f0f921\"]]}],\"surface\":[{\"type\":\"surface\",\"colorbar\":{\"outlinewidth\":0,\"ticks\":\"\"},\"colorscale\":[[0.0,\"#0d0887\"],[0.1111111111111111,\"#46039f\"],[0.2222222222222222,\"#7201a8\"],[0.3333333333333333,\"#9c179e\"],[0.4444444444444444,\"#bd3786\"],[0.5555555555555556,\"#d8576b\"],[0.6666666666666666,\"#ed7953\"],[0.7777777777777778,\"#fb9f3a\"],[0.8888888888888888,\"#fdca26\"],[1.0,\"#f0f921\"]]}],\"mesh3d\":[{\"type\":\"mesh3d\",\"colorbar\":{\"outlinewidth\":0,\"ticks\":\"\"}}],\"scatter\":[{\"fillpattern\":{\"fillmode\":\"overlay\",\"size\":10,\"solidity\":0.2},\"type\":\"scatter\"}],\"parcoords\":[{\"type\":\"parcoords\",\"line\":{\"colorbar\":{\"outlinewidth\":0,\"ticks\":\"\"}}}],\"scatterpolargl\":[{\"type\":\"scatterpolargl\",\"marker\":{\"colorbar\":{\"outlinewidth\":0,\"ticks\":\"\"}}}],\"bar\":[{\"error_x\":{\"color\":\"#2a3f5f\"},\"error_y\":{\"color\":\"#2a3f5f\"},\"marker\":{\"line\":{\"color\":\"#E5ECF6\",\"width\":0.5},\"pattern\":{\"fillmode\":\"overlay\",\"size\":10,\"solidity\":0.2}},\"type\":\"bar\"}],\"scattergeo\":[{\"type\":\"scattergeo\",\"marker\":{\"colorbar\":{\"outlinewidth\":0,\"ticks\":\"\"}}}],\"scatterpolar\":[{\"type\":\"scatterpolar\",\"marker\":{\"colorbar\":{\"outlinewidth\":0,\"ticks\":\"\"}}}],\"histogram\":[{\"marker\":{\"pattern\":{\"fillmode\":\"overlay\",\"size\":10,\"solidity\":0.2}},\"type\":\"histogram\"}],\"scattergl\":[{\"type\":\"scattergl\",\"marker\":{\"colorbar\":{\"outlinewidth\":0,\"ticks\":\"\"}}}],\"scatter3d\":[{\"type\":\"scatter3d\",\"line\":{\"colorbar\":{\"outlinewidth\":0,\"ticks\":\"\"}},\"marker\":{\"colorbar\":{\"outlinewidth\":0,\"ticks\":\"\"}}}],\"scattermapbox\":[{\"type\":\"scattermapbox\",\"marker\":{\"colorbar\":{\"outlinewidth\":0,\"ticks\":\"\"}}}],\"scatterternary\":[{\"type\":\"scatterternary\",\"marker\":{\"colorbar\":{\"outlinewidth\":0,\"ticks\":\"\"}}}],\"scattercarpet\":[{\"type\":\"scattercarpet\",\"marker\":{\"colorbar\":{\"outlinewidth\":0,\"ticks\":\"\"}}}],\"carpet\":[{\"aaxis\":{\"endlinecolor\":\"#2a3f5f\",\"gridcolor\":\"white\",\"linecolor\":\"white\",\"minorgridcolor\":\"white\",\"startlinecolor\":\"#2a3f5f\"},\"baxis\":{\"endlinecolor\":\"#2a3f5f\",\"gridcolor\":\"white\",\"linecolor\":\"white\",\"minorgridcolor\":\"white\",\"startlinecolor\":\"#2a3f5f\"},\"type\":\"carpet\"}],\"table\":[{\"cells\":{\"fill\":{\"color\":\"#EBF0F8\"},\"line\":{\"color\":\"white\"}},\"header\":{\"fill\":{\"color\":\"#C8D4E3\"},\"line\":{\"color\":\"white\"}},\"type\":\"table\"}],\"barpolar\":[{\"marker\":{\"line\":{\"color\":\"#E5ECF6\",\"width\":0.5},\"pattern\":{\"fillmode\":\"overlay\",\"size\":10,\"solidity\":0.2}},\"type\":\"barpolar\"}],\"pie\":[{\"automargin\":true,\"type\":\"pie\"}]},\"layout\":{\"autotypenumbers\":\"strict\",\"colorway\":[\"#636efa\",\"#EF553B\",\"#00cc96\",\"#ab63fa\",\"#FFA15A\",\"#19d3f3\",\"#FF6692\",\"#B6E880\",\"#FF97FF\",\"#FECB52\"],\"font\":{\"color\":\"#2a3f5f\"},\"hovermode\":\"closest\",\"hoverlabel\":{\"align\":\"left\"},\"paper_bgcolor\":\"white\",\"plot_bgcolor\":\"#E5ECF6\",\"polar\":{\"bgcolor\":\"#E5ECF6\",\"angularaxis\":{\"gridcolor\":\"white\",\"linecolor\":\"white\",\"ticks\":\"\"},\"radialaxis\":{\"gridcolor\":\"white\",\"linecolor\":\"white\",\"ticks\":\"\"}},\"ternary\":{\"bgcolor\":\"#E5ECF6\",\"aaxis\":{\"gridcolor\":\"white\",\"linecolor\":\"white\",\"ticks\":\"\"},\"baxis\":{\"gridcolor\":\"white\",\"linecolor\":\"white\",\"ticks\":\"\"},\"caxis\":{\"gridcolor\":\"white\",\"linecolor\":\"white\",\"ticks\":\"\"}},\"coloraxis\":{\"colorbar\":{\"outlinewidth\":0,\"ticks\":\"\"}},\"colorscale\":{\"sequential\":[[0.0,\"#0d0887\"],[0.1111111111111111,\"#46039f\"],[0.2222222222222222,\"#7201a8\"],[0.3333333333333333,\"#9c179e\"],[0.4444444444444444,\"#bd3786\"],[0.5555555555555556,\"#d8576b\"],[0.6666666666666666,\"#ed7953\"],[0.7777777777777778,\"#fb9f3a\"],[0.8888888888888888,\"#fdca26\"],[1.0,\"#f0f921\"]],\"sequentialminus\":[[0.0,\"#0d0887\"],[0.1111111111111111,\"#46039f\"],[0.2222222222222222,\"#7201a8\"],[0.3333333333333333,\"#9c179e\"],[0.4444444444444444,\"#bd3786\"],[0.5555555555555556,\"#d8576b\"],[0.6666666666666666,\"#ed7953\"],[0.7777777777777778,\"#fb9f3a\"],[0.8888888888888888,\"#fdca26\"],[1.0,\"#f0f921\"]],\"diverging\":[[0,\"#8e0152\"],[0.1,\"#c51b7d\"],[0.2,\"#de77ae\"],[0.3,\"#f1b6da\"],[0.4,\"#fde0ef\"],[0.5,\"#f7f7f7\"],[0.6,\"#e6f5d0\"],[0.7,\"#b8e186\"],[0.8,\"#7fbc41\"],[0.9,\"#4d9221\"],[1,\"#276419\"]]},\"xaxis\":{\"gridcolor\":\"white\",\"linecolor\":\"white\",\"ticks\":\"\",\"title\":{\"standoff\":15},\"zerolinecolor\":\"white\",\"automargin\":true,\"zerolinewidth\":2},\"yaxis\":{\"gridcolor\":\"white\",\"linecolor\":\"white\",\"ticks\":\"\",\"title\":{\"standoff\":15},\"zerolinecolor\":\"white\",\"automargin\":true,\"zerolinewidth\":2},\"scene\":{\"xaxis\":{\"backgroundcolor\":\"#E5ECF6\",\"gridcolor\":\"white\",\"linecolor\":\"white\",\"showbackground\":true,\"ticks\":\"\",\"zerolinecolor\":\"white\",\"gridwidth\":2},\"yaxis\":{\"backgroundcolor\":\"#E5ECF6\",\"gridcolor\":\"white\",\"linecolor\":\"white\",\"showbackground\":true,\"ticks\":\"\",\"zerolinecolor\":\"white\",\"gridwidth\":2},\"zaxis\":{\"backgroundcolor\":\"#E5ECF6\",\"gridcolor\":\"white\",\"linecolor\":\"white\",\"showbackground\":true,\"ticks\":\"\",\"zerolinecolor\":\"white\",\"gridwidth\":2}},\"shapedefaults\":{\"line\":{\"color\":\"#2a3f5f\"}},\"annotationdefaults\":{\"arrowcolor\":\"#2a3f5f\",\"arrowhead\":0,\"arrowwidth\":1},\"geo\":{\"bgcolor\":\"white\",\"landcolor\":\"#E5ECF6\",\"subunitcolor\":\"white\",\"showland\":true,\"showlakes\":true,\"lakecolor\":\"white\"},\"title\":{\"x\":0.05},\"mapbox\":{\"style\":\"light\"}}},\"barmode\":\"overlay\",\"xaxis\":{\"range\":[0,1.05],\"title\":{\"text\":\"CDF\"}},\"title\":{\"text\":\"CDF of number of edges per segment\"},\"yaxis\":{\"title\":{\"text\":\"Number of edges on a given segment\"},\"type\":\"log\"}},                        {\"responsive\": true}                    ).then(function(){\n",
       "                            \n",
       "var gd = document.getElementById('4fc3d137-fb22-49af-b1c1-da5d7dc38d33');\n",
       "var x = new MutationObserver(function (mutations, observer) {{\n",
       "        var display = window.getComputedStyle(gd).display;\n",
       "        if (!display || display === 'none') {{\n",
       "            console.log([gd, 'removed!']);\n",
       "            Plotly.purge(gd);\n",
       "            observer.disconnect();\n",
       "        }}\n",
       "}});\n",
       "\n",
       "// Listen for the removal of the full notebook cells\n",
       "var notebookContainer = gd.closest('#notebook-container');\n",
       "if (notebookContainer) {{\n",
       "    x.observe(notebookContainer, {childList: true});\n",
       "}}\n",
       "\n",
       "// Listen for the clearing of the current output cell\n",
       "var outputEl = gd.closest('.output');\n",
       "if (outputEl) {{\n",
       "    x.observe(outputEl, {childList: true});\n",
       "}}\n",
       "\n",
       "                        })                };                });            </script>        </div>"
      ]
     },
     "metadata": {},
     "output_type": "display_data"
    }
   ],
   "source": [
    "fig = go.Figure()\n",
    "for dmax in df['DMAX'].unique():\n",
    "    dfB = df[df['DMAX'] == dmax].sort_values(by=['|s|'])\n",
    "    y, PDB, SID = dfB['|s|'], dfB['PDB'], dfB['sid']\n",
    "    x = np.arange(1, len(y)+1) / len(y)    \n",
    "    fig.add_trace(go.Scatter(x=x, y=y, name=f'dmax={dmax}'))\n",
    "    # add pdb to the hover text\n",
    "    fig.data[-1].text = [f'{pdb}, sid:{sid}' for pdb, sid in zip(PDB, SID)]\n",
    "# Overlay both histograms\n",
    "fig.update_layout(barmode='overlay')\n",
    "# xlim\n",
    "fig.update_xaxes(range=[0, 1.05])\n",
    "# set title\n",
    "fig.update_layout(title_text='CDF of number of edges per segment')\n",
    "# set x-axis title\n",
    "fig.update_xaxes(title_text='CDF')\n",
    "# set y-axis title\n",
    "fig.update_yaxes(title_text='Number of edges on a given segment', type=\"log\")\n",
    "fig.show()"
   ]
  },
  {
   "attachments": {},
   "cell_type": "markdown",
   "metadata": {},
   "source": [
    "# Exploring results:"
   ]
  },
  {
   "attachments": {},
   "cell_type": "markdown",
   "metadata": {},
   "source": [
    "## Results: data/nmr_spec"
   ]
  },
  {
   "cell_type": "code",
   "execution_count": 172,
   "metadata": {},
   "outputs": [
    {
     "name": "stdout",
     "output_type": "stream",
     "text": [
      "Parameters:\n",
      "   wdir = data/nmr_spec\n",
      "\n",
      "Getting log files from wdir=data/nmr_spec\n",
      "Saving results to data/nmr_spec/results.csv\n",
      "tmax (secs) = [3600]\n",
      "\n",
      "Table of costs for each instance.\n"
     ]
    },
    {
     "data": {
      "text/html": [
       "<div>\n",
       "<style scoped>\n",
       "    .dataframe tbody tr th:only-of-type {\n",
       "        vertical-align: middle;\n",
       "    }\n",
       "\n",
       "    .dataframe tbody tr th {\n",
       "        vertical-align: top;\n",
       "    }\n",
       "\n",
       "    .dataframe thead th {\n",
       "        text-align: right;\n",
       "    }\n",
       "</style>\n",
       "<table border=\"1\" class=\"dataframe\">\n",
       "  <thead>\n",
       "    <tr style=\"text-align: right;\">\n",
       "      <th></th>\n",
       "      <th>|V|</th>\n",
       "      <th>|E|</th>\n",
       "      <th>|S|</th>\n",
       "      <th>RX</th>\n",
       "      <th>GD</th>\n",
       "      <th>SB</th>\n",
       "      <th>BB</th>\n",
       "      <th>BF</th>\n",
       "      <th>solver</th>\n",
       "    </tr>\n",
       "    <tr>\n",
       "      <th>PDB</th>\n",
       "      <th></th>\n",
       "      <th></th>\n",
       "      <th></th>\n",
       "      <th></th>\n",
       "      <th></th>\n",
       "      <th></th>\n",
       "      <th></th>\n",
       "      <th></th>\n",
       "      <th></th>\n",
       "    </tr>\n",
       "  </thead>\n",
       "  <tbody>\n",
       "    <tr>\n",
       "      <th>test189</th>\n",
       "      <td>20</td>\n",
       "      <td>5</td>\n",
       "      <td>7</td>\n",
       "      <td>52</td>\n",
       "      <td>158</td>\n",
       "      <td>1040</td>\n",
       "      <td>158</td>\n",
       "      <td>158</td>\n",
       "      <td>BF</td>\n",
       "    </tr>\n",
       "    <tr>\n",
       "      <th>test892</th>\n",
       "      <td>20</td>\n",
       "      <td>5</td>\n",
       "      <td>7</td>\n",
       "      <td>92</td>\n",
       "      <td>136</td>\n",
       "      <td>198</td>\n",
       "      <td>92</td>\n",
       "      <td>92</td>\n",
       "      <td>BF</td>\n",
       "    </tr>\n",
       "    <tr>\n",
       "      <th>test912</th>\n",
       "      <td>20</td>\n",
       "      <td>5</td>\n",
       "      <td>8</td>\n",
       "      <td>58</td>\n",
       "      <td>116</td>\n",
       "      <td>138</td>\n",
       "      <td>96</td>\n",
       "      <td>96</td>\n",
       "      <td>BF</td>\n",
       "    </tr>\n",
       "  </tbody>\n",
       "</table>\n",
       "</div>"
      ],
      "text/plain": [
       "         |V|  |E|  |S|  RX  GD   SB  BB  BF solver\n",
       "PDB                                               \n",
       "test189   20    5    7  52 158 1040 158 158     BF\n",
       "test892   20    5    7  92 136  198  92  92     BF\n",
       "test912   20    5    8  58 116  138  96  96     BF"
      ]
     },
     "metadata": {},
     "output_type": "display_data"
    }
   ],
   "source": [
    "nmr_folder = 'data/nmr_spec'\n",
    "# run read_results.py\n",
    "os.system('python read_results.py -wdir ' + nmr_folder)\n",
    "# read results\n",
    "df = pd.read_csv(os.path.join(nmr_folder, 'results.csv'))\n",
    "print('tmax (secs) =', df['tmax'].unique())\n",
    "print('')\n",
    "# add columns\n",
    "df['PDB'] = df.apply(lambda row: row['fnmr'].split('/')[-1].split('_')[0], axis=1)\n",
    "# set columns order\n",
    "cols = ['PDB','|V|','|E|','|S|','costRX', 'costGD', 'costSB']\n",
    "cols += sorted([c for c in df.columns if c not in cols])\n",
    "df = df[cols]\n",
    "# set columns names\n",
    "cols = df.columns.tolist()\n",
    "cols = {c:c.replace('cost', '') for c in cols}\n",
    "df.rename(columns=cols, inplace=True)\n",
    "# sort by |S|\n",
    "df = df.sort_values(by=['|S|'])\n",
    "# remove unnecessary columns\n",
    "cols = ['fnmr', 'clean_log', 'verbose', 'dump', 'tmax']\n",
    "cols += [c for c in df.columns if c.startswith('time')]\n",
    "cols += [c for c in df.columns if c.startswith('cost')]\n",
    "df.drop(columns=cols, inplace=True)\n",
    "# display\n",
    "caption = 'Table of costs for each instance.'\n",
    "print(caption)\n",
    "pd.set_option('display.float_format', lambda x: '%g' % x)\n",
    "display(df.groupby('PDB').max())"
   ]
  },
  {
   "cell_type": "code",
   "execution_count": 192,
   "metadata": {},
   "outputs": [
    {
     "data": {
      "text/html": [
       "<div>\n",
       "<style scoped>\n",
       "    .dataframe tbody tr th:only-of-type {\n",
       "        vertical-align: middle;\n",
       "    }\n",
       "\n",
       "    .dataframe tbody tr th {\n",
       "        vertical-align: top;\n",
       "    }\n",
       "\n",
       "    .dataframe thead th {\n",
       "        text-align: right;\n",
       "    }\n",
       "</style>\n",
       "<table border=\"1\" class=\"dataframe\">\n",
       "  <thead>\n",
       "    <tr style=\"text-align: right;\">\n",
       "      <th></th>\n",
       "      <th>PDB</th>\n",
       "      <th>cost</th>\n",
       "      <th>algorithm</th>\n",
       "    </tr>\n",
       "  </thead>\n",
       "  <tbody>\n",
       "    <tr>\n",
       "      <th>0</th>\n",
       "      <td>test892</td>\n",
       "      <td>92</td>\n",
       "      <td>RX</td>\n",
       "    </tr>\n",
       "    <tr>\n",
       "      <th>1</th>\n",
       "      <td>test892</td>\n",
       "      <td>136</td>\n",
       "      <td>GD</td>\n",
       "    </tr>\n",
       "    <tr>\n",
       "      <th>2</th>\n",
       "      <td>test892</td>\n",
       "      <td>198</td>\n",
       "      <td>SB</td>\n",
       "    </tr>\n",
       "    <tr>\n",
       "      <th>4</th>\n",
       "      <td>test892</td>\n",
       "      <td>92</td>\n",
       "      <td>BF</td>\n",
       "    </tr>\n",
       "    <tr>\n",
       "      <th>6</th>\n",
       "      <td>test189</td>\n",
       "      <td>52</td>\n",
       "      <td>RX</td>\n",
       "    </tr>\n",
       "    <tr>\n",
       "      <th>7</th>\n",
       "      <td>test189</td>\n",
       "      <td>158</td>\n",
       "      <td>GD</td>\n",
       "    </tr>\n",
       "    <tr>\n",
       "      <th>8</th>\n",
       "      <td>test189</td>\n",
       "      <td>1040</td>\n",
       "      <td>SB</td>\n",
       "    </tr>\n",
       "    <tr>\n",
       "      <th>10</th>\n",
       "      <td>test189</td>\n",
       "      <td>158</td>\n",
       "      <td>BF</td>\n",
       "    </tr>\n",
       "    <tr>\n",
       "      <th>12</th>\n",
       "      <td>test892</td>\n",
       "      <td>92</td>\n",
       "      <td>RX</td>\n",
       "    </tr>\n",
       "    <tr>\n",
       "      <th>13</th>\n",
       "      <td>test892</td>\n",
       "      <td>136</td>\n",
       "      <td>GD</td>\n",
       "    </tr>\n",
       "    <tr>\n",
       "      <th>14</th>\n",
       "      <td>test892</td>\n",
       "      <td>198</td>\n",
       "      <td>SB</td>\n",
       "    </tr>\n",
       "    <tr>\n",
       "      <th>15</th>\n",
       "      <td>test892</td>\n",
       "      <td>92</td>\n",
       "      <td>BB</td>\n",
       "    </tr>\n",
       "    <tr>\n",
       "      <th>18</th>\n",
       "      <td>test189</td>\n",
       "      <td>52</td>\n",
       "      <td>RX</td>\n",
       "    </tr>\n",
       "    <tr>\n",
       "      <th>19</th>\n",
       "      <td>test189</td>\n",
       "      <td>158</td>\n",
       "      <td>GD</td>\n",
       "    </tr>\n",
       "    <tr>\n",
       "      <th>20</th>\n",
       "      <td>test189</td>\n",
       "      <td>1040</td>\n",
       "      <td>SB</td>\n",
       "    </tr>\n",
       "    <tr>\n",
       "      <th>21</th>\n",
       "      <td>test189</td>\n",
       "      <td>158</td>\n",
       "      <td>BB</td>\n",
       "    </tr>\n",
       "    <tr>\n",
       "      <th>24</th>\n",
       "      <td>test912</td>\n",
       "      <td>58</td>\n",
       "      <td>RX</td>\n",
       "    </tr>\n",
       "    <tr>\n",
       "      <th>25</th>\n",
       "      <td>test912</td>\n",
       "      <td>116</td>\n",
       "      <td>GD</td>\n",
       "    </tr>\n",
       "    <tr>\n",
       "      <th>26</th>\n",
       "      <td>test912</td>\n",
       "      <td>138</td>\n",
       "      <td>SB</td>\n",
       "    </tr>\n",
       "    <tr>\n",
       "      <th>27</th>\n",
       "      <td>test912</td>\n",
       "      <td>96</td>\n",
       "      <td>BB</td>\n",
       "    </tr>\n",
       "    <tr>\n",
       "      <th>30</th>\n",
       "      <td>test912</td>\n",
       "      <td>58</td>\n",
       "      <td>RX</td>\n",
       "    </tr>\n",
       "    <tr>\n",
       "      <th>31</th>\n",
       "      <td>test912</td>\n",
       "      <td>116</td>\n",
       "      <td>GD</td>\n",
       "    </tr>\n",
       "    <tr>\n",
       "      <th>32</th>\n",
       "      <td>test912</td>\n",
       "      <td>138</td>\n",
       "      <td>SB</td>\n",
       "    </tr>\n",
       "    <tr>\n",
       "      <th>34</th>\n",
       "      <td>test912</td>\n",
       "      <td>96</td>\n",
       "      <td>BF</td>\n",
       "    </tr>\n",
       "  </tbody>\n",
       "</table>\n",
       "</div>"
      ],
      "text/plain": [
       "        PDB cost algorithm\n",
       "0   test892   92        RX\n",
       "1   test892  136        GD\n",
       "2   test892  198        SB\n",
       "4   test892   92        BF\n",
       "6   test189   52        RX\n",
       "7   test189  158        GD\n",
       "8   test189 1040        SB\n",
       "10  test189  158        BF\n",
       "12  test892   92        RX\n",
       "13  test892  136        GD\n",
       "14  test892  198        SB\n",
       "15  test892   92        BB\n",
       "18  test189   52        RX\n",
       "19  test189  158        GD\n",
       "20  test189 1040        SB\n",
       "21  test189  158        BB\n",
       "24  test912   58        RX\n",
       "25  test912  116        GD\n",
       "26  test912  138        SB\n",
       "27  test912   96        BB\n",
       "30  test912   58        RX\n",
       "31  test912  116        GD\n",
       "32  test912  138        SB\n",
       "34  test912   96        BF"
      ]
     },
     "execution_count": 192,
     "metadata": {},
     "output_type": "execute_result"
    }
   ],
   "source": [
    "# remove duplicates\n",
    "df = df.drop_duplicates(subset=['PDB','|V|','|E|','|S|'])\n"
   ]
  },
  {
   "cell_type": "code",
   "execution_count": 195,
   "metadata": {},
   "outputs": [
    {
     "data": {
      "application/vnd.plotly.v1+json": {
       "config": {
        "plotlyServerURL": "https://plot.ly"
       },
       "data": [
        {
         "alignmentgroup": "True",
         "hovertemplate": "algorithm=RX<br>PDB=%{x}<br>cost=%{text}<extra></extra>",
         "legendgroup": "RX",
         "marker": {
          "color": "#636efa",
          "pattern": {
           "shape": ""
          }
         },
         "name": "RX",
         "offsetgroup": "RX",
         "orientation": "v",
         "showlegend": true,
         "text": [
          92,
          52,
          58
         ],
         "textposition": "outside",
         "type": "bar",
         "x": [
          "test892",
          "test189",
          "test912"
         ],
         "xaxis": "x",
         "y": [
          92,
          52,
          58
         ],
         "yaxis": "y"
        },
        {
         "alignmentgroup": "True",
         "hovertemplate": "algorithm=GD<br>PDB=%{x}<br>cost=%{text}<extra></extra>",
         "legendgroup": "GD",
         "marker": {
          "color": "#EF553B",
          "pattern": {
           "shape": ""
          }
         },
         "name": "GD",
         "offsetgroup": "GD",
         "orientation": "v",
         "showlegend": true,
         "text": [
          136,
          158,
          116
         ],
         "textposition": "outside",
         "type": "bar",
         "x": [
          "test892",
          "test189",
          "test912"
         ],
         "xaxis": "x",
         "y": [
          136,
          158,
          116
         ],
         "yaxis": "y"
        },
        {
         "alignmentgroup": "True",
         "hovertemplate": "algorithm=SB<br>PDB=%{x}<br>cost=%{text}<extra></extra>",
         "legendgroup": "SB",
         "marker": {
          "color": "#00cc96",
          "pattern": {
           "shape": ""
          }
         },
         "name": "SB",
         "offsetgroup": "SB",
         "orientation": "v",
         "showlegend": true,
         "text": [
          198,
          1040,
          138
         ],
         "textposition": "outside",
         "type": "bar",
         "x": [
          "test892",
          "test189",
          "test912"
         ],
         "xaxis": "x",
         "y": [
          198,
          1040,
          138
         ],
         "yaxis": "y"
        },
        {
         "alignmentgroup": "True",
         "hovertemplate": "algorithm=BF<br>PDB=%{x}<br>cost=%{text}<extra></extra>",
         "legendgroup": "BF",
         "marker": {
          "color": "#ab63fa",
          "pattern": {
           "shape": ""
          }
         },
         "name": "BF",
         "offsetgroup": "BF",
         "orientation": "v",
         "showlegend": true,
         "text": [
          92,
          158,
          96
         ],
         "textposition": "outside",
         "type": "bar",
         "x": [
          "test892",
          "test189",
          "test912"
         ],
         "xaxis": "x",
         "y": [
          92,
          158,
          96
         ],
         "yaxis": "y"
        },
        {
         "alignmentgroup": "True",
         "hovertemplate": "algorithm=BB<br>PDB=%{x}<br>cost=%{text}<extra></extra>",
         "legendgroup": "BB",
         "marker": {
          "color": "#FFA15A",
          "pattern": {
           "shape": ""
          }
         },
         "name": "BB",
         "offsetgroup": "BB",
         "orientation": "v",
         "showlegend": true,
         "text": [
          92,
          158,
          96
         ],
         "textposition": "outside",
         "type": "bar",
         "x": [
          "test892",
          "test189",
          "test912"
         ],
         "xaxis": "x",
         "y": [
          92,
          158,
          96
         ],
         "yaxis": "y"
        }
       ],
       "layout": {
        "barmode": "group",
        "legend": {
         "title": {
          "text": "algorithm"
         },
         "tracegroupgap": 0
        },
        "template": {
         "data": {
          "bar": [
           {
            "error_x": {
             "color": "#2a3f5f"
            },
            "error_y": {
             "color": "#2a3f5f"
            },
            "marker": {
             "line": {
              "color": "#E5ECF6",
              "width": 0.5
             },
             "pattern": {
              "fillmode": "overlay",
              "size": 10,
              "solidity": 0.2
             }
            },
            "type": "bar"
           }
          ],
          "barpolar": [
           {
            "marker": {
             "line": {
              "color": "#E5ECF6",
              "width": 0.5
             },
             "pattern": {
              "fillmode": "overlay",
              "size": 10,
              "solidity": 0.2
             }
            },
            "type": "barpolar"
           }
          ],
          "carpet": [
           {
            "aaxis": {
             "endlinecolor": "#2a3f5f",
             "gridcolor": "white",
             "linecolor": "white",
             "minorgridcolor": "white",
             "startlinecolor": "#2a3f5f"
            },
            "baxis": {
             "endlinecolor": "#2a3f5f",
             "gridcolor": "white",
             "linecolor": "white",
             "minorgridcolor": "white",
             "startlinecolor": "#2a3f5f"
            },
            "type": "carpet"
           }
          ],
          "choropleth": [
           {
            "colorbar": {
             "outlinewidth": 0,
             "ticks": ""
            },
            "type": "choropleth"
           }
          ],
          "contour": [
           {
            "colorbar": {
             "outlinewidth": 0,
             "ticks": ""
            },
            "colorscale": [
             [
              0,
              "#0d0887"
             ],
             [
              0.1111111111111111,
              "#46039f"
             ],
             [
              0.2222222222222222,
              "#7201a8"
             ],
             [
              0.3333333333333333,
              "#9c179e"
             ],
             [
              0.4444444444444444,
              "#bd3786"
             ],
             [
              0.5555555555555556,
              "#d8576b"
             ],
             [
              0.6666666666666666,
              "#ed7953"
             ],
             [
              0.7777777777777778,
              "#fb9f3a"
             ],
             [
              0.8888888888888888,
              "#fdca26"
             ],
             [
              1,
              "#f0f921"
             ]
            ],
            "type": "contour"
           }
          ],
          "contourcarpet": [
           {
            "colorbar": {
             "outlinewidth": 0,
             "ticks": ""
            },
            "type": "contourcarpet"
           }
          ],
          "heatmap": [
           {
            "colorbar": {
             "outlinewidth": 0,
             "ticks": ""
            },
            "colorscale": [
             [
              0,
              "#0d0887"
             ],
             [
              0.1111111111111111,
              "#46039f"
             ],
             [
              0.2222222222222222,
              "#7201a8"
             ],
             [
              0.3333333333333333,
              "#9c179e"
             ],
             [
              0.4444444444444444,
              "#bd3786"
             ],
             [
              0.5555555555555556,
              "#d8576b"
             ],
             [
              0.6666666666666666,
              "#ed7953"
             ],
             [
              0.7777777777777778,
              "#fb9f3a"
             ],
             [
              0.8888888888888888,
              "#fdca26"
             ],
             [
              1,
              "#f0f921"
             ]
            ],
            "type": "heatmap"
           }
          ],
          "heatmapgl": [
           {
            "colorbar": {
             "outlinewidth": 0,
             "ticks": ""
            },
            "colorscale": [
             [
              0,
              "#0d0887"
             ],
             [
              0.1111111111111111,
              "#46039f"
             ],
             [
              0.2222222222222222,
              "#7201a8"
             ],
             [
              0.3333333333333333,
              "#9c179e"
             ],
             [
              0.4444444444444444,
              "#bd3786"
             ],
             [
              0.5555555555555556,
              "#d8576b"
             ],
             [
              0.6666666666666666,
              "#ed7953"
             ],
             [
              0.7777777777777778,
              "#fb9f3a"
             ],
             [
              0.8888888888888888,
              "#fdca26"
             ],
             [
              1,
              "#f0f921"
             ]
            ],
            "type": "heatmapgl"
           }
          ],
          "histogram": [
           {
            "marker": {
             "pattern": {
              "fillmode": "overlay",
              "size": 10,
              "solidity": 0.2
             }
            },
            "type": "histogram"
           }
          ],
          "histogram2d": [
           {
            "colorbar": {
             "outlinewidth": 0,
             "ticks": ""
            },
            "colorscale": [
             [
              0,
              "#0d0887"
             ],
             [
              0.1111111111111111,
              "#46039f"
             ],
             [
              0.2222222222222222,
              "#7201a8"
             ],
             [
              0.3333333333333333,
              "#9c179e"
             ],
             [
              0.4444444444444444,
              "#bd3786"
             ],
             [
              0.5555555555555556,
              "#d8576b"
             ],
             [
              0.6666666666666666,
              "#ed7953"
             ],
             [
              0.7777777777777778,
              "#fb9f3a"
             ],
             [
              0.8888888888888888,
              "#fdca26"
             ],
             [
              1,
              "#f0f921"
             ]
            ],
            "type": "histogram2d"
           }
          ],
          "histogram2dcontour": [
           {
            "colorbar": {
             "outlinewidth": 0,
             "ticks": ""
            },
            "colorscale": [
             [
              0,
              "#0d0887"
             ],
             [
              0.1111111111111111,
              "#46039f"
             ],
             [
              0.2222222222222222,
              "#7201a8"
             ],
             [
              0.3333333333333333,
              "#9c179e"
             ],
             [
              0.4444444444444444,
              "#bd3786"
             ],
             [
              0.5555555555555556,
              "#d8576b"
             ],
             [
              0.6666666666666666,
              "#ed7953"
             ],
             [
              0.7777777777777778,
              "#fb9f3a"
             ],
             [
              0.8888888888888888,
              "#fdca26"
             ],
             [
              1,
              "#f0f921"
             ]
            ],
            "type": "histogram2dcontour"
           }
          ],
          "mesh3d": [
           {
            "colorbar": {
             "outlinewidth": 0,
             "ticks": ""
            },
            "type": "mesh3d"
           }
          ],
          "parcoords": [
           {
            "line": {
             "colorbar": {
              "outlinewidth": 0,
              "ticks": ""
             }
            },
            "type": "parcoords"
           }
          ],
          "pie": [
           {
            "automargin": true,
            "type": "pie"
           }
          ],
          "scatter": [
           {
            "fillpattern": {
             "fillmode": "overlay",
             "size": 10,
             "solidity": 0.2
            },
            "type": "scatter"
           }
          ],
          "scatter3d": [
           {
            "line": {
             "colorbar": {
              "outlinewidth": 0,
              "ticks": ""
             }
            },
            "marker": {
             "colorbar": {
              "outlinewidth": 0,
              "ticks": ""
             }
            },
            "type": "scatter3d"
           }
          ],
          "scattercarpet": [
           {
            "marker": {
             "colorbar": {
              "outlinewidth": 0,
              "ticks": ""
             }
            },
            "type": "scattercarpet"
           }
          ],
          "scattergeo": [
           {
            "marker": {
             "colorbar": {
              "outlinewidth": 0,
              "ticks": ""
             }
            },
            "type": "scattergeo"
           }
          ],
          "scattergl": [
           {
            "marker": {
             "colorbar": {
              "outlinewidth": 0,
              "ticks": ""
             }
            },
            "type": "scattergl"
           }
          ],
          "scattermapbox": [
           {
            "marker": {
             "colorbar": {
              "outlinewidth": 0,
              "ticks": ""
             }
            },
            "type": "scattermapbox"
           }
          ],
          "scatterpolar": [
           {
            "marker": {
             "colorbar": {
              "outlinewidth": 0,
              "ticks": ""
             }
            },
            "type": "scatterpolar"
           }
          ],
          "scatterpolargl": [
           {
            "marker": {
             "colorbar": {
              "outlinewidth": 0,
              "ticks": ""
             }
            },
            "type": "scatterpolargl"
           }
          ],
          "scatterternary": [
           {
            "marker": {
             "colorbar": {
              "outlinewidth": 0,
              "ticks": ""
             }
            },
            "type": "scatterternary"
           }
          ],
          "surface": [
           {
            "colorbar": {
             "outlinewidth": 0,
             "ticks": ""
            },
            "colorscale": [
             [
              0,
              "#0d0887"
             ],
             [
              0.1111111111111111,
              "#46039f"
             ],
             [
              0.2222222222222222,
              "#7201a8"
             ],
             [
              0.3333333333333333,
              "#9c179e"
             ],
             [
              0.4444444444444444,
              "#bd3786"
             ],
             [
              0.5555555555555556,
              "#d8576b"
             ],
             [
              0.6666666666666666,
              "#ed7953"
             ],
             [
              0.7777777777777778,
              "#fb9f3a"
             ],
             [
              0.8888888888888888,
              "#fdca26"
             ],
             [
              1,
              "#f0f921"
             ]
            ],
            "type": "surface"
           }
          ],
          "table": [
           {
            "cells": {
             "fill": {
              "color": "#EBF0F8"
             },
             "line": {
              "color": "white"
             }
            },
            "header": {
             "fill": {
              "color": "#C8D4E3"
             },
             "line": {
              "color": "white"
             }
            },
            "type": "table"
           }
          ]
         },
         "layout": {
          "annotationdefaults": {
           "arrowcolor": "#2a3f5f",
           "arrowhead": 0,
           "arrowwidth": 1
          },
          "autotypenumbers": "strict",
          "coloraxis": {
           "colorbar": {
            "outlinewidth": 0,
            "ticks": ""
           }
          },
          "colorscale": {
           "diverging": [
            [
             0,
             "#8e0152"
            ],
            [
             0.1,
             "#c51b7d"
            ],
            [
             0.2,
             "#de77ae"
            ],
            [
             0.3,
             "#f1b6da"
            ],
            [
             0.4,
             "#fde0ef"
            ],
            [
             0.5,
             "#f7f7f7"
            ],
            [
             0.6,
             "#e6f5d0"
            ],
            [
             0.7,
             "#b8e186"
            ],
            [
             0.8,
             "#7fbc41"
            ],
            [
             0.9,
             "#4d9221"
            ],
            [
             1,
             "#276419"
            ]
           ],
           "sequential": [
            [
             0,
             "#0d0887"
            ],
            [
             0.1111111111111111,
             "#46039f"
            ],
            [
             0.2222222222222222,
             "#7201a8"
            ],
            [
             0.3333333333333333,
             "#9c179e"
            ],
            [
             0.4444444444444444,
             "#bd3786"
            ],
            [
             0.5555555555555556,
             "#d8576b"
            ],
            [
             0.6666666666666666,
             "#ed7953"
            ],
            [
             0.7777777777777778,
             "#fb9f3a"
            ],
            [
             0.8888888888888888,
             "#fdca26"
            ],
            [
             1,
             "#f0f921"
            ]
           ],
           "sequentialminus": [
            [
             0,
             "#0d0887"
            ],
            [
             0.1111111111111111,
             "#46039f"
            ],
            [
             0.2222222222222222,
             "#7201a8"
            ],
            [
             0.3333333333333333,
             "#9c179e"
            ],
            [
             0.4444444444444444,
             "#bd3786"
            ],
            [
             0.5555555555555556,
             "#d8576b"
            ],
            [
             0.6666666666666666,
             "#ed7953"
            ],
            [
             0.7777777777777778,
             "#fb9f3a"
            ],
            [
             0.8888888888888888,
             "#fdca26"
            ],
            [
             1,
             "#f0f921"
            ]
           ]
          },
          "colorway": [
           "#636efa",
           "#EF553B",
           "#00cc96",
           "#ab63fa",
           "#FFA15A",
           "#19d3f3",
           "#FF6692",
           "#B6E880",
           "#FF97FF",
           "#FECB52"
          ],
          "font": {
           "color": "#2a3f5f"
          },
          "geo": {
           "bgcolor": "white",
           "lakecolor": "white",
           "landcolor": "#E5ECF6",
           "showlakes": true,
           "showland": true,
           "subunitcolor": "white"
          },
          "hoverlabel": {
           "align": "left"
          },
          "hovermode": "closest",
          "mapbox": {
           "style": "light"
          },
          "paper_bgcolor": "white",
          "plot_bgcolor": "#E5ECF6",
          "polar": {
           "angularaxis": {
            "gridcolor": "white",
            "linecolor": "white",
            "ticks": ""
           },
           "bgcolor": "#E5ECF6",
           "radialaxis": {
            "gridcolor": "white",
            "linecolor": "white",
            "ticks": ""
           }
          },
          "scene": {
           "xaxis": {
            "backgroundcolor": "#E5ECF6",
            "gridcolor": "white",
            "gridwidth": 2,
            "linecolor": "white",
            "showbackground": true,
            "ticks": "",
            "zerolinecolor": "white"
           },
           "yaxis": {
            "backgroundcolor": "#E5ECF6",
            "gridcolor": "white",
            "gridwidth": 2,
            "linecolor": "white",
            "showbackground": true,
            "ticks": "",
            "zerolinecolor": "white"
           },
           "zaxis": {
            "backgroundcolor": "#E5ECF6",
            "gridcolor": "white",
            "gridwidth": 2,
            "linecolor": "white",
            "showbackground": true,
            "ticks": "",
            "zerolinecolor": "white"
           }
          },
          "shapedefaults": {
           "line": {
            "color": "#2a3f5f"
           }
          },
          "ternary": {
           "aaxis": {
            "gridcolor": "white",
            "linecolor": "white",
            "ticks": ""
           },
           "baxis": {
            "gridcolor": "white",
            "linecolor": "white",
            "ticks": ""
           },
           "bgcolor": "#E5ECF6",
           "caxis": {
            "gridcolor": "white",
            "linecolor": "white",
            "ticks": ""
           }
          },
          "title": {
           "x": 0.05
          },
          "xaxis": {
           "automargin": true,
           "gridcolor": "white",
           "linecolor": "white",
           "ticks": "",
           "title": {
            "standoff": 15
           },
           "zerolinecolor": "white",
           "zerolinewidth": 2
          },
          "yaxis": {
           "automargin": true,
           "gridcolor": "white",
           "linecolor": "white",
           "ticks": "",
           "title": {
            "standoff": 15
           },
           "zerolinecolor": "white",
           "zerolinewidth": 2
          }
         }
        },
        "title": {
         "text": "Costs per instance"
        },
        "xaxis": {
         "anchor": "y",
         "domain": [
          0,
          1
         ],
         "title": {
          "text": "PDB"
         }
        },
        "yaxis": {
         "anchor": "x",
         "domain": [
          0,
          1
         ],
         "title": {
          "text": "cost"
         },
         "type": "log"
        }
       }
      },
      "text/html": [
       "<div>                            <div id=\"c3dd87b6-4a83-4ce5-a419-b7102e869fe2\" class=\"plotly-graph-div\" style=\"height:525px; width:100%;\"></div>            <script type=\"text/javascript\">                require([\"plotly\"], function(Plotly) {                    window.PLOTLYENV=window.PLOTLYENV || {};                                    if (document.getElementById(\"c3dd87b6-4a83-4ce5-a419-b7102e869fe2\")) {                    Plotly.newPlot(                        \"c3dd87b6-4a83-4ce5-a419-b7102e869fe2\",                        [{\"alignmentgroup\":\"True\",\"hovertemplate\":\"algorithm=RX<br>PDB=%{x}<br>cost=%{text}<extra></extra>\",\"legendgroup\":\"RX\",\"marker\":{\"color\":\"#636efa\",\"pattern\":{\"shape\":\"\"}},\"name\":\"RX\",\"offsetgroup\":\"RX\",\"orientation\":\"v\",\"showlegend\":true,\"text\":[92.0,52.0,58.0],\"textposition\":\"outside\",\"x\":[\"test892\",\"test189\",\"test912\"],\"xaxis\":\"x\",\"y\":[92.0,52.0,58.0],\"yaxis\":\"y\",\"type\":\"bar\"},{\"alignmentgroup\":\"True\",\"hovertemplate\":\"algorithm=GD<br>PDB=%{x}<br>cost=%{text}<extra></extra>\",\"legendgroup\":\"GD\",\"marker\":{\"color\":\"#EF553B\",\"pattern\":{\"shape\":\"\"}},\"name\":\"GD\",\"offsetgroup\":\"GD\",\"orientation\":\"v\",\"showlegend\":true,\"text\":[136.0,158.0,116.0],\"textposition\":\"outside\",\"x\":[\"test892\",\"test189\",\"test912\"],\"xaxis\":\"x\",\"y\":[136.0,158.0,116.0],\"yaxis\":\"y\",\"type\":\"bar\"},{\"alignmentgroup\":\"True\",\"hovertemplate\":\"algorithm=SB<br>PDB=%{x}<br>cost=%{text}<extra></extra>\",\"legendgroup\":\"SB\",\"marker\":{\"color\":\"#00cc96\",\"pattern\":{\"shape\":\"\"}},\"name\":\"SB\",\"offsetgroup\":\"SB\",\"orientation\":\"v\",\"showlegend\":true,\"text\":[198.0,1040.0,138.0],\"textposition\":\"outside\",\"x\":[\"test892\",\"test189\",\"test912\"],\"xaxis\":\"x\",\"y\":[198.0,1040.0,138.0],\"yaxis\":\"y\",\"type\":\"bar\"},{\"alignmentgroup\":\"True\",\"hovertemplate\":\"algorithm=BF<br>PDB=%{x}<br>cost=%{text}<extra></extra>\",\"legendgroup\":\"BF\",\"marker\":{\"color\":\"#ab63fa\",\"pattern\":{\"shape\":\"\"}},\"name\":\"BF\",\"offsetgroup\":\"BF\",\"orientation\":\"v\",\"showlegend\":true,\"text\":[92.0,158.0,96.0],\"textposition\":\"outside\",\"x\":[\"test892\",\"test189\",\"test912\"],\"xaxis\":\"x\",\"y\":[92.0,158.0,96.0],\"yaxis\":\"y\",\"type\":\"bar\"},{\"alignmentgroup\":\"True\",\"hovertemplate\":\"algorithm=BB<br>PDB=%{x}<br>cost=%{text}<extra></extra>\",\"legendgroup\":\"BB\",\"marker\":{\"color\":\"#FFA15A\",\"pattern\":{\"shape\":\"\"}},\"name\":\"BB\",\"offsetgroup\":\"BB\",\"orientation\":\"v\",\"showlegend\":true,\"text\":[92.0,158.0,96.0],\"textposition\":\"outside\",\"x\":[\"test892\",\"test189\",\"test912\"],\"xaxis\":\"x\",\"y\":[92.0,158.0,96.0],\"yaxis\":\"y\",\"type\":\"bar\"}],                        {\"template\":{\"data\":{\"histogram2dcontour\":[{\"type\":\"histogram2dcontour\",\"colorbar\":{\"outlinewidth\":0,\"ticks\":\"\"},\"colorscale\":[[0.0,\"#0d0887\"],[0.1111111111111111,\"#46039f\"],[0.2222222222222222,\"#7201a8\"],[0.3333333333333333,\"#9c179e\"],[0.4444444444444444,\"#bd3786\"],[0.5555555555555556,\"#d8576b\"],[0.6666666666666666,\"#ed7953\"],[0.7777777777777778,\"#fb9f3a\"],[0.8888888888888888,\"#fdca26\"],[1.0,\"#f0f921\"]]}],\"choropleth\":[{\"type\":\"choropleth\",\"colorbar\":{\"outlinewidth\":0,\"ticks\":\"\"}}],\"histogram2d\":[{\"type\":\"histogram2d\",\"colorbar\":{\"outlinewidth\":0,\"ticks\":\"\"},\"colorscale\":[[0.0,\"#0d0887\"],[0.1111111111111111,\"#46039f\"],[0.2222222222222222,\"#7201a8\"],[0.3333333333333333,\"#9c179e\"],[0.4444444444444444,\"#bd3786\"],[0.5555555555555556,\"#d8576b\"],[0.6666666666666666,\"#ed7953\"],[0.7777777777777778,\"#fb9f3a\"],[0.8888888888888888,\"#fdca26\"],[1.0,\"#f0f921\"]]}],\"heatmap\":[{\"type\":\"heatmap\",\"colorbar\":{\"outlinewidth\":0,\"ticks\":\"\"},\"colorscale\":[[0.0,\"#0d0887\"],[0.1111111111111111,\"#46039f\"],[0.2222222222222222,\"#7201a8\"],[0.3333333333333333,\"#9c179e\"],[0.4444444444444444,\"#bd3786\"],[0.5555555555555556,\"#d8576b\"],[0.6666666666666666,\"#ed7953\"],[0.7777777777777778,\"#fb9f3a\"],[0.8888888888888888,\"#fdca26\"],[1.0,\"#f0f921\"]]}],\"heatmapgl\":[{\"type\":\"heatmapgl\",\"colorbar\":{\"outlinewidth\":0,\"ticks\":\"\"},\"colorscale\":[[0.0,\"#0d0887\"],[0.1111111111111111,\"#46039f\"],[0.2222222222222222,\"#7201a8\"],[0.3333333333333333,\"#9c179e\"],[0.4444444444444444,\"#bd3786\"],[0.5555555555555556,\"#d8576b\"],[0.6666666666666666,\"#ed7953\"],[0.7777777777777778,\"#fb9f3a\"],[0.8888888888888888,\"#fdca26\"],[1.0,\"#f0f921\"]]}],\"contourcarpet\":[{\"type\":\"contourcarpet\",\"colorbar\":{\"outlinewidth\":0,\"ticks\":\"\"}}],\"contour\":[{\"type\":\"contour\",\"colorbar\":{\"outlinewidth\":0,\"ticks\":\"\"},\"colorscale\":[[0.0,\"#0d0887\"],[0.1111111111111111,\"#46039f\"],[0.2222222222222222,\"#7201a8\"],[0.3333333333333333,\"#9c179e\"],[0.4444444444444444,\"#bd3786\"],[0.5555555555555556,\"#d8576b\"],[0.6666666666666666,\"#ed7953\"],[0.7777777777777778,\"#fb9f3a\"],[0.8888888888888888,\"#fdca26\"],[1.0,\"#f0f921\"]]}],\"surface\":[{\"type\":\"surface\",\"colorbar\":{\"outlinewidth\":0,\"ticks\":\"\"},\"colorscale\":[[0.0,\"#0d0887\"],[0.1111111111111111,\"#46039f\"],[0.2222222222222222,\"#7201a8\"],[0.3333333333333333,\"#9c179e\"],[0.4444444444444444,\"#bd3786\"],[0.5555555555555556,\"#d8576b\"],[0.6666666666666666,\"#ed7953\"],[0.7777777777777778,\"#fb9f3a\"],[0.8888888888888888,\"#fdca26\"],[1.0,\"#f0f921\"]]}],\"mesh3d\":[{\"type\":\"mesh3d\",\"colorbar\":{\"outlinewidth\":0,\"ticks\":\"\"}}],\"scatter\":[{\"fillpattern\":{\"fillmode\":\"overlay\",\"size\":10,\"solidity\":0.2},\"type\":\"scatter\"}],\"parcoords\":[{\"type\":\"parcoords\",\"line\":{\"colorbar\":{\"outlinewidth\":0,\"ticks\":\"\"}}}],\"scatterpolargl\":[{\"type\":\"scatterpolargl\",\"marker\":{\"colorbar\":{\"outlinewidth\":0,\"ticks\":\"\"}}}],\"bar\":[{\"error_x\":{\"color\":\"#2a3f5f\"},\"error_y\":{\"color\":\"#2a3f5f\"},\"marker\":{\"line\":{\"color\":\"#E5ECF6\",\"width\":0.5},\"pattern\":{\"fillmode\":\"overlay\",\"size\":10,\"solidity\":0.2}},\"type\":\"bar\"}],\"scattergeo\":[{\"type\":\"scattergeo\",\"marker\":{\"colorbar\":{\"outlinewidth\":0,\"ticks\":\"\"}}}],\"scatterpolar\":[{\"type\":\"scatterpolar\",\"marker\":{\"colorbar\":{\"outlinewidth\":0,\"ticks\":\"\"}}}],\"histogram\":[{\"marker\":{\"pattern\":{\"fillmode\":\"overlay\",\"size\":10,\"solidity\":0.2}},\"type\":\"histogram\"}],\"scattergl\":[{\"type\":\"scattergl\",\"marker\":{\"colorbar\":{\"outlinewidth\":0,\"ticks\":\"\"}}}],\"scatter3d\":[{\"type\":\"scatter3d\",\"line\":{\"colorbar\":{\"outlinewidth\":0,\"ticks\":\"\"}},\"marker\":{\"colorbar\":{\"outlinewidth\":0,\"ticks\":\"\"}}}],\"scattermapbox\":[{\"type\":\"scattermapbox\",\"marker\":{\"colorbar\":{\"outlinewidth\":0,\"ticks\":\"\"}}}],\"scatterternary\":[{\"type\":\"scatterternary\",\"marker\":{\"colorbar\":{\"outlinewidth\":0,\"ticks\":\"\"}}}],\"scattercarpet\":[{\"type\":\"scattercarpet\",\"marker\":{\"colorbar\":{\"outlinewidth\":0,\"ticks\":\"\"}}}],\"carpet\":[{\"aaxis\":{\"endlinecolor\":\"#2a3f5f\",\"gridcolor\":\"white\",\"linecolor\":\"white\",\"minorgridcolor\":\"white\",\"startlinecolor\":\"#2a3f5f\"},\"baxis\":{\"endlinecolor\":\"#2a3f5f\",\"gridcolor\":\"white\",\"linecolor\":\"white\",\"minorgridcolor\":\"white\",\"startlinecolor\":\"#2a3f5f\"},\"type\":\"carpet\"}],\"table\":[{\"cells\":{\"fill\":{\"color\":\"#EBF0F8\"},\"line\":{\"color\":\"white\"}},\"header\":{\"fill\":{\"color\":\"#C8D4E3\"},\"line\":{\"color\":\"white\"}},\"type\":\"table\"}],\"barpolar\":[{\"marker\":{\"line\":{\"color\":\"#E5ECF6\",\"width\":0.5},\"pattern\":{\"fillmode\":\"overlay\",\"size\":10,\"solidity\":0.2}},\"type\":\"barpolar\"}],\"pie\":[{\"automargin\":true,\"type\":\"pie\"}]},\"layout\":{\"autotypenumbers\":\"strict\",\"colorway\":[\"#636efa\",\"#EF553B\",\"#00cc96\",\"#ab63fa\",\"#FFA15A\",\"#19d3f3\",\"#FF6692\",\"#B6E880\",\"#FF97FF\",\"#FECB52\"],\"font\":{\"color\":\"#2a3f5f\"},\"hovermode\":\"closest\",\"hoverlabel\":{\"align\":\"left\"},\"paper_bgcolor\":\"white\",\"plot_bgcolor\":\"#E5ECF6\",\"polar\":{\"bgcolor\":\"#E5ECF6\",\"angularaxis\":{\"gridcolor\":\"white\",\"linecolor\":\"white\",\"ticks\":\"\"},\"radialaxis\":{\"gridcolor\":\"white\",\"linecolor\":\"white\",\"ticks\":\"\"}},\"ternary\":{\"bgcolor\":\"#E5ECF6\",\"aaxis\":{\"gridcolor\":\"white\",\"linecolor\":\"white\",\"ticks\":\"\"},\"baxis\":{\"gridcolor\":\"white\",\"linecolor\":\"white\",\"ticks\":\"\"},\"caxis\":{\"gridcolor\":\"white\",\"linecolor\":\"white\",\"ticks\":\"\"}},\"coloraxis\":{\"colorbar\":{\"outlinewidth\":0,\"ticks\":\"\"}},\"colorscale\":{\"sequential\":[[0.0,\"#0d0887\"],[0.1111111111111111,\"#46039f\"],[0.2222222222222222,\"#7201a8\"],[0.3333333333333333,\"#9c179e\"],[0.4444444444444444,\"#bd3786\"],[0.5555555555555556,\"#d8576b\"],[0.6666666666666666,\"#ed7953\"],[0.7777777777777778,\"#fb9f3a\"],[0.8888888888888888,\"#fdca26\"],[1.0,\"#f0f921\"]],\"sequentialminus\":[[0.0,\"#0d0887\"],[0.1111111111111111,\"#46039f\"],[0.2222222222222222,\"#7201a8\"],[0.3333333333333333,\"#9c179e\"],[0.4444444444444444,\"#bd3786\"],[0.5555555555555556,\"#d8576b\"],[0.6666666666666666,\"#ed7953\"],[0.7777777777777778,\"#fb9f3a\"],[0.8888888888888888,\"#fdca26\"],[1.0,\"#f0f921\"]],\"diverging\":[[0,\"#8e0152\"],[0.1,\"#c51b7d\"],[0.2,\"#de77ae\"],[0.3,\"#f1b6da\"],[0.4,\"#fde0ef\"],[0.5,\"#f7f7f7\"],[0.6,\"#e6f5d0\"],[0.7,\"#b8e186\"],[0.8,\"#7fbc41\"],[0.9,\"#4d9221\"],[1,\"#276419\"]]},\"xaxis\":{\"gridcolor\":\"white\",\"linecolor\":\"white\",\"ticks\":\"\",\"title\":{\"standoff\":15},\"zerolinecolor\":\"white\",\"automargin\":true,\"zerolinewidth\":2},\"yaxis\":{\"gridcolor\":\"white\",\"linecolor\":\"white\",\"ticks\":\"\",\"title\":{\"standoff\":15},\"zerolinecolor\":\"white\",\"automargin\":true,\"zerolinewidth\":2},\"scene\":{\"xaxis\":{\"backgroundcolor\":\"#E5ECF6\",\"gridcolor\":\"white\",\"linecolor\":\"white\",\"showbackground\":true,\"ticks\":\"\",\"zerolinecolor\":\"white\",\"gridwidth\":2},\"yaxis\":{\"backgroundcolor\":\"#E5ECF6\",\"gridcolor\":\"white\",\"linecolor\":\"white\",\"showbackground\":true,\"ticks\":\"\",\"zerolinecolor\":\"white\",\"gridwidth\":2},\"zaxis\":{\"backgroundcolor\":\"#E5ECF6\",\"gridcolor\":\"white\",\"linecolor\":\"white\",\"showbackground\":true,\"ticks\":\"\",\"zerolinecolor\":\"white\",\"gridwidth\":2}},\"shapedefaults\":{\"line\":{\"color\":\"#2a3f5f\"}},\"annotationdefaults\":{\"arrowcolor\":\"#2a3f5f\",\"arrowhead\":0,\"arrowwidth\":1},\"geo\":{\"bgcolor\":\"white\",\"landcolor\":\"#E5ECF6\",\"subunitcolor\":\"white\",\"showland\":true,\"showlakes\":true,\"lakecolor\":\"white\"},\"title\":{\"x\":0.05},\"mapbox\":{\"style\":\"light\"}}},\"xaxis\":{\"anchor\":\"y\",\"domain\":[0.0,1.0],\"title\":{\"text\":\"PDB\"}},\"yaxis\":{\"anchor\":\"x\",\"domain\":[0.0,1.0],\"title\":{\"text\":\"cost\"},\"type\":\"log\"},\"legend\":{\"title\":{\"text\":\"algorithm\"},\"tracegroupgap\":0},\"title\":{\"text\":\"Costs per instance\"},\"barmode\":\"group\"},                        {\"responsive\": true}                    ).then(function(){\n",
       "                            \n",
       "var gd = document.getElementById('c3dd87b6-4a83-4ce5-a419-b7102e869fe2');\n",
       "var x = new MutationObserver(function (mutations, observer) {{\n",
       "        var display = window.getComputedStyle(gd).display;\n",
       "        if (!display || display === 'none') {{\n",
       "            console.log([gd, 'removed!']);\n",
       "            Plotly.purge(gd);\n",
       "            observer.disconnect();\n",
       "        }}\n",
       "}});\n",
       "\n",
       "// Listen for the removal of the full notebook cells\n",
       "var notebookContainer = gd.closest('#notebook-container');\n",
       "if (notebookContainer) {{\n",
       "    x.observe(notebookContainer, {childList: true});\n",
       "}}\n",
       "\n",
       "// Listen for the clearing of the current output cell\n",
       "var outputEl = gd.closest('.output');\n",
       "if (outputEl) {{\n",
       "    x.observe(outputEl, {childList: true});\n",
       "}}\n",
       "\n",
       "                        })                };                });            </script>        </div>"
      ]
     },
     "metadata": {},
     "output_type": "display_data"
    }
   ],
   "source": [
    "dfA = {'PDB':[],'cost':[], 'algorithm':[]}\n",
    "for i, row in df.iterrows():\n",
    "    for c in df.columns:\n",
    "        if c in ['PDB','|V|','|E|','|S|']:\n",
    "            continue\n",
    "        dfA['PDB'].append(row['PDB'])\n",
    "        dfA['cost'].append(row[c])\n",
    "        dfA['algorithm'].append(c)\n",
    "dfA = pd.DataFrame(dfA)\n",
    "# remove solver\n",
    "dfA = dfA[dfA['algorithm']!='solver']\n",
    "# remove nan\n",
    "dfA = dfA[~dfA['cost'].isna()]\n",
    "# remove duplicates\n",
    "dfA = dfA.drop_duplicates(subset=['PDB','algorithm'])\n",
    "# show\n",
    "fig = px.bar(dfA, x='PDB', y='cost', color='algorithm', title='Costs per instance', barmode='group', log_y=True, text='cost')\n",
    "fig.update_traces(textposition='outside') # set text position\n",
    "fig.show()\n"
   ]
  },
  {
   "cell_type": "code",
   "execution_count": 200,
   "metadata": {},
   "outputs": [
    {
     "name": "stdout",
     "output_type": "stream",
     "text": [
      "prune edges: [(1, 13), (5, 17), (7, 16), (7, 19), (14, 20)]\n",
      "data/nmr_spec/test189_chain_A_dmax_5.nmr\n"
     ]
    },
    {
     "data": {
      "image/png": "[encoded data removed]",
      "text/plain": [
       "<Figure size 640x480 with 1 Axes>"
      ]
     },
     "metadata": {},
     "output_type": "display_data"
    },
    {
     "name": "stdout",
     "output_type": "stream",
     "text": [
      "prune edges: [(2, 10), (4, 17), (8, 20), (14, 19), (16, 20)]\n",
      "data/nmr_spec/test892_chain_A_dmax_5.nmr\n"
     ]
    },
    {
     "data": {
      "image/png": "[encoded data removed]",
      "text/plain": [
       "<Figure size 640x480 with 1 Axes>"
      ]
     },
     "metadata": {},
     "output_type": "display_data"
    },
    {
     "name": "stdout",
     "output_type": "stream",
     "text": [
      "prune edges: [(1, 11), (3, 17), (6, 10), (6, 18), (14, 20)]\n",
      "data/nmr_spec/test912_chain_A_dmax_5.nmr\n"
     ]
    },
    {
     "data": {
      "image/png": "[encoded data removed]",
      "text/plain": [
       "<Figure size 640x480 with 1 Axes>"
      ]
     },
     "metadata": {},
     "output_type": "display_data"
    }
   ],
   "source": [
    "def plot_graph(G, fnmr, savefig=False):\n",
    "    print(fnmr)\n",
    "    pos = nx.spring_layout(G)    \n",
    "    node_color = ['y' if ':' in node else 'r' for node in G.nodes()]\n",
    "    node_size = [800 if ':' in node else 300 for node in G.nodes()]\n",
    "    nx.draw_networkx_nodes(G, pos, \n",
    "        node_size=node_size, \n",
    "        node_shape='o', \n",
    "        node_color=node_color)\n",
    "    nx.draw_networkx_labels(G, pos, font_color='k', font_size=8)\n",
    "    nx.draw_networkx_edges(G, pos)\n",
    "    if savefig:\n",
    "        plt.savefig(fnmr.replace('.nmr', '.pdf'), format='pdf')\n",
    "    plt.show()\n",
    "\n",
    "# plot graphs\n",
    "for fn in sorted(os.listdir(nmr_folder)):\n",
    "    if not fn.endswith('.nmr'):\n",
    "        continue\n",
    "    fn = os.path.join(nmr_folder, fn)\n",
    "    nmr = NMR(fn)\n",
    "    E, S = nmr.E, nmr.S # edges and segments\n",
    "    G = nmr.ordering_graph # ordering graph\n",
    "    print('prune edges:', [(e.i, e.j) for e in nmr.pruneEdges])\n",
    "    plot_graph(G, fn, True)"
   ]
  },
  {
   "attachments": {},
   "cell_type": "markdown",
   "metadata": {},
   "source": [
    "## Results: data/nmr"
   ]
  },
  {
   "cell_type": "code",
   "execution_count": 35,
   "metadata": {},
   "outputs": [
    {
     "name": "stdout",
     "output_type": "stream",
     "text": [
      "Parameters:\n",
      "   wdir = data/nmr/\n",
      "\n",
      "Getting log files from wdir=data/nmr/\n",
      "Saving results to data/nmr/results.csv\n",
      "tmax:  [3600]\n",
      "DMAX:  ['4' '5' '6' '7']\n",
      "timeoutBF:  [ 1. nan]\n",
      "timeoutBB:  [nan  0.  1.]\n"
     ]
    },
    {
     "data": {
      "text/html": [
       "<div>\n",
       "<style scoped>\n",
       "    .dataframe tbody tr th:only-of-type {\n",
       "        vertical-align: middle;\n",
       "    }\n",
       "\n",
       "    .dataframe tbody tr th {\n",
       "        vertical-align: top;\n",
       "    }\n",
       "\n",
       "    .dataframe thead th {\n",
       "        text-align: right;\n",
       "    }\n",
       "</style>\n",
       "<table border=\"1\" class=\"dataframe\">\n",
       "  <thead>\n",
       "    <tr style=\"text-align: right;\">\n",
       "      <th></th>\n",
       "      <th>PDB</th>\n",
       "      <th>DMAX</th>\n",
       "      <th>|V|</th>\n",
       "      <th>|E|</th>\n",
       "      <th>|S|</th>\n",
       "      <th>costRX</th>\n",
       "      <th>costGD</th>\n",
       "      <th>costSB</th>\n",
       "      <th>costBB</th>\n",
       "      <th>timeBB</th>\n",
       "      <th>timeoutBB</th>\n",
       "    </tr>\n",
       "  </thead>\n",
       "  <tbody>\n",
       "    <tr>\n",
       "      <th>123</th>\n",
       "      <td>1n6t</td>\n",
       "      <td>4</td>\n",
       "      <td>30</td>\n",
       "      <td>16</td>\n",
       "      <td>14</td>\n",
       "      <td>44.0</td>\n",
       "      <td>44.0</td>\n",
       "      <td>44.0</td>\n",
       "      <td>44.0</td>\n",
       "      <td>0.0</td>\n",
       "      <td>0.0</td>\n",
       "    </tr>\n",
       "    <tr>\n",
       "      <th>73</th>\n",
       "      <td>1fw5</td>\n",
       "      <td>4</td>\n",
       "      <td>60</td>\n",
       "      <td>48</td>\n",
       "      <td>39</td>\n",
       "      <td>104.0</td>\n",
       "      <td>104.0</td>\n",
       "      <td>104.0</td>\n",
       "      <td>104.0</td>\n",
       "      <td>0.0</td>\n",
       "      <td>0.0</td>\n",
       "    </tr>\n",
       "    <tr>\n",
       "      <th>44</th>\n",
       "      <td>1adx</td>\n",
       "      <td>4</td>\n",
       "      <td>120</td>\n",
       "      <td>36</td>\n",
       "      <td>50</td>\n",
       "      <td>1342.0</td>\n",
       "      <td>590446.0</td>\n",
       "      <td>2163816.0</td>\n",
       "      <td>2163306.0</td>\n",
       "      <td>3601.0</td>\n",
       "      <td>1.0</td>\n",
       "    </tr>\n",
       "    <tr>\n",
       "      <th>119</th>\n",
       "      <td>1bdo</td>\n",
       "      <td>4</td>\n",
       "      <td>240</td>\n",
       "      <td>56</td>\n",
       "      <td>97</td>\n",
       "      <td>2824.0</td>\n",
       "      <td>536948576.0</td>\n",
       "      <td>66998.0</td>\n",
       "      <td>66998.0</td>\n",
       "      <td>3601.0</td>\n",
       "      <td>1.0</td>\n",
       "    </tr>\n",
       "    <tr>\n",
       "      <th>91</th>\n",
       "      <td>1all</td>\n",
       "      <td>4</td>\n",
       "      <td>480</td>\n",
       "      <td>284</td>\n",
       "      <td>269</td>\n",
       "      <td>864.0</td>\n",
       "      <td>1342.0</td>\n",
       "      <td>1342.0</td>\n",
       "      <td>1342.0</td>\n",
       "      <td>3601.0</td>\n",
       "      <td>1.0</td>\n",
       "    </tr>\n",
       "  </tbody>\n",
       "</table>\n",
       "</div>"
      ],
      "text/plain": [
       "      PDB DMAX  |V|  |E|  |S|  costRX       costGD     costSB     costBB   \n",
       "123  1n6t    4   30   16   14    44.0         44.0       44.0       44.0  \\\n",
       "73   1fw5    4   60   48   39   104.0        104.0      104.0      104.0   \n",
       "44   1adx    4  120   36   50  1342.0     590446.0  2163816.0  2163306.0   \n",
       "119  1bdo    4  240   56   97  2824.0  536948576.0    66998.0    66998.0   \n",
       "91   1all    4  480  284  269   864.0       1342.0     1342.0     1342.0   \n",
       "\n",
       "     timeBB  timeoutBB  \n",
       "123     0.0        0.0  \n",
       "73      0.0        0.0  \n",
       "44   3601.0        1.0  \n",
       "119  3601.0        1.0  \n",
       "91   3601.0        1.0  "
      ]
     },
     "execution_count": 35,
     "metadata": {},
     "output_type": "execute_result"
    }
   ],
   "source": [
    "nmr_folder = 'data/nmr/'\n",
    "\n",
    "# run read_results.py\n",
    "os.system('python read_results.py -wdir ' + nmr_folder)\n",
    "\n",
    "df = pd.read_csv(os.path.join(nmr_folder, 'results.csv'))\n",
    "\n",
    "# extract DMAX and PDB ID from fnmr\n",
    "df['PDB'] = df['fnmr'].apply(lambda x: x.split('/')[-1].split('_')[0].replace('.nmr', ''))\n",
    "df['DMAX'] = df['fnmr'].apply(lambda x: x.split('_')[-1].replace('.nmr',''))\n",
    "\n",
    "print('tmax: ', df['tmax'].unique())\n",
    "print('DMAX: ', df['DMAX'].unique())\n",
    "print('timeoutBF: ', df['timeoutBF'].unique())\n",
    "print('timeoutBB: ', df['timeoutBB'].unique())\n",
    "\n",
    "# drop rows with solver=='BF', because BF got timeout and we don't have the cost\n",
    "df = df[df['solver'] != 'BF']\n",
    "\n",
    "# drop unnecessary columns\n",
    "cols = ['fnmr', 'clean_log', 'verbose', 'dump', 'tmax', 'timeBF', 'costBF','timeoutBF','timeGD','timeSB','solver']\n",
    "df.drop(columns=cols, inplace=True)\n",
    "\n",
    "# # set column order\n",
    "cols = [\n",
    "    'PDB', 'DMAX', \n",
    "    '|V|', '|E|', '|S|',\n",
    "    'costRX', 'costGD', 'costSB', 'costBB', \n",
    "    'timeBB',  'timeoutBB',\n",
    "]\n",
    "df = df[cols]\n",
    "\n",
    "# sort by DMAX and nnodes\n",
    "df = df.sort_values(by=['DMAX', '|V|'])\n",
    "\n",
    "df.head()"
   ]
  },
  {
   "cell_type": "code",
   "execution_count": 38,
   "metadata": {},
   "outputs": [
    {
     "name": "stdout",
     "output_type": "stream",
     "text": [
      "Global Parameters:\n",
      "   - Number of PDB: 17\n",
      "   - DMAX: ['4' '5' '6' '7']\n",
      "   - (Min, Max) numbers of rows per PDB: (4, 4)\n"
     ]
    }
   ],
   "source": [
    "dfA = df[['PDB','DMAX']].groupby(['PDB']).count().reset_index()\n",
    "dfA_min = dfA['DMAX'].min()\n",
    "dfA_max = dfA['DMAX'].max()\n",
    "DMAX = df['DMAX'].unique()\n",
    "print('Global Parameters:')\n",
    "print(f'   - Number of PDB: {len(dfA)}')\n",
    "print(f'   - DMAX: {df[\"DMAX\"].unique()}')\n",
    "print(f'   - (Min, Max) numbers of rows per PDB: {dfA_min, dfA_max}')"
   ]
  },
  {
   "cell_type": "code",
   "execution_count": 39,
   "metadata": {},
   "outputs": [
    {
     "data": {
      "text/plain": [
       "Index(['PDB', '|V|', '|E_4|', '|S_4|', 'costRX_4', 'costGD_4', 'costSB_4',\n",
       "       'costBB_4', 'timeBB_4', 'timeoutBB_4', '|E_5|', '|S_5|', 'costRX_5',\n",
       "       'costGD_5', 'costSB_5', 'costBB_5', 'timeBB_5', 'timeoutBB_5', '|E_6|',\n",
       "       '|S_6|', 'costRX_6', 'costGD_6', 'costSB_6', 'costBB_6', 'timeBB_6',\n",
       "       'timeoutBB_6', '|E_7|', '|S_7|', 'costRX_7', 'costGD_7', 'costSB_7',\n",
       "       'costBB_7', 'timeBB_7', 'timeoutBB_7'],\n",
       "      dtype='object')"
      ]
     },
     "execution_count": 39,
     "metadata": {},
     "output_type": "execute_result"
    }
   ],
   "source": [
    "# Group by DMAX\n",
    "dfA = df.copy()\n",
    "df_DMAX = {}\n",
    "for k, dmax in enumerate(DMAX):\n",
    "    dfB = dfA[dfA['DMAX'] == dmax].copy()\n",
    "    df_DMAX[dmax] = dfB\n",
    "    # remove unwanted columns\n",
    "    if k > 0:\n",
    "        df_DMAX[dmax].drop(columns=['|V|'], inplace=True)\n",
    "    df_DMAX[dmax].drop(columns=['DMAX'], inplace=True)\n",
    "    # rename columns\n",
    "    cols = {col:f'{col}_{dmax}' for col in dfB.columns if col not in ['PDB','|V|']}\n",
    "    for col, colname in cols.items():\n",
    "        if '|_' in colname:\n",
    "            cols[col] = f'{col[:-1]}_{dmax}|'\n",
    "    df_DMAX[dmax].rename(columns=cols, inplace=True)\n",
    "# merge all dataframes\n",
    "dfB = df_DMAX[min(df_DMAX)]\n",
    "for dmax in df_DMAX:\n",
    "    if dmax == min(df_DMAX):\n",
    "        continue\n",
    "    dfB = pd.merge(dfB, df_DMAX[dmax], on=['PDB'])\n",
    "df_DMAX = dfB\n",
    "# change columns order\n",
    "cols = list(dfB.columns)\n",
    "\n",
    "# display\n",
    "df_DMAX.columns"
   ]
  },
  {
   "cell_type": "code",
   "execution_count": 40,
   "metadata": {},
   "outputs": [
    {
     "data": {
      "text/html": [
       "<div>\n",
       "<style scoped>\n",
       "    .dataframe tbody tr th:only-of-type {\n",
       "        vertical-align: middle;\n",
       "    }\n",
       "\n",
       "    .dataframe tbody tr th {\n",
       "        vertical-align: top;\n",
       "    }\n",
       "\n",
       "    .dataframe thead th {\n",
       "        text-align: right;\n",
       "    }\n",
       "</style>\n",
       "<table border=\"1\" class=\"dataframe\">\n",
       "  <thead>\n",
       "    <tr style=\"text-align: right;\">\n",
       "      <th></th>\n",
       "      <th>PDB</th>\n",
       "      <th>|V|</th>\n",
       "      <th>|E_4|</th>\n",
       "      <th>|E_5|</th>\n",
       "      <th>|E_6|</th>\n",
       "      <th>|E_7|</th>\n",
       "      <th>|S_4|</th>\n",
       "      <th>|S_5|</th>\n",
       "      <th>|S_6|</th>\n",
       "      <th>|S_7|</th>\n",
       "    </tr>\n",
       "  </thead>\n",
       "  <tbody>\n",
       "    <tr>\n",
       "      <th>0</th>\n",
       "      <td>1n6t</td>\n",
       "      <td>30</td>\n",
       "      <td>16</td>\n",
       "      <td>92</td>\n",
       "      <td>152</td>\n",
       "      <td>175</td>\n",
       "      <td>14</td>\n",
       "      <td>27</td>\n",
       "      <td>27</td>\n",
       "      <td>27</td>\n",
       "    </tr>\n",
       "    <tr>\n",
       "      <th>1</th>\n",
       "      <td>1fw5</td>\n",
       "      <td>60</td>\n",
       "      <td>48</td>\n",
       "      <td>243</td>\n",
       "      <td>384</td>\n",
       "      <td>463</td>\n",
       "      <td>39</td>\n",
       "      <td>57</td>\n",
       "      <td>57</td>\n",
       "      <td>57</td>\n",
       "    </tr>\n",
       "    <tr>\n",
       "      <th>2</th>\n",
       "      <td>1adx</td>\n",
       "      <td>120</td>\n",
       "      <td>36</td>\n",
       "      <td>305</td>\n",
       "      <td>654</td>\n",
       "      <td>1032</td>\n",
       "      <td>50</td>\n",
       "      <td>117</td>\n",
       "      <td>117</td>\n",
       "      <td>117</td>\n",
       "    </tr>\n",
       "    <tr>\n",
       "      <th>3</th>\n",
       "      <td>1bdo</td>\n",
       "      <td>240</td>\n",
       "      <td>56</td>\n",
       "      <td>625</td>\n",
       "      <td>1437</td>\n",
       "      <td>2168</td>\n",
       "      <td>97</td>\n",
       "      <td>237</td>\n",
       "      <td>237</td>\n",
       "      <td>237</td>\n",
       "    </tr>\n",
       "    <tr>\n",
       "      <th>4</th>\n",
       "      <td>1all</td>\n",
       "      <td>480</td>\n",
       "      <td>284</td>\n",
       "      <td>2009</td>\n",
       "      <td>3498</td>\n",
       "      <td>4542</td>\n",
       "      <td>269</td>\n",
       "      <td>477</td>\n",
       "      <td>477</td>\n",
       "      <td>477</td>\n",
       "    </tr>\n",
       "    <tr>\n",
       "      <th>5</th>\n",
       "      <td>6s61</td>\n",
       "      <td>516</td>\n",
       "      <td>275</td>\n",
       "      <td>2042</td>\n",
       "      <td>3606</td>\n",
       "      <td>4811</td>\n",
       "      <td>273</td>\n",
       "      <td>513</td>\n",
       "      <td>513</td>\n",
       "      <td>513</td>\n",
       "    </tr>\n",
       "    <tr>\n",
       "      <th>6</th>\n",
       "      <td>1fhl</td>\n",
       "      <td>1002</td>\n",
       "      <td>435</td>\n",
       "      <td>3378</td>\n",
       "      <td>6811</td>\n",
       "      <td>10086</td>\n",
       "      <td>540</td>\n",
       "      <td>999</td>\n",
       "      <td>999</td>\n",
       "      <td>999</td>\n",
       "    </tr>\n",
       "    <tr>\n",
       "      <th>7</th>\n",
       "      <td>4wua</td>\n",
       "      <td>1032</td>\n",
       "      <td>447</td>\n",
       "      <td>3402</td>\n",
       "      <td>6612</td>\n",
       "      <td>9494</td>\n",
       "      <td>538</td>\n",
       "      <td>1027</td>\n",
       "      <td>1028</td>\n",
       "      <td>1029</td>\n",
       "    </tr>\n",
       "    <tr>\n",
       "      <th>8</th>\n",
       "      <td>6czf</td>\n",
       "      <td>1494</td>\n",
       "      <td>552</td>\n",
       "      <td>4747</td>\n",
       "      <td>9687</td>\n",
       "      <td>14389</td>\n",
       "      <td>697</td>\n",
       "      <td>1491</td>\n",
       "      <td>1491</td>\n",
       "      <td>1491</td>\n",
       "    </tr>\n",
       "    <tr>\n",
       "      <th>9</th>\n",
       "      <td>5ijn</td>\n",
       "      <td>1950</td>\n",
       "      <td>761</td>\n",
       "      <td>6137</td>\n",
       "      <td>12422</td>\n",
       "      <td>18171</td>\n",
       "      <td>917</td>\n",
       "      <td>1941</td>\n",
       "      <td>1944</td>\n",
       "      <td>1945</td>\n",
       "    </tr>\n",
       "    <tr>\n",
       "      <th>10</th>\n",
       "      <td>6rn2</td>\n",
       "      <td>2052</td>\n",
       "      <td>1076</td>\n",
       "      <td>7560</td>\n",
       "      <td>13769</td>\n",
       "      <td>18648</td>\n",
       "      <td>1111</td>\n",
       "      <td>2045</td>\n",
       "      <td>2046</td>\n",
       "      <td>2047</td>\n",
       "    </tr>\n",
       "    <tr>\n",
       "      <th>11</th>\n",
       "      <td>6bco</td>\n",
       "      <td>2856</td>\n",
       "      <td>1259</td>\n",
       "      <td>10042</td>\n",
       "      <td>18528</td>\n",
       "      <td>25374</td>\n",
       "      <td>1420</td>\n",
       "      <td>2839</td>\n",
       "      <td>2842</td>\n",
       "      <td>2844</td>\n",
       "    </tr>\n",
       "    <tr>\n",
       "      <th>12</th>\n",
       "      <td>1epw</td>\n",
       "      <td>3861</td>\n",
       "      <td>1382</td>\n",
       "      <td>11614</td>\n",
       "      <td>23451</td>\n",
       "      <td>34880</td>\n",
       "      <td>1788</td>\n",
       "      <td>3857</td>\n",
       "      <td>3858</td>\n",
       "      <td>3858</td>\n",
       "    </tr>\n",
       "    <tr>\n",
       "      <th>13</th>\n",
       "      <td>5np0</td>\n",
       "      <td>7584</td>\n",
       "      <td>8662</td>\n",
       "      <td>36732</td>\n",
       "      <td>57591</td>\n",
       "      <td>77520</td>\n",
       "      <td>5600</td>\n",
       "      <td>7536</td>\n",
       "      <td>7550</td>\n",
       "      <td>7562</td>\n",
       "    </tr>\n",
       "    <tr>\n",
       "      <th>14</th>\n",
       "      <td>5nug</td>\n",
       "      <td>8760</td>\n",
       "      <td>3888</td>\n",
       "      <td>30705</td>\n",
       "      <td>56443</td>\n",
       "      <td>78595</td>\n",
       "      <td>4725</td>\n",
       "      <td>8738</td>\n",
       "      <td>8739</td>\n",
       "      <td>8744</td>\n",
       "    </tr>\n",
       "    <tr>\n",
       "      <th>15</th>\n",
       "      <td>4rh7</td>\n",
       "      <td>9015</td>\n",
       "      <td>4658</td>\n",
       "      <td>32307</td>\n",
       "      <td>58792</td>\n",
       "      <td>80711</td>\n",
       "      <td>5137</td>\n",
       "      <td>9004</td>\n",
       "      <td>9004</td>\n",
       "      <td>9004</td>\n",
       "    </tr>\n",
       "    <tr>\n",
       "      <th>16</th>\n",
       "      <td>3vkh</td>\n",
       "      <td>9126</td>\n",
       "      <td>4317</td>\n",
       "      <td>32220</td>\n",
       "      <td>60249</td>\n",
       "      <td>83354</td>\n",
       "      <td>5134</td>\n",
       "      <td>9097</td>\n",
       "      <td>9101</td>\n",
       "      <td>9111</td>\n",
       "    </tr>\n",
       "  </tbody>\n",
       "</table>\n",
       "</div>"
      ],
      "text/plain": [
       "     PDB   |V|  |E_4|  |E_5|  |E_6|  |E_7|  |S_4|  |S_5|  |S_6|  |S_7|\n",
       "0   1n6t    30     16     92    152    175     14     27     27     27\n",
       "1   1fw5    60     48    243    384    463     39     57     57     57\n",
       "2   1adx   120     36    305    654   1032     50    117    117    117\n",
       "3   1bdo   240     56    625   1437   2168     97    237    237    237\n",
       "4   1all   480    284   2009   3498   4542    269    477    477    477\n",
       "5   6s61   516    275   2042   3606   4811    273    513    513    513\n",
       "6   1fhl  1002    435   3378   6811  10086    540    999    999    999\n",
       "7   4wua  1032    447   3402   6612   9494    538   1027   1028   1029\n",
       "8   6czf  1494    552   4747   9687  14389    697   1491   1491   1491\n",
       "9   5ijn  1950    761   6137  12422  18171    917   1941   1944   1945\n",
       "10  6rn2  2052   1076   7560  13769  18648   1111   2045   2046   2047\n",
       "11  6bco  2856   1259  10042  18528  25374   1420   2839   2842   2844\n",
       "12  1epw  3861   1382  11614  23451  34880   1788   3857   3858   3858\n",
       "13  5np0  7584   8662  36732  57591  77520   5600   7536   7550   7562\n",
       "14  5nug  8760   3888  30705  56443  78595   4725   8738   8739   8744\n",
       "15  4rh7  9015   4658  32307  58792  80711   5137   9004   9004   9004\n",
       "16  3vkh  9126   4317  32220  60249  83354   5134   9097   9101   9111"
      ]
     },
     "execution_count": 40,
     "metadata": {},
     "output_type": "execute_result"
    }
   ],
   "source": [
    "# table of number of vertices, edges and segments for each PDB\n",
    "cols = ['PDB', '|V|']\n",
    "cols += sorted([c for c in df_DMAX.columns if ('|' in c) and ('_') in c])\n",
    "df_DMAX[cols]\n"
   ]
  },
  {
   "cell_type": "code",
   "execution_count": 54,
   "metadata": {},
   "outputs": [
    {
     "name": "stdout",
     "output_type": "stream",
     "text": [
      "Cost for DMAX=4\n"
     ]
    },
    {
     "data": {
      "text/html": [
       "<div>\n",
       "<style scoped>\n",
       "    .dataframe tbody tr th:only-of-type {\n",
       "        vertical-align: middle;\n",
       "    }\n",
       "\n",
       "    .dataframe tbody tr th {\n",
       "        vertical-align: top;\n",
       "    }\n",
       "\n",
       "    .dataframe thead th {\n",
       "        text-align: right;\n",
       "    }\n",
       "</style>\n",
       "<table border=\"1\" class=\"dataframe\">\n",
       "  <thead>\n",
       "    <tr style=\"text-align: right;\">\n",
       "      <th></th>\n",
       "      <th>PDB</th>\n",
       "      <th>RX</th>\n",
       "      <th>GD</th>\n",
       "      <th>SB</th>\n",
       "      <th>BB</th>\n",
       "      <th>timeoutBB</th>\n",
       "      <th>cost_min</th>\n",
       "    </tr>\n",
       "  </thead>\n",
       "  <tbody>\n",
       "    <tr>\n",
       "      <th>0</th>\n",
       "      <td>1n6t</td>\n",
       "      <td>1</td>\n",
       "      <td>1</td>\n",
       "      <td>1</td>\n",
       "      <td>1</td>\n",
       "      <td>False</td>\n",
       "      <td>44</td>\n",
       "    </tr>\n",
       "    <tr>\n",
       "      <th>1</th>\n",
       "      <td>1fw5</td>\n",
       "      <td>1</td>\n",
       "      <td>1</td>\n",
       "      <td>1</td>\n",
       "      <td>1</td>\n",
       "      <td>False</td>\n",
       "      <td>104</td>\n",
       "    </tr>\n",
       "    <tr>\n",
       "      <th>2</th>\n",
       "      <td>1adx</td>\n",
       "      <td>0.00227</td>\n",
       "      <td>1</td>\n",
       "      <td>3.66</td>\n",
       "      <td>3.66</td>\n",
       "      <td>True</td>\n",
       "      <td>5.9e+05</td>\n",
       "    </tr>\n",
       "    <tr>\n",
       "      <th>3</th>\n",
       "      <td>1bdo</td>\n",
       "      <td>0.0422</td>\n",
       "      <td>8.01e+03</td>\n",
       "      <td>1</td>\n",
       "      <td>1</td>\n",
       "      <td>True</td>\n",
       "      <td>6.7e+04</td>\n",
       "    </tr>\n",
       "    <tr>\n",
       "      <th>4</th>\n",
       "      <td>1all</td>\n",
       "      <td>0.644</td>\n",
       "      <td>1</td>\n",
       "      <td>1</td>\n",
       "      <td>1</td>\n",
       "      <td>True</td>\n",
       "      <td>1.34e+03</td>\n",
       "    </tr>\n",
       "    <tr>\n",
       "      <th>5</th>\n",
       "      <td>6s61</td>\n",
       "      <td>0.998</td>\n",
       "      <td>1</td>\n",
       "      <td>1</td>\n",
       "      <td>1</td>\n",
       "      <td>True</td>\n",
       "      <td>854</td>\n",
       "    </tr>\n",
       "    <tr>\n",
       "      <th>6</th>\n",
       "      <td>1fhl</td>\n",
       "      <td>NaN</td>\n",
       "      <td>NaN</td>\n",
       "      <td>NaN</td>\n",
       "      <td>NaN</td>\n",
       "      <td>True</td>\n",
       "      <td>NaN</td>\n",
       "    </tr>\n",
       "    <tr>\n",
       "      <th>7</th>\n",
       "      <td>4wua</td>\n",
       "      <td>0.000102</td>\n",
       "      <td>12</td>\n",
       "      <td>1</td>\n",
       "      <td>1</td>\n",
       "      <td>True</td>\n",
       "      <td>6.74e+07</td>\n",
       "    </tr>\n",
       "    <tr>\n",
       "      <th>8</th>\n",
       "      <td>6czf</td>\n",
       "      <td>3.72</td>\n",
       "      <td>1.48e+03</td>\n",
       "      <td>1</td>\n",
       "      <td>1</td>\n",
       "      <td>True</td>\n",
       "      <td>7.51e+05</td>\n",
       "    </tr>\n",
       "    <tr>\n",
       "      <th>9</th>\n",
       "      <td>5ijn</td>\n",
       "      <td>20</td>\n",
       "      <td>1</td>\n",
       "      <td>1.66</td>\n",
       "      <td>1.66</td>\n",
       "      <td>True</td>\n",
       "      <td>2.7e+07</td>\n",
       "    </tr>\n",
       "    <tr>\n",
       "      <th>10</th>\n",
       "      <td>6rn2</td>\n",
       "      <td>0.000266</td>\n",
       "      <td>3.75</td>\n",
       "      <td>1</td>\n",
       "      <td>1</td>\n",
       "      <td>True</td>\n",
       "      <td>1.47e+08</td>\n",
       "    </tr>\n",
       "    <tr>\n",
       "      <th>11</th>\n",
       "      <td>6bco</td>\n",
       "      <td>0.00721</td>\n",
       "      <td>1</td>\n",
       "      <td>NaN</td>\n",
       "      <td>NaN</td>\n",
       "      <td>True</td>\n",
       "      <td>8.45e+07</td>\n",
       "    </tr>\n",
       "    <tr>\n",
       "      <th>12</th>\n",
       "      <td>1epw</td>\n",
       "      <td>0.296</td>\n",
       "      <td>1</td>\n",
       "      <td>NaN</td>\n",
       "      <td>NaN</td>\n",
       "      <td>True</td>\n",
       "      <td>9.16e+08</td>\n",
       "    </tr>\n",
       "    <tr>\n",
       "      <th>13</th>\n",
       "      <td>5np0</td>\n",
       "      <td>0.027</td>\n",
       "      <td>1</td>\n",
       "      <td>NaN</td>\n",
       "      <td>NaN</td>\n",
       "      <td>True</td>\n",
       "      <td>6.28e+08</td>\n",
       "    </tr>\n",
       "    <tr>\n",
       "      <th>14</th>\n",
       "      <td>5nug</td>\n",
       "      <td>NaN</td>\n",
       "      <td>NaN</td>\n",
       "      <td>NaN</td>\n",
       "      <td>NaN</td>\n",
       "      <td>True</td>\n",
       "      <td>NaN</td>\n",
       "    </tr>\n",
       "    <tr>\n",
       "      <th>15</th>\n",
       "      <td>4rh7</td>\n",
       "      <td>0.000154</td>\n",
       "      <td>1</td>\n",
       "      <td>NaN</td>\n",
       "      <td>NaN</td>\n",
       "      <td>True</td>\n",
       "      <td>1.72e+09</td>\n",
       "    </tr>\n",
       "    <tr>\n",
       "      <th>16</th>\n",
       "      <td>3vkh</td>\n",
       "      <td>0.00521</td>\n",
       "      <td>1</td>\n",
       "      <td>NaN</td>\n",
       "      <td>NaN</td>\n",
       "      <td>True</td>\n",
       "      <td>1.66e+09</td>\n",
       "    </tr>\n",
       "  </tbody>\n",
       "</table>\n",
       "</div>"
      ],
      "text/plain": [
       "     PDB       RX       GD   SB   BB  timeoutBB  cost_min\n",
       "0   1n6t        1        1    1    1      False        44\n",
       "1   1fw5        1        1    1    1      False       104\n",
       "2   1adx  0.00227        1 3.66 3.66       True   5.9e+05\n",
       "3   1bdo   0.0422 8.01e+03    1    1       True   6.7e+04\n",
       "4   1all    0.644        1    1    1       True  1.34e+03\n",
       "5   6s61    0.998        1    1    1       True       854\n",
       "6   1fhl      NaN      NaN  NaN  NaN       True       NaN\n",
       "7   4wua 0.000102       12    1    1       True  6.74e+07\n",
       "8   6czf     3.72 1.48e+03    1    1       True  7.51e+05\n",
       "9   5ijn       20        1 1.66 1.66       True   2.7e+07\n",
       "10  6rn2 0.000266     3.75    1    1       True  1.47e+08\n",
       "11  6bco  0.00721        1  NaN  NaN       True  8.45e+07\n",
       "12  1epw    0.296        1  NaN  NaN       True  9.16e+08\n",
       "13  5np0    0.027        1  NaN  NaN       True  6.28e+08\n",
       "14  5nug      NaN      NaN  NaN  NaN       True       NaN\n",
       "15  4rh7 0.000154        1  NaN  NaN       True  1.72e+09\n",
       "16  3vkh  0.00521        1  NaN  NaN       True  1.66e+09"
      ]
     },
     "metadata": {},
     "output_type": "display_data"
    },
    {
     "name": "stdout",
     "output_type": "stream",
     "text": [
      "Cost for DMAX=5\n"
     ]
    },
    {
     "data": {
      "text/html": [
       "<div>\n",
       "<style scoped>\n",
       "    .dataframe tbody tr th:only-of-type {\n",
       "        vertical-align: middle;\n",
       "    }\n",
       "\n",
       "    .dataframe tbody tr th {\n",
       "        vertical-align: top;\n",
       "    }\n",
       "\n",
       "    .dataframe thead th {\n",
       "        text-align: right;\n",
       "    }\n",
       "</style>\n",
       "<table border=\"1\" class=\"dataframe\">\n",
       "  <thead>\n",
       "    <tr style=\"text-align: right;\">\n",
       "      <th></th>\n",
       "      <th>PDB</th>\n",
       "      <th>RX</th>\n",
       "      <th>GD</th>\n",
       "      <th>SB</th>\n",
       "      <th>BB</th>\n",
       "      <th>timeoutBB</th>\n",
       "      <th>cost_min</th>\n",
       "    </tr>\n",
       "  </thead>\n",
       "  <tbody>\n",
       "    <tr>\n",
       "      <th>0</th>\n",
       "      <td>1n6t</td>\n",
       "      <td>1</td>\n",
       "      <td>1</td>\n",
       "      <td>1</td>\n",
       "      <td>1</td>\n",
       "      <td>False</td>\n",
       "      <td>54</td>\n",
       "    </tr>\n",
       "    <tr>\n",
       "      <th>1</th>\n",
       "      <td>1fw5</td>\n",
       "      <td>1</td>\n",
       "      <td>1</td>\n",
       "      <td>1</td>\n",
       "      <td>1</td>\n",
       "      <td>False</td>\n",
       "      <td>114</td>\n",
       "    </tr>\n",
       "    <tr>\n",
       "      <th>2</th>\n",
       "      <td>1adx</td>\n",
       "      <td>1</td>\n",
       "      <td>1</td>\n",
       "      <td>1</td>\n",
       "      <td>1</td>\n",
       "      <td>False</td>\n",
       "      <td>234</td>\n",
       "    </tr>\n",
       "    <tr>\n",
       "      <th>3</th>\n",
       "      <td>1bdo</td>\n",
       "      <td>1</td>\n",
       "      <td>1</td>\n",
       "      <td>1</td>\n",
       "      <td>1</td>\n",
       "      <td>False</td>\n",
       "      <td>474</td>\n",
       "    </tr>\n",
       "    <tr>\n",
       "      <th>4</th>\n",
       "      <td>1all</td>\n",
       "      <td>1</td>\n",
       "      <td>1</td>\n",
       "      <td>1</td>\n",
       "      <td>1</td>\n",
       "      <td>False</td>\n",
       "      <td>954</td>\n",
       "    </tr>\n",
       "    <tr>\n",
       "      <th>5</th>\n",
       "      <td>6s61</td>\n",
       "      <td>1</td>\n",
       "      <td>1</td>\n",
       "      <td>1</td>\n",
       "      <td>1</td>\n",
       "      <td>False</td>\n",
       "      <td>1.03e+03</td>\n",
       "    </tr>\n",
       "    <tr>\n",
       "      <th>6</th>\n",
       "      <td>1fhl</td>\n",
       "      <td>1</td>\n",
       "      <td>1</td>\n",
       "      <td>1</td>\n",
       "      <td>1</td>\n",
       "      <td>False</td>\n",
       "      <td>2e+03</td>\n",
       "    </tr>\n",
       "    <tr>\n",
       "      <th>7</th>\n",
       "      <td>4wua</td>\n",
       "      <td>1</td>\n",
       "      <td>1</td>\n",
       "      <td>1</td>\n",
       "      <td>1</td>\n",
       "      <td>False</td>\n",
       "      <td>2.06e+03</td>\n",
       "    </tr>\n",
       "    <tr>\n",
       "      <th>8</th>\n",
       "      <td>6czf</td>\n",
       "      <td>1</td>\n",
       "      <td>1</td>\n",
       "      <td>1</td>\n",
       "      <td>1</td>\n",
       "      <td>False</td>\n",
       "      <td>2.98e+03</td>\n",
       "    </tr>\n",
       "    <tr>\n",
       "      <th>9</th>\n",
       "      <td>5ijn</td>\n",
       "      <td>1</td>\n",
       "      <td>1</td>\n",
       "      <td>1</td>\n",
       "      <td>1</td>\n",
       "      <td>False</td>\n",
       "      <td>3.9e+03</td>\n",
       "    </tr>\n",
       "    <tr>\n",
       "      <th>10</th>\n",
       "      <td>6rn2</td>\n",
       "      <td>1</td>\n",
       "      <td>1</td>\n",
       "      <td>1</td>\n",
       "      <td>1</td>\n",
       "      <td>False</td>\n",
       "      <td>4.1e+03</td>\n",
       "    </tr>\n",
       "    <tr>\n",
       "      <th>11</th>\n",
       "      <td>6bco</td>\n",
       "      <td>1</td>\n",
       "      <td>1</td>\n",
       "      <td>1</td>\n",
       "      <td>1</td>\n",
       "      <td>False</td>\n",
       "      <td>5.7e+03</td>\n",
       "    </tr>\n",
       "    <tr>\n",
       "      <th>12</th>\n",
       "      <td>1epw</td>\n",
       "      <td>1</td>\n",
       "      <td>1</td>\n",
       "      <td>1</td>\n",
       "      <td>1</td>\n",
       "      <td>False</td>\n",
       "      <td>7.72e+03</td>\n",
       "    </tr>\n",
       "    <tr>\n",
       "      <th>13</th>\n",
       "      <td>5np0</td>\n",
       "      <td>0.995</td>\n",
       "      <td>1</td>\n",
       "      <td>1.01</td>\n",
       "      <td>1.01</td>\n",
       "      <td>True</td>\n",
       "      <td>1.53e+04</td>\n",
       "    </tr>\n",
       "    <tr>\n",
       "      <th>14</th>\n",
       "      <td>5nug</td>\n",
       "      <td>0.999</td>\n",
       "      <td>1</td>\n",
       "      <td>1</td>\n",
       "      <td>1</td>\n",
       "      <td>True</td>\n",
       "      <td>1.76e+04</td>\n",
       "    </tr>\n",
       "    <tr>\n",
       "      <th>15</th>\n",
       "      <td>4rh7</td>\n",
       "      <td>1</td>\n",
       "      <td>1</td>\n",
       "      <td>1</td>\n",
       "      <td>1</td>\n",
       "      <td>False</td>\n",
       "      <td>1.8e+04</td>\n",
       "    </tr>\n",
       "    <tr>\n",
       "      <th>16</th>\n",
       "      <td>3vkh</td>\n",
       "      <td>0.818</td>\n",
       "      <td>1</td>\n",
       "      <td>1</td>\n",
       "      <td>1</td>\n",
       "      <td>True</td>\n",
       "      <td>2.23e+04</td>\n",
       "    </tr>\n",
       "  </tbody>\n",
       "</table>\n",
       "</div>"
      ],
      "text/plain": [
       "     PDB    RX  GD   SB   BB  timeoutBB  cost_min\n",
       "0   1n6t     1   1    1    1      False        54\n",
       "1   1fw5     1   1    1    1      False       114\n",
       "2   1adx     1   1    1    1      False       234\n",
       "3   1bdo     1   1    1    1      False       474\n",
       "4   1all     1   1    1    1      False       954\n",
       "5   6s61     1   1    1    1      False  1.03e+03\n",
       "6   1fhl     1   1    1    1      False     2e+03\n",
       "7   4wua     1   1    1    1      False  2.06e+03\n",
       "8   6czf     1   1    1    1      False  2.98e+03\n",
       "9   5ijn     1   1    1    1      False   3.9e+03\n",
       "10  6rn2     1   1    1    1      False   4.1e+03\n",
       "11  6bco     1   1    1    1      False   5.7e+03\n",
       "12  1epw     1   1    1    1      False  7.72e+03\n",
       "13  5np0 0.995   1 1.01 1.01       True  1.53e+04\n",
       "14  5nug 0.999   1    1    1       True  1.76e+04\n",
       "15  4rh7     1   1    1    1      False   1.8e+04\n",
       "16  3vkh 0.818   1    1    1       True  2.23e+04"
      ]
     },
     "metadata": {},
     "output_type": "display_data"
    },
    {
     "name": "stdout",
     "output_type": "stream",
     "text": [
      "Cost for DMAX=6\n"
     ]
    },
    {
     "data": {
      "text/html": [
       "<div>\n",
       "<style scoped>\n",
       "    .dataframe tbody tr th:only-of-type {\n",
       "        vertical-align: middle;\n",
       "    }\n",
       "\n",
       "    .dataframe tbody tr th {\n",
       "        vertical-align: top;\n",
       "    }\n",
       "\n",
       "    .dataframe thead th {\n",
       "        text-align: right;\n",
       "    }\n",
       "</style>\n",
       "<table border=\"1\" class=\"dataframe\">\n",
       "  <thead>\n",
       "    <tr style=\"text-align: right;\">\n",
       "      <th></th>\n",
       "      <th>PDB</th>\n",
       "      <th>RX</th>\n",
       "      <th>GD</th>\n",
       "      <th>SB</th>\n",
       "      <th>BB</th>\n",
       "      <th>timeoutBB</th>\n",
       "      <th>cost_min</th>\n",
       "    </tr>\n",
       "  </thead>\n",
       "  <tbody>\n",
       "    <tr>\n",
       "      <th>0</th>\n",
       "      <td>1n6t</td>\n",
       "      <td>1</td>\n",
       "      <td>1</td>\n",
       "      <td>1</td>\n",
       "      <td>1</td>\n",
       "      <td>False</td>\n",
       "      <td>54</td>\n",
       "    </tr>\n",
       "    <tr>\n",
       "      <th>1</th>\n",
       "      <td>1fw5</td>\n",
       "      <td>1</td>\n",
       "      <td>1</td>\n",
       "      <td>1</td>\n",
       "      <td>1</td>\n",
       "      <td>False</td>\n",
       "      <td>114</td>\n",
       "    </tr>\n",
       "    <tr>\n",
       "      <th>2</th>\n",
       "      <td>1adx</td>\n",
       "      <td>1</td>\n",
       "      <td>1</td>\n",
       "      <td>1</td>\n",
       "      <td>1</td>\n",
       "      <td>False</td>\n",
       "      <td>234</td>\n",
       "    </tr>\n",
       "    <tr>\n",
       "      <th>3</th>\n",
       "      <td>1bdo</td>\n",
       "      <td>1</td>\n",
       "      <td>1</td>\n",
       "      <td>1</td>\n",
       "      <td>1</td>\n",
       "      <td>False</td>\n",
       "      <td>474</td>\n",
       "    </tr>\n",
       "    <tr>\n",
       "      <th>4</th>\n",
       "      <td>1all</td>\n",
       "      <td>1</td>\n",
       "      <td>1</td>\n",
       "      <td>1</td>\n",
       "      <td>1</td>\n",
       "      <td>False</td>\n",
       "      <td>954</td>\n",
       "    </tr>\n",
       "    <tr>\n",
       "      <th>5</th>\n",
       "      <td>6s61</td>\n",
       "      <td>1</td>\n",
       "      <td>1</td>\n",
       "      <td>1</td>\n",
       "      <td>1</td>\n",
       "      <td>False</td>\n",
       "      <td>1.03e+03</td>\n",
       "    </tr>\n",
       "    <tr>\n",
       "      <th>6</th>\n",
       "      <td>1fhl</td>\n",
       "      <td>1</td>\n",
       "      <td>1</td>\n",
       "      <td>1</td>\n",
       "      <td>1</td>\n",
       "      <td>False</td>\n",
       "      <td>2e+03</td>\n",
       "    </tr>\n",
       "    <tr>\n",
       "      <th>7</th>\n",
       "      <td>4wua</td>\n",
       "      <td>1</td>\n",
       "      <td>1</td>\n",
       "      <td>1</td>\n",
       "      <td>1</td>\n",
       "      <td>False</td>\n",
       "      <td>2.06e+03</td>\n",
       "    </tr>\n",
       "    <tr>\n",
       "      <th>8</th>\n",
       "      <td>6czf</td>\n",
       "      <td>1</td>\n",
       "      <td>1</td>\n",
       "      <td>1</td>\n",
       "      <td>1</td>\n",
       "      <td>False</td>\n",
       "      <td>2.98e+03</td>\n",
       "    </tr>\n",
       "    <tr>\n",
       "      <th>9</th>\n",
       "      <td>5ijn</td>\n",
       "      <td>1</td>\n",
       "      <td>1</td>\n",
       "      <td>1</td>\n",
       "      <td>1</td>\n",
       "      <td>False</td>\n",
       "      <td>3.9e+03</td>\n",
       "    </tr>\n",
       "    <tr>\n",
       "      <th>10</th>\n",
       "      <td>6rn2</td>\n",
       "      <td>1</td>\n",
       "      <td>1</td>\n",
       "      <td>1</td>\n",
       "      <td>1</td>\n",
       "      <td>False</td>\n",
       "      <td>4.1e+03</td>\n",
       "    </tr>\n",
       "    <tr>\n",
       "      <th>11</th>\n",
       "      <td>6bco</td>\n",
       "      <td>1</td>\n",
       "      <td>1</td>\n",
       "      <td>1</td>\n",
       "      <td>1</td>\n",
       "      <td>False</td>\n",
       "      <td>5.71e+03</td>\n",
       "    </tr>\n",
       "    <tr>\n",
       "      <th>12</th>\n",
       "      <td>1epw</td>\n",
       "      <td>1</td>\n",
       "      <td>1</td>\n",
       "      <td>1</td>\n",
       "      <td>1</td>\n",
       "      <td>False</td>\n",
       "      <td>7.72e+03</td>\n",
       "    </tr>\n",
       "    <tr>\n",
       "      <th>13</th>\n",
       "      <td>5np0</td>\n",
       "      <td>1</td>\n",
       "      <td>1</td>\n",
       "      <td>1.01</td>\n",
       "      <td>1</td>\n",
       "      <td>True</td>\n",
       "      <td>1.52e+04</td>\n",
       "    </tr>\n",
       "    <tr>\n",
       "      <th>14</th>\n",
       "      <td>5nug</td>\n",
       "      <td>1</td>\n",
       "      <td>1</td>\n",
       "      <td>1</td>\n",
       "      <td>1</td>\n",
       "      <td>False</td>\n",
       "      <td>1.75e+04</td>\n",
       "    </tr>\n",
       "    <tr>\n",
       "      <th>15</th>\n",
       "      <td>4rh7</td>\n",
       "      <td>1</td>\n",
       "      <td>1</td>\n",
       "      <td>1</td>\n",
       "      <td>1</td>\n",
       "      <td>False</td>\n",
       "      <td>1.8e+04</td>\n",
       "    </tr>\n",
       "    <tr>\n",
       "      <th>16</th>\n",
       "      <td>3vkh</td>\n",
       "      <td>0.997</td>\n",
       "      <td>1</td>\n",
       "      <td>1</td>\n",
       "      <td>1</td>\n",
       "      <td>True</td>\n",
       "      <td>1.83e+04</td>\n",
       "    </tr>\n",
       "  </tbody>\n",
       "</table>\n",
       "</div>"
      ],
      "text/plain": [
       "     PDB    RX  GD   SB  BB  timeoutBB  cost_min\n",
       "0   1n6t     1   1    1   1      False        54\n",
       "1   1fw5     1   1    1   1      False       114\n",
       "2   1adx     1   1    1   1      False       234\n",
       "3   1bdo     1   1    1   1      False       474\n",
       "4   1all     1   1    1   1      False       954\n",
       "5   6s61     1   1    1   1      False  1.03e+03\n",
       "6   1fhl     1   1    1   1      False     2e+03\n",
       "7   4wua     1   1    1   1      False  2.06e+03\n",
       "8   6czf     1   1    1   1      False  2.98e+03\n",
       "9   5ijn     1   1    1   1      False   3.9e+03\n",
       "10  6rn2     1   1    1   1      False   4.1e+03\n",
       "11  6bco     1   1    1   1      False  5.71e+03\n",
       "12  1epw     1   1    1   1      False  7.72e+03\n",
       "13  5np0     1   1 1.01   1       True  1.52e+04\n",
       "14  5nug     1   1    1   1      False  1.75e+04\n",
       "15  4rh7     1   1    1   1      False   1.8e+04\n",
       "16  3vkh 0.997   1    1   1       True  1.83e+04"
      ]
     },
     "metadata": {},
     "output_type": "display_data"
    },
    {
     "name": "stdout",
     "output_type": "stream",
     "text": [
      "Cost for DMAX=7\n"
     ]
    },
    {
     "data": {
      "text/html": [
       "<div>\n",
       "<style scoped>\n",
       "    .dataframe tbody tr th:only-of-type {\n",
       "        vertical-align: middle;\n",
       "    }\n",
       "\n",
       "    .dataframe tbody tr th {\n",
       "        vertical-align: top;\n",
       "    }\n",
       "\n",
       "    .dataframe thead th {\n",
       "        text-align: right;\n",
       "    }\n",
       "</style>\n",
       "<table border=\"1\" class=\"dataframe\">\n",
       "  <thead>\n",
       "    <tr style=\"text-align: right;\">\n",
       "      <th></th>\n",
       "      <th>PDB</th>\n",
       "      <th>RX</th>\n",
       "      <th>GD</th>\n",
       "      <th>SB</th>\n",
       "      <th>BB</th>\n",
       "      <th>timeoutBB</th>\n",
       "      <th>cost_min</th>\n",
       "    </tr>\n",
       "  </thead>\n",
       "  <tbody>\n",
       "    <tr>\n",
       "      <th>0</th>\n",
       "      <td>1n6t</td>\n",
       "      <td>1</td>\n",
       "      <td>1</td>\n",
       "      <td>1</td>\n",
       "      <td>1</td>\n",
       "      <td>False</td>\n",
       "      <td>54</td>\n",
       "    </tr>\n",
       "    <tr>\n",
       "      <th>1</th>\n",
       "      <td>1fw5</td>\n",
       "      <td>1</td>\n",
       "      <td>1</td>\n",
       "      <td>1</td>\n",
       "      <td>1</td>\n",
       "      <td>False</td>\n",
       "      <td>114</td>\n",
       "    </tr>\n",
       "    <tr>\n",
       "      <th>2</th>\n",
       "      <td>1adx</td>\n",
       "      <td>1</td>\n",
       "      <td>1</td>\n",
       "      <td>1</td>\n",
       "      <td>1</td>\n",
       "      <td>False</td>\n",
       "      <td>234</td>\n",
       "    </tr>\n",
       "    <tr>\n",
       "      <th>3</th>\n",
       "      <td>1bdo</td>\n",
       "      <td>1</td>\n",
       "      <td>1</td>\n",
       "      <td>1</td>\n",
       "      <td>1</td>\n",
       "      <td>False</td>\n",
       "      <td>474</td>\n",
       "    </tr>\n",
       "    <tr>\n",
       "      <th>4</th>\n",
       "      <td>1all</td>\n",
       "      <td>1</td>\n",
       "      <td>1</td>\n",
       "      <td>1</td>\n",
       "      <td>1</td>\n",
       "      <td>False</td>\n",
       "      <td>954</td>\n",
       "    </tr>\n",
       "    <tr>\n",
       "      <th>5</th>\n",
       "      <td>6s61</td>\n",
       "      <td>1</td>\n",
       "      <td>1</td>\n",
       "      <td>1</td>\n",
       "      <td>1</td>\n",
       "      <td>False</td>\n",
       "      <td>1.03e+03</td>\n",
       "    </tr>\n",
       "    <tr>\n",
       "      <th>6</th>\n",
       "      <td>1fhl</td>\n",
       "      <td>1</td>\n",
       "      <td>1</td>\n",
       "      <td>1</td>\n",
       "      <td>1</td>\n",
       "      <td>False</td>\n",
       "      <td>2e+03</td>\n",
       "    </tr>\n",
       "    <tr>\n",
       "      <th>7</th>\n",
       "      <td>4wua</td>\n",
       "      <td>1</td>\n",
       "      <td>1</td>\n",
       "      <td>1</td>\n",
       "      <td>1</td>\n",
       "      <td>False</td>\n",
       "      <td>2.06e+03</td>\n",
       "    </tr>\n",
       "    <tr>\n",
       "      <th>8</th>\n",
       "      <td>6czf</td>\n",
       "      <td>1</td>\n",
       "      <td>1</td>\n",
       "      <td>1</td>\n",
       "      <td>1</td>\n",
       "      <td>False</td>\n",
       "      <td>2.98e+03</td>\n",
       "    </tr>\n",
       "    <tr>\n",
       "      <th>9</th>\n",
       "      <td>5ijn</td>\n",
       "      <td>1</td>\n",
       "      <td>1</td>\n",
       "      <td>1</td>\n",
       "      <td>1</td>\n",
       "      <td>False</td>\n",
       "      <td>3.9e+03</td>\n",
       "    </tr>\n",
       "    <tr>\n",
       "      <th>10</th>\n",
       "      <td>6rn2</td>\n",
       "      <td>1</td>\n",
       "      <td>1</td>\n",
       "      <td>1</td>\n",
       "      <td>1</td>\n",
       "      <td>False</td>\n",
       "      <td>4.1e+03</td>\n",
       "    </tr>\n",
       "    <tr>\n",
       "      <th>11</th>\n",
       "      <td>6bco</td>\n",
       "      <td>1</td>\n",
       "      <td>1</td>\n",
       "      <td>1</td>\n",
       "      <td>1</td>\n",
       "      <td>False</td>\n",
       "      <td>5.71e+03</td>\n",
       "    </tr>\n",
       "    <tr>\n",
       "      <th>12</th>\n",
       "      <td>1epw</td>\n",
       "      <td>1</td>\n",
       "      <td>1</td>\n",
       "      <td>1</td>\n",
       "      <td>1</td>\n",
       "      <td>False</td>\n",
       "      <td>7.72e+03</td>\n",
       "    </tr>\n",
       "    <tr>\n",
       "      <th>13</th>\n",
       "      <td>5np0</td>\n",
       "      <td>1</td>\n",
       "      <td>1</td>\n",
       "      <td>1</td>\n",
       "      <td>1</td>\n",
       "      <td>True</td>\n",
       "      <td>1.52e+04</td>\n",
       "    </tr>\n",
       "    <tr>\n",
       "      <th>14</th>\n",
       "      <td>5nug</td>\n",
       "      <td>1</td>\n",
       "      <td>1</td>\n",
       "      <td>1</td>\n",
       "      <td>1</td>\n",
       "      <td>False</td>\n",
       "      <td>1.75e+04</td>\n",
       "    </tr>\n",
       "    <tr>\n",
       "      <th>15</th>\n",
       "      <td>4rh7</td>\n",
       "      <td>1</td>\n",
       "      <td>1</td>\n",
       "      <td>1</td>\n",
       "      <td>1</td>\n",
       "      <td>False</td>\n",
       "      <td>1.8e+04</td>\n",
       "    </tr>\n",
       "    <tr>\n",
       "      <th>16</th>\n",
       "      <td>3vkh</td>\n",
       "      <td>1</td>\n",
       "      <td>1</td>\n",
       "      <td>1</td>\n",
       "      <td>1</td>\n",
       "      <td>False</td>\n",
       "      <td>1.83e+04</td>\n",
       "    </tr>\n",
       "  </tbody>\n",
       "</table>\n",
       "</div>"
      ],
      "text/plain": [
       "     PDB  RX  GD  SB  BB  timeoutBB  cost_min\n",
       "0   1n6t   1   1   1   1      False        54\n",
       "1   1fw5   1   1   1   1      False       114\n",
       "2   1adx   1   1   1   1      False       234\n",
       "3   1bdo   1   1   1   1      False       474\n",
       "4   1all   1   1   1   1      False       954\n",
       "5   6s61   1   1   1   1      False  1.03e+03\n",
       "6   1fhl   1   1   1   1      False     2e+03\n",
       "7   4wua   1   1   1   1      False  2.06e+03\n",
       "8   6czf   1   1   1   1      False  2.98e+03\n",
       "9   5ijn   1   1   1   1      False   3.9e+03\n",
       "10  6rn2   1   1   1   1      False   4.1e+03\n",
       "11  6bco   1   1   1   1      False  5.71e+03\n",
       "12  1epw   1   1   1   1      False  7.72e+03\n",
       "13  5np0   1   1   1   1       True  1.52e+04\n",
       "14  5nug   1   1   1   1      False  1.75e+04\n",
       "15  4rh7   1   1   1   1      False   1.8e+04\n",
       "16  3vkh   1   1   1   1      False  1.83e+04"
      ]
     },
     "metadata": {},
     "output_type": "display_data"
    }
   ],
   "source": [
    "# table of cost for each instance and each algorithm\n",
    "for dmax in DMAX:\n",
    "    cols = ['PDB'] + sorted([c for c in df_DMAX.columns if ('cost' in c) and (f'_{dmax}' in c)])    \n",
    "    dfA = df_DMAX[cols].copy()\n",
    "    dfA.rename(columns={col:col.split('_')[0].replace('cost','') for col in dfA.columns}, inplace=True)\n",
    "    cols = ['PDB', 'RX', 'GD', 'SB']\n",
    "    cols += [c for c in dfA.columns if c not in cols]\n",
    "    dfA = dfA[cols]    \n",
    "    dfA['timeoutBB'] = df_DMAX[f'timeoutBB_{dmax}'].astype(bool)\n",
    "    # replace numbers smaller than zero by nan\n",
    "    dfA[cols[2:]] = dfA[cols[2:]].applymap(lambda x: np.nan if x < 0 else x)    \n",
    "    print(f'Cost for DMAX={dmax}')\n",
    "    # set display options for float precision, only for dfA\n",
    "    pd.set_option('display.float_format', lambda x: '%.3g' % x)\n",
    "    # scaling by min cost\n",
    "    dfA['cost_min'] = dfA[cols[2:]].min(axis=1)\n",
    "    dfA[['RX','GD','SB','BB']] = dfA[['RX','GD','SB','BB']].div(dfA['cost_min'], axis=0)    \n",
    "    display(dfA)"
   ]
  }
 ],
 "metadata": {
  "kernelspec": {
   "display_name": "Python 3.9.7 ('base')",
   "language": "python",
   "name": "python3"
  },
  "language_info": {
   "codemirror_mode": {
    "name": "ipython",
    "version": 3
   },
   "file_extension": ".py",
   "mimetype": "text/x-python",
   "name": "python",
   "nbconvert_exporter": "python",
   "pygments_lexer": "ipython3",
   "version": "3.10.6"
  },
  "vscode": {
   "interpreter": {
    "hash": "586ad1ed5c97141e2437e681efbf1ec0adcd17d830cf5af2ca3d2819e743e158"
   }
  }
 },
 "nbformat": 4,
 "nbformat_minor": 4
}
