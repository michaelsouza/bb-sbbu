{
 "cells": [
  {
   "cell_type": "code",
   "execution_count": 1,
   "metadata": {},
   "outputs": [],
   "source": [
    "import os\n",
    "from codes.bb import *\n",
    "import pandas as pd\n",
    "import networkx as nx\n",
    "import plotly.express as px\n",
    "import matplotlib.pyplot as plt"
   ]
  },
  {
   "cell_type": "markdown",
   "metadata": {},
   "source": [
    "### Plot NMR Graph"
   ]
  },
  {
   "cell_type": "code",
   "execution_count": 2,
   "metadata": {},
   "outputs": [],
   "source": [
    "def plot_graph(G):\n",
    "    pos = nx.spring_layout(G)    \n",
    "    node_color = ['y' if ':' in node else 'r' for node in G.nodes()]\n",
    "    node_size = [800 if ':' in node else 300 for node in G.nodes()]\n",
    "    nx.draw_networkx_nodes(G, pos, \n",
    "        node_size=node_size, \n",
    "        node_shape='o', \n",
    "        node_color=node_color)\n",
    "    nx.draw_networkx_labels(G, pos, font_color='k', font_size=8)\n",
    "    nx.draw_networkx_edges(G, pos)    \n",
    "    plt.show()"
   ]
  },
  {
   "cell_type": "code",
   "execution_count": 3,
   "metadata": {},
   "outputs": [
    {
     "data": {
      "image/png": "[encoded data removed]",
      "text/plain": [
       "<Figure size 432x288 with 1 Axes>"
      ]
     },
     "metadata": {},
     "output_type": "display_data"
    }
   ],
   "source": [
    "fnmr = '../DATA_TEST/testA.nmr'\n",
    "# fnmr = '../DATA_EPSD_00_DMAX_60/1cza.nmr'\n",
    "nmr = NMR(fnmr)\n",
    "E, S = nmr.E, nmr.S\n",
    "G = nmr.ordering_graph\n",
    "plot_graph(G)"
   ]
  },
  {
   "cell_type": "code",
   "execution_count": 4,
   "metadata": {},
   "outputs": [
    {
     "data": {
      "text/plain": [
       "1036"
      ]
     },
     "execution_count": 4,
     "metadata": {},
     "output_type": "execute_result"
    }
   ],
   "source": [
    "order_cost([3,2,1],E, S)"
   ]
  },
  {
   "cell_type": "markdown",
   "metadata": {},
   "source": [
    "### READ LOG FILES"
   ]
  },
  {
   "cell_type": "code",
   "execution_count": 2,
   "metadata": {},
   "outputs": [
    {
     "name": "stdout",
     "output_type": "stream",
     "text": [
      "Save results.xlsx\n"
     ]
    },
    {
     "data": {
      "text/html": [
       "<div>\n",
       "<style scoped>\n",
       "    .dataframe tbody tr th:only-of-type {\n",
       "        vertical-align: middle;\n",
       "    }\n",
       "\n",
       "    .dataframe tbody tr th {\n",
       "        vertical-align: top;\n",
       "    }\n",
       "\n",
       "    .dataframe thead th {\n",
       "        text-align: right;\n",
       "    }\n",
       "</style>\n",
       "<table border=\"1\" class=\"dataframe\">\n",
       "  <thead>\n",
       "    <tr style=\"text-align: right;\">\n",
       "      <th></th>\n",
       "      <th>pid</th>\n",
       "      <th>dmax</th>\n",
       "      <th>flog</th>\n",
       "      <th>fnmr</th>\n",
       "      <th>clean_log</th>\n",
       "      <th>tmax</th>\n",
       "      <th>nnodes</th>\n",
       "      <th>lenE</th>\n",
       "      <th>lenS</th>\n",
       "      <th>costRELAX</th>\n",
       "      <th>costSBBU</th>\n",
       "      <th>timeSBBU</th>\n",
       "      <th>timeoutBB</th>\n",
       "      <th>costBB</th>\n",
       "      <th>timeBB</th>\n",
       "      <th>gapRL</th>\n",
       "      <th>gapBB</th>\n",
       "    </tr>\n",
       "  </thead>\n",
       "  <tbody>\n",
       "    <tr>\n",
       "      <th>0</th>\n",
       "      <td>1adx</td>\n",
       "      <td>50</td>\n",
       "      <td>DATA_EPSD_00_DMAX_50/1adx.log</td>\n",
       "      <td>DATA_EPSD_00_DMAX_50/1adx.nmr</td>\n",
       "      <td>1</td>\n",
       "      <td>5</td>\n",
       "      <td>120</td>\n",
       "      <td>305</td>\n",
       "      <td>117</td>\n",
       "      <td>234</td>\n",
       "      <td>234</td>\n",
       "      <td>0.0</td>\n",
       "      <td>0.0</td>\n",
       "      <td>234.0</td>\n",
       "      <td>0.0</td>\n",
       "      <td>0.0</td>\n",
       "      <td>0.0</td>\n",
       "    </tr>\n",
       "    <tr>\n",
       "      <th>1</th>\n",
       "      <td>1all</td>\n",
       "      <td>50</td>\n",
       "      <td>DATA_EPSD_00_DMAX_50/1all.log</td>\n",
       "      <td>DATA_EPSD_00_DMAX_50/1all.nmr</td>\n",
       "      <td>1</td>\n",
       "      <td>5</td>\n",
       "      <td>480</td>\n",
       "      <td>2009</td>\n",
       "      <td>477</td>\n",
       "      <td>954</td>\n",
       "      <td>954</td>\n",
       "      <td>0.0</td>\n",
       "      <td>0.0</td>\n",
       "      <td>954.0</td>\n",
       "      <td>0.0</td>\n",
       "      <td>0.0</td>\n",
       "      <td>0.0</td>\n",
       "    </tr>\n",
       "    <tr>\n",
       "      <th>2</th>\n",
       "      <td>1bdo</td>\n",
       "      <td>50</td>\n",
       "      <td>DATA_EPSD_00_DMAX_50/1bdo.log</td>\n",
       "      <td>DATA_EPSD_00_DMAX_50/1bdo.nmr</td>\n",
       "      <td>1</td>\n",
       "      <td>5</td>\n",
       "      <td>241</td>\n",
       "      <td>628</td>\n",
       "      <td>238</td>\n",
       "      <td>476</td>\n",
       "      <td>476</td>\n",
       "      <td>0.0</td>\n",
       "      <td>0.0</td>\n",
       "      <td>476.0</td>\n",
       "      <td>0.0</td>\n",
       "      <td>0.0</td>\n",
       "      <td>0.0</td>\n",
       "    </tr>\n",
       "    <tr>\n",
       "      <th>3</th>\n",
       "      <td>1cza</td>\n",
       "      <td>50</td>\n",
       "      <td>DATA_EPSD_00_DMAX_50/1cza.log</td>\n",
       "      <td>DATA_EPSD_00_DMAX_50/1cza.nmr</td>\n",
       "      <td>1</td>\n",
       "      <td>5</td>\n",
       "      <td>2694</td>\n",
       "      <td>9375</td>\n",
       "      <td>2691</td>\n",
       "      <td>5382</td>\n",
       "      <td>5382</td>\n",
       "      <td>0.0</td>\n",
       "      <td>0.0</td>\n",
       "      <td>5382.0</td>\n",
       "      <td>0.0</td>\n",
       "      <td>0.0</td>\n",
       "      <td>0.0</td>\n",
       "    </tr>\n",
       "    <tr>\n",
       "      <th>4</th>\n",
       "      <td>1epw</td>\n",
       "      <td>50</td>\n",
       "      <td>DATA_EPSD_00_DMAX_50/1epw.log</td>\n",
       "      <td>DATA_EPSD_00_DMAX_50/1epw.nmr</td>\n",
       "      <td>1</td>\n",
       "      <td>5</td>\n",
       "      <td>3861</td>\n",
       "      <td>11614</td>\n",
       "      <td>3857</td>\n",
       "      <td>7716</td>\n",
       "      <td>7716</td>\n",
       "      <td>1.0</td>\n",
       "      <td>0.0</td>\n",
       "      <td>7716.0</td>\n",
       "      <td>1.0</td>\n",
       "      <td>0.0</td>\n",
       "      <td>0.0</td>\n",
       "    </tr>\n",
       "  </tbody>\n",
       "</table>\n",
       "</div>"
      ],
      "text/plain": [
       "    pid  dmax                           flog                           fnmr  \\\n",
       "0  1adx    50  DATA_EPSD_00_DMAX_50/1adx.log  DATA_EPSD_00_DMAX_50/1adx.nmr   \n",
       "1  1all    50  DATA_EPSD_00_DMAX_50/1all.log  DATA_EPSD_00_DMAX_50/1all.nmr   \n",
       "2  1bdo    50  DATA_EPSD_00_DMAX_50/1bdo.log  DATA_EPSD_00_DMAX_50/1bdo.nmr   \n",
       "3  1cza    50  DATA_EPSD_00_DMAX_50/1cza.log  DATA_EPSD_00_DMAX_50/1cza.nmr   \n",
       "4  1epw    50  DATA_EPSD_00_DMAX_50/1epw.log  DATA_EPSD_00_DMAX_50/1epw.nmr   \n",
       "\n",
       "   clean_log  tmax  nnodes   lenE  lenS  costRELAX  costSBBU  timeSBBU  \\\n",
       "0          1     5     120    305   117        234       234       0.0   \n",
       "1          1     5     480   2009   477        954       954       0.0   \n",
       "2          1     5     241    628   238        476       476       0.0   \n",
       "3          1     5    2694   9375  2691       5382      5382       0.0   \n",
       "4          1     5    3861  11614  3857       7716      7716       1.0   \n",
       "\n",
       "   timeoutBB  costBB  timeBB  gapRL  gapBB  \n",
       "0        0.0   234.0     0.0    0.0    0.0  \n",
       "1        0.0   954.0     0.0    0.0    0.0  \n",
       "2        0.0   476.0     0.0    0.0    0.0  \n",
       "3        0.0  5382.0     0.0    0.0    0.0  \n",
       "4        0.0  7716.0     1.0    0.0    0.0  "
      ]
     },
     "execution_count": 2,
     "metadata": {},
     "output_type": "execute_result"
    }
   ],
   "source": [
    "WDIR = ['DATA_EPSD_00_DMAX_50', 'DATA_EPSD_00_DMAX_60']\n",
    "df = []\n",
    "for wdir in WDIR:\n",
    "    dmax = int(wdir.split('_')[-1])\n",
    "    for flog in sorted(os.listdir(wdir)):\n",
    "        if not flog.endswith('.log'):\n",
    "            continue\n",
    "        pid = flog.replace('.log','')\n",
    "        flog = os.path.join(wdir, flog)\n",
    "        # check if the problem was pickled        \n",
    "        df_log = {'pid': pid, 'dmax':dmax, 'flog': flog}\n",
    "        with open(flog, 'r') as fid:\n",
    "            for row in fid:\n",
    "                row = row.replace(':','').replace('\\n','').split(' ')\n",
    "                field = row[1]\n",
    "                if 'fnmr' in field:\n",
    "                    value = row[-1]\n",
    "                elif 'timeoutBB' in field:\n",
    "                    value = int(row[-1])\n",
    "                elif 'time' in field:\n",
    "                    value = float(row[-1])\n",
    "                else:\n",
    "                    value = int(row[-1])\n",
    "                df_log[field] = value\n",
    "        if ('costSBBU' in df_log) and (df_log['costSBBU'] == df_log['costRELAX']):\n",
    "            df_log['costBB'] = df_log['costSBBU']\n",
    "            df_log['timeBB'] = df_log['timeSBBU']\n",
    "        df.append(df_log)\n",
    "df = pd.DataFrame(df)\n",
    "df['gapRL'] = (df['costSBBU'] - df['costRELAX']) / df['costRELAX']\n",
    "df['gapBB'] = (df['costSBBU'] - df['costBB']) / df['costBB']\n",
    "fname = 'results.xlsx'\n",
    "print('Save', fname)\n",
    "df.to_excel(fname,index=False)\n",
    "df.head()"
   ]
  },
  {
   "cell_type": "code",
   "execution_count": 5,
   "metadata": {},
   "outputs": [
    {
     "data": {
      "text/plain": [
       "'DATA_EPSD_00_DMAX_50/1adx.log'"
      ]
     },
     "execution_count": 5,
     "metadata": {},
     "output_type": "execute_result"
    }
   ],
   "source": [
    "flog"
   ]
  },
  {
   "cell_type": "code",
   "execution_count": null,
   "metadata": {},
   "outputs": [],
   "source": [
    "df.groupby(by=['pid','dmax']).mean()"
   ]
  },
  {
   "cell_type": "code",
   "execution_count": null,
   "metadata": {},
   "outputs": [],
   "source": [
    "df50 = df[df['dmax']==50]\n",
    "df60 = df[df['dmax']==60]"
   ]
  }
 ],
 "metadata": {
  "kernelspec": {
   "display_name": "Python 3.10.4 64-bit",
   "language": "python",
   "name": "python3"
  },
  "language_info": {
   "codemirror_mode": {
    "name": "ipython",
    "version": 3
   },
   "file_extension": ".py",
   "mimetype": "text/x-python",
   "name": "python",
   "nbconvert_exporter": "python",
   "pygments_lexer": "ipython3",
   "version": "3.10.4"
  },
  "orig_nbformat": 4,
  "vscode": {
   "interpreter": {
    "hash": "31f2aee4e71d21fbe5cf8b01ff0e069b9275f58929596ceb00d14d90e3e16cd6"
   }
  }
 },
 "nbformat": 4,
 "nbformat_minor": 2
}
