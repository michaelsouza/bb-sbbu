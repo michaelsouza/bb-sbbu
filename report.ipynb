{
 "cells": [
  {
   "attachments": {},
   "cell_type": "markdown",
   "metadata": {},
   "source": [
    "# Load libraries"
   ]
  },
  {
   "cell_type": "code",
   "execution_count": 82,
   "metadata": {},
   "outputs": [],
   "source": [
    "import os\n",
    "from tqdm import tqdm\n",
    "from codes.bb import *\n",
    "import pandas as pd\n",
    "import networkx as nx\n",
    "import plotly.express as px\n",
    "import matplotlib.pyplot as plt\n",
    "import plotly.graph_objects as go"
   ]
  },
  {
   "attachments": {},
   "cell_type": "markdown",
   "metadata": {},
   "source": [
    "# Exploring data"
   ]
  },
  {
   "cell_type": "code",
   "execution_count": 129,
   "metadata": {},
   "outputs": [
    {
     "name": "stderr",
     "output_type": "stream",
     "text": [
      "100%|██████████| 147/147 [00:00<00:00, 26612.69it/s]\n"
     ]
    }
   ],
   "source": [
    "# read nrm files\n",
    "nmr_folder = 'data/nmr_rand'\n",
    "df_nmr = {'fn': [], 'i': [], 'j': [], 'dij': []}\n",
    "for fn in tqdm(os.listdir(nmr_folder)):\n",
    "    if not fn.endswith('.nmr'):\n",
    "        continue\n",
    "    fn = os.path.join(nmr_folder, fn)\n",
    "    with open(fn, 'r') as fd:\n",
    "        for edge in fd:\n",
    "            i, j, dij = edge.split()[:3]\n",
    "            # parse the edge\n",
    "            i, j, dij = int(i), int(j), float(dij)\n",
    "            # add the edge\n",
    "            df_nmr['fn'].append(fn)\n",
    "            df_nmr['i'].append(i)\n",
    "            df_nmr['j'].append(j)\n",
    "            df_nmr['dij'].append(dij)\n",
    "# convert to dataframe\n",
    "df_nmr = pd.DataFrame(df_nmr)\n",
    "# add columns for dmax, pdb and chain\n",
    "df_nmr['DMAX'] = df_nmr['fn'].apply(lambda fn: int(fn.split('dmax_')[1].split('.')[0]))\n",
    "df_nmr['PDB'] = df_nmr['fn'].apply(lambda fn: fn.split('/')[-1].split('_')[0])\n",
    "df_nmr['chain'] = df_nmr['fn'].apply(lambda fn: fn.split('/')[-1].split('_')[2])"
   ]
  },
  {
   "cell_type": "code",
   "execution_count": 130,
   "metadata": {},
   "outputs": [
    {
     "data": {
      "text/html": [
       "<div>\n",
       "<style scoped>\n",
       "    .dataframe tbody tr th:only-of-type {\n",
       "        vertical-align: middle;\n",
       "    }\n",
       "\n",
       "    .dataframe tbody tr th {\n",
       "        vertical-align: top;\n",
       "    }\n",
       "\n",
       "    .dataframe thead th {\n",
       "        text-align: right;\n",
       "    }\n",
       "</style>\n",
       "<table border=\"1\" class=\"dataframe\">\n",
       "  <thead>\n",
       "    <tr style=\"text-align: right;\">\n",
       "      <th></th>\n",
       "      <th>PDB</th>\n",
       "      <th>|V|</th>\n",
       "      <th>|E_5|</th>\n",
       "      <th>|S_5|</th>\n",
       "    </tr>\n",
       "  </thead>\n",
       "  <tbody>\n",
       "    <tr>\n",
       "      <th>16</th>\n",
       "      <td>test5</td>\n",
       "      <td>17</td>\n",
       "      <td>5</td>\n",
       "      <td>7</td>\n",
       "    </tr>\n",
       "    <tr>\n",
       "      <th>14</th>\n",
       "      <td>test490</td>\n",
       "      <td>18</td>\n",
       "      <td>5</td>\n",
       "      <td>7</td>\n",
       "    </tr>\n",
       "    <tr>\n",
       "      <th>22</th>\n",
       "      <td>test591</td>\n",
       "      <td>18</td>\n",
       "      <td>5</td>\n",
       "      <td>8</td>\n",
       "    </tr>\n",
       "    <tr>\n",
       "      <th>4</th>\n",
       "      <td>test190</td>\n",
       "      <td>18</td>\n",
       "      <td>5</td>\n",
       "      <td>5</td>\n",
       "    </tr>\n",
       "    <tr>\n",
       "      <th>13</th>\n",
       "      <td>test475</td>\n",
       "      <td>18</td>\n",
       "      <td>5</td>\n",
       "      <td>6</td>\n",
       "    </tr>\n",
       "    <tr>\n",
       "      <th>47</th>\n",
       "      <td>test952</td>\n",
       "      <td>19</td>\n",
       "      <td>5</td>\n",
       "      <td>6</td>\n",
       "    </tr>\n",
       "    <tr>\n",
       "      <th>34</th>\n",
       "      <td>test763</td>\n",
       "      <td>19</td>\n",
       "      <td>5</td>\n",
       "      <td>8</td>\n",
       "    </tr>\n",
       "    <tr>\n",
       "      <th>35</th>\n",
       "      <td>test765</td>\n",
       "      <td>19</td>\n",
       "      <td>5</td>\n",
       "      <td>8</td>\n",
       "    </tr>\n",
       "    <tr>\n",
       "      <th>40</th>\n",
       "      <td>test874</td>\n",
       "      <td>19</td>\n",
       "      <td>5</td>\n",
       "      <td>6</td>\n",
       "    </tr>\n",
       "    <tr>\n",
       "      <th>30</th>\n",
       "      <td>test754</td>\n",
       "      <td>19</td>\n",
       "      <td>5</td>\n",
       "      <td>5</td>\n",
       "    </tr>\n",
       "    <tr>\n",
       "      <th>42</th>\n",
       "      <td>test886</td>\n",
       "      <td>19</td>\n",
       "      <td>5</td>\n",
       "      <td>9</td>\n",
       "    </tr>\n",
       "    <tr>\n",
       "      <th>48</th>\n",
       "      <td>test995</td>\n",
       "      <td>19</td>\n",
       "      <td>5</td>\n",
       "      <td>7</td>\n",
       "    </tr>\n",
       "    <tr>\n",
       "      <th>29</th>\n",
       "      <td>test748</td>\n",
       "      <td>19</td>\n",
       "      <td>5</td>\n",
       "      <td>8</td>\n",
       "    </tr>\n",
       "    <tr>\n",
       "      <th>9</th>\n",
       "      <td>test415</td>\n",
       "      <td>19</td>\n",
       "      <td>5</td>\n",
       "      <td>7</td>\n",
       "    </tr>\n",
       "    <tr>\n",
       "      <th>8</th>\n",
       "      <td>test390</td>\n",
       "      <td>19</td>\n",
       "      <td>5</td>\n",
       "      <td>6</td>\n",
       "    </tr>\n",
       "    <tr>\n",
       "      <th>7</th>\n",
       "      <td>test336</td>\n",
       "      <td>19</td>\n",
       "      <td>5</td>\n",
       "      <td>9</td>\n",
       "    </tr>\n",
       "    <tr>\n",
       "      <th>6</th>\n",
       "      <td>test309</td>\n",
       "      <td>19</td>\n",
       "      <td>5</td>\n",
       "      <td>6</td>\n",
       "    </tr>\n",
       "    <tr>\n",
       "      <th>46</th>\n",
       "      <td>test919</td>\n",
       "      <td>19</td>\n",
       "      <td>5</td>\n",
       "      <td>6</td>\n",
       "    </tr>\n",
       "    <tr>\n",
       "      <th>5</th>\n",
       "      <td>test307</td>\n",
       "      <td>19</td>\n",
       "      <td>5</td>\n",
       "      <td>7</td>\n",
       "    </tr>\n",
       "    <tr>\n",
       "      <th>31</th>\n",
       "      <td>test756</td>\n",
       "      <td>20</td>\n",
       "      <td>5</td>\n",
       "      <td>7</td>\n",
       "    </tr>\n",
       "    <tr>\n",
       "      <th>32</th>\n",
       "      <td>test757</td>\n",
       "      <td>20</td>\n",
       "      <td>5</td>\n",
       "      <td>7</td>\n",
       "    </tr>\n",
       "    <tr>\n",
       "      <th>33</th>\n",
       "      <td>test762</td>\n",
       "      <td>20</td>\n",
       "      <td>5</td>\n",
       "      <td>6</td>\n",
       "    </tr>\n",
       "    <tr>\n",
       "      <th>45</th>\n",
       "      <td>test912</td>\n",
       "      <td>20</td>\n",
       "      <td>5</td>\n",
       "      <td>8</td>\n",
       "    </tr>\n",
       "    <tr>\n",
       "      <th>41</th>\n",
       "      <td>test882</td>\n",
       "      <td>20</td>\n",
       "      <td>5</td>\n",
       "      <td>7</td>\n",
       "    </tr>\n",
       "    <tr>\n",
       "      <th>43</th>\n",
       "      <td>test892</td>\n",
       "      <td>20</td>\n",
       "      <td>5</td>\n",
       "      <td>7</td>\n",
       "    </tr>\n",
       "    <tr>\n",
       "      <th>37</th>\n",
       "      <td>test817</td>\n",
       "      <td>20</td>\n",
       "      <td>5</td>\n",
       "      <td>8</td>\n",
       "    </tr>\n",
       "    <tr>\n",
       "      <th>38</th>\n",
       "      <td>test818</td>\n",
       "      <td>20</td>\n",
       "      <td>5</td>\n",
       "      <td>8</td>\n",
       "    </tr>\n",
       "    <tr>\n",
       "      <th>39</th>\n",
       "      <td>test855</td>\n",
       "      <td>20</td>\n",
       "      <td>5</td>\n",
       "      <td>7</td>\n",
       "    </tr>\n",
       "    <tr>\n",
       "      <th>44</th>\n",
       "      <td>test904</td>\n",
       "      <td>20</td>\n",
       "      <td>5</td>\n",
       "      <td>6</td>\n",
       "    </tr>\n",
       "    <tr>\n",
       "      <th>36</th>\n",
       "      <td>test770</td>\n",
       "      <td>20</td>\n",
       "      <td>5</td>\n",
       "      <td>5</td>\n",
       "    </tr>\n",
       "    <tr>\n",
       "      <th>0</th>\n",
       "      <td>test102</td>\n",
       "      <td>20</td>\n",
       "      <td>5</td>\n",
       "      <td>7</td>\n",
       "    </tr>\n",
       "    <tr>\n",
       "      <th>27</th>\n",
       "      <td>test72</td>\n",
       "      <td>20</td>\n",
       "      <td>5</td>\n",
       "      <td>6</td>\n",
       "    </tr>\n",
       "    <tr>\n",
       "      <th>1</th>\n",
       "      <td>test139</td>\n",
       "      <td>20</td>\n",
       "      <td>5</td>\n",
       "      <td>6</td>\n",
       "    </tr>\n",
       "    <tr>\n",
       "      <th>2</th>\n",
       "      <td>test156</td>\n",
       "      <td>20</td>\n",
       "      <td>5</td>\n",
       "      <td>7</td>\n",
       "    </tr>\n",
       "    <tr>\n",
       "      <th>3</th>\n",
       "      <td>test189</td>\n",
       "      <td>20</td>\n",
       "      <td>5</td>\n",
       "      <td>7</td>\n",
       "    </tr>\n",
       "    <tr>\n",
       "      <th>10</th>\n",
       "      <td>test429</td>\n",
       "      <td>20</td>\n",
       "      <td>5</td>\n",
       "      <td>7</td>\n",
       "    </tr>\n",
       "    <tr>\n",
       "      <th>11</th>\n",
       "      <td>test445</td>\n",
       "      <td>20</td>\n",
       "      <td>5</td>\n",
       "      <td>7</td>\n",
       "    </tr>\n",
       "    <tr>\n",
       "      <th>12</th>\n",
       "      <td>test452</td>\n",
       "      <td>20</td>\n",
       "      <td>5</td>\n",
       "      <td>8</td>\n",
       "    </tr>\n",
       "    <tr>\n",
       "      <th>15</th>\n",
       "      <td>test495</td>\n",
       "      <td>20</td>\n",
       "      <td>5</td>\n",
       "      <td>7</td>\n",
       "    </tr>\n",
       "    <tr>\n",
       "      <th>17</th>\n",
       "      <td>test512</td>\n",
       "      <td>20</td>\n",
       "      <td>5</td>\n",
       "      <td>7</td>\n",
       "    </tr>\n",
       "    <tr>\n",
       "      <th>18</th>\n",
       "      <td>test526</td>\n",
       "      <td>20</td>\n",
       "      <td>5</td>\n",
       "      <td>6</td>\n",
       "    </tr>\n",
       "    <tr>\n",
       "      <th>19</th>\n",
       "      <td>test553</td>\n",
       "      <td>20</td>\n",
       "      <td>5</td>\n",
       "      <td>7</td>\n",
       "    </tr>\n",
       "    <tr>\n",
       "      <th>20</th>\n",
       "      <td>test584</td>\n",
       "      <td>20</td>\n",
       "      <td>5</td>\n",
       "      <td>7</td>\n",
       "    </tr>\n",
       "    <tr>\n",
       "      <th>21</th>\n",
       "      <td>test590</td>\n",
       "      <td>20</td>\n",
       "      <td>5</td>\n",
       "      <td>8</td>\n",
       "    </tr>\n",
       "    <tr>\n",
       "      <th>23</th>\n",
       "      <td>test639</td>\n",
       "      <td>20</td>\n",
       "      <td>5</td>\n",
       "      <td>7</td>\n",
       "    </tr>\n",
       "    <tr>\n",
       "      <th>25</th>\n",
       "      <td>test67</td>\n",
       "      <td>20</td>\n",
       "      <td>5</td>\n",
       "      <td>7</td>\n",
       "    </tr>\n",
       "    <tr>\n",
       "      <th>26</th>\n",
       "      <td>test674</td>\n",
       "      <td>20</td>\n",
       "      <td>5</td>\n",
       "      <td>7</td>\n",
       "    </tr>\n",
       "    <tr>\n",
       "      <th>28</th>\n",
       "      <td>test728</td>\n",
       "      <td>20</td>\n",
       "      <td>5</td>\n",
       "      <td>8</td>\n",
       "    </tr>\n",
       "    <tr>\n",
       "      <th>24</th>\n",
       "      <td>test669</td>\n",
       "      <td>20</td>\n",
       "      <td>5</td>\n",
       "      <td>8</td>\n",
       "    </tr>\n",
       "  </tbody>\n",
       "</table>\n",
       "</div>"
      ],
      "text/plain": [
       "        PDB  |V|  |E_5|  |S_5|\n",
       "16    test5   17      5      7\n",
       "14  test490   18      5      7\n",
       "22  test591   18      5      8\n",
       "4   test190   18      5      5\n",
       "13  test475   18      5      6\n",
       "47  test952   19      5      6\n",
       "34  test763   19      5      8\n",
       "35  test765   19      5      8\n",
       "40  test874   19      5      6\n",
       "30  test754   19      5      5\n",
       "42  test886   19      5      9\n",
       "48  test995   19      5      7\n",
       "29  test748   19      5      8\n",
       "9   test415   19      5      7\n",
       "8   test390   19      5      6\n",
       "7   test336   19      5      9\n",
       "6   test309   19      5      6\n",
       "46  test919   19      5      6\n",
       "5   test307   19      5      7\n",
       "31  test756   20      5      7\n",
       "32  test757   20      5      7\n",
       "33  test762   20      5      6\n",
       "45  test912   20      5      8\n",
       "41  test882   20      5      7\n",
       "43  test892   20      5      7\n",
       "37  test817   20      5      8\n",
       "38  test818   20      5      8\n",
       "39  test855   20      5      7\n",
       "44  test904   20      5      6\n",
       "36  test770   20      5      5\n",
       "0   test102   20      5      7\n",
       "27   test72   20      5      6\n",
       "1   test139   20      5      6\n",
       "2   test156   20      5      7\n",
       "3   test189   20      5      7\n",
       "10  test429   20      5      7\n",
       "11  test445   20      5      7\n",
       "12  test452   20      5      8\n",
       "15  test495   20      5      7\n",
       "17  test512   20      5      7\n",
       "18  test526   20      5      6\n",
       "19  test553   20      5      7\n",
       "20  test584   20      5      7\n",
       "21  test590   20      5      8\n",
       "23  test639   20      5      7\n",
       "25   test67   20      5      7\n",
       "26  test674   20      5      7\n",
       "28  test728   20      5      8\n",
       "24  test669   20      5      8"
      ]
     },
     "execution_count": 130,
     "metadata": {},
     "output_type": "execute_result"
    }
   ],
   "source": [
    "def get_lenS(fnmr):\n",
    "    flog = fnmr.replace('.nmr', '.log')\n",
    "    with open(flog, 'r') as fd:\n",
    "        for row in fd:\n",
    "            if '> lenS' in row:\n",
    "                return int(row.split()[-1])\n",
    "# columns of interest\n",
    "cols = ['PDB','DMAX','i','j','fn']\n",
    "dfA = df_nmr[cols].groupby(['PDB','DMAX']).agg({'i':'count', 'j':'max', 'fn':'max'}).reset_index()\n",
    "dfA.rename(columns={'i':'|E|', 'j':'|V|'}, inplace=True)\n",
    "# dict of dataframes, one for each dmax\n",
    "df_DMAX = {dmax:None for dmax in dfA['DMAX'].unique()} \n",
    "for dmax in df_DMAX:\n",
    "    df_DMAX[dmax] = dfA[dfA['DMAX'] == dmax].groupby(['PDB','|V|']).max().reset_index()\n",
    "    # rename columns\n",
    "    df_DMAX[dmax].rename(columns={'|E|':f'|E_{dmax}|','fn':f'|S_{dmax}|'}, inplace=True)\n",
    "    # parse the log file to get the length of S\n",
    "    df_DMAX[dmax][f'|S_{dmax}|'] = df_DMAX[dmax][f'|S_{dmax}|'].apply(get_lenS)\n",
    "    # drop redundant columns\n",
    "    if dmax == min(df_DMAX):\n",
    "        df_DMAX[dmax].drop(columns=['DMAX'], inplace=True)\n",
    "    else:\n",
    "        df_DMAX[dmax].drop(columns=['DMAX','|V|'], inplace=True)\n",
    "# merge all dataframes\n",
    "dfB = df_DMAX[min(df_DMAX)]\n",
    "for dmax in df_DMAX:\n",
    "    if dmax == min(df_DMAX):\n",
    "        continue\n",
    "    dfB = pd.merge(dfB, df_DMAX[dmax], on=['PDB'])\n",
    "# sort by |V|\n",
    "df_DMAX = dfB.sort_values(by=['|V|'])\n",
    "cols = df_DMAX.columns.tolist()\n",
    "# change df_MAX column order\n",
    "cols = cols[:2] + sorted(cols[2:])\n",
    "df_DMAX = df_DMAX[cols]\n",
    "# convert to latex\n",
    "tex = df_DMAX.to_latex(index=False,\n",
    "                column_format='lrrc',\n",
    "                header=cols, # list of column names\n",
    "                escape=False,\n",
    "                caption=f'Number of nodes and edges for each instance.',\n",
    "                label=f'tab:instances',\n",
    "                multicolumn=False,\n",
    "                multicolumn_format='c')\n",
    "# save tex to file\n",
    "with open('latex/tables/instances.tex', 'w') as fd:\n",
    "    fd.write(tex)\n",
    "# display\n",
    "df_DMAX"
   ]
  },
  {
   "cell_type": "code",
   "execution_count": 131,
   "metadata": {},
   "outputs": [
    {
     "name": "stderr",
     "output_type": "stream",
     "text": [
      "100%|██████████| 147/147 [00:00<00:00, 32226.78it/s]"
     ]
    },
    {
     "name": "stdout",
     "output_type": "stream",
     "text": [
      "   DMAX  |s|_max\n",
      "0     5        5\n"
     ]
    },
    {
     "name": "stderr",
     "output_type": "stream",
     "text": [
      "\n"
     ]
    }
   ],
   "source": [
    "# |s| is the number of edges covering the segment s\n",
    "df = {'PDB':[], 'DMAX':[], 'sid':[], '|s|':[]}\n",
    "for fn in tqdm(os.listdir(nmr_folder)):\n",
    "    # skip non-dmp files\n",
    "    if not fn.endswith('.dmp'):\n",
    "        continue\n",
    "    # get pdb and dmax\n",
    "    pdb = fn.split('_')[0]\n",
    "    dmax = int(fn.split('dmax_')[1].split('.')[0])\n",
    "    fn = os.path.join(nmr_folder, fn)\n",
    "    with open(fn, 'r') as fd:\n",
    "        reading = False # flag to start reading\n",
    "        for row in fd:\n",
    "            if 'segments [sid i j weight EID]:' in row:\n",
    "                reading = True\n",
    "                continue\n",
    "            if 'E [idx eid i j SID]:' in row:\n",
    "                break\n",
    "            if reading:\n",
    "                v = [int(s) for s in row.split()]\n",
    "                sid, i, j = int(v[0]), int(v[1]), int(v[2])                \n",
    "                df['PDB'].append(pdb)\n",
    "                df['DMAX'].append(dmax)\n",
    "                df['|s|'].append(len(v)-4)\n",
    "                df['sid'].append(sid)\n",
    "df = pd.DataFrame(df)\n",
    "dfA = df.groupby(['DMAX']).agg({'|s|':'max'}).reset_index().sort_values(by=['DMAX'])\n",
    "dfA.rename(columns={'|s|':'|s|_max'}, inplace=True)\n",
    "print(dfA)\n"
   ]
  },
  {
   "cell_type": "code",
   "execution_count": 132,
   "metadata": {},
   "outputs": [
    {
     "data": {
      "application/vnd.plotly.v1+json": {
       "config": {
        "plotlyServerURL": "https://plot.ly"
       },
       "data": [
        {
         "name": "dmax=5",
         "text": [
          "test590, sid:1",
          "test756, sid:7",
          "test756, sid:1",
          "test5, sid:1",
          "test336, sid:9",
          "test336, sid:7",
          "test336, sid:5",
          "test336, sid:1",
          "test584, sid:1",
          "test309, sid:6",
          "test309, sid:1",
          "test818, sid:8",
          "test818, sid:4",
          "test818, sid:1",
          "test139, sid:1",
          "test770, sid:1",
          "test855, sid:7",
          "test855, sid:1",
          "test591, sid:6",
          "test591, sid:8",
          "test189, sid:1",
          "test189, sid:7",
          "test748, sid:1",
          "test156, sid:1",
          "test757, sid:1",
          "test156, sid:7",
          "test765, sid:8",
          "test674, sid:1",
          "test190, sid:1",
          "test415, sid:1",
          "test415, sid:7",
          "test754, sid:1",
          "test765, sid:1",
          "test490, sid:1",
          "test995, sid:1",
          "test995, sid:3",
          "test669, sid:8",
          "test429, sid:1",
          "test429, sid:7",
          "test512, sid:1",
          "test72, sid:1",
          "test72, sid:5",
          "test669, sid:6",
          "test763, sid:1",
          "test763, sid:8",
          "test919, sid:4",
          "test919, sid:6",
          "test886, sid:1",
          "test886, sid:9",
          "test67, sid:2",
          "test763, sid:3",
          "test591, sid:1",
          "test669, sid:4",
          "test912, sid:8",
          "test817, sid:1",
          "test817, sid:3",
          "test817, sid:5",
          "test817, sid:7",
          "test892, sid:1",
          "test445, sid:1",
          "test669, sid:1",
          "test882, sid:1",
          "test874, sid:1",
          "test904, sid:1",
          "test904, sid:6",
          "test728, sid:1",
          "test728, sid:7",
          "test912, sid:1",
          "test882, sid:7",
          "test102, sid:7",
          "test67, sid:7",
          "test452, sid:8",
          "test526, sid:6",
          "test639, sid:1",
          "test495, sid:7",
          "test452, sid:1",
          "test390, sid:1",
          "test390, sid:6",
          "test307, sid:1",
          "test590, sid:8",
          "test475, sid:1",
          "test952, sid:1",
          "test495, sid:1",
          "test590, sid:3",
          "test553, sid:7",
          "test553, sid:1",
          "test475, sid:4",
          "test817, sid:8",
          "test892, sid:2",
          "test892, sid:3",
          "test892, sid:5",
          "test892, sid:7",
          "test445, sid:2",
          "test445, sid:5",
          "test584, sid:5",
          "test445, sid:7",
          "test882, sid:2",
          "test882, sid:4",
          "test882, sid:5",
          "test495, sid:2",
          "test874, sid:3",
          "test445, sid:3",
          "test584, sid:7",
          "test336, sid:4",
          "test336, sid:8",
          "test5, sid:2",
          "test756, sid:6",
          "test475, sid:6",
          "test757, sid:2",
          "test336, sid:6",
          "test490, sid:2",
          "test490, sid:7",
          "test995, sid:2",
          "test995, sid:4",
          "test995, sid:5",
          "test874, sid:6",
          "test817, sid:2",
          "test390, sid:2",
          "test817, sid:4",
          "test817, sid:6",
          "test336, sid:2",
          "test995, sid:7",
          "test757, sid:7",
          "test904, sid:3",
          "test72, sid:3",
          "test307, sid:2",
          "test72, sid:6",
          "test763, sid:2",
          "test763, sid:4",
          "test763, sid:5",
          "test763, sid:7",
          "test919, sid:3",
          "test72, sid:2",
          "test919, sid:5",
          "test886, sid:2",
          "test886, sid:4",
          "test886, sid:6",
          "test886, sid:8",
          "test67, sid:1",
          "test590, sid:2",
          "test67, sid:3",
          "test67, sid:4",
          "test590, sid:4",
          "test512, sid:7",
          "test512, sid:4",
          "test512, sid:2",
          "test584, sid:3",
          "test762, sid:2",
          "test762, sid:4",
          "test762, sid:6",
          "test452, sid:7",
          "test728, sid:2",
          "test728, sid:6",
          "test728, sid:8",
          "test912, sid:2",
          "test912, sid:5",
          "test912, sid:7",
          "test669, sid:3",
          "test452, sid:2",
          "test669, sid:5",
          "test669, sid:7",
          "test307, sid:7",
          "test429, sid:2",
          "test429, sid:3",
          "test307, sid:5",
          "test904, sid:2",
          "test67, sid:6",
          "test584, sid:2",
          "test190, sid:3",
          "test754, sid:3",
          "test139, sid:2",
          "test189, sid:6",
          "test639, sid:4",
          "test748, sid:2",
          "test952, sid:2",
          "test770, sid:5",
          "test748, sid:4",
          "test415, sid:4",
          "test770, sid:4",
          "test765, sid:3",
          "test770, sid:3",
          "test765, sid:2",
          "test770, sid:2",
          "test748, sid:6",
          "test415, sid:6",
          "test526, sid:1",
          "test748, sid:8",
          "test855, sid:6",
          "test952, sid:6",
          "test639, sid:2",
          "test855, sid:2",
          "test156, sid:2",
          "test754, sid:5",
          "test754, sid:2",
          "test765, sid:5",
          "test189, sid:2",
          "test415, sid:2",
          "test190, sid:5",
          "test674, sid:2",
          "test102, sid:5",
          "test309, sid:3",
          "test102, sid:6",
          "test309, sid:2",
          "test102, sid:1",
          "test591, sid:2",
          "test553, sid:6",
          "test818, sid:7",
          "test674, sid:7",
          "test818, sid:5",
          "test818, sid:2",
          "test818, sid:3",
          "test156, sid:4",
          "test190, sid:2",
          "test591, sid:5",
          "test526, sid:5",
          "test190, sid:4",
          "test765, sid:7",
          "test591, sid:7",
          "test139, sid:6",
          "test912, sid:6",
          "test156, sid:5",
          "test765, sid:6",
          "test526, sid:4",
          "test669, sid:2",
          "test452, sid:6",
          "test452, sid:4",
          "test728, sid:3",
          "test452, sid:3",
          "test912, sid:4",
          "test728, sid:5",
          "test156, sid:6",
          "test765, sid:4",
          "test512, sid:5",
          "test307, sid:6",
          "test67, sid:5",
          "test102, sid:2",
          "test591, sid:3",
          "test886, sid:7",
          "test591, sid:4",
          "test886, sid:5",
          "test886, sid:3",
          "test639, sid:7",
          "test590, sid:5",
          "test639, sid:5",
          "test919, sid:2",
          "test919, sid:1",
          "test590, sid:7",
          "test763, sid:6",
          "test189, sid:4",
          "test189, sid:5",
          "test639, sid:3",
          "test72, sid:4",
          "test748, sid:3",
          "test307, sid:3",
          "test748, sid:5",
          "test512, sid:6",
          "test762, sid:5",
          "test512, sid:3",
          "test748, sid:7",
          "test429, sid:6",
          "test429, sid:4",
          "test156, sid:3",
          "test674, sid:4",
          "test553, sid:4",
          "test390, sid:4",
          "test952, sid:4",
          "test995, sid:6",
          "test762, sid:3",
          "test390, sid:5",
          "test490, sid:3",
          "test757, sid:6",
          "test757, sid:5",
          "test757, sid:3",
          "test475, sid:2",
          "test139, sid:4",
          "test756, sid:4",
          "test855, sid:3",
          "test756, sid:2",
          "test5, sid:7",
          "test5, sid:5",
          "test5, sid:3",
          "test139, sid:5",
          "test475, sid:5",
          "test818, sid:6",
          "test336, sid:3",
          "test553, sid:2",
          "test553, sid:5",
          "test584, sid:6",
          "test584, sid:4",
          "test475, sid:3",
          "test952, sid:5",
          "test102, sid:4",
          "test754, sid:4",
          "test762, sid:1",
          "test674, sid:6",
          "test904, sid:5",
          "test904, sid:4",
          "test309, sid:5",
          "test874, sid:4",
          "test874, sid:2",
          "test495, sid:3",
          "test495, sid:6",
          "test882, sid:3",
          "test415, sid:3",
          "test495, sid:4",
          "test445, sid:6",
          "test882, sid:6",
          "test892, sid:6",
          "test415, sid:5",
          "test892, sid:4",
          "test445, sid:4",
          "test639, sid:6",
          "test5, sid:4",
          "test874, sid:5",
          "test390, sid:3",
          "test728, sid:4",
          "test429, sid:5",
          "test307, sid:4",
          "test855, sid:4",
          "test674, sid:3",
          "test309, sid:4",
          "test553, sid:3",
          "test855, sid:5",
          "test5, sid:6",
          "test674, sid:5",
          "test490, sid:4",
          "test590, sid:6",
          "test912, sid:3",
          "test756, sid:3",
          "test495, sid:5",
          "test756, sid:5",
          "test952, sid:3",
          "test189, sid:3",
          "test526, sid:2",
          "test139, sid:3",
          "test757, sid:4",
          "test490, sid:6",
          "test102, sid:3",
          "test452, sid:5",
          "test526, sid:3",
          "test490, sid:5"
         ],
         "type": "scatter",
         "x": [
          0.002932551319648094,
          0.005865102639296188,
          0.008797653958944282,
          0.011730205278592375,
          0.01466275659824047,
          0.017595307917888565,
          0.020527859237536656,
          0.02346041055718475,
          0.026392961876832845,
          0.02932551319648094,
          0.03225806451612903,
          0.03519061583577713,
          0.03812316715542522,
          0.04105571847507331,
          0.04398826979472141,
          0.0469208211143695,
          0.04985337243401759,
          0.05278592375366569,
          0.05571847507331378,
          0.05865102639296188,
          0.06158357771260997,
          0.06451612903225806,
          0.06744868035190615,
          0.07038123167155426,
          0.07331378299120235,
          0.07624633431085044,
          0.07917888563049853,
          0.08211143695014662,
          0.08504398826979472,
          0.08797653958944282,
          0.09090909090909091,
          0.093841642228739,
          0.0967741935483871,
          0.09970674486803519,
          0.10263929618768329,
          0.10557184750733138,
          0.10850439882697947,
          0.11143695014662756,
          0.11436950146627566,
          0.11730205278592376,
          0.12023460410557185,
          0.12316715542521994,
          0.12609970674486803,
          0.12903225806451613,
          0.13196480938416422,
          0.1348973607038123,
          0.1378299120234604,
          0.14076246334310852,
          0.1436950146627566,
          0.1466275659824047,
          0.1495601173020528,
          0.15249266862170088,
          0.15542521994134897,
          0.15835777126099707,
          0.16129032258064516,
          0.16422287390029325,
          0.16715542521994134,
          0.17008797653958943,
          0.17302052785923755,
          0.17595307917888564,
          0.17888563049853373,
          0.18181818181818182,
          0.18475073313782991,
          0.187683284457478,
          0.1906158357771261,
          0.1935483870967742,
          0.19648093841642228,
          0.19941348973607037,
          0.20234604105571846,
          0.20527859237536658,
          0.20821114369501467,
          0.21114369501466276,
          0.21407624633431085,
          0.21700879765395895,
          0.21994134897360704,
          0.22287390029325513,
          0.22580645161290322,
          0.2287390029325513,
          0.2316715542521994,
          0.23460410557184752,
          0.2375366568914956,
          0.2404692082111437,
          0.2434017595307918,
          0.24633431085043989,
          0.24926686217008798,
          0.25219941348973607,
          0.25513196480938416,
          0.25806451612903225,
          0.26099706744868034,
          0.26392961876832843,
          0.2668621700879765,
          0.2697947214076246,
          0.2727272727272727,
          0.2756598240469208,
          0.2785923753665689,
          0.28152492668621704,
          0.2844574780058651,
          0.2873900293255132,
          0.2903225806451613,
          0.2932551319648094,
          0.2961876832844575,
          0.2991202346041056,
          0.3020527859237537,
          0.30498533724340177,
          0.30791788856304986,
          0.31085043988269795,
          0.31378299120234604,
          0.31671554252199413,
          0.3196480938416422,
          0.3225806451612903,
          0.3255131964809384,
          0.3284457478005865,
          0.3313782991202346,
          0.3343108504398827,
          0.33724340175953077,
          0.34017595307917886,
          0.34310850439882695,
          0.3460410557184751,
          0.3489736070381232,
          0.3519061583577713,
          0.3548387096774194,
          0.35777126099706746,
          0.36070381231671556,
          0.36363636363636365,
          0.36656891495601174,
          0.36950146627565983,
          0.3724340175953079,
          0.375366568914956,
          0.3782991202346041,
          0.3812316715542522,
          0.3841642228739003,
          0.3870967741935484,
          0.39002932551319647,
          0.39296187683284456,
          0.39589442815249265,
          0.39882697947214074,
          0.40175953079178883,
          0.4046920821114369,
          0.40762463343108507,
          0.41055718475073316,
          0.41348973607038125,
          0.41642228739002934,
          0.41935483870967744,
          0.4222873900293255,
          0.4252199413489736,
          0.4281524926686217,
          0.4310850439882698,
          0.4340175953079179,
          0.436950146627566,
          0.4398826979472141,
          0.44281524926686217,
          0.44574780058651026,
          0.44868035190615835,
          0.45161290322580644,
          0.45454545454545453,
          0.4574780058651026,
          0.4604105571847507,
          0.4633431085043988,
          0.4662756598240469,
          0.46920821114369504,
          0.47214076246334313,
          0.4750733137829912,
          0.4780058651026393,
          0.4809384164222874,
          0.4838709677419355,
          0.4868035190615836,
          0.4897360703812317,
          0.49266862170087977,
          0.49560117302052786,
          0.49853372434017595,
          0.501466275659824,
          0.5043988269794721,
          0.5073313782991202,
          0.5102639296187683,
          0.5131964809384164,
          0.5161290322580645,
          0.5190615835777126,
          0.5219941348973607,
          0.5249266862170088,
          0.5278592375366569,
          0.530791788856305,
          0.533724340175953,
          0.5366568914956011,
          0.5395894428152492,
          0.5425219941348973,
          0.5454545454545454,
          0.5483870967741935,
          0.5513196480938416,
          0.5542521994134897,
          0.5571847507331378,
          0.5601173020527859,
          0.5630498533724341,
          0.5659824046920822,
          0.5689149560117303,
          0.5718475073313783,
          0.5747800586510264,
          0.5777126099706745,
          0.5806451612903226,
          0.5835777126099707,
          0.5865102639296188,
          0.5894428152492669,
          0.592375366568915,
          0.5953079178885631,
          0.5982404692082112,
          0.6011730205278593,
          0.6041055718475073,
          0.6070381231671554,
          0.6099706744868035,
          0.6129032258064516,
          0.6158357771260997,
          0.6187683284457478,
          0.6217008797653959,
          0.624633431085044,
          0.6275659824046921,
          0.6304985337243402,
          0.6334310850439883,
          0.6363636363636364,
          0.6392961876832844,
          0.6422287390029325,
          0.6451612903225806,
          0.6480938416422287,
          0.6510263929618768,
          0.6539589442815249,
          0.656891495601173,
          0.6598240469208211,
          0.6627565982404692,
          0.6656891495601173,
          0.6686217008797654,
          0.6715542521994134,
          0.6744868035190615,
          0.6774193548387096,
          0.6803519061583577,
          0.6832844574780058,
          0.6862170087976539,
          0.6891495601173021,
          0.6920821114369502,
          0.6950146627565983,
          0.6979472140762464,
          0.7008797653958945,
          0.7038123167155426,
          0.7067448680351907,
          0.7096774193548387,
          0.7126099706744868,
          0.7155425219941349,
          0.718475073313783,
          0.7214076246334311,
          0.7243401759530792,
          0.7272727272727273,
          0.7302052785923754,
          0.7331378299120235,
          0.7360703812316716,
          0.7390029325513197,
          0.7419354838709677,
          0.7448680351906158,
          0.7478005865102639,
          0.750733137829912,
          0.7536656891495601,
          0.7565982404692082,
          0.7595307917888563,
          0.7624633431085044,
          0.7653958944281525,
          0.7683284457478006,
          0.7712609970674487,
          0.7741935483870968,
          0.7771260997067448,
          0.7800586510263929,
          0.782991202346041,
          0.7859237536656891,
          0.7888563049853372,
          0.7917888563049853,
          0.7947214076246334,
          0.7976539589442815,
          0.8005865102639296,
          0.8035190615835777,
          0.8064516129032258,
          0.8093841642228738,
          0.8123167155425219,
          0.8152492668621701,
          0.8181818181818182,
          0.8211143695014663,
          0.8240469208211144,
          0.8269794721407625,
          0.8299120234604106,
          0.8328445747800587,
          0.8357771260997068,
          0.8387096774193549,
          0.841642228739003,
          0.844574780058651,
          0.8475073313782991,
          0.8504398826979472,
          0.8533724340175953,
          0.8563049853372434,
          0.8592375366568915,
          0.8621700879765396,
          0.8651026392961877,
          0.8680351906158358,
          0.8709677419354839,
          0.873900293255132,
          0.8768328445747801,
          0.8797653958944281,
          0.8826979472140762,
          0.8856304985337243,
          0.8885630498533724,
          0.8914956011730205,
          0.8944281524926686,
          0.8973607038123167,
          0.9002932551319648,
          0.9032258064516129,
          0.906158357771261,
          0.9090909090909091,
          0.9120234604105572,
          0.9149560117302052,
          0.9178885630498533,
          0.9208211143695014,
          0.9237536656891495,
          0.9266862170087976,
          0.9296187683284457,
          0.9325513196480938,
          0.9354838709677419,
          0.9384164222873901,
          0.9413489736070382,
          0.9442815249266863,
          0.9472140762463344,
          0.9501466275659824,
          0.9530791788856305,
          0.9560117302052786,
          0.9589442815249267,
          0.9618768328445748,
          0.9648093841642229,
          0.967741935483871,
          0.9706744868035191,
          0.9736070381231672,
          0.9765395894428153,
          0.9794721407624634,
          0.9824046920821115,
          0.9853372434017595,
          0.9882697947214076,
          0.9912023460410557,
          0.9941348973607038,
          0.9970674486803519,
          1
         ],
         "y": [
          1,
          1,
          1,
          1,
          1,
          1,
          1,
          1,
          1,
          1,
          1,
          1,
          1,
          1,
          1,
          1,
          1,
          1,
          1,
          1,
          1,
          1,
          1,
          1,
          1,
          1,
          1,
          1,
          1,
          1,
          1,
          1,
          1,
          1,
          1,
          1,
          1,
          1,
          1,
          1,
          1,
          1,
          1,
          1,
          1,
          1,
          1,
          1,
          1,
          1,
          1,
          1,
          1,
          1,
          1,
          1,
          1,
          1,
          1,
          1,
          1,
          1,
          1,
          1,
          1,
          1,
          1,
          1,
          1,
          1,
          1,
          1,
          1,
          1,
          1,
          1,
          1,
          1,
          1,
          1,
          1,
          1,
          1,
          1,
          1,
          1,
          2,
          2,
          2,
          2,
          2,
          2,
          2,
          2,
          2,
          2,
          2,
          2,
          2,
          2,
          2,
          2,
          2,
          2,
          2,
          2,
          2,
          2,
          2,
          2,
          2,
          2,
          2,
          2,
          2,
          2,
          2,
          2,
          2,
          2,
          2,
          2,
          2,
          2,
          2,
          2,
          2,
          2,
          2,
          2,
          2,
          2,
          2,
          2,
          2,
          2,
          2,
          2,
          2,
          2,
          2,
          2,
          2,
          2,
          2,
          2,
          2,
          2,
          2,
          2,
          2,
          2,
          2,
          2,
          2,
          2,
          2,
          2,
          2,
          2,
          2,
          2,
          2,
          2,
          2,
          2,
          2,
          2,
          2,
          2,
          2,
          2,
          2,
          2,
          2,
          2,
          2,
          2,
          2,
          2,
          2,
          2,
          2,
          2,
          2,
          2,
          2,
          2,
          2,
          2,
          2,
          2,
          2,
          2,
          2,
          2,
          2,
          2,
          2,
          2,
          2,
          2,
          2,
          2,
          2,
          2,
          2,
          2,
          2,
          2,
          2,
          2,
          2,
          2,
          2,
          2,
          2,
          2,
          2,
          3,
          3,
          3,
          3,
          3,
          3,
          3,
          3,
          3,
          3,
          3,
          3,
          3,
          3,
          3,
          3,
          3,
          3,
          3,
          3,
          3,
          3,
          3,
          3,
          3,
          3,
          3,
          3,
          3,
          3,
          3,
          3,
          3,
          3,
          3,
          3,
          3,
          3,
          3,
          3,
          3,
          3,
          3,
          3,
          3,
          3,
          3,
          3,
          3,
          3,
          3,
          3,
          3,
          3,
          3,
          3,
          3,
          3,
          3,
          3,
          3,
          3,
          3,
          3,
          3,
          3,
          3,
          3,
          3,
          3,
          3,
          3,
          3,
          3,
          3,
          3,
          3,
          3,
          3,
          3,
          3,
          3,
          3,
          3,
          3,
          3,
          3,
          3,
          3,
          3,
          3,
          3,
          4,
          4,
          4,
          4,
          4,
          4,
          4,
          4,
          4,
          4,
          4,
          4,
          4,
          4,
          4,
          4,
          4,
          4,
          4,
          4,
          4,
          4,
          4,
          4,
          4,
          4,
          4,
          4,
          5,
          5
         ]
        }
       ],
       "layout": {
        "barmode": "overlay",
        "template": {
         "data": {
          "bar": [
           {
            "error_x": {
             "color": "#2a3f5f"
            },
            "error_y": {
             "color": "#2a3f5f"
            },
            "marker": {
             "line": {
              "color": "#E5ECF6",
              "width": 0.5
             },
             "pattern": {
              "fillmode": "overlay",
              "size": 10,
              "solidity": 0.2
             }
            },
            "type": "bar"
           }
          ],
          "barpolar": [
           {
            "marker": {
             "line": {
              "color": "#E5ECF6",
              "width": 0.5
             },
             "pattern": {
              "fillmode": "overlay",
              "size": 10,
              "solidity": 0.2
             }
            },
            "type": "barpolar"
           }
          ],
          "carpet": [
           {
            "aaxis": {
             "endlinecolor": "#2a3f5f",
             "gridcolor": "white",
             "linecolor": "white",
             "minorgridcolor": "white",
             "startlinecolor": "#2a3f5f"
            },
            "baxis": {
             "endlinecolor": "#2a3f5f",
             "gridcolor": "white",
             "linecolor": "white",
             "minorgridcolor": "white",
             "startlinecolor": "#2a3f5f"
            },
            "type": "carpet"
           }
          ],
          "choropleth": [
           {
            "colorbar": {
             "outlinewidth": 0,
             "ticks": ""
            },
            "type": "choropleth"
           }
          ],
          "contour": [
           {
            "colorbar": {
             "outlinewidth": 0,
             "ticks": ""
            },
            "colorscale": [
             [
              0,
              "#0d0887"
             ],
             [
              0.1111111111111111,
              "#46039f"
             ],
             [
              0.2222222222222222,
              "#7201a8"
             ],
             [
              0.3333333333333333,
              "#9c179e"
             ],
             [
              0.4444444444444444,
              "#bd3786"
             ],
             [
              0.5555555555555556,
              "#d8576b"
             ],
             [
              0.6666666666666666,
              "#ed7953"
             ],
             [
              0.7777777777777778,
              "#fb9f3a"
             ],
             [
              0.8888888888888888,
              "#fdca26"
             ],
             [
              1,
              "#f0f921"
             ]
            ],
            "type": "contour"
           }
          ],
          "contourcarpet": [
           {
            "colorbar": {
             "outlinewidth": 0,
             "ticks": ""
            },
            "type": "contourcarpet"
           }
          ],
          "heatmap": [
           {
            "colorbar": {
             "outlinewidth": 0,
             "ticks": ""
            },
            "colorscale": [
             [
              0,
              "#0d0887"
             ],
             [
              0.1111111111111111,
              "#46039f"
             ],
             [
              0.2222222222222222,
              "#7201a8"
             ],
             [
              0.3333333333333333,
              "#9c179e"
             ],
             [
              0.4444444444444444,
              "#bd3786"
             ],
             [
              0.5555555555555556,
              "#d8576b"
             ],
             [
              0.6666666666666666,
              "#ed7953"
             ],
             [
              0.7777777777777778,
              "#fb9f3a"
             ],
             [
              0.8888888888888888,
              "#fdca26"
             ],
             [
              1,
              "#f0f921"
             ]
            ],
            "type": "heatmap"
           }
          ],
          "heatmapgl": [
           {
            "colorbar": {
             "outlinewidth": 0,
             "ticks": ""
            },
            "colorscale": [
             [
              0,
              "#0d0887"
             ],
             [
              0.1111111111111111,
              "#46039f"
             ],
             [
              0.2222222222222222,
              "#7201a8"
             ],
             [
              0.3333333333333333,
              "#9c179e"
             ],
             [
              0.4444444444444444,
              "#bd3786"
             ],
             [
              0.5555555555555556,
              "#d8576b"
             ],
             [
              0.6666666666666666,
              "#ed7953"
             ],
             [
              0.7777777777777778,
              "#fb9f3a"
             ],
             [
              0.8888888888888888,
              "#fdca26"
             ],
             [
              1,
              "#f0f921"
             ]
            ],
            "type": "heatmapgl"
           }
          ],
          "histogram": [
           {
            "marker": {
             "pattern": {
              "fillmode": "overlay",
              "size": 10,
              "solidity": 0.2
             }
            },
            "type": "histogram"
           }
          ],
          "histogram2d": [
           {
            "colorbar": {
             "outlinewidth": 0,
             "ticks": ""
            },
            "colorscale": [
             [
              0,
              "#0d0887"
             ],
             [
              0.1111111111111111,
              "#46039f"
             ],
             [
              0.2222222222222222,
              "#7201a8"
             ],
             [
              0.3333333333333333,
              "#9c179e"
             ],
             [
              0.4444444444444444,
              "#bd3786"
             ],
             [
              0.5555555555555556,
              "#d8576b"
             ],
             [
              0.6666666666666666,
              "#ed7953"
             ],
             [
              0.7777777777777778,
              "#fb9f3a"
             ],
             [
              0.8888888888888888,
              "#fdca26"
             ],
             [
              1,
              "#f0f921"
             ]
            ],
            "type": "histogram2d"
           }
          ],
          "histogram2dcontour": [
           {
            "colorbar": {
             "outlinewidth": 0,
             "ticks": ""
            },
            "colorscale": [
             [
              0,
              "#0d0887"
             ],
             [
              0.1111111111111111,
              "#46039f"
             ],
             [
              0.2222222222222222,
              "#7201a8"
             ],
             [
              0.3333333333333333,
              "#9c179e"
             ],
             [
              0.4444444444444444,
              "#bd3786"
             ],
             [
              0.5555555555555556,
              "#d8576b"
             ],
             [
              0.6666666666666666,
              "#ed7953"
             ],
             [
              0.7777777777777778,
              "#fb9f3a"
             ],
             [
              0.8888888888888888,
              "#fdca26"
             ],
             [
              1,
              "#f0f921"
             ]
            ],
            "type": "histogram2dcontour"
           }
          ],
          "mesh3d": [
           {
            "colorbar": {
             "outlinewidth": 0,
             "ticks": ""
            },
            "type": "mesh3d"
           }
          ],
          "parcoords": [
           {
            "line": {
             "colorbar": {
              "outlinewidth": 0,
              "ticks": ""
             }
            },
            "type": "parcoords"
           }
          ],
          "pie": [
           {
            "automargin": true,
            "type": "pie"
           }
          ],
          "scatter": [
           {
            "fillpattern": {
             "fillmode": "overlay",
             "size": 10,
             "solidity": 0.2
            },
            "type": "scatter"
           }
          ],
          "scatter3d": [
           {
            "line": {
             "colorbar": {
              "outlinewidth": 0,
              "ticks": ""
             }
            },
            "marker": {
             "colorbar": {
              "outlinewidth": 0,
              "ticks": ""
             }
            },
            "type": "scatter3d"
           }
          ],
          "scattercarpet": [
           {
            "marker": {
             "colorbar": {
              "outlinewidth": 0,
              "ticks": ""
             }
            },
            "type": "scattercarpet"
           }
          ],
          "scattergeo": [
           {
            "marker": {
             "colorbar": {
              "outlinewidth": 0,
              "ticks": ""
             }
            },
            "type": "scattergeo"
           }
          ],
          "scattergl": [
           {
            "marker": {
             "colorbar": {
              "outlinewidth": 0,
              "ticks": ""
             }
            },
            "type": "scattergl"
           }
          ],
          "scattermapbox": [
           {
            "marker": {
             "colorbar": {
              "outlinewidth": 0,
              "ticks": ""
             }
            },
            "type": "scattermapbox"
           }
          ],
          "scatterpolar": [
           {
            "marker": {
             "colorbar": {
              "outlinewidth": 0,
              "ticks": ""
             }
            },
            "type": "scatterpolar"
           }
          ],
          "scatterpolargl": [
           {
            "marker": {
             "colorbar": {
              "outlinewidth": 0,
              "ticks": ""
             }
            },
            "type": "scatterpolargl"
           }
          ],
          "scatterternary": [
           {
            "marker": {
             "colorbar": {
              "outlinewidth": 0,
              "ticks": ""
             }
            },
            "type": "scatterternary"
           }
          ],
          "surface": [
           {
            "colorbar": {
             "outlinewidth": 0,
             "ticks": ""
            },
            "colorscale": [
             [
              0,
              "#0d0887"
             ],
             [
              0.1111111111111111,
              "#46039f"
             ],
             [
              0.2222222222222222,
              "#7201a8"
             ],
             [
              0.3333333333333333,
              "#9c179e"
             ],
             [
              0.4444444444444444,
              "#bd3786"
             ],
             [
              0.5555555555555556,
              "#d8576b"
             ],
             [
              0.6666666666666666,
              "#ed7953"
             ],
             [
              0.7777777777777778,
              "#fb9f3a"
             ],
             [
              0.8888888888888888,
              "#fdca26"
             ],
             [
              1,
              "#f0f921"
             ]
            ],
            "type": "surface"
           }
          ],
          "table": [
           {
            "cells": {
             "fill": {
              "color": "#EBF0F8"
             },
             "line": {
              "color": "white"
             }
            },
            "header": {
             "fill": {
              "color": "#C8D4E3"
             },
             "line": {
              "color": "white"
             }
            },
            "type": "table"
           }
          ]
         },
         "layout": {
          "annotationdefaults": {
           "arrowcolor": "#2a3f5f",
           "arrowhead": 0,
           "arrowwidth": 1
          },
          "autotypenumbers": "strict",
          "coloraxis": {
           "colorbar": {
            "outlinewidth": 0,
            "ticks": ""
           }
          },
          "colorscale": {
           "diverging": [
            [
             0,
             "#8e0152"
            ],
            [
             0.1,
             "#c51b7d"
            ],
            [
             0.2,
             "#de77ae"
            ],
            [
             0.3,
             "#f1b6da"
            ],
            [
             0.4,
             "#fde0ef"
            ],
            [
             0.5,
             "#f7f7f7"
            ],
            [
             0.6,
             "#e6f5d0"
            ],
            [
             0.7,
             "#b8e186"
            ],
            [
             0.8,
             "#7fbc41"
            ],
            [
             0.9,
             "#4d9221"
            ],
            [
             1,
             "#276419"
            ]
           ],
           "sequential": [
            [
             0,
             "#0d0887"
            ],
            [
             0.1111111111111111,
             "#46039f"
            ],
            [
             0.2222222222222222,
             "#7201a8"
            ],
            [
             0.3333333333333333,
             "#9c179e"
            ],
            [
             0.4444444444444444,
             "#bd3786"
            ],
            [
             0.5555555555555556,
             "#d8576b"
            ],
            [
             0.6666666666666666,
             "#ed7953"
            ],
            [
             0.7777777777777778,
             "#fb9f3a"
            ],
            [
             0.8888888888888888,
             "#fdca26"
            ],
            [
             1,
             "#f0f921"
            ]
           ],
           "sequentialminus": [
            [
             0,
             "#0d0887"
            ],
            [
             0.1111111111111111,
             "#46039f"
            ],
            [
             0.2222222222222222,
             "#7201a8"
            ],
            [
             0.3333333333333333,
             "#9c179e"
            ],
            [
             0.4444444444444444,
             "#bd3786"
            ],
            [
             0.5555555555555556,
             "#d8576b"
            ],
            [
             0.6666666666666666,
             "#ed7953"
            ],
            [
             0.7777777777777778,
             "#fb9f3a"
            ],
            [
             0.8888888888888888,
             "#fdca26"
            ],
            [
             1,
             "#f0f921"
            ]
           ]
          },
          "colorway": [
           "#636efa",
           "#EF553B",
           "#00cc96",
           "#ab63fa",
           "#FFA15A",
           "#19d3f3",
           "#FF6692",
           "#B6E880",
           "#FF97FF",
           "#FECB52"
          ],
          "font": {
           "color": "#2a3f5f"
          },
          "geo": {
           "bgcolor": "white",
           "lakecolor": "white",
           "landcolor": "#E5ECF6",
           "showlakes": true,
           "showland": true,
           "subunitcolor": "white"
          },
          "hoverlabel": {
           "align": "left"
          },
          "hovermode": "closest",
          "mapbox": {
           "style": "light"
          },
          "paper_bgcolor": "white",
          "plot_bgcolor": "#E5ECF6",
          "polar": {
           "angularaxis": {
            "gridcolor": "white",
            "linecolor": "white",
            "ticks": ""
           },
           "bgcolor": "#E5ECF6",
           "radialaxis": {
            "gridcolor": "white",
            "linecolor": "white",
            "ticks": ""
           }
          },
          "scene": {
           "xaxis": {
            "backgroundcolor": "#E5ECF6",
            "gridcolor": "white",
            "gridwidth": 2,
            "linecolor": "white",
            "showbackground": true,
            "ticks": "",
            "zerolinecolor": "white"
           },
           "yaxis": {
            "backgroundcolor": "#E5ECF6",
            "gridcolor": "white",
            "gridwidth": 2,
            "linecolor": "white",
            "showbackground": true,
            "ticks": "",
            "zerolinecolor": "white"
           },
           "zaxis": {
            "backgroundcolor": "#E5ECF6",
            "gridcolor": "white",
            "gridwidth": 2,
            "linecolor": "white",
            "showbackground": true,
            "ticks": "",
            "zerolinecolor": "white"
           }
          },
          "shapedefaults": {
           "line": {
            "color": "#2a3f5f"
           }
          },
          "ternary": {
           "aaxis": {
            "gridcolor": "white",
            "linecolor": "white",
            "ticks": ""
           },
           "baxis": {
            "gridcolor": "white",
            "linecolor": "white",
            "ticks": ""
           },
           "bgcolor": "#E5ECF6",
           "caxis": {
            "gridcolor": "white",
            "linecolor": "white",
            "ticks": ""
           }
          },
          "title": {
           "x": 0.05
          },
          "xaxis": {
           "automargin": true,
           "gridcolor": "white",
           "linecolor": "white",
           "ticks": "",
           "title": {
            "standoff": 15
           },
           "zerolinecolor": "white",
           "zerolinewidth": 2
          },
          "yaxis": {
           "automargin": true,
           "gridcolor": "white",
           "linecolor": "white",
           "ticks": "",
           "title": {
            "standoff": 15
           },
           "zerolinecolor": "white",
           "zerolinewidth": 2
          }
         }
        },
        "title": {
         "text": "CDF of number of edges per segment"
        },
        "xaxis": {
         "range": [
          0,
          1.05
         ],
         "title": {
          "text": "CDF"
         }
        },
        "yaxis": {
         "title": {
          "text": "Number of edges on a given segment"
         },
         "type": "log"
        }
       }
      },
      "text/html": [
       "<div>                            <div id=\"4fc3d137-fb22-49af-b1c1-da5d7dc38d33\" class=\"plotly-graph-div\" style=\"height:525px; width:100%;\"></div>            <script type=\"text/javascript\">                require([\"plotly\"], function(Plotly) {                    window.PLOTLYENV=window.PLOTLYENV || {};                                    if (document.getElementById(\"4fc3d137-fb22-49af-b1c1-da5d7dc38d33\")) {                    Plotly.newPlot(                        \"4fc3d137-fb22-49af-b1c1-da5d7dc38d33\",                        [{\"name\":\"dmax=5\",\"x\":[0.002932551319648094,0.005865102639296188,0.008797653958944282,0.011730205278592375,0.01466275659824047,0.017595307917888565,0.020527859237536656,0.02346041055718475,0.026392961876832845,0.02932551319648094,0.03225806451612903,0.03519061583577713,0.03812316715542522,0.04105571847507331,0.04398826979472141,0.0469208211143695,0.04985337243401759,0.05278592375366569,0.05571847507331378,0.05865102639296188,0.06158357771260997,0.06451612903225806,0.06744868035190615,0.07038123167155426,0.07331378299120235,0.07624633431085044,0.07917888563049853,0.08211143695014662,0.08504398826979472,0.08797653958944282,0.09090909090909091,0.093841642228739,0.0967741935483871,0.09970674486803519,0.10263929618768329,0.10557184750733138,0.10850439882697947,0.11143695014662756,0.11436950146627566,0.11730205278592376,0.12023460410557185,0.12316715542521994,0.12609970674486803,0.12903225806451613,0.13196480938416422,0.1348973607038123,0.1378299120234604,0.14076246334310852,0.1436950146627566,0.1466275659824047,0.1495601173020528,0.15249266862170088,0.15542521994134897,0.15835777126099707,0.16129032258064516,0.16422287390029325,0.16715542521994134,0.17008797653958943,0.17302052785923755,0.17595307917888564,0.17888563049853373,0.18181818181818182,0.18475073313782991,0.187683284457478,0.1906158357771261,0.1935483870967742,0.19648093841642228,0.19941348973607037,0.20234604105571846,0.20527859237536658,0.20821114369501467,0.21114369501466276,0.21407624633431085,0.21700879765395895,0.21994134897360704,0.22287390029325513,0.22580645161290322,0.2287390029325513,0.2316715542521994,0.23460410557184752,0.2375366568914956,0.2404692082111437,0.2434017595307918,0.24633431085043989,0.24926686217008798,0.25219941348973607,0.25513196480938416,0.25806451612903225,0.26099706744868034,0.26392961876832843,0.2668621700879765,0.2697947214076246,0.2727272727272727,0.2756598240469208,0.2785923753665689,0.28152492668621704,0.2844574780058651,0.2873900293255132,0.2903225806451613,0.2932551319648094,0.2961876832844575,0.2991202346041056,0.3020527859237537,0.30498533724340177,0.30791788856304986,0.31085043988269795,0.31378299120234604,0.31671554252199413,0.3196480938416422,0.3225806451612903,0.3255131964809384,0.3284457478005865,0.3313782991202346,0.3343108504398827,0.33724340175953077,0.34017595307917886,0.34310850439882695,0.3460410557184751,0.3489736070381232,0.3519061583577713,0.3548387096774194,0.35777126099706746,0.36070381231671556,0.36363636363636365,0.36656891495601174,0.36950146627565983,0.3724340175953079,0.375366568914956,0.3782991202346041,0.3812316715542522,0.3841642228739003,0.3870967741935484,0.39002932551319647,0.39296187683284456,0.39589442815249265,0.39882697947214074,0.40175953079178883,0.4046920821114369,0.40762463343108507,0.41055718475073316,0.41348973607038125,0.41642228739002934,0.41935483870967744,0.4222873900293255,0.4252199413489736,0.4281524926686217,0.4310850439882698,0.4340175953079179,0.436950146627566,0.4398826979472141,0.44281524926686217,0.44574780058651026,0.44868035190615835,0.45161290322580644,0.45454545454545453,0.4574780058651026,0.4604105571847507,0.4633431085043988,0.4662756598240469,0.46920821114369504,0.47214076246334313,0.4750733137829912,0.4780058651026393,0.4809384164222874,0.4838709677419355,0.4868035190615836,0.4897360703812317,0.49266862170087977,0.49560117302052786,0.49853372434017595,0.501466275659824,0.5043988269794721,0.5073313782991202,0.5102639296187683,0.5131964809384164,0.5161290322580645,0.5190615835777126,0.5219941348973607,0.5249266862170088,0.5278592375366569,0.530791788856305,0.533724340175953,0.5366568914956011,0.5395894428152492,0.5425219941348973,0.5454545454545454,0.5483870967741935,0.5513196480938416,0.5542521994134897,0.5571847507331378,0.5601173020527859,0.5630498533724341,0.5659824046920822,0.5689149560117303,0.5718475073313783,0.5747800586510264,0.5777126099706745,0.5806451612903226,0.5835777126099707,0.5865102639296188,0.5894428152492669,0.592375366568915,0.5953079178885631,0.5982404692082112,0.6011730205278593,0.6041055718475073,0.6070381231671554,0.6099706744868035,0.6129032258064516,0.6158357771260997,0.6187683284457478,0.6217008797653959,0.624633431085044,0.6275659824046921,0.6304985337243402,0.6334310850439883,0.6363636363636364,0.6392961876832844,0.6422287390029325,0.6451612903225806,0.6480938416422287,0.6510263929618768,0.6539589442815249,0.656891495601173,0.6598240469208211,0.6627565982404692,0.6656891495601173,0.6686217008797654,0.6715542521994134,0.6744868035190615,0.6774193548387096,0.6803519061583577,0.6832844574780058,0.6862170087976539,0.6891495601173021,0.6920821114369502,0.6950146627565983,0.6979472140762464,0.7008797653958945,0.7038123167155426,0.7067448680351907,0.7096774193548387,0.7126099706744868,0.7155425219941349,0.718475073313783,0.7214076246334311,0.7243401759530792,0.7272727272727273,0.7302052785923754,0.7331378299120235,0.7360703812316716,0.7390029325513197,0.7419354838709677,0.7448680351906158,0.7478005865102639,0.750733137829912,0.7536656891495601,0.7565982404692082,0.7595307917888563,0.7624633431085044,0.7653958944281525,0.7683284457478006,0.7712609970674487,0.7741935483870968,0.7771260997067448,0.7800586510263929,0.782991202346041,0.7859237536656891,0.7888563049853372,0.7917888563049853,0.7947214076246334,0.7976539589442815,0.8005865102639296,0.8035190615835777,0.8064516129032258,0.8093841642228738,0.8123167155425219,0.8152492668621701,0.8181818181818182,0.8211143695014663,0.8240469208211144,0.8269794721407625,0.8299120234604106,0.8328445747800587,0.8357771260997068,0.8387096774193549,0.841642228739003,0.844574780058651,0.8475073313782991,0.8504398826979472,0.8533724340175953,0.8563049853372434,0.8592375366568915,0.8621700879765396,0.8651026392961877,0.8680351906158358,0.8709677419354839,0.873900293255132,0.8768328445747801,0.8797653958944281,0.8826979472140762,0.8856304985337243,0.8885630498533724,0.8914956011730205,0.8944281524926686,0.8973607038123167,0.9002932551319648,0.9032258064516129,0.906158357771261,0.9090909090909091,0.9120234604105572,0.9149560117302052,0.9178885630498533,0.9208211143695014,0.9237536656891495,0.9266862170087976,0.9296187683284457,0.9325513196480938,0.9354838709677419,0.9384164222873901,0.9413489736070382,0.9442815249266863,0.9472140762463344,0.9501466275659824,0.9530791788856305,0.9560117302052786,0.9589442815249267,0.9618768328445748,0.9648093841642229,0.967741935483871,0.9706744868035191,0.9736070381231672,0.9765395894428153,0.9794721407624634,0.9824046920821115,0.9853372434017595,0.9882697947214076,0.9912023460410557,0.9941348973607038,0.9970674486803519,1.0],\"y\":[1,1,1,1,1,1,1,1,1,1,1,1,1,1,1,1,1,1,1,1,1,1,1,1,1,1,1,1,1,1,1,1,1,1,1,1,1,1,1,1,1,1,1,1,1,1,1,1,1,1,1,1,1,1,1,1,1,1,1,1,1,1,1,1,1,1,1,1,1,1,1,1,1,1,1,1,1,1,1,1,1,1,1,1,1,1,2,2,2,2,2,2,2,2,2,2,2,2,2,2,2,2,2,2,2,2,2,2,2,2,2,2,2,2,2,2,2,2,2,2,2,2,2,2,2,2,2,2,2,2,2,2,2,2,2,2,2,2,2,2,2,2,2,2,2,2,2,2,2,2,2,2,2,2,2,2,2,2,2,2,2,2,2,2,2,2,2,2,2,2,2,2,2,2,2,2,2,2,2,2,2,2,2,2,2,2,2,2,2,2,2,2,2,2,2,2,2,2,2,2,2,2,2,2,2,2,2,2,2,2,2,2,2,2,2,2,2,2,2,3,3,3,3,3,3,3,3,3,3,3,3,3,3,3,3,3,3,3,3,3,3,3,3,3,3,3,3,3,3,3,3,3,3,3,3,3,3,3,3,3,3,3,3,3,3,3,3,3,3,3,3,3,3,3,3,3,3,3,3,3,3,3,3,3,3,3,3,3,3,3,3,3,3,3,3,3,3,3,3,3,3,3,3,3,3,3,3,3,3,3,3,4,4,4,4,4,4,4,4,4,4,4,4,4,4,4,4,4,4,4,4,4,4,4,4,4,4,4,4,5,5],\"type\":\"scatter\",\"text\":[\"test590, sid:1\",\"test756, sid:7\",\"test756, sid:1\",\"test5, sid:1\",\"test336, sid:9\",\"test336, sid:7\",\"test336, sid:5\",\"test336, sid:1\",\"test584, sid:1\",\"test309, sid:6\",\"test309, sid:1\",\"test818, sid:8\",\"test818, sid:4\",\"test818, sid:1\",\"test139, sid:1\",\"test770, sid:1\",\"test855, sid:7\",\"test855, sid:1\",\"test591, sid:6\",\"test591, sid:8\",\"test189, sid:1\",\"test189, sid:7\",\"test748, sid:1\",\"test156, sid:1\",\"test757, sid:1\",\"test156, sid:7\",\"test765, sid:8\",\"test674, sid:1\",\"test190, sid:1\",\"test415, sid:1\",\"test415, sid:7\",\"test754, sid:1\",\"test765, sid:1\",\"test490, sid:1\",\"test995, sid:1\",\"test995, sid:3\",\"test669, sid:8\",\"test429, sid:1\",\"test429, sid:7\",\"test512, sid:1\",\"test72, sid:1\",\"test72, sid:5\",\"test669, sid:6\",\"test763, sid:1\",\"test763, sid:8\",\"test919, sid:4\",\"test919, sid:6\",\"test886, sid:1\",\"test886, sid:9\",\"test67, sid:2\",\"test763, sid:3\",\"test591, sid:1\",\"test669, sid:4\",\"test912, sid:8\",\"test817, sid:1\",\"test817, sid:3\",\"test817, sid:5\",\"test817, sid:7\",\"test892, sid:1\",\"test445, sid:1\",\"test669, sid:1\",\"test882, sid:1\",\"test874, sid:1\",\"test904, sid:1\",\"test904, sid:6\",\"test728, sid:1\",\"test728, sid:7\",\"test912, sid:1\",\"test882, sid:7\",\"test102, sid:7\",\"test67, sid:7\",\"test452, sid:8\",\"test526, sid:6\",\"test639, sid:1\",\"test495, sid:7\",\"test452, sid:1\",\"test390, sid:1\",\"test390, sid:6\",\"test307, sid:1\",\"test590, sid:8\",\"test475, sid:1\",\"test952, sid:1\",\"test495, sid:1\",\"test590, sid:3\",\"test553, sid:7\",\"test553, sid:1\",\"test475, sid:4\",\"test817, sid:8\",\"test892, sid:2\",\"test892, sid:3\",\"test892, sid:5\",\"test892, sid:7\",\"test445, sid:2\",\"test445, sid:5\",\"test584, sid:5\",\"test445, sid:7\",\"test882, sid:2\",\"test882, sid:4\",\"test882, sid:5\",\"test495, sid:2\",\"test874, sid:3\",\"test445, sid:3\",\"test584, sid:7\",\"test336, sid:4\",\"test336, sid:8\",\"test5, sid:2\",\"test756, sid:6\",\"test475, sid:6\",\"test757, sid:2\",\"test336, sid:6\",\"test490, sid:2\",\"test490, sid:7\",\"test995, sid:2\",\"test995, sid:4\",\"test995, sid:5\",\"test874, sid:6\",\"test817, sid:2\",\"test390, sid:2\",\"test817, sid:4\",\"test817, sid:6\",\"test336, sid:2\",\"test995, sid:7\",\"test757, sid:7\",\"test904, sid:3\",\"test72, sid:3\",\"test307, sid:2\",\"test72, sid:6\",\"test763, sid:2\",\"test763, sid:4\",\"test763, sid:5\",\"test763, sid:7\",\"test919, sid:3\",\"test72, sid:2\",\"test919, sid:5\",\"test886, sid:2\",\"test886, sid:4\",\"test886, sid:6\",\"test886, sid:8\",\"test67, sid:1\",\"test590, sid:2\",\"test67, sid:3\",\"test67, sid:4\",\"test590, sid:4\",\"test512, sid:7\",\"test512, sid:4\",\"test512, sid:2\",\"test584, sid:3\",\"test762, sid:2\",\"test762, sid:4\",\"test762, sid:6\",\"test452, sid:7\",\"test728, sid:2\",\"test728, sid:6\",\"test728, sid:8\",\"test912, sid:2\",\"test912, sid:5\",\"test912, sid:7\",\"test669, sid:3\",\"test452, sid:2\",\"test669, sid:5\",\"test669, sid:7\",\"test307, sid:7\",\"test429, sid:2\",\"test429, sid:3\",\"test307, sid:5\",\"test904, sid:2\",\"test67, sid:6\",\"test584, sid:2\",\"test190, sid:3\",\"test754, sid:3\",\"test139, sid:2\",\"test189, sid:6\",\"test639, sid:4\",\"test748, sid:2\",\"test952, sid:2\",\"test770, sid:5\",\"test748, sid:4\",\"test415, sid:4\",\"test770, sid:4\",\"test765, sid:3\",\"test770, sid:3\",\"test765, sid:2\",\"test770, sid:2\",\"test748, sid:6\",\"test415, sid:6\",\"test526, sid:1\",\"test748, sid:8\",\"test855, sid:6\",\"test952, sid:6\",\"test639, sid:2\",\"test855, sid:2\",\"test156, sid:2\",\"test754, sid:5\",\"test754, sid:2\",\"test765, sid:5\",\"test189, sid:2\",\"test415, sid:2\",\"test190, sid:5\",\"test674, sid:2\",\"test102, sid:5\",\"test309, sid:3\",\"test102, sid:6\",\"test309, sid:2\",\"test102, sid:1\",\"test591, sid:2\",\"test553, sid:6\",\"test818, sid:7\",\"test674, sid:7\",\"test818, sid:5\",\"test818, sid:2\",\"test818, sid:3\",\"test156, sid:4\",\"test190, sid:2\",\"test591, sid:5\",\"test526, sid:5\",\"test190, sid:4\",\"test765, sid:7\",\"test591, sid:7\",\"test139, sid:6\",\"test912, sid:6\",\"test156, sid:5\",\"test765, sid:6\",\"test526, sid:4\",\"test669, sid:2\",\"test452, sid:6\",\"test452, sid:4\",\"test728, sid:3\",\"test452, sid:3\",\"test912, sid:4\",\"test728, sid:5\",\"test156, sid:6\",\"test765, sid:4\",\"test512, sid:5\",\"test307, sid:6\",\"test67, sid:5\",\"test102, sid:2\",\"test591, sid:3\",\"test886, sid:7\",\"test591, sid:4\",\"test886, sid:5\",\"test886, sid:3\",\"test639, sid:7\",\"test590, sid:5\",\"test639, sid:5\",\"test919, sid:2\",\"test919, sid:1\",\"test590, sid:7\",\"test763, sid:6\",\"test189, sid:4\",\"test189, sid:5\",\"test639, sid:3\",\"test72, sid:4\",\"test748, sid:3\",\"test307, sid:3\",\"test748, sid:5\",\"test512, sid:6\",\"test762, sid:5\",\"test512, sid:3\",\"test748, sid:7\",\"test429, sid:6\",\"test429, sid:4\",\"test156, sid:3\",\"test674, sid:4\",\"test553, sid:4\",\"test390, sid:4\",\"test952, sid:4\",\"test995, sid:6\",\"test762, sid:3\",\"test390, sid:5\",\"test490, sid:3\",\"test757, sid:6\",\"test757, sid:5\",\"test757, sid:3\",\"test475, sid:2\",\"test139, sid:4\",\"test756, sid:4\",\"test855, sid:3\",\"test756, sid:2\",\"test5, sid:7\",\"test5, sid:5\",\"test5, sid:3\",\"test139, sid:5\",\"test475, sid:5\",\"test818, sid:6\",\"test336, sid:3\",\"test553, sid:2\",\"test553, sid:5\",\"test584, sid:6\",\"test584, sid:4\",\"test475, sid:3\",\"test952, sid:5\",\"test102, sid:4\",\"test754, sid:4\",\"test762, sid:1\",\"test674, sid:6\",\"test904, sid:5\",\"test904, sid:4\",\"test309, sid:5\",\"test874, sid:4\",\"test874, sid:2\",\"test495, sid:3\",\"test495, sid:6\",\"test882, sid:3\",\"test415, sid:3\",\"test495, sid:4\",\"test445, sid:6\",\"test882, sid:6\",\"test892, sid:6\",\"test415, sid:5\",\"test892, sid:4\",\"test445, sid:4\",\"test639, sid:6\",\"test5, sid:4\",\"test874, sid:5\",\"test390, sid:3\",\"test728, sid:4\",\"test429, sid:5\",\"test307, sid:4\",\"test855, sid:4\",\"test674, sid:3\",\"test309, sid:4\",\"test553, sid:3\",\"test855, sid:5\",\"test5, sid:6\",\"test674, sid:5\",\"test490, sid:4\",\"test590, sid:6\",\"test912, sid:3\",\"test756, sid:3\",\"test495, sid:5\",\"test756, sid:5\",\"test952, sid:3\",\"test189, sid:3\",\"test526, sid:2\",\"test139, sid:3\",\"test757, sid:4\",\"test490, sid:6\",\"test102, sid:3\",\"test452, sid:5\",\"test526, sid:3\",\"test490, sid:5\"]}],                        {\"template\":{\"data\":{\"histogram2dcontour\":[{\"type\":\"histogram2dcontour\",\"colorbar\":{\"outlinewidth\":0,\"ticks\":\"\"},\"colorscale\":[[0.0,\"#0d0887\"],[0.1111111111111111,\"#46039f\"],[0.2222222222222222,\"#7201a8\"],[0.3333333333333333,\"#9c179e\"],[0.4444444444444444,\"#bd3786\"],[0.5555555555555556,\"#d8576b\"],[0.6666666666666666,\"#ed7953\"],[0.7777777777777778,\"#fb9f3a\"],[0.8888888888888888,\"#fdca26\"],[1.0,\"#f0f921\"]]}],\"choropleth\":[{\"type\":\"choropleth\",\"colorbar\":{\"outlinewidth\":0,\"ticks\":\"\"}}],\"histogram2d\":[{\"type\":\"histogram2d\",\"colorbar\":{\"outlinewidth\":0,\"ticks\":\"\"},\"colorscale\":[[0.0,\"#0d0887\"],[0.1111111111111111,\"#46039f\"],[0.2222222222222222,\"#7201a8\"],[0.3333333333333333,\"#9c179e\"],[0.4444444444444444,\"#bd3786\"],[0.5555555555555556,\"#d8576b\"],[0.6666666666666666,\"#ed7953\"],[0.7777777777777778,\"#fb9f3a\"],[0.8888888888888888,\"#fdca26\"],[1.0,\"#f0f921\"]]}],\"heatmap\":[{\"type\":\"heatmap\",\"colorbar\":{\"outlinewidth\":0,\"ticks\":\"\"},\"colorscale\":[[0.0,\"#0d0887\"],[0.1111111111111111,\"#46039f\"],[0.2222222222222222,\"#7201a8\"],[0.3333333333333333,\"#9c179e\"],[0.4444444444444444,\"#bd3786\"],[0.5555555555555556,\"#d8576b\"],[0.6666666666666666,\"#ed7953\"],[0.7777777777777778,\"#fb9f3a\"],[0.8888888888888888,\"#fdca26\"],[1.0,\"#f0f921\"]]}],\"heatmapgl\":[{\"type\":\"heatmapgl\",\"colorbar\":{\"outlinewidth\":0,\"ticks\":\"\"},\"colorscale\":[[0.0,\"#0d0887\"],[0.1111111111111111,\"#46039f\"],[0.2222222222222222,\"#7201a8\"],[0.3333333333333333,\"#9c179e\"],[0.4444444444444444,\"#bd3786\"],[0.5555555555555556,\"#d8576b\"],[0.6666666666666666,\"#ed7953\"],[0.7777777777777778,\"#fb9f3a\"],[0.8888888888888888,\"#fdca26\"],[1.0,\"#f0f921\"]]}],\"contourcarpet\":[{\"type\":\"contourcarpet\",\"colorbar\":{\"outlinewidth\":0,\"ticks\":\"\"}}],\"contour\":[{\"type\":\"contour\",\"colorbar\":{\"outlinewidth\":0,\"ticks\":\"\"},\"colorscale\":[[0.0,\"#0d0887\"],[0.1111111111111111,\"#46039f\"],[0.2222222222222222,\"#7201a8\"],[0.3333333333333333,\"#9c179e\"],[0.4444444444444444,\"#bd3786\"],[0.5555555555555556,\"#d8576b\"],[0.6666666666666666,\"#ed7953\"],[0.7777777777777778,\"#fb9f3a\"],[0.8888888888888888,\"#fdca26\"],[1.0,\"#f0f921\"]]}],\"surface\":[{\"type\":\"surface\",\"colorbar\":{\"outlinewidth\":0,\"ticks\":\"\"},\"colorscale\":[[0.0,\"#0d0887\"],[0.1111111111111111,\"#46039f\"],[0.2222222222222222,\"#7201a8\"],[0.3333333333333333,\"#9c179e\"],[0.4444444444444444,\"#bd3786\"],[0.5555555555555556,\"#d8576b\"],[0.6666666666666666,\"#ed7953\"],[0.7777777777777778,\"#fb9f3a\"],[0.8888888888888888,\"#fdca26\"],[1.0,\"#f0f921\"]]}],\"mesh3d\":[{\"type\":\"mesh3d\",\"colorbar\":{\"outlinewidth\":0,\"ticks\":\"\"}}],\"scatter\":[{\"fillpattern\":{\"fillmode\":\"overlay\",\"size\":10,\"solidity\":0.2},\"type\":\"scatter\"}],\"parcoords\":[{\"type\":\"parcoords\",\"line\":{\"colorbar\":{\"outlinewidth\":0,\"ticks\":\"\"}}}],\"scatterpolargl\":[{\"type\":\"scatterpolargl\",\"marker\":{\"colorbar\":{\"outlinewidth\":0,\"ticks\":\"\"}}}],\"bar\":[{\"error_x\":{\"color\":\"#2a3f5f\"},\"error_y\":{\"color\":\"#2a3f5f\"},\"marker\":{\"line\":{\"color\":\"#E5ECF6\",\"width\":0.5},\"pattern\":{\"fillmode\":\"overlay\",\"size\":10,\"solidity\":0.2}},\"type\":\"bar\"}],\"scattergeo\":[{\"type\":\"scattergeo\",\"marker\":{\"colorbar\":{\"outlinewidth\":0,\"ticks\":\"\"}}}],\"scatterpolar\":[{\"type\":\"scatterpolar\",\"marker\":{\"colorbar\":{\"outlinewidth\":0,\"ticks\":\"\"}}}],\"histogram\":[{\"marker\":{\"pattern\":{\"fillmode\":\"overlay\",\"size\":10,\"solidity\":0.2}},\"type\":\"histogram\"}],\"scattergl\":[{\"type\":\"scattergl\",\"marker\":{\"colorbar\":{\"outlinewidth\":0,\"ticks\":\"\"}}}],\"scatter3d\":[{\"type\":\"scatter3d\",\"line\":{\"colorbar\":{\"outlinewidth\":0,\"ticks\":\"\"}},\"marker\":{\"colorbar\":{\"outlinewidth\":0,\"ticks\":\"\"}}}],\"scattermapbox\":[{\"type\":\"scattermapbox\",\"marker\":{\"colorbar\":{\"outlinewidth\":0,\"ticks\":\"\"}}}],\"scatterternary\":[{\"type\":\"scatterternary\",\"marker\":{\"colorbar\":{\"outlinewidth\":0,\"ticks\":\"\"}}}],\"scattercarpet\":[{\"type\":\"scattercarpet\",\"marker\":{\"colorbar\":{\"outlinewidth\":0,\"ticks\":\"\"}}}],\"carpet\":[{\"aaxis\":{\"endlinecolor\":\"#2a3f5f\",\"gridcolor\":\"white\",\"linecolor\":\"white\",\"minorgridcolor\":\"white\",\"startlinecolor\":\"#2a3f5f\"},\"baxis\":{\"endlinecolor\":\"#2a3f5f\",\"gridcolor\":\"white\",\"linecolor\":\"white\",\"minorgridcolor\":\"white\",\"startlinecolor\":\"#2a3f5f\"},\"type\":\"carpet\"}],\"table\":[{\"cells\":{\"fill\":{\"color\":\"#EBF0F8\"},\"line\":{\"color\":\"white\"}},\"header\":{\"fill\":{\"color\":\"#C8D4E3\"},\"line\":{\"color\":\"white\"}},\"type\":\"table\"}],\"barpolar\":[{\"marker\":{\"line\":{\"color\":\"#E5ECF6\",\"width\":0.5},\"pattern\":{\"fillmode\":\"overlay\",\"size\":10,\"solidity\":0.2}},\"type\":\"barpolar\"}],\"pie\":[{\"automargin\":true,\"type\":\"pie\"}]},\"layout\":{\"autotypenumbers\":\"strict\",\"colorway\":[\"#636efa\",\"#EF553B\",\"#00cc96\",\"#ab63fa\",\"#FFA15A\",\"#19d3f3\",\"#FF6692\",\"#B6E880\",\"#FF97FF\",\"#FECB52\"],\"font\":{\"color\":\"#2a3f5f\"},\"hovermode\":\"closest\",\"hoverlabel\":{\"align\":\"left\"},\"paper_bgcolor\":\"white\",\"plot_bgcolor\":\"#E5ECF6\",\"polar\":{\"bgcolor\":\"#E5ECF6\",\"angularaxis\":{\"gridcolor\":\"white\",\"linecolor\":\"white\",\"ticks\":\"\"},\"radialaxis\":{\"gridcolor\":\"white\",\"linecolor\":\"white\",\"ticks\":\"\"}},\"ternary\":{\"bgcolor\":\"#E5ECF6\",\"aaxis\":{\"gridcolor\":\"white\",\"linecolor\":\"white\",\"ticks\":\"\"},\"baxis\":{\"gridcolor\":\"white\",\"linecolor\":\"white\",\"ticks\":\"\"},\"caxis\":{\"gridcolor\":\"white\",\"linecolor\":\"white\",\"ticks\":\"\"}},\"coloraxis\":{\"colorbar\":{\"outlinewidth\":0,\"ticks\":\"\"}},\"colorscale\":{\"sequential\":[[0.0,\"#0d0887\"],[0.1111111111111111,\"#46039f\"],[0.2222222222222222,\"#7201a8\"],[0.3333333333333333,\"#9c179e\"],[0.4444444444444444,\"#bd3786\"],[0.5555555555555556,\"#d8576b\"],[0.6666666666666666,\"#ed7953\"],[0.7777777777777778,\"#fb9f3a\"],[0.8888888888888888,\"#fdca26\"],[1.0,\"#f0f921\"]],\"sequentialminus\":[[0.0,\"#0d0887\"],[0.1111111111111111,\"#46039f\"],[0.2222222222222222,\"#7201a8\"],[0.3333333333333333,\"#9c179e\"],[0.4444444444444444,\"#bd3786\"],[0.5555555555555556,\"#d8576b\"],[0.6666666666666666,\"#ed7953\"],[0.7777777777777778,\"#fb9f3a\"],[0.8888888888888888,\"#fdca26\"],[1.0,\"#f0f921\"]],\"diverging\":[[0,\"#8e0152\"],[0.1,\"#c51b7d\"],[0.2,\"#de77ae\"],[0.3,\"#f1b6da\"],[0.4,\"#fde0ef\"],[0.5,\"#f7f7f7\"],[0.6,\"#e6f5d0\"],[0.7,\"#b8e186\"],[0.8,\"#7fbc41\"],[0.9,\"#4d9221\"],[1,\"#276419\"]]},\"xaxis\":{\"gridcolor\":\"white\",\"linecolor\":\"white\",\"ticks\":\"\",\"title\":{\"standoff\":15},\"zerolinecolor\":\"white\",\"automargin\":true,\"zerolinewidth\":2},\"yaxis\":{\"gridcolor\":\"white\",\"linecolor\":\"white\",\"ticks\":\"\",\"title\":{\"standoff\":15},\"zerolinecolor\":\"white\",\"automargin\":true,\"zerolinewidth\":2},\"scene\":{\"xaxis\":{\"backgroundcolor\":\"#E5ECF6\",\"gridcolor\":\"white\",\"linecolor\":\"white\",\"showbackground\":true,\"ticks\":\"\",\"zerolinecolor\":\"white\",\"gridwidth\":2},\"yaxis\":{\"backgroundcolor\":\"#E5ECF6\",\"gridcolor\":\"white\",\"linecolor\":\"white\",\"showbackground\":true,\"ticks\":\"\",\"zerolinecolor\":\"white\",\"gridwidth\":2},\"zaxis\":{\"backgroundcolor\":\"#E5ECF6\",\"gridcolor\":\"white\",\"linecolor\":\"white\",\"showbackground\":true,\"ticks\":\"\",\"zerolinecolor\":\"white\",\"gridwidth\":2}},\"shapedefaults\":{\"line\":{\"color\":\"#2a3f5f\"}},\"annotationdefaults\":{\"arrowcolor\":\"#2a3f5f\",\"arrowhead\":0,\"arrowwidth\":1},\"geo\":{\"bgcolor\":\"white\",\"landcolor\":\"#E5ECF6\",\"subunitcolor\":\"white\",\"showland\":true,\"showlakes\":true,\"lakecolor\":\"white\"},\"title\":{\"x\":0.05},\"mapbox\":{\"style\":\"light\"}}},\"barmode\":\"overlay\",\"xaxis\":{\"range\":[0,1.05],\"title\":{\"text\":\"CDF\"}},\"title\":{\"text\":\"CDF of number of edges per segment\"},\"yaxis\":{\"title\":{\"text\":\"Number of edges on a given segment\"},\"type\":\"log\"}},                        {\"responsive\": true}                    ).then(function(){\n",
       "                            \n",
       "var gd = document.getElementById('4fc3d137-fb22-49af-b1c1-da5d7dc38d33');\n",
       "var x = new MutationObserver(function (mutations, observer) {{\n",
       "        var display = window.getComputedStyle(gd).display;\n",
       "        if (!display || display === 'none') {{\n",
       "            console.log([gd, 'removed!']);\n",
       "            Plotly.purge(gd);\n",
       "            observer.disconnect();\n",
       "        }}\n",
       "}});\n",
       "\n",
       "// Listen for the removal of the full notebook cells\n",
       "var notebookContainer = gd.closest('#notebook-container');\n",
       "if (notebookContainer) {{\n",
       "    x.observe(notebookContainer, {childList: true});\n",
       "}}\n",
       "\n",
       "// Listen for the clearing of the current output cell\n",
       "var outputEl = gd.closest('.output');\n",
       "if (outputEl) {{\n",
       "    x.observe(outputEl, {childList: true});\n",
       "}}\n",
       "\n",
       "                        })                };                });            </script>        </div>"
      ]
     },
     "metadata": {},
     "output_type": "display_data"
    }
   ],
   "source": [
    "fig = go.Figure()\n",
    "for dmax in df['DMAX'].unique():\n",
    "    dfB = df[df['DMAX'] == dmax].sort_values(by=['|s|'])\n",
    "    y, PDB, SID = dfB['|s|'], dfB['PDB'], dfB['sid']\n",
    "    x = np.arange(1, len(y)+1) / len(y)    \n",
    "    fig.add_trace(go.Scatter(x=x, y=y, name=f'dmax={dmax}'))\n",
    "    # add pdb to the hover text\n",
    "    fig.data[-1].text = [f'{pdb}, sid:{sid}' for pdb, sid in zip(PDB, SID)]\n",
    "# Overlay both histograms\n",
    "fig.update_layout(barmode='overlay')\n",
    "# xlim\n",
    "fig.update_xaxes(range=[0, 1.05])\n",
    "# set title\n",
    "fig.update_layout(title_text='CDF of number of edges per segment')\n",
    "# set x-axis title\n",
    "fig.update_xaxes(title_text='CDF')\n",
    "# set y-axis title\n",
    "fig.update_yaxes(title_text='Number of edges on a given segment', type=\"log\")\n",
    "fig.show()"
   ]
  },
  {
   "attachments": {},
   "cell_type": "markdown",
   "metadata": {},
   "source": [
    "# Exploring results"
   ]
  },
  {
   "cell_type": "code",
   "execution_count": 168,
   "metadata": {},
   "outputs": [
    {
     "name": "stdout",
     "output_type": "stream",
     "text": [
      "Parameters:\n",
      "   wdir = data/nmr_spec/\n",
      "\n",
      "Getting log files from wdir=data/nmr_spec/\n",
      "Saving results to data/nmr_spec/results.csv\n"
     ]
    },
    {
     "name": "stderr",
     "output_type": "stream",
     "text": [
      "100%|██████████| 3/3 [00:00<00:00, 13706.88it/s]\n"
     ]
    },
    {
     "data": {
      "text/html": [
       "<div>\n",
       "<style scoped>\n",
       "    .dataframe tbody tr th:only-of-type {\n",
       "        vertical-align: middle;\n",
       "    }\n",
       "\n",
       "    .dataframe tbody tr th {\n",
       "        vertical-align: top;\n",
       "    }\n",
       "\n",
       "    .dataframe thead th {\n",
       "        text-align: right;\n",
       "    }\n",
       "</style>\n",
       "<table border=\"1\" class=\"dataframe\">\n",
       "  <thead>\n",
       "    <tr style=\"text-align: right;\">\n",
       "      <th></th>\n",
       "      <th>clean_log</th>\n",
       "      <th>costBB</th>\n",
       "      <th>costBF</th>\n",
       "      <th>costGD</th>\n",
       "      <th>costPT</th>\n",
       "      <th>costRX</th>\n",
       "      <th>costSB</th>\n",
       "      <th>dump</th>\n",
       "      <th>fnmr</th>\n",
       "      <th>|E|</th>\n",
       "      <th>...</th>\n",
       "      <th>timeBF</th>\n",
       "      <th>timeGD</th>\n",
       "      <th>timePT</th>\n",
       "      <th>timeSB</th>\n",
       "      <th>timeoutBB</th>\n",
       "      <th>timeoutPT</th>\n",
       "      <th>tmax</th>\n",
       "      <th>verbose</th>\n",
       "      <th>PDB</th>\n",
       "      <th>DMAX</th>\n",
       "    </tr>\n",
       "  </thead>\n",
       "  <tbody>\n",
       "    <tr>\n",
       "      <th>0</th>\n",
       "      <td>True</td>\n",
       "      <td>92.0</td>\n",
       "      <td>92.0</td>\n",
       "      <td>136.0</td>\n",
       "      <td>92.0</td>\n",
       "      <td>92.0</td>\n",
       "      <td>198.0</td>\n",
       "      <td>1.0</td>\n",
       "      <td>data/nmr_spec/test892_chain_A_dmax_5.nmr</td>\n",
       "      <td>5</td>\n",
       "      <td>...</td>\n",
       "      <td>0.0</td>\n",
       "      <td>0.0</td>\n",
       "      <td>0.0</td>\n",
       "      <td>0.0</td>\n",
       "      <td>0.0</td>\n",
       "      <td>0.0</td>\n",
       "      <td>3600.0</td>\n",
       "      <td>True</td>\n",
       "      <td>test892</td>\n",
       "      <td>5</td>\n",
       "    </tr>\n",
       "    <tr>\n",
       "      <th>1</th>\n",
       "      <td>True</td>\n",
       "      <td>158.0</td>\n",
       "      <td>158.0</td>\n",
       "      <td>158.0</td>\n",
       "      <td>158.0</td>\n",
       "      <td>52.0</td>\n",
       "      <td>1040.0</td>\n",
       "      <td>1.0</td>\n",
       "      <td>data/nmr_spec/test189_chain_A_dmax_5.nmr</td>\n",
       "      <td>5</td>\n",
       "      <td>...</td>\n",
       "      <td>0.0</td>\n",
       "      <td>0.0</td>\n",
       "      <td>0.0</td>\n",
       "      <td>0.0</td>\n",
       "      <td>0.0</td>\n",
       "      <td>0.0</td>\n",
       "      <td>3600.0</td>\n",
       "      <td>True</td>\n",
       "      <td>test189</td>\n",
       "      <td>5</td>\n",
       "    </tr>\n",
       "    <tr>\n",
       "      <th>2</th>\n",
       "      <td>True</td>\n",
       "      <td>96.0</td>\n",
       "      <td>96.0</td>\n",
       "      <td>116.0</td>\n",
       "      <td>96.0</td>\n",
       "      <td>58.0</td>\n",
       "      <td>138.0</td>\n",
       "      <td>1.0</td>\n",
       "      <td>data/nmr_spec/test912_chain_A_dmax_5.nmr</td>\n",
       "      <td>5</td>\n",
       "      <td>...</td>\n",
       "      <td>0.0</td>\n",
       "      <td>0.0</td>\n",
       "      <td>0.0</td>\n",
       "      <td>0.0</td>\n",
       "      <td>0.0</td>\n",
       "      <td>0.0</td>\n",
       "      <td>3600.0</td>\n",
       "      <td>True</td>\n",
       "      <td>test912</td>\n",
       "      <td>5</td>\n",
       "    </tr>\n",
       "  </tbody>\n",
       "</table>\n",
       "<p>3 rows × 23 columns</p>\n",
       "</div>"
      ],
      "text/plain": [
       "   clean_log  costBB  costBF  costGD  costPT  costRX  costSB  dump   \n",
       "0       True    92.0    92.0   136.0    92.0    92.0   198.0   1.0  \\\n",
       "1       True   158.0   158.0   158.0   158.0    52.0  1040.0   1.0   \n",
       "2       True    96.0    96.0   116.0    96.0    58.0   138.0   1.0   \n",
       "\n",
       "                                       fnmr  |E|  ...  timeBF  timeGD  timePT   \n",
       "0  data/nmr_spec/test892_chain_A_dmax_5.nmr    5  ...     0.0     0.0     0.0  \\\n",
       "1  data/nmr_spec/test189_chain_A_dmax_5.nmr    5  ...     0.0     0.0     0.0   \n",
       "2  data/nmr_spec/test912_chain_A_dmax_5.nmr    5  ...     0.0     0.0     0.0   \n",
       "\n",
       "   timeSB  timeoutBB  timeoutPT    tmax  verbose      PDB  DMAX  \n",
       "0     0.0        0.0        0.0  3600.0     True  test892     5  \n",
       "1     0.0        0.0        0.0  3600.0     True  test189     5  \n",
       "2     0.0        0.0        0.0  3600.0     True  test912     5  \n",
       "\n",
       "[3 rows x 23 columns]"
      ]
     },
     "execution_count": 168,
     "metadata": {},
     "output_type": "execute_result"
    }
   ],
   "source": [
    "nmr_folder = 'data/nmr_spec/'\n",
    "\n",
    "# run read_results.py\n",
    "os.system('python read_results.py -wdir ' + nmr_folder)\n",
    "\n",
    "df = pd.read_csv(os.path.join(nmr_folder, 'results.csv'))\n",
    "\n",
    "# extract DMAX and PDB ID from fnmr\n",
    "df['PDB'] = df['fnmr'].apply(lambda x: x.split('/')[-1].split('_')[0].replace('.nmr', ''))\n",
    "df['DMAX'] = df['fnmr'].apply(lambda x: int(x.split('_')[-1].replace('.nmr','')))\n",
    "\n",
    "# change column names\n",
    "df.rename(columns={'nnodes': '|V|', 'lenE': '|E|', 'lenS': '|S|'}, inplace=True)\n",
    "\n",
    "# sort by DMAX and nnodes\n",
    "df = df.sort_values(by=['DMAX', '|V|'])\n",
    "\n",
    "df.head()"
   ]
  },
  {
   "cell_type": "code",
   "execution_count": 173,
   "metadata": {},
   "outputs": [
    {
     "name": "stdout",
     "output_type": "stream",
     "text": [
      "['PDB', 'DMAX', 'tmax', '|E|', '|S|', '|V|', 'costRX', 'costBB', 'costBF', 'costGD', 'costPT', 'costSB', 'timeBB', 'timeBF', 'timeGD', 'timePT', 'timeSB', 'timeoutBB', 'timeoutPT']\n"
     ]
    },
    {
     "ename": "ValueError",
     "evalue": "list.remove(x): x not in list",
     "output_type": "error",
     "traceback": [
      "\u001b[0;31m---------------------------------------------------------------------------\u001b[0m",
      "\u001b[0;31mValueError\u001b[0m                                Traceback (most recent call last)",
      "Cell \u001b[0;32mIn[173], line 7\u001b[0m\n\u001b[1;32m      5\u001b[0m cols_drop \u001b[39m=\u001b[39m [\u001b[39m'\u001b[39m\u001b[39mclean_log\u001b[39m\u001b[39m'\u001b[39m,\u001b[39m'\u001b[39m\u001b[39mdump\u001b[39m\u001b[39m'\u001b[39m,\u001b[39m'\u001b[39m\u001b[39mfnmr\u001b[39m\u001b[39m'\u001b[39m,\u001b[39m'\u001b[39m\u001b[39mverbose\u001b[39m\u001b[39m'\u001b[39m]\n\u001b[1;32m      6\u001b[0m \u001b[39mfor\u001b[39;00m col \u001b[39min\u001b[39;00m cols_drop:\n\u001b[0;32m----> 7\u001b[0m     cols\u001b[39m.\u001b[39;49mremove(col)\n\u001b[1;32m      8\u001b[0m \u001b[39mprint\u001b[39m(cols)\n\u001b[1;32m      9\u001b[0m \u001b[39m# set column order\u001b[39;00m\n",
      "\u001b[0;31mValueError\u001b[0m: list.remove(x): x not in list"
     ]
    }
   ],
   "source": [
    "# adjust columns\n",
    "cols = list(df.columns)\n",
    "print(cols)\n",
    "# remove unwanted columns\n",
    "cols_drop = ['clean_log','dump','fnmr','verbose']\n",
    "for col in cols_drop:\n",
    "    cols.remove(col)\n",
    "print(cols)\n",
    "# set column order\n",
    "cols = [\n",
    "    'PDB', 'DMAX', 'tmax', \n",
    "    '|E|', '|S|', '|V|', \n",
    "    'costRX', 'costBB', 'costBF', 'costGD', 'costPT', 'costSB',\n",
    "    'timeBB', 'timeBF', 'timeGD', 'timePT', 'timeSB', \n",
    "    'timeoutBB', 'timeoutPT', \n",
    "]\n",
    "df = df[cols]\n",
    "df.head()\n"
   ]
  },
  {
   "cell_type": "code",
   "execution_count": 180,
   "metadata": {},
   "outputs": [
    {
     "data": {
      "text/html": [
       "<div>\n",
       "<style scoped>\n",
       "    .dataframe tbody tr th:only-of-type {\n",
       "        vertical-align: middle;\n",
       "    }\n",
       "\n",
       "    .dataframe tbody tr th {\n",
       "        vertical-align: top;\n",
       "    }\n",
       "\n",
       "    .dataframe thead th {\n",
       "        text-align: right;\n",
       "    }\n",
       "</style>\n",
       "<table border=\"1\" class=\"dataframe\">\n",
       "  <thead>\n",
       "    <tr style=\"text-align: right;\">\n",
       "      <th></th>\n",
       "      <th>timeoutBB</th>\n",
       "      <th>timeoutPT</th>\n",
       "    </tr>\n",
       "    <tr>\n",
       "      <th>PDB</th>\n",
       "      <th></th>\n",
       "      <th></th>\n",
       "    </tr>\n",
       "  </thead>\n",
       "  <tbody>\n",
       "    <tr>\n",
       "      <th>test189</th>\n",
       "      <td>0.0</td>\n",
       "      <td>0.0</td>\n",
       "    </tr>\n",
       "    <tr>\n",
       "      <th>test892</th>\n",
       "      <td>0.0</td>\n",
       "      <td>0.0</td>\n",
       "    </tr>\n",
       "    <tr>\n",
       "      <th>test912</th>\n",
       "      <td>0.0</td>\n",
       "      <td>0.0</td>\n",
       "    </tr>\n",
       "  </tbody>\n",
       "</table>\n",
       "</div>"
      ],
      "text/plain": [
       "         timeoutBB  timeoutPT\n",
       "PDB                          \n",
       "test189        0.0        0.0\n",
       "test892        0.0        0.0\n",
       "test912        0.0        0.0"
      ]
     },
     "execution_count": 180,
     "metadata": {},
     "output_type": "execute_result"
    }
   ],
   "source": [
    "# dispplay the number of instances with timeout\n",
    "df.groupby('PDB').sum()[['timeoutBB', 'timeoutPT']].sort_values(by=['timeoutBB', 'timeoutPT'], ascending=False)"
   ]
  },
  {
   "cell_type": "code",
   "execution_count": 182,
   "metadata": {},
   "outputs": [
    {
     "data": {
      "application/vnd.plotly.v1+json": {
       "config": {
        "plotlyServerURL": "https://plot.ly"
       },
       "data": [
        {
         "alignmentgroup": "True",
         "hovertemplate": "method=BB<br>PDB=%{x}<br>relative cost=%{text}<extra></extra>",
         "legendgroup": "BB",
         "marker": {
          "color": "#636efa",
          "pattern": {
           "shape": ""
          }
         },
         "name": "BB",
         "offsetgroup": "BB",
         "orientation": "v",
         "showlegend": true,
         "text": [
          1,
          1,
          1
         ],
         "textposition": "outside",
         "texttemplate": "%{text:.2f}",
         "type": "bar",
         "x": [
          "test892",
          "test189",
          "test912"
         ],
         "xaxis": "x",
         "y": [
          1,
          1,
          1
         ],
         "yaxis": "y"
        },
        {
         "alignmentgroup": "True",
         "hovertemplate": "method=BF<br>PDB=%{x}<br>relative cost=%{text}<extra></extra>",
         "legendgroup": "BF",
         "marker": {
          "color": "#EF553B",
          "pattern": {
           "shape": ""
          }
         },
         "name": "BF",
         "offsetgroup": "BF",
         "orientation": "v",
         "showlegend": true,
         "text": [
          1,
          1,
          1
         ],
         "textposition": "outside",
         "texttemplate": "%{text:.2f}",
         "type": "bar",
         "x": [
          "test892",
          "test189",
          "test912"
         ],
         "xaxis": "x",
         "y": [
          1,
          1,
          1
         ],
         "yaxis": "y"
        },
        {
         "alignmentgroup": "True",
         "hovertemplate": "method=GD<br>PDB=%{x}<br>relative cost=%{text}<extra></extra>",
         "legendgroup": "GD",
         "marker": {
          "color": "#00cc96",
          "pattern": {
           "shape": ""
          }
         },
         "name": "GD",
         "offsetgroup": "GD",
         "orientation": "v",
         "showlegend": true,
         "text": [
          1.4782608695652173,
          1,
          1.2083333333333333
         ],
         "textposition": "outside",
         "texttemplate": "%{text:.2f}",
         "type": "bar",
         "x": [
          "test892",
          "test189",
          "test912"
         ],
         "xaxis": "x",
         "y": [
          1.4782608695652173,
          1,
          1.2083333333333333
         ],
         "yaxis": "y"
        },
        {
         "alignmentgroup": "True",
         "hovertemplate": "method=PT<br>PDB=%{x}<br>relative cost=%{text}<extra></extra>",
         "legendgroup": "PT",
         "marker": {
          "color": "#ab63fa",
          "pattern": {
           "shape": ""
          }
         },
         "name": "PT",
         "offsetgroup": "PT",
         "orientation": "v",
         "showlegend": true,
         "text": [
          1,
          1,
          1
         ],
         "textposition": "outside",
         "texttemplate": "%{text:.2f}",
         "type": "bar",
         "x": [
          "test892",
          "test189",
          "test912"
         ],
         "xaxis": "x",
         "y": [
          1,
          1,
          1
         ],
         "yaxis": "y"
        },
        {
         "alignmentgroup": "True",
         "hovertemplate": "method=SB<br>PDB=%{x}<br>relative cost=%{text}<extra></extra>",
         "legendgroup": "SB",
         "marker": {
          "color": "#FFA15A",
          "pattern": {
           "shape": ""
          }
         },
         "name": "SB",
         "offsetgroup": "SB",
         "orientation": "v",
         "showlegend": true,
         "text": [
          2.152173913043478,
          6.582278481012659,
          1.4375
         ],
         "textposition": "outside",
         "texttemplate": "%{text:.2f}",
         "type": "bar",
         "x": [
          "test892",
          "test189",
          "test912"
         ],
         "xaxis": "x",
         "y": [
          2.152173913043478,
          6.582278481012659,
          1.4375
         ],
         "yaxis": "y"
        }
       ],
       "layout": {
        "barmode": "group",
        "legend": {
         "title": {
          "text": "method"
         },
         "tracegroupgap": 0
        },
        "template": {
         "data": {
          "bar": [
           {
            "error_x": {
             "color": "#2a3f5f"
            },
            "error_y": {
             "color": "#2a3f5f"
            },
            "marker": {
             "line": {
              "color": "#E5ECF6",
              "width": 0.5
             },
             "pattern": {
              "fillmode": "overlay",
              "size": 10,
              "solidity": 0.2
             }
            },
            "type": "bar"
           }
          ],
          "barpolar": [
           {
            "marker": {
             "line": {
              "color": "#E5ECF6",
              "width": 0.5
             },
             "pattern": {
              "fillmode": "overlay",
              "size": 10,
              "solidity": 0.2
             }
            },
            "type": "barpolar"
           }
          ],
          "carpet": [
           {
            "aaxis": {
             "endlinecolor": "#2a3f5f",
             "gridcolor": "white",
             "linecolor": "white",
             "minorgridcolor": "white",
             "startlinecolor": "#2a3f5f"
            },
            "baxis": {
             "endlinecolor": "#2a3f5f",
             "gridcolor": "white",
             "linecolor": "white",
             "minorgridcolor": "white",
             "startlinecolor": "#2a3f5f"
            },
            "type": "carpet"
           }
          ],
          "choropleth": [
           {
            "colorbar": {
             "outlinewidth": 0,
             "ticks": ""
            },
            "type": "choropleth"
           }
          ],
          "contour": [
           {
            "colorbar": {
             "outlinewidth": 0,
             "ticks": ""
            },
            "colorscale": [
             [
              0,
              "#0d0887"
             ],
             [
              0.1111111111111111,
              "#46039f"
             ],
             [
              0.2222222222222222,
              "#7201a8"
             ],
             [
              0.3333333333333333,
              "#9c179e"
             ],
             [
              0.4444444444444444,
              "#bd3786"
             ],
             [
              0.5555555555555556,
              "#d8576b"
             ],
             [
              0.6666666666666666,
              "#ed7953"
             ],
             [
              0.7777777777777778,
              "#fb9f3a"
             ],
             [
              0.8888888888888888,
              "#fdca26"
             ],
             [
              1,
              "#f0f921"
             ]
            ],
            "type": "contour"
           }
          ],
          "contourcarpet": [
           {
            "colorbar": {
             "outlinewidth": 0,
             "ticks": ""
            },
            "type": "contourcarpet"
           }
          ],
          "heatmap": [
           {
            "colorbar": {
             "outlinewidth": 0,
             "ticks": ""
            },
            "colorscale": [
             [
              0,
              "#0d0887"
             ],
             [
              0.1111111111111111,
              "#46039f"
             ],
             [
              0.2222222222222222,
              "#7201a8"
             ],
             [
              0.3333333333333333,
              "#9c179e"
             ],
             [
              0.4444444444444444,
              "#bd3786"
             ],
             [
              0.5555555555555556,
              "#d8576b"
             ],
             [
              0.6666666666666666,
              "#ed7953"
             ],
             [
              0.7777777777777778,
              "#fb9f3a"
             ],
             [
              0.8888888888888888,
              "#fdca26"
             ],
             [
              1,
              "#f0f921"
             ]
            ],
            "type": "heatmap"
           }
          ],
          "heatmapgl": [
           {
            "colorbar": {
             "outlinewidth": 0,
             "ticks": ""
            },
            "colorscale": [
             [
              0,
              "#0d0887"
             ],
             [
              0.1111111111111111,
              "#46039f"
             ],
             [
              0.2222222222222222,
              "#7201a8"
             ],
             [
              0.3333333333333333,
              "#9c179e"
             ],
             [
              0.4444444444444444,
              "#bd3786"
             ],
             [
              0.5555555555555556,
              "#d8576b"
             ],
             [
              0.6666666666666666,
              "#ed7953"
             ],
             [
              0.7777777777777778,
              "#fb9f3a"
             ],
             [
              0.8888888888888888,
              "#fdca26"
             ],
             [
              1,
              "#f0f921"
             ]
            ],
            "type": "heatmapgl"
           }
          ],
          "histogram": [
           {
            "marker": {
             "pattern": {
              "fillmode": "overlay",
              "size": 10,
              "solidity": 0.2
             }
            },
            "type": "histogram"
           }
          ],
          "histogram2d": [
           {
            "colorbar": {
             "outlinewidth": 0,
             "ticks": ""
            },
            "colorscale": [
             [
              0,
              "#0d0887"
             ],
             [
              0.1111111111111111,
              "#46039f"
             ],
             [
              0.2222222222222222,
              "#7201a8"
             ],
             [
              0.3333333333333333,
              "#9c179e"
             ],
             [
              0.4444444444444444,
              "#bd3786"
             ],
             [
              0.5555555555555556,
              "#d8576b"
             ],
             [
              0.6666666666666666,
              "#ed7953"
             ],
             [
              0.7777777777777778,
              "#fb9f3a"
             ],
             [
              0.8888888888888888,
              "#fdca26"
             ],
             [
              1,
              "#f0f921"
             ]
            ],
            "type": "histogram2d"
           }
          ],
          "histogram2dcontour": [
           {
            "colorbar": {
             "outlinewidth": 0,
             "ticks": ""
            },
            "colorscale": [
             [
              0,
              "#0d0887"
             ],
             [
              0.1111111111111111,
              "#46039f"
             ],
             [
              0.2222222222222222,
              "#7201a8"
             ],
             [
              0.3333333333333333,
              "#9c179e"
             ],
             [
              0.4444444444444444,
              "#bd3786"
             ],
             [
              0.5555555555555556,
              "#d8576b"
             ],
             [
              0.6666666666666666,
              "#ed7953"
             ],
             [
              0.7777777777777778,
              "#fb9f3a"
             ],
             [
              0.8888888888888888,
              "#fdca26"
             ],
             [
              1,
              "#f0f921"
             ]
            ],
            "type": "histogram2dcontour"
           }
          ],
          "mesh3d": [
           {
            "colorbar": {
             "outlinewidth": 0,
             "ticks": ""
            },
            "type": "mesh3d"
           }
          ],
          "parcoords": [
           {
            "line": {
             "colorbar": {
              "outlinewidth": 0,
              "ticks": ""
             }
            },
            "type": "parcoords"
           }
          ],
          "pie": [
           {
            "automargin": true,
            "type": "pie"
           }
          ],
          "scatter": [
           {
            "fillpattern": {
             "fillmode": "overlay",
             "size": 10,
             "solidity": 0.2
            },
            "type": "scatter"
           }
          ],
          "scatter3d": [
           {
            "line": {
             "colorbar": {
              "outlinewidth": 0,
              "ticks": ""
             }
            },
            "marker": {
             "colorbar": {
              "outlinewidth": 0,
              "ticks": ""
             }
            },
            "type": "scatter3d"
           }
          ],
          "scattercarpet": [
           {
            "marker": {
             "colorbar": {
              "outlinewidth": 0,
              "ticks": ""
             }
            },
            "type": "scattercarpet"
           }
          ],
          "scattergeo": [
           {
            "marker": {
             "colorbar": {
              "outlinewidth": 0,
              "ticks": ""
             }
            },
            "type": "scattergeo"
           }
          ],
          "scattergl": [
           {
            "marker": {
             "colorbar": {
              "outlinewidth": 0,
              "ticks": ""
             }
            },
            "type": "scattergl"
           }
          ],
          "scattermapbox": [
           {
            "marker": {
             "colorbar": {
              "outlinewidth": 0,
              "ticks": ""
             }
            },
            "type": "scattermapbox"
           }
          ],
          "scatterpolar": [
           {
            "marker": {
             "colorbar": {
              "outlinewidth": 0,
              "ticks": ""
             }
            },
            "type": "scatterpolar"
           }
          ],
          "scatterpolargl": [
           {
            "marker": {
             "colorbar": {
              "outlinewidth": 0,
              "ticks": ""
             }
            },
            "type": "scatterpolargl"
           }
          ],
          "scatterternary": [
           {
            "marker": {
             "colorbar": {
              "outlinewidth": 0,
              "ticks": ""
             }
            },
            "type": "scatterternary"
           }
          ],
          "surface": [
           {
            "colorbar": {
             "outlinewidth": 0,
             "ticks": ""
            },
            "colorscale": [
             [
              0,
              "#0d0887"
             ],
             [
              0.1111111111111111,
              "#46039f"
             ],
             [
              0.2222222222222222,
              "#7201a8"
             ],
             [
              0.3333333333333333,
              "#9c179e"
             ],
             [
              0.4444444444444444,
              "#bd3786"
             ],
             [
              0.5555555555555556,
              "#d8576b"
             ],
             [
              0.6666666666666666,
              "#ed7953"
             ],
             [
              0.7777777777777778,
              "#fb9f3a"
             ],
             [
              0.8888888888888888,
              "#fdca26"
             ],
             [
              1,
              "#f0f921"
             ]
            ],
            "type": "surface"
           }
          ],
          "table": [
           {
            "cells": {
             "fill": {
              "color": "#EBF0F8"
             },
             "line": {
              "color": "white"
             }
            },
            "header": {
             "fill": {
              "color": "#C8D4E3"
             },
             "line": {
              "color": "white"
             }
            },
            "type": "table"
           }
          ]
         },
         "layout": {
          "annotationdefaults": {
           "arrowcolor": "#2a3f5f",
           "arrowhead": 0,
           "arrowwidth": 1
          },
          "autotypenumbers": "strict",
          "coloraxis": {
           "colorbar": {
            "outlinewidth": 0,
            "ticks": ""
           }
          },
          "colorscale": {
           "diverging": [
            [
             0,
             "#8e0152"
            ],
            [
             0.1,
             "#c51b7d"
            ],
            [
             0.2,
             "#de77ae"
            ],
            [
             0.3,
             "#f1b6da"
            ],
            [
             0.4,
             "#fde0ef"
            ],
            [
             0.5,
             "#f7f7f7"
            ],
            [
             0.6,
             "#e6f5d0"
            ],
            [
             0.7,
             "#b8e186"
            ],
            [
             0.8,
             "#7fbc41"
            ],
            [
             0.9,
             "#4d9221"
            ],
            [
             1,
             "#276419"
            ]
           ],
           "sequential": [
            [
             0,
             "#0d0887"
            ],
            [
             0.1111111111111111,
             "#46039f"
            ],
            [
             0.2222222222222222,
             "#7201a8"
            ],
            [
             0.3333333333333333,
             "#9c179e"
            ],
            [
             0.4444444444444444,
             "#bd3786"
            ],
            [
             0.5555555555555556,
             "#d8576b"
            ],
            [
             0.6666666666666666,
             "#ed7953"
            ],
            [
             0.7777777777777778,
             "#fb9f3a"
            ],
            [
             0.8888888888888888,
             "#fdca26"
            ],
            [
             1,
             "#f0f921"
            ]
           ],
           "sequentialminus": [
            [
             0,
             "#0d0887"
            ],
            [
             0.1111111111111111,
             "#46039f"
            ],
            [
             0.2222222222222222,
             "#7201a8"
            ],
            [
             0.3333333333333333,
             "#9c179e"
            ],
            [
             0.4444444444444444,
             "#bd3786"
            ],
            [
             0.5555555555555556,
             "#d8576b"
            ],
            [
             0.6666666666666666,
             "#ed7953"
            ],
            [
             0.7777777777777778,
             "#fb9f3a"
            ],
            [
             0.8888888888888888,
             "#fdca26"
            ],
            [
             1,
             "#f0f921"
            ]
           ]
          },
          "colorway": [
           "#636efa",
           "#EF553B",
           "#00cc96",
           "#ab63fa",
           "#FFA15A",
           "#19d3f3",
           "#FF6692",
           "#B6E880",
           "#FF97FF",
           "#FECB52"
          ],
          "font": {
           "color": "#2a3f5f"
          },
          "geo": {
           "bgcolor": "white",
           "lakecolor": "white",
           "landcolor": "#E5ECF6",
           "showlakes": true,
           "showland": true,
           "subunitcolor": "white"
          },
          "hoverlabel": {
           "align": "left"
          },
          "hovermode": "closest",
          "mapbox": {
           "style": "light"
          },
          "paper_bgcolor": "white",
          "plot_bgcolor": "#E5ECF6",
          "polar": {
           "angularaxis": {
            "gridcolor": "white",
            "linecolor": "white",
            "ticks": ""
           },
           "bgcolor": "#E5ECF6",
           "radialaxis": {
            "gridcolor": "white",
            "linecolor": "white",
            "ticks": ""
           }
          },
          "scene": {
           "xaxis": {
            "backgroundcolor": "#E5ECF6",
            "gridcolor": "white",
            "gridwidth": 2,
            "linecolor": "white",
            "showbackground": true,
            "ticks": "",
            "zerolinecolor": "white"
           },
           "yaxis": {
            "backgroundcolor": "#E5ECF6",
            "gridcolor": "white",
            "gridwidth": 2,
            "linecolor": "white",
            "showbackground": true,
            "ticks": "",
            "zerolinecolor": "white"
           },
           "zaxis": {
            "backgroundcolor": "#E5ECF6",
            "gridcolor": "white",
            "gridwidth": 2,
            "linecolor": "white",
            "showbackground": true,
            "ticks": "",
            "zerolinecolor": "white"
           }
          },
          "shapedefaults": {
           "line": {
            "color": "#2a3f5f"
           }
          },
          "ternary": {
           "aaxis": {
            "gridcolor": "white",
            "linecolor": "white",
            "ticks": ""
           },
           "baxis": {
            "gridcolor": "white",
            "linecolor": "white",
            "ticks": ""
           },
           "bgcolor": "#E5ECF6",
           "caxis": {
            "gridcolor": "white",
            "linecolor": "white",
            "ticks": ""
           }
          },
          "title": {
           "x": 0.05
          },
          "xaxis": {
           "automargin": true,
           "gridcolor": "white",
           "linecolor": "white",
           "ticks": "",
           "title": {
            "standoff": 15
           },
           "zerolinecolor": "white",
           "zerolinewidth": 2
          },
          "yaxis": {
           "automargin": true,
           "gridcolor": "white",
           "linecolor": "white",
           "ticks": "",
           "title": {
            "standoff": 15
           },
           "zerolinecolor": "white",
           "zerolinewidth": 2
          }
         }
        },
        "title": {
         "text": "Relative cost of each method (lower is better)"
        },
        "xaxis": {
         "anchor": "y",
         "domain": [
          0,
          1
         ],
         "title": {
          "text": "PDB"
         }
        },
        "yaxis": {
         "anchor": "x",
         "domain": [
          0,
          1
         ],
         "title": {
          "text": "relative cost"
         }
        }
       }
      },
      "text/html": [
       "<div>                            <div id=\"79b5bf8e-62cf-4c86-9b4b-f36dcd19c255\" class=\"plotly-graph-div\" style=\"height:525px; width:100%;\"></div>            <script type=\"text/javascript\">                require([\"plotly\"], function(Plotly) {                    window.PLOTLYENV=window.PLOTLYENV || {};                                    if (document.getElementById(\"79b5bf8e-62cf-4c86-9b4b-f36dcd19c255\")) {                    Plotly.newPlot(                        \"79b5bf8e-62cf-4c86-9b4b-f36dcd19c255\",                        [{\"alignmentgroup\":\"True\",\"hovertemplate\":\"method=BB<br>PDB=%{x}<br>relative cost=%{text}<extra></extra>\",\"legendgroup\":\"BB\",\"marker\":{\"color\":\"#636efa\",\"pattern\":{\"shape\":\"\"}},\"name\":\"BB\",\"offsetgroup\":\"BB\",\"orientation\":\"v\",\"showlegend\":true,\"text\":[1.0,1.0,1.0],\"textposition\":\"outside\",\"x\":[\"test892\",\"test189\",\"test912\"],\"xaxis\":\"x\",\"y\":[1.0,1.0,1.0],\"yaxis\":\"y\",\"type\":\"bar\",\"texttemplate\":\"%{text:.2f}\"},{\"alignmentgroup\":\"True\",\"hovertemplate\":\"method=BF<br>PDB=%{x}<br>relative cost=%{text}<extra></extra>\",\"legendgroup\":\"BF\",\"marker\":{\"color\":\"#EF553B\",\"pattern\":{\"shape\":\"\"}},\"name\":\"BF\",\"offsetgroup\":\"BF\",\"orientation\":\"v\",\"showlegend\":true,\"text\":[1.0,1.0,1.0],\"textposition\":\"outside\",\"x\":[\"test892\",\"test189\",\"test912\"],\"xaxis\":\"x\",\"y\":[1.0,1.0,1.0],\"yaxis\":\"y\",\"type\":\"bar\",\"texttemplate\":\"%{text:.2f}\"},{\"alignmentgroup\":\"True\",\"hovertemplate\":\"method=GD<br>PDB=%{x}<br>relative cost=%{text}<extra></extra>\",\"legendgroup\":\"GD\",\"marker\":{\"color\":\"#00cc96\",\"pattern\":{\"shape\":\"\"}},\"name\":\"GD\",\"offsetgroup\":\"GD\",\"orientation\":\"v\",\"showlegend\":true,\"text\":[1.4782608695652173,1.0,1.2083333333333333],\"textposition\":\"outside\",\"x\":[\"test892\",\"test189\",\"test912\"],\"xaxis\":\"x\",\"y\":[1.4782608695652173,1.0,1.2083333333333333],\"yaxis\":\"y\",\"type\":\"bar\",\"texttemplate\":\"%{text:.2f}\"},{\"alignmentgroup\":\"True\",\"hovertemplate\":\"method=PT<br>PDB=%{x}<br>relative cost=%{text}<extra></extra>\",\"legendgroup\":\"PT\",\"marker\":{\"color\":\"#ab63fa\",\"pattern\":{\"shape\":\"\"}},\"name\":\"PT\",\"offsetgroup\":\"PT\",\"orientation\":\"v\",\"showlegend\":true,\"text\":[1.0,1.0,1.0],\"textposition\":\"outside\",\"x\":[\"test892\",\"test189\",\"test912\"],\"xaxis\":\"x\",\"y\":[1.0,1.0,1.0],\"yaxis\":\"y\",\"type\":\"bar\",\"texttemplate\":\"%{text:.2f}\"},{\"alignmentgroup\":\"True\",\"hovertemplate\":\"method=SB<br>PDB=%{x}<br>relative cost=%{text}<extra></extra>\",\"legendgroup\":\"SB\",\"marker\":{\"color\":\"#FFA15A\",\"pattern\":{\"shape\":\"\"}},\"name\":\"SB\",\"offsetgroup\":\"SB\",\"orientation\":\"v\",\"showlegend\":true,\"text\":[2.152173913043478,6.582278481012659,1.4375],\"textposition\":\"outside\",\"x\":[\"test892\",\"test189\",\"test912\"],\"xaxis\":\"x\",\"y\":[2.152173913043478,6.582278481012659,1.4375],\"yaxis\":\"y\",\"type\":\"bar\",\"texttemplate\":\"%{text:.2f}\"}],                        {\"template\":{\"data\":{\"histogram2dcontour\":[{\"type\":\"histogram2dcontour\",\"colorbar\":{\"outlinewidth\":0,\"ticks\":\"\"},\"colorscale\":[[0.0,\"#0d0887\"],[0.1111111111111111,\"#46039f\"],[0.2222222222222222,\"#7201a8\"],[0.3333333333333333,\"#9c179e\"],[0.4444444444444444,\"#bd3786\"],[0.5555555555555556,\"#d8576b\"],[0.6666666666666666,\"#ed7953\"],[0.7777777777777778,\"#fb9f3a\"],[0.8888888888888888,\"#fdca26\"],[1.0,\"#f0f921\"]]}],\"choropleth\":[{\"type\":\"choropleth\",\"colorbar\":{\"outlinewidth\":0,\"ticks\":\"\"}}],\"histogram2d\":[{\"type\":\"histogram2d\",\"colorbar\":{\"outlinewidth\":0,\"ticks\":\"\"},\"colorscale\":[[0.0,\"#0d0887\"],[0.1111111111111111,\"#46039f\"],[0.2222222222222222,\"#7201a8\"],[0.3333333333333333,\"#9c179e\"],[0.4444444444444444,\"#bd3786\"],[0.5555555555555556,\"#d8576b\"],[0.6666666666666666,\"#ed7953\"],[0.7777777777777778,\"#fb9f3a\"],[0.8888888888888888,\"#fdca26\"],[1.0,\"#f0f921\"]]}],\"heatmap\":[{\"type\":\"heatmap\",\"colorbar\":{\"outlinewidth\":0,\"ticks\":\"\"},\"colorscale\":[[0.0,\"#0d0887\"],[0.1111111111111111,\"#46039f\"],[0.2222222222222222,\"#7201a8\"],[0.3333333333333333,\"#9c179e\"],[0.4444444444444444,\"#bd3786\"],[0.5555555555555556,\"#d8576b\"],[0.6666666666666666,\"#ed7953\"],[0.7777777777777778,\"#fb9f3a\"],[0.8888888888888888,\"#fdca26\"],[1.0,\"#f0f921\"]]}],\"heatmapgl\":[{\"type\":\"heatmapgl\",\"colorbar\":{\"outlinewidth\":0,\"ticks\":\"\"},\"colorscale\":[[0.0,\"#0d0887\"],[0.1111111111111111,\"#46039f\"],[0.2222222222222222,\"#7201a8\"],[0.3333333333333333,\"#9c179e\"],[0.4444444444444444,\"#bd3786\"],[0.5555555555555556,\"#d8576b\"],[0.6666666666666666,\"#ed7953\"],[0.7777777777777778,\"#fb9f3a\"],[0.8888888888888888,\"#fdca26\"],[1.0,\"#f0f921\"]]}],\"contourcarpet\":[{\"type\":\"contourcarpet\",\"colorbar\":{\"outlinewidth\":0,\"ticks\":\"\"}}],\"contour\":[{\"type\":\"contour\",\"colorbar\":{\"outlinewidth\":0,\"ticks\":\"\"},\"colorscale\":[[0.0,\"#0d0887\"],[0.1111111111111111,\"#46039f\"],[0.2222222222222222,\"#7201a8\"],[0.3333333333333333,\"#9c179e\"],[0.4444444444444444,\"#bd3786\"],[0.5555555555555556,\"#d8576b\"],[0.6666666666666666,\"#ed7953\"],[0.7777777777777778,\"#fb9f3a\"],[0.8888888888888888,\"#fdca26\"],[1.0,\"#f0f921\"]]}],\"surface\":[{\"type\":\"surface\",\"colorbar\":{\"outlinewidth\":0,\"ticks\":\"\"},\"colorscale\":[[0.0,\"#0d0887\"],[0.1111111111111111,\"#46039f\"],[0.2222222222222222,\"#7201a8\"],[0.3333333333333333,\"#9c179e\"],[0.4444444444444444,\"#bd3786\"],[0.5555555555555556,\"#d8576b\"],[0.6666666666666666,\"#ed7953\"],[0.7777777777777778,\"#fb9f3a\"],[0.8888888888888888,\"#fdca26\"],[1.0,\"#f0f921\"]]}],\"mesh3d\":[{\"type\":\"mesh3d\",\"colorbar\":{\"outlinewidth\":0,\"ticks\":\"\"}}],\"scatter\":[{\"fillpattern\":{\"fillmode\":\"overlay\",\"size\":10,\"solidity\":0.2},\"type\":\"scatter\"}],\"parcoords\":[{\"type\":\"parcoords\",\"line\":{\"colorbar\":{\"outlinewidth\":0,\"ticks\":\"\"}}}],\"scatterpolargl\":[{\"type\":\"scatterpolargl\",\"marker\":{\"colorbar\":{\"outlinewidth\":0,\"ticks\":\"\"}}}],\"bar\":[{\"error_x\":{\"color\":\"#2a3f5f\"},\"error_y\":{\"color\":\"#2a3f5f\"},\"marker\":{\"line\":{\"color\":\"#E5ECF6\",\"width\":0.5},\"pattern\":{\"fillmode\":\"overlay\",\"size\":10,\"solidity\":0.2}},\"type\":\"bar\"}],\"scattergeo\":[{\"type\":\"scattergeo\",\"marker\":{\"colorbar\":{\"outlinewidth\":0,\"ticks\":\"\"}}}],\"scatterpolar\":[{\"type\":\"scatterpolar\",\"marker\":{\"colorbar\":{\"outlinewidth\":0,\"ticks\":\"\"}}}],\"histogram\":[{\"marker\":{\"pattern\":{\"fillmode\":\"overlay\",\"size\":10,\"solidity\":0.2}},\"type\":\"histogram\"}],\"scattergl\":[{\"type\":\"scattergl\",\"marker\":{\"colorbar\":{\"outlinewidth\":0,\"ticks\":\"\"}}}],\"scatter3d\":[{\"type\":\"scatter3d\",\"line\":{\"colorbar\":{\"outlinewidth\":0,\"ticks\":\"\"}},\"marker\":{\"colorbar\":{\"outlinewidth\":0,\"ticks\":\"\"}}}],\"scattermapbox\":[{\"type\":\"scattermapbox\",\"marker\":{\"colorbar\":{\"outlinewidth\":0,\"ticks\":\"\"}}}],\"scatterternary\":[{\"type\":\"scatterternary\",\"marker\":{\"colorbar\":{\"outlinewidth\":0,\"ticks\":\"\"}}}],\"scattercarpet\":[{\"type\":\"scattercarpet\",\"marker\":{\"colorbar\":{\"outlinewidth\":0,\"ticks\":\"\"}}}],\"carpet\":[{\"aaxis\":{\"endlinecolor\":\"#2a3f5f\",\"gridcolor\":\"white\",\"linecolor\":\"white\",\"minorgridcolor\":\"white\",\"startlinecolor\":\"#2a3f5f\"},\"baxis\":{\"endlinecolor\":\"#2a3f5f\",\"gridcolor\":\"white\",\"linecolor\":\"white\",\"minorgridcolor\":\"white\",\"startlinecolor\":\"#2a3f5f\"},\"type\":\"carpet\"}],\"table\":[{\"cells\":{\"fill\":{\"color\":\"#EBF0F8\"},\"line\":{\"color\":\"white\"}},\"header\":{\"fill\":{\"color\":\"#C8D4E3\"},\"line\":{\"color\":\"white\"}},\"type\":\"table\"}],\"barpolar\":[{\"marker\":{\"line\":{\"color\":\"#E5ECF6\",\"width\":0.5},\"pattern\":{\"fillmode\":\"overlay\",\"size\":10,\"solidity\":0.2}},\"type\":\"barpolar\"}],\"pie\":[{\"automargin\":true,\"type\":\"pie\"}]},\"layout\":{\"autotypenumbers\":\"strict\",\"colorway\":[\"#636efa\",\"#EF553B\",\"#00cc96\",\"#ab63fa\",\"#FFA15A\",\"#19d3f3\",\"#FF6692\",\"#B6E880\",\"#FF97FF\",\"#FECB52\"],\"font\":{\"color\":\"#2a3f5f\"},\"hovermode\":\"closest\",\"hoverlabel\":{\"align\":\"left\"},\"paper_bgcolor\":\"white\",\"plot_bgcolor\":\"#E5ECF6\",\"polar\":{\"bgcolor\":\"#E5ECF6\",\"angularaxis\":{\"gridcolor\":\"white\",\"linecolor\":\"white\",\"ticks\":\"\"},\"radialaxis\":{\"gridcolor\":\"white\",\"linecolor\":\"white\",\"ticks\":\"\"}},\"ternary\":{\"bgcolor\":\"#E5ECF6\",\"aaxis\":{\"gridcolor\":\"white\",\"linecolor\":\"white\",\"ticks\":\"\"},\"baxis\":{\"gridcolor\":\"white\",\"linecolor\":\"white\",\"ticks\":\"\"},\"caxis\":{\"gridcolor\":\"white\",\"linecolor\":\"white\",\"ticks\":\"\"}},\"coloraxis\":{\"colorbar\":{\"outlinewidth\":0,\"ticks\":\"\"}},\"colorscale\":{\"sequential\":[[0.0,\"#0d0887\"],[0.1111111111111111,\"#46039f\"],[0.2222222222222222,\"#7201a8\"],[0.3333333333333333,\"#9c179e\"],[0.4444444444444444,\"#bd3786\"],[0.5555555555555556,\"#d8576b\"],[0.6666666666666666,\"#ed7953\"],[0.7777777777777778,\"#fb9f3a\"],[0.8888888888888888,\"#fdca26\"],[1.0,\"#f0f921\"]],\"sequentialminus\":[[0.0,\"#0d0887\"],[0.1111111111111111,\"#46039f\"],[0.2222222222222222,\"#7201a8\"],[0.3333333333333333,\"#9c179e\"],[0.4444444444444444,\"#bd3786\"],[0.5555555555555556,\"#d8576b\"],[0.6666666666666666,\"#ed7953\"],[0.7777777777777778,\"#fb9f3a\"],[0.8888888888888888,\"#fdca26\"],[1.0,\"#f0f921\"]],\"diverging\":[[0,\"#8e0152\"],[0.1,\"#c51b7d\"],[0.2,\"#de77ae\"],[0.3,\"#f1b6da\"],[0.4,\"#fde0ef\"],[0.5,\"#f7f7f7\"],[0.6,\"#e6f5d0\"],[0.7,\"#b8e186\"],[0.8,\"#7fbc41\"],[0.9,\"#4d9221\"],[1,\"#276419\"]]},\"xaxis\":{\"gridcolor\":\"white\",\"linecolor\":\"white\",\"ticks\":\"\",\"title\":{\"standoff\":15},\"zerolinecolor\":\"white\",\"automargin\":true,\"zerolinewidth\":2},\"yaxis\":{\"gridcolor\":\"white\",\"linecolor\":\"white\",\"ticks\":\"\",\"title\":{\"standoff\":15},\"zerolinecolor\":\"white\",\"automargin\":true,\"zerolinewidth\":2},\"scene\":{\"xaxis\":{\"backgroundcolor\":\"#E5ECF6\",\"gridcolor\":\"white\",\"linecolor\":\"white\",\"showbackground\":true,\"ticks\":\"\",\"zerolinecolor\":\"white\",\"gridwidth\":2},\"yaxis\":{\"backgroundcolor\":\"#E5ECF6\",\"gridcolor\":\"white\",\"linecolor\":\"white\",\"showbackground\":true,\"ticks\":\"\",\"zerolinecolor\":\"white\",\"gridwidth\":2},\"zaxis\":{\"backgroundcolor\":\"#E5ECF6\",\"gridcolor\":\"white\",\"linecolor\":\"white\",\"showbackground\":true,\"ticks\":\"\",\"zerolinecolor\":\"white\",\"gridwidth\":2}},\"shapedefaults\":{\"line\":{\"color\":\"#2a3f5f\"}},\"annotationdefaults\":{\"arrowcolor\":\"#2a3f5f\",\"arrowhead\":0,\"arrowwidth\":1},\"geo\":{\"bgcolor\":\"white\",\"landcolor\":\"#E5ECF6\",\"subunitcolor\":\"white\",\"showland\":true,\"showlakes\":true,\"lakecolor\":\"white\"},\"title\":{\"x\":0.05},\"mapbox\":{\"style\":\"light\"}}},\"xaxis\":{\"anchor\":\"y\",\"domain\":[0.0,1.0],\"title\":{\"text\":\"PDB\"}},\"yaxis\":{\"anchor\":\"x\",\"domain\":[0.0,1.0],\"title\":{\"text\":\"relative cost\"}},\"legend\":{\"title\":{\"text\":\"method\"},\"tracegroupgap\":0},\"title\":{\"text\":\"Relative cost of each method (lower is better)\"},\"barmode\":\"group\"},                        {\"responsive\": true}                    ).then(function(){\n",
       "                            \n",
       "var gd = document.getElementById('79b5bf8e-62cf-4c86-9b4b-f36dcd19c255');\n",
       "var x = new MutationObserver(function (mutations, observer) {{\n",
       "        var display = window.getComputedStyle(gd).display;\n",
       "        if (!display || display === 'none') {{\n",
       "            console.log([gd, 'removed!']);\n",
       "            Plotly.purge(gd);\n",
       "            observer.disconnect();\n",
       "        }}\n",
       "}});\n",
       "\n",
       "// Listen for the removal of the full notebook cells\n",
       "var notebookContainer = gd.closest('#notebook-container');\n",
       "if (notebookContainer) {{\n",
       "    x.observe(notebookContainer, {childList: true});\n",
       "}}\n",
       "\n",
       "// Listen for the clearing of the current output cell\n",
       "var outputEl = gd.closest('.output');\n",
       "if (outputEl) {{\n",
       "    x.observe(outputEl, {childList: true});\n",
       "}}\n",
       "\n",
       "                        })                };                });            </script>        </div>"
      ]
     },
     "metadata": {},
     "output_type": "display_data"
    }
   ],
   "source": [
    "dfA = {'PDB':[], 'cost':[], 'method':[]}\n",
    "for pdb in df['PDB'].unique():\n",
    "    dfB = df[df['PDB'] == pdb]\n",
    "    for col in dfB.columns:\n",
    "        if col.startswith('cost'):\n",
    "            dfA['PDB'].append(pdb)\n",
    "            dfA['cost'].append(dfB[col].iloc[0])\n",
    "            dfA['method'].append(col.replace('cost',''))\n",
    "# convert to dataframe\n",
    "dfA = pd.DataFrame(dfA)\n",
    "# drop rows with method == 'RX'\n",
    "dfA = dfA[dfA['method'] != 'RX']\n",
    "# normalize cost for each pdb\n",
    "dfA['min_cost'] = dfA.apply(lambda x: dfA[dfA['PDB'] == x['PDB']]['cost'].min(), axis=1)\n",
    "dfA['relative cost'] = dfA['cost'] / dfA['min_cost']\n",
    "\n",
    "fig = px.bar(dfA, x='PDB', y='relative cost', color='method', barmode='group', title='Relative cost of each method (lower is better)', text='relative cost')\n",
    "fig.update_traces(texttemplate='%{text:.2f}', textposition='outside')\n",
    "fig.show()"
   ]
  },
  {
   "cell_type": "code",
   "execution_count": 128,
   "metadata": {},
   "outputs": [
    {
     "name": "stdout",
     "output_type": "stream",
     "text": [
      "num timeoutBB: 0\n",
      "num timeoutPT: 0\n",
      "\n",
      "Number of PDB per DMAX:\n"
     ]
    },
    {
     "data": {
      "text/html": [
       "<div>\n",
       "<style scoped>\n",
       "    .dataframe tbody tr th:only-of-type {\n",
       "        vertical-align: middle;\n",
       "    }\n",
       "\n",
       "    .dataframe tbody tr th {\n",
       "        vertical-align: top;\n",
       "    }\n",
       "\n",
       "    .dataframe thead th {\n",
       "        text-align: right;\n",
       "    }\n",
       "</style>\n",
       "<table border=\"1\" class=\"dataframe\">\n",
       "  <thead>\n",
       "    <tr style=\"text-align: right;\">\n",
       "      <th></th>\n",
       "      <th>DMAX</th>\n",
       "      <th>PDB</th>\n",
       "    </tr>\n",
       "  </thead>\n",
       "  <tbody>\n",
       "    <tr>\n",
       "      <th>0</th>\n",
       "      <td>5</td>\n",
       "      <td>8</td>\n",
       "    </tr>\n",
       "  </tbody>\n",
       "</table>\n",
       "</div>"
      ],
      "text/plain": [
       "   DMAX  PDB\n",
       "0     5    8"
      ]
     },
     "execution_count": 128,
     "metadata": {},
     "output_type": "execute_result"
    }
   ],
   "source": [
    "# number of timeouts\n",
    "print('num timeoutBB:', df['timeoutBB'].sum().astype(int))\n",
    "print('num timeoutPT:', df['timeoutPT'].sum().astype(int))\n",
    "print()\n",
    "\n",
    "# count number of pdb_id per DMAX\n",
    "print('Number of PDB per DMAX:')\n",
    "dfA = df[['DMAX','PDB']].groupby('DMAX').count().reset_index()\n",
    "dfA"
   ]
  },
  {
   "cell_type": "code",
   "execution_count": null,
   "metadata": {},
   "outputs": [],
   "source": [
    "# pdb files description\n",
    "cols = ['PDB', '|V|', '|E|', '|S|'] # columns to show\n",
    "DMAX = df['DMAX'].unique()\n",
    "for dmax in DMAX:\n",
    "    dfA = df[df['DMAX']==dmax][cols].reset_index(drop=True)\n",
    "    print(f'  - dfA.shape: {dfA.shape}')\n",
    "    tex = dfA.to_latex(index=False,\n",
    "                column_format='lrrc',\n",
    "                header=cols, # list of column names\n",
    "                escape=False,\n",
    "                caption=f'Number of nodes, edges and segments for each PDB file (dmax={dmax}).',\n",
    "                label=f'tab:pdb_dmax_{dmax}',\n",
    "                multicolumn=False,\n",
    "                multicolumn_format='c')\n",
    "    # save tex to file\n",
    "    with open(f'./latex/tables/pdb_dmax_{dmax}.tex', 'w') as f:\n",
    "        f.write(tex)"
   ]
  },
  {
   "cell_type": "code",
   "execution_count": null,
   "metadata": {},
   "outputs": [],
   "source": [
    "df50 = df[df['DMAX']=='50']\n",
    "df60 = df[df['DMAX']=='60']\n",
    "\n",
    "print('df50.shape:', df50.shape)\n",
    "print('df50.shape:', df60.shape)\n",
    "\n",
    "cols = ['|V|', '|E|', '|S|']\n",
    "print(df50[cols].describe())\n",
    "print(df60[cols].describe())"
   ]
  },
  {
   "cell_type": "code",
   "execution_count": null,
   "metadata": {},
   "outputs": [],
   "source": [
    "# plot number of edges and segments\n",
    "df50 = df[df['DMAX']=='50'][['PDB', '|V|', '|E|', '|S|']].reset_index(drop=True)\n",
    "df50.rename(columns={'|E|': '|E|_50', '|S|': '|S|_50'}, inplace=True)\n",
    "df60 = df[df['DMAX']=='60'][['PDB', '|E|', '|S|']].reset_index(drop=True)\n",
    "df60.rename(columns={'|E|': '|E|_60', '|S|': '|S|_60'}, inplace=True)\n",
    "dfA = df50.merge(df60, on='PDB')\n",
    "fig = px.scatter(dfA, x='|V|', y=['|E|_50', '|E|_60','|S|_50','|S|_60'], hover_name='PDB', log_x=True, log_y=True)\n",
    "fig.show()\n",
    "# export figure\n",
    "fig.write_image('./latex/figures/edges_segments.png')"
   ]
  },
  {
   "cell_type": "code",
   "execution_count": null,
   "metadata": {},
   "outputs": [],
   "source": [
    "# plot number of edges and segments\n",
    "fig = px.scatter(df, x='|V|', y='|E|', color='DMAX', hover_name='PDB', log_x=True, log_y=True)\n",
    "# export figure\n",
    "fig.write_image('./latex/figures/vertices_edges.png')"
   ]
  },
  {
   "cell_type": "markdown",
   "metadata": {},
   "source": [
    "### Plot NMR Graph"
   ]
  },
  {
   "cell_type": "code",
   "execution_count": 30,
   "metadata": {
    "slideshow": {
     "slide_type": "slide"
    }
   },
   "outputs": [],
   "source": [
    "def plot_graph(G, fnmr, savefig=False):\n",
    "    print(fnmr)\n",
    "    pos = nx.spring_layout(G)    \n",
    "    node_color = ['y' if ':' in node else 'r' for node in G.nodes()]\n",
    "    node_size = [800 if ':' in node else 300 for node in G.nodes()]\n",
    "    nx.draw_networkx_nodes(G, pos, \n",
    "        node_size=node_size, \n",
    "        node_shape='o', \n",
    "        node_color=node_color)\n",
    "    nx.draw_networkx_labels(G, pos, font_color='k', font_size=8)\n",
    "    nx.draw_networkx_edges(G, pos)\n",
    "    if savefig:\n",
    "        plt.savefig(fnmr.replace('.nmr', '.pdf'), format='pdf')\n",
    "    plt.show()"
   ]
  },
  {
   "cell_type": "code",
   "execution_count": 33,
   "metadata": {},
   "outputs": [
    {
     "name": "stdout",
     "output_type": "stream",
     "text": [
      "data/nmr_test/testA.nmr\n"
     ]
    },
    {
     "data": {
      "image/png": "[encoded data removed]",
      "text/plain": [
       "<Figure size 800x800 with 1 Axes>"
      ]
     },
     "metadata": {},
     "output_type": "display_data"
    },
    {
     "name": "stdout",
     "output_type": "stream",
     "text": [
      "data/nmr_test/testB.nmr\n"
     ]
    },
    {
     "data": {
      "image/png": "[encoded data removed]",
      "text/plain": [
       "<Figure size 800x800 with 1 Axes>"
      ]
     },
     "metadata": {},
     "output_type": "display_data"
    },
    {
     "name": "stdout",
     "output_type": "stream",
     "text": [
      "data/nmr_test/testC.nmr\n"
     ]
    },
    {
     "data": {
      "image/png": "[encoded data removed]",
      "text/plain": [
       "<Figure size 800x800 with 1 Axes>"
      ]
     },
     "metadata": {},
     "output_type": "display_data"
    },
    {
     "name": "stdout",
     "output_type": "stream",
     "text": [
      "data/nmr_test/testD.nmr\n"
     ]
    },
    {
     "data": {
      "image/png": "[encoded data removed]",
      "text/plain": [
       "<Figure size 800x800 with 1 Axes>"
      ]
     },
     "metadata": {},
     "output_type": "display_data"
    },
    {
     "name": "stdout",
     "output_type": "stream",
     "text": [
      "data/nmr_test/testE.nmr\n"
     ]
    },
    {
     "data": {
      "image/png": "[encoded data removed]",
      "text/plain": [
       "<Figure size 800x800 with 1 Axes>"
      ]
     },
     "metadata": {},
     "output_type": "display_data"
    },
    {
     "name": "stdout",
     "output_type": "stream",
     "text": [
      "data/nmr_test/testF.nmr\n"
     ]
    },
    {
     "data": {
      "image/png": "[encoded data removed]",
      "text/plain": [
       "<Figure size 800x800 with 1 Axes>"
      ]
     },
     "metadata": {},
     "output_type": "display_data"
    },
    {
     "name": "stdout",
     "output_type": "stream",
     "text": [
      "data/nmr_test/testG.nmr\n"
     ]
    },
    {
     "data": {
      "image/png": "[encoded data removed]",
      "text/plain": [
       "<Figure size 800x800 with 1 Axes>"
      ]
     },
     "metadata": {},
     "output_type": "display_data"
    },
    {
     "name": "stdout",
     "output_type": "stream",
     "text": [
      "data/nmr_test/testH.nmr\n"
     ]
    },
    {
     "data": {
      "image/png": "[encoded data removed]",
      "text/plain": [
       "<Figure size 800x800 with 1 Axes>"
      ]
     },
     "metadata": {},
     "output_type": "display_data"
    }
   ],
   "source": [
    "wdir = os.path.join('data','nmr_test')\n",
    "for fn in sorted(os.listdir(wdir)):\n",
    "    if not fn.endswith('.nmr'):\n",
    "        continue\n",
    "    fn = os.path.join(wdir, fn)\n",
    "    nmr = NMR(fn)\n",
    "    E, S = nmr.E, nmr.S # edges and segments\n",
    "    G = nmr.ordering_graph # ordering graph\n",
    "    plot_graph(G, fn, True)"
   ]
  },
  {
   "cell_type": "markdown",
   "metadata": {},
   "source": [
    "### Read LOG Files"
   ]
  },
  {
   "cell_type": "code",
   "execution_count": null,
   "metadata": {},
   "outputs": [],
   "source": [
    "WDIR = ['DATA_EPSD_00_DMAX_50', 'DATA_EPSD_00_DMAX_60']\n",
    "df = []\n",
    "for wdir in WDIR:\n",
    "    print('Processing wdir=%s' % wdir)\n",
    "    dmax = int(wdir.split('_')[-1])\n",
    "    for flog in tqdm.tqdm(sorted(os.listdir(wdir))):\n",
    "        if not flog.endswith('.log'):\n",
    "            continue\n",
    "        pid = flog.replace('.log','')\n",
    "        flog = os.path.join(wdir, flog)\n",
    "        # check if the problem was pickled        \n",
    "        df_log = {'pid': pid, 'dmax':dmax}\n",
    "        with open(flog, 'r') as fid:\n",
    "            for row in fid:\n",
    "                row = row.replace(':','').replace('\\n','').split(' ')\n",
    "                field = row[1]\n",
    "                if 'fnmr' in field:\n",
    "                    value = row[-1]\n",
    "                elif 'timeoutBB' in field:\n",
    "                    value = int(row[-1])\n",
    "                elif 'time' in field:\n",
    "                    value = float(row[-1])\n",
    "                else:\n",
    "                    value = int(row[-1])\n",
    "                df_log[field] = value\n",
    "        df.append(df_log)\n",
    "df = pd.DataFrame(df)\n",
    "df['gapRL'] = (df['costSB'] - df['costRX']) / df['costRX']\n",
    "df['gapBB'] = (df['costSB'] - df['costBB']) / df['costBB']\n",
    "df['gapPT'] = (df['costSB'] - df['costPT']) / df['costPT']\n",
    "C = {'timeoutBB':'tOutBB','timeoutPT':'tOutPT'}\n",
    "df.rename(columns=C, inplace=True)\n",
    "df.drop(['fnmr'],axis=1,inplace=True)\n",
    "fname = 'results.xlsx'\n",
    "print('Save', fname)\n",
    "df.to_excel(fname,index=False)\n",
    "df.head()"
   ]
  },
  {
   "cell_type": "code",
   "execution_count": null,
   "metadata": {},
   "outputs": [],
   "source": [
    "# time out cases\n",
    "dfA = df[df['timeoutPT'] + df['timeoutBB'] >= 1]\n",
    "dfA = dfA[['pid','dmax','costRELAX','costSBBU','costBB','costPT','gapRL','timeBB','timePT']]\n",
    "dfA"
   ]
  },
  {
   "cell_type": "code",
   "execution_count": null,
   "metadata": {},
   "outputs": [],
   "source": [
    "df.groupby(by=['pid','dmax']).mean()"
   ]
  },
  {
   "cell_type": "code",
   "execution_count": null,
   "metadata": {},
   "outputs": [],
   "source": [
    "df50 = df[df['dmax']==50]\n",
    "df60 = df[df['dmax']==60]"
   ]
  },
  {
   "cell_type": "markdown",
   "metadata": {},
   "source": [
    "### Instance Analysis"
   ]
  },
  {
   "cell_type": "code",
   "execution_count": null,
   "metadata": {},
   "outputs": [],
   "source": [
    "fn  = 'DATA_EPSD_00_DMAX_50/1n6t.nmr'\n",
    "nmr = NMR(fn)\n",
    "E, S = nmr.E, nmr.S\n",
    "print('len(E):',len(E),'len(S):',len(S))"
   ]
  },
  {
   "cell_type": "code",
   "execution_count": null,
   "metadata": {},
   "outputs": [],
   "source": [
    "G = nmr.ordering_graph\n",
    "plot_graph(G, fn, False)"
   ]
  },
  {
   "cell_type": "code",
   "execution_count": null,
   "metadata": {},
   "outputs": [],
   "source": [
    "order, costBF = order_brute(nmr)\n",
    "print('costBF=',costBF)"
   ]
  },
  {
   "cell_type": "code",
   "execution_count": null,
   "metadata": {},
   "outputs": [],
   "source": [
    "x, y, z = [], [], []\n",
    "for sid in S:\n",
    "    s = S[sid]\n",
    "    x.append(s.i)\n",
    "    y.append(s.j)\n",
    "    z.append('nmr')\n",
    "    x.append(s.i)\n",
    "    y.append(s.i)\n",
    "    z.append('x==y')\n",
    "df = {'x':x, 'y':y, 'z':z}\n",
    "px.scatter(df, x='x', y='y', color='z')"
   ]
  },
  {
   "cell_type": "code",
   "execution_count": null,
   "metadata": {},
   "outputs": [],
   "source": [
    "for eid in E:\n",
    "    e = E[eid]\n",
    "    print(eid, e.i, e.j, e.sid)"
   ]
  },
  {
   "cell_type": "code",
   "execution_count": null,
   "metadata": {},
   "outputs": [],
   "source": [
    "S[1].i, S[1].j"
   ]
  },
  {
   "cell_type": "code",
   "execution_count": null,
   "metadata": {},
   "outputs": [],
   "source": [
    "# degree of each segment\n",
    "degree = {}\n",
    "for sid in S:\n",
    "    s: NMRSegment = S[sid]\n",
    "    d = len(s.eid)\n",
    "    if d not in degree:\n",
    "        degree[d] = 0\n",
    "    degree[d] += 1\n",
    "# convert from dict to list\n",
    "degree = sorted([(d, degree[d]) for d in degree])\n"
   ]
  },
  {
   "cell_type": "code",
   "execution_count": null,
   "metadata": {},
   "outputs": [],
   "source": [
    "x, y = list(zip(*degree))\n",
    "df = {'segment degree':x,'#occurrencies':y}\n",
    "px.scatter(df,x='segment degree',y='#occurrencies')"
   ]
  },
  {
   "cell_type": "code",
   "execution_count": null,
   "metadata": {},
   "outputs": [],
   "source": [
    "# any pair of segments have the same edges? \n",
    "K = set()\n",
    "for sid in tqdm.tqdm(S):\n",
    "    s: NMRSegment = S[sid]\n",
    "    K.add(tuple(sorted(eid for eid in s.eid)))\n",
    "print('#K:',len(K), '#S:', len(S))"
   ]
  },
  {
   "cell_type": "code",
   "execution_count": null,
   "metadata": {},
   "outputs": [],
   "source": [
    "# remover de (edge) 'a' de s.sid se existir (edge) 'b' s.sid tq b \\subset a.\n",
    "import copy\n",
    "W = copy.deepcopy(S)\n",
    "df = {'sid':[], 'degOld':[], 'degNew':[]}\n",
    "for sid in tqdm.tqdm(sorted(W)):\n",
    "    s : NMRSegment = W[sid]\n",
    "    s_eid = sorted(s.eid)\n",
    "    R = set() # eid to be removed\n",
    "    for eidA in s_eid:\n",
    "        a: NMREdge = E[eidA]\n",
    "        for eidB in s_eid:\n",
    "            if eidA == eidB:\n",
    "                continue\n",
    "            b: NMREdge = E[eidB]\n",
    "            # a contains b, so b precedes a\n",
    "            if a.i <= b.i and b.j <= a.j:\n",
    "                R.add(eidA)\n",
    "                break\n",
    "    s.eid = s.eid - R\n",
    "    df['sid'].append(sid)\n",
    "    df['degOld'].append(len(s_eid))\n",
    "    df['degNew'].append(len(s.eid))\n"
   ]
  },
  {
   "cell_type": "code",
   "execution_count": null,
   "metadata": {},
   "outputs": [],
   "source": [
    "px.scatter(df, x='degOld', y='degNew', text='sid')"
   ]
  },
  {
   "cell_type": "code",
   "execution_count": null,
   "metadata": {},
   "outputs": [],
   "source": [
    "sid = 623\n",
    "s = S[sid]\n",
    "for eid in s.eid:\n",
    "    e: NMREdge = E[eid]\n",
    "    print('(%d, %d)' % (e.i, e.j))\n"
   ]
  },
  {
   "cell_type": "code",
   "execution_count": null,
   "metadata": {},
   "outputs": [],
   "source": [
    "sid = 623\n",
    "s = W[sid]\n",
    "for eid in s.eid:\n",
    "    e: NMREdge = E[eid]\n",
    "    print('(%d, %d)' % (e.i, e.j))\n"
   ]
  },
  {
   "cell_type": "code",
   "execution_count": null,
   "metadata": {},
   "outputs": [],
   "source": [
    "s.i, s.j"
   ]
  },
  {
   "cell_type": "code",
   "execution_count": null,
   "metadata": {},
   "outputs": [],
   "source": []
  }
 ],
 "metadata": {
  "kernelspec": {
   "display_name": "Python 3.9.7 ('base')",
   "language": "python",
   "name": "python3"
  },
  "language_info": {
   "codemirror_mode": {
    "name": "ipython",
    "version": 3
   },
   "file_extension": ".py",
   "mimetype": "text/x-python",
   "name": "python",
   "nbconvert_exporter": "python",
   "pygments_lexer": "ipython3",
   "version": "3.10.6"
  },
  "vscode": {
   "interpreter": {
    "hash": "586ad1ed5c97141e2437e681efbf1ec0adcd17d830cf5af2ca3d2819e743e158"
   }
  }
 },
 "nbformat": 4,
 "nbformat_minor": 4
}
