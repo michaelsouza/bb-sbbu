{
 "cells": [
  {
   "attachments": {},
   "cell_type": "markdown",
   "metadata": {},
   "source": [
    "# Load libraries"
   ]
  },
  {
   "cell_type": "code",
   "execution_count": null,
   "metadata": {},
   "outputs": [],
   "source": [
    "import os\n",
    "import tqdm\n",
    "from codes.bb import *\n",
    "import pandas as pd\n",
    "import networkx as nx\n",
    "import plotly.express as px\n",
    "import matplotlib.pyplot as plt"
   ]
  },
  {
   "attachments": {},
   "cell_type": "markdown",
   "metadata": {},
   "source": [
    "# Load data"
   ]
  },
  {
   "cell_type": "code",
   "execution_count": null,
   "metadata": {},
   "outputs": [],
   "source": [
    "df = pd.read_csv('results.csv')\n",
    "df['clean_log'] = df['clean_log'].astype(bool)\n",
    "print(df.info())\n",
    "\n",
    "# extract DMAX and PDB ID from fnmr\n",
    "df['PDB'] = df['fnmr'].apply(lambda x: x.split('/')[-1].replace('.nmr', ''))\n",
    "df['DMAX'] = df['fnmr'].apply(lambda x: x.split('_')[-1].split('/')[0])\n",
    "\n",
    "# change column order\n",
    "cols = [\n",
    "    'PDB', 'DMAX', 'fnmr', 'verbose', 'clean_log', 'tmax',  # parameters\n",
    "    'nnodes', 'lenE', 'lenS',  # sizes\n",
    "    'costRX', 'costSB', 'costBB', 'costPT',  # costs\n",
    "    'timeSB', 'timeBB', 'timePT',  # times\n",
    "    'timeoutBB', 'timeoutPT',  # timeouts\n",
    "]\n",
    "df = df[cols]\n",
    "\n",
    "# change column names\n",
    "df.rename(columns={'nnodes': '|V|', 'lenE': '|E|', 'lenS': '|S|'}, inplace=True)\n",
    "\n",
    "# sort by DMAX and nnodes\n",
    "df = df.sort_values(by=['DMAX', '|V|'])\n",
    "\n",
    "df.head()"
   ]
  },
  {
   "attachments": {},
   "cell_type": "markdown",
   "metadata": {},
   "source": [
    "# Exploratory analysis"
   ]
  },
  {
   "cell_type": "code",
   "execution_count": null,
   "metadata": {},
   "outputs": [],
   "source": [
    "# number of timeouts\n",
    "print('num timeoutBB:', df['timeoutBB'].sum().astype(int))\n",
    "print('num timeoutPT:', df['timeoutPT'].sum().astype(int))\n",
    "print()\n",
    "\n",
    "# count number of pdb_id per DMAX\n",
    "print('Number of pdb_id per DMAX:')\n",
    "print(df.groupby('DMAX')['pdb_id'].count())"
   ]
  },
  {
   "cell_type": "code",
   "execution_count": null,
   "metadata": {},
   "outputs": [],
   "source": [
    "# pdb files description\n",
    "cols = ['PDB', '|V|', '|E|', '|S|'] # columns to show\n",
    "DMAX = df['DMAX'].unique()\n",
    "for dmax in DMAX:\n",
    "    dfA = df[df['DMAX']==dmax][cols].reset_index(drop=True)\n",
    "    print(f'  - dfA.shape: {dfA.shape}')\n",
    "    tex = dfA.to_latex(index=False,\n",
    "                column_format='lrrc',\n",
    "                header=cols, # list of column names\n",
    "                escape=False,\n",
    "                caption=f'Number of nodes, edges and segments for each PDB file (dmax={dmax}).',\n",
    "                label=f'tab:pdb_dmax_{dmax}',\n",
    "                multicolumn=False,\n",
    "                multicolumn_format='c')\n",
    "    # save tex to file\n",
    "    with open(f'./latex/tables/pdb_dmax_{dmax}.tex', 'w') as f:\n",
    "        f.write(tex)"
   ]
  },
  {
   "cell_type": "code",
   "execution_count": null,
   "metadata": {},
   "outputs": [],
   "source": [
    "df50 = df[df['DMAX']=='50']\n",
    "df60 = df[df['DMAX']=='60']\n",
    "\n",
    "print('df50.shape:', df50.shape)\n",
    "print('df50.shape:', df60.shape)\n",
    "\n",
    "cols = ['|V|', '|E|', '|S|']\n",
    "print(df50[cols].describe())\n",
    "print(df60[cols].describe())"
   ]
  },
  {
   "cell_type": "code",
   "execution_count": null,
   "metadata": {},
   "outputs": [],
   "source": [
    "# plot number of edges and segments\n",
    "df50 = df[df['DMAX']=='50'][['PDB', '|V|', '|E|', '|S|']].reset_index(drop=True)\n",
    "df50.rename(columns={'|E|': '|E|_50', '|S|': '|S|_50'}, inplace=True)\n",
    "df60 = df[df['DMAX']=='60'][['PDB', '|E|', '|S|']].reset_index(drop=True)\n",
    "df60.rename(columns={'|E|': '|E|_60', '|S|': '|S|_60'}, inplace=True)\n",
    "dfA = df50.merge(df60, on='PDB')\n",
    "fig = px.scatter(dfA, x='|V|', y=['|E|_50', '|E|_60','|S|_50','|S|_60'], hover_name='PDB', log_x=True, log_y=True)\n",
    "fig.show()\n",
    "# export figure\n",
    "fig.write_image('./latex/figures/edges_segments.png')"
   ]
  },
  {
   "cell_type": "code",
   "execution_count": null,
   "metadata": {},
   "outputs": [],
   "source": [
    "# plot number of edges and segments\n",
    "fig = px.scatter(df, x='|V|', y='|E|', color='DMAX', hover_name='PDB', log_x=True, log_y=True)\n",
    "# export figure\n",
    "fig.write_image('./latex/figures/vertices_edges.png')"
   ]
  },
  {
   "cell_type": "markdown",
   "metadata": {},
   "source": [
    "### Plot NMR Graph"
   ]
  },
  {
   "cell_type": "code",
   "execution_count": null,
   "metadata": {
    "slideshow": {
     "slide_type": "slide"
    }
   },
   "outputs": [],
   "source": [
    "def plot_graph(G, fnmr, savefig=False):\n",
    "    print(fnmr)\n",
    "    pos = nx.spring_layout(G)    \n",
    "    node_color = ['y' if ':' in node else 'r' for node in G.nodes()]\n",
    "    node_size = [800 if ':' in node else 300 for node in G.nodes()]\n",
    "    nx.draw_networkx_nodes(G, pos, \n",
    "        node_size=node_size, \n",
    "        node_shape='o', \n",
    "        node_color=node_color)\n",
    "    nx.draw_networkx_labels(G, pos, font_color='k', font_size=8)\n",
    "    nx.draw_networkx_edges(G, pos)\n",
    "    if savefig:\n",
    "        plt.savefig(fnmr.replace('.nmr', '.pdf'), format='pdf')\n",
    "    plt.show()"
   ]
  },
  {
   "cell_type": "code",
   "execution_count": null,
   "metadata": {},
   "outputs": [],
   "source": [
    "wdir = 'DATA_TEST'\n",
    "for fn in os.listdir(wdir):\n",
    "    if not fn.startswith('testRAND') or not fn.endswith('.nmr'):\n",
    "        continue\n",
    "    fn = os.path.join(wdir, fn)\n",
    "    nmr = NMR(fn)\n",
    "    E, S = nmr.E, nmr.S\n",
    "    G = nmr.ordering_graph\n",
    "    plot_graph(G, fn, True)"
   ]
  },
  {
   "cell_type": "markdown",
   "metadata": {},
   "source": [
    "### Read LOG Files"
   ]
  },
  {
   "cell_type": "code",
   "execution_count": null,
   "metadata": {},
   "outputs": [],
   "source": [
    "WDIR = ['DATA_EPSD_00_DMAX_50', 'DATA_EPSD_00_DMAX_60']\n",
    "df = []\n",
    "for wdir in WDIR:\n",
    "    print('Processing wdir=%s' % wdir)\n",
    "    dmax = int(wdir.split('_')[-1])\n",
    "    for flog in tqdm.tqdm(sorted(os.listdir(wdir))):\n",
    "        if not flog.endswith('.log'):\n",
    "            continue\n",
    "        pid = flog.replace('.log','')\n",
    "        flog = os.path.join(wdir, flog)\n",
    "        # check if the problem was pickled        \n",
    "        df_log = {'pid': pid, 'dmax':dmax}\n",
    "        with open(flog, 'r') as fid:\n",
    "            for row in fid:\n",
    "                row = row.replace(':','').replace('\\n','').split(' ')\n",
    "                field = row[1]\n",
    "                if 'fnmr' in field:\n",
    "                    value = row[-1]\n",
    "                elif 'timeoutBB' in field:\n",
    "                    value = int(row[-1])\n",
    "                elif 'time' in field:\n",
    "                    value = float(row[-1])\n",
    "                else:\n",
    "                    value = int(row[-1])\n",
    "                df_log[field] = value\n",
    "        df.append(df_log)\n",
    "df = pd.DataFrame(df)\n",
    "df['gapRL'] = (df['costSB'] - df['costRX']) / df['costRX']\n",
    "df['gapBB'] = (df['costSB'] - df['costBB']) / df['costBB']\n",
    "df['gapPT'] = (df['costSB'] - df['costPT']) / df['costPT']\n",
    "C = {'timeoutBB':'tOutBB','timeoutPT':'tOutPT'}\n",
    "df.rename(columns=C, inplace=True)\n",
    "df.drop(['fnmr'],axis=1,inplace=True)\n",
    "fname = 'results.xlsx'\n",
    "print('Save', fname)\n",
    "df.to_excel(fname,index=False)\n",
    "df.head()"
   ]
  },
  {
   "cell_type": "code",
   "execution_count": null,
   "metadata": {},
   "outputs": [],
   "source": [
    "# time out cases\n",
    "dfA = df[df['timeoutPT'] + df['timeoutBB'] >= 1]\n",
    "dfA = dfA[['pid','dmax','costRELAX','costSBBU','costBB','costPT','gapRL','timeBB','timePT']]\n",
    "dfA"
   ]
  },
  {
   "cell_type": "code",
   "execution_count": null,
   "metadata": {},
   "outputs": [],
   "source": [
    "df.groupby(by=['pid','dmax']).mean()"
   ]
  },
  {
   "cell_type": "code",
   "execution_count": null,
   "metadata": {},
   "outputs": [],
   "source": [
    "df50 = df[df['dmax']==50]\n",
    "df60 = df[df['dmax']==60]"
   ]
  },
  {
   "cell_type": "markdown",
   "metadata": {},
   "source": [
    "### Instance Analysis"
   ]
  },
  {
   "cell_type": "code",
   "execution_count": null,
   "metadata": {},
   "outputs": [],
   "source": [
    "fn  = 'DATA_EPSD_00_DMAX_50/1n6t.nmr'\n",
    "nmr = NMR(fn)\n",
    "E, S = nmr.E, nmr.S\n",
    "print('len(E):',len(E),'len(S):',len(S))"
   ]
  },
  {
   "cell_type": "code",
   "execution_count": null,
   "metadata": {},
   "outputs": [],
   "source": [
    "G = nmr.ordering_graph\n",
    "plot_graph(G, fn, False)"
   ]
  },
  {
   "cell_type": "code",
   "execution_count": null,
   "metadata": {},
   "outputs": [],
   "source": [
    "order, costBF = order_brute(nmr)\n",
    "print('costBF=',costBF)"
   ]
  },
  {
   "cell_type": "code",
   "execution_count": null,
   "metadata": {},
   "outputs": [],
   "source": [
    "x, y, z = [], [], []\n",
    "for sid in S:\n",
    "    s = S[sid]\n",
    "    x.append(s.i)\n",
    "    y.append(s.j)\n",
    "    z.append('nmr')\n",
    "    x.append(s.i)\n",
    "    y.append(s.i)\n",
    "    z.append('x==y')\n",
    "df = {'x':x, 'y':y, 'z':z}\n",
    "px.scatter(df, x='x', y='y', color='z')"
   ]
  },
  {
   "cell_type": "code",
   "execution_count": null,
   "metadata": {},
   "outputs": [],
   "source": [
    "for eid in E:\n",
    "    e = E[eid]\n",
    "    print(eid, e.i, e.j, e.sid)"
   ]
  },
  {
   "cell_type": "code",
   "execution_count": null,
   "metadata": {},
   "outputs": [],
   "source": [
    "S[1].i, S[1].j"
   ]
  },
  {
   "cell_type": "code",
   "execution_count": null,
   "metadata": {},
   "outputs": [],
   "source": [
    "# degree of each segment\n",
    "degree = {}\n",
    "for sid in S:\n",
    "    s: NMRSegment = S[sid]\n",
    "    d = len(s.eid)\n",
    "    if d not in degree:\n",
    "        degree[d] = 0\n",
    "    degree[d] += 1\n",
    "# convert from dict to list\n",
    "degree = sorted([(d, degree[d]) for d in degree])\n"
   ]
  },
  {
   "cell_type": "code",
   "execution_count": null,
   "metadata": {},
   "outputs": [],
   "source": [
    "x, y = list(zip(*degree))\n",
    "df = {'segment degree':x,'#occurrencies':y}\n",
    "px.scatter(df,x='segment degree',y='#occurrencies')"
   ]
  },
  {
   "cell_type": "code",
   "execution_count": null,
   "metadata": {},
   "outputs": [],
   "source": [
    "# any pair of segments have the same edges? \n",
    "K = set()\n",
    "for sid in tqdm.tqdm(S):\n",
    "    s: NMRSegment = S[sid]\n",
    "    K.add(tuple(sorted(eid for eid in s.eid)))\n",
    "print('#K:',len(K), '#S:', len(S))"
   ]
  },
  {
   "cell_type": "code",
   "execution_count": null,
   "metadata": {},
   "outputs": [],
   "source": [
    "# remover de (edge) 'a' de s.sid se existir (edge) 'b' s.sid tq b \\subset a.\n",
    "import copy\n",
    "W = copy.deepcopy(S)\n",
    "df = {'sid':[], 'degOld':[], 'degNew':[]}\n",
    "for sid in tqdm.tqdm(sorted(W)):\n",
    "    s : NMRSegment = W[sid]\n",
    "    s_eid = sorted(s.eid)\n",
    "    R = set() # eid to be removed\n",
    "    for eidA in s_eid:\n",
    "        a: NMREdge = E[eidA]\n",
    "        for eidB in s_eid:\n",
    "            if eidA == eidB:\n",
    "                continue\n",
    "            b: NMREdge = E[eidB]\n",
    "            # a contains b, so b precedes a\n",
    "            if a.i <= b.i and b.j <= a.j:\n",
    "                R.add(eidA)\n",
    "                break\n",
    "    s.eid = s.eid - R\n",
    "    df['sid'].append(sid)\n",
    "    df['degOld'].append(len(s_eid))\n",
    "    df['degNew'].append(len(s.eid))\n"
   ]
  },
  {
   "cell_type": "code",
   "execution_count": null,
   "metadata": {},
   "outputs": [],
   "source": [
    "px.scatter(df, x='degOld', y='degNew', text='sid')"
   ]
  },
  {
   "cell_type": "code",
   "execution_count": null,
   "metadata": {},
   "outputs": [],
   "source": [
    "sid = 623\n",
    "s = S[sid]\n",
    "for eid in s.eid:\n",
    "    e: NMREdge = E[eid]\n",
    "    print('(%d, %d)' % (e.i, e.j))\n"
   ]
  },
  {
   "cell_type": "code",
   "execution_count": null,
   "metadata": {},
   "outputs": [],
   "source": [
    "sid = 623\n",
    "s = W[sid]\n",
    "for eid in s.eid:\n",
    "    e: NMREdge = E[eid]\n",
    "    print('(%d, %d)' % (e.i, e.j))\n"
   ]
  },
  {
   "cell_type": "code",
   "execution_count": null,
   "metadata": {},
   "outputs": [],
   "source": [
    "s.i, s.j"
   ]
  },
  {
   "cell_type": "code",
   "execution_count": null,
   "metadata": {},
   "outputs": [],
   "source": []
  }
 ],
 "metadata": {
  "kernelspec": {
   "display_name": "Python 3.9.7 ('base')",
   "language": "python",
   "name": "python3"
  },
  "language_info": {
   "codemirror_mode": {
    "name": "ipython",
    "version": 3
   },
   "file_extension": ".py",
   "mimetype": "text/x-python",
   "name": "python",
   "nbconvert_exporter": "python",
   "pygments_lexer": "ipython3",
   "version": "3.10.6"
  },
  "vscode": {
   "interpreter": {
    "hash": "586ad1ed5c97141e2437e681efbf1ec0adcd17d830cf5af2ca3d2819e743e158"
   }
  }
 },
 "nbformat": 4,
 "nbformat_minor": 4
}
