{
 "cells": [
  {
   "cell_type": "code",
   "execution_count": null,
   "metadata": {},
   "outputs": [],
   "source": [
    "#@title\n",
    "import os\n",
    "import tqdm\n",
    "from codes.bb import *\n",
    "import pandas as pd\n",
    "import networkx as nx\n",
    "import plotly.express as px\n",
    "import matplotlib.pyplot as plt"
   ]
  },
  {
   "cell_type": "markdown",
   "metadata": {},
   "source": [
    "### Plot NMR Graph"
   ]
  },
  {
   "cell_type": "code",
   "execution_count": null,
   "metadata": {
    "slideshow": {
     "slide_type": "slide"
    }
   },
   "outputs": [],
   "source": [
    "def plot_graph(G, fnmr, savefig=False):\n",
    "    print(fnmr)\n",
    "    pos = nx.spring_layout(G)    \n",
    "    node_color = ['y' if ':' in node else 'r' for node in G.nodes()]\n",
    "    node_size = [800 if ':' in node else 300 for node in G.nodes()]\n",
    "    nx.draw_networkx_nodes(G, pos, \n",
    "        node_size=node_size, \n",
    "        node_shape='o', \n",
    "        node_color=node_color)\n",
    "    nx.draw_networkx_labels(G, pos, font_color='k', font_size=8)\n",
    "    nx.draw_networkx_edges(G, pos)\n",
    "    if savefig:\n",
    "        plt.savefig(fnmr.replace('.nmr', '.pdf'), format='pdf')\n",
    "    plt.show()"
   ]
  },
  {
   "cell_type": "code",
   "execution_count": null,
   "metadata": {},
   "outputs": [],
   "source": [
    "wdir = 'DATA_TEST'\n",
    "for fn in os.listdir(wdir):\n",
    "    if not fn.startswith('testRAND') or not fn.endswith('.nmr'):\n",
    "        continue\n",
    "    fn = os.path.join(wdir, fn)\n",
    "    nmr = NMR(fn)\n",
    "    E, S = nmr.E, nmr.S\n",
    "    G = nmr.ordering_graph\n",
    "    plot_graph(G, fn, True)"
   ]
  },
  {
   "cell_type": "code",
   "execution_count": null,
   "metadata": {},
   "outputs": [],
   "source": [
    "order_cost([3,2,1],E, S)"
   ]
  },
  {
   "cell_type": "markdown",
   "metadata": {},
   "source": [
    "### Read LOG Files"
   ]
  },
  {
   "cell_type": "code",
   "execution_count": null,
   "metadata": {},
   "outputs": [],
   "source": [
    "WDIR = ['DATA_EPSD_00_DMAX_50', 'DATA_EPSD_00_DMAX_60']\n",
    "df = []\n",
    "for wdir in WDIR:\n",
    "    dmax = int(wdir.split('_')[-1])\n",
    "    for flog in sorted(os.listdir(wdir)):\n",
    "        if not flog.endswith('.log'):\n",
    "            continue\n",
    "        pid = flog.replace('.log','')\n",
    "        flog = os.path.join(wdir, flog)\n",
    "        # check if the problem was pickled        \n",
    "        df_log = {'pid': pid, 'dmax':dmax}\n",
    "        with open(flog, 'r') as fid:\n",
    "            for row in fid:\n",
    "                row = row.replace(':','').replace('\\n','').split(' ')\n",
    "                field = row[1]\n",
    "                if 'fnmr' in field:\n",
    "                    value = row[-1]\n",
    "                elif 'timeoutBB' in field:\n",
    "                    value = int(row[-1])\n",
    "                elif 'time' in field:\n",
    "                    value = float(row[-1])\n",
    "                else:\n",
    "                    value = int(row[-1])\n",
    "                df_log[field] = value\n",
    "        df.append(df_log)\n",
    "df = pd.DataFrame(df)\n",
    "df['gapRL'] = (df['costSBBU'] - df['costRELAX']) / df['costRELAX']\n",
    "df['gapBB'] = (df['costSBBU'] - df['costBB']) / df['costBB']\n",
    "df['gapPT'] = (df['costSBBU'] - df['costPT']) / df['costPT']\n",
    "C = {'costRELAX':'costRL', 'costSBBU':'costSB','timeSBBU':'timeSB','timeoutBB':'toutBB','timeoutPT':'toutPT'}\n",
    "df.rename(columns=C, inplace=True)\n",
    "df.drop(['fnmr'],axis=1,inplace=True)\n",
    "fname = 'results.xlsx'\n",
    "print('Save', fname)\n",
    "df.to_excel(fname,index=False)\n",
    "df.head()"
   ]
  },
  {
   "cell_type": "code",
   "execution_count": null,
   "metadata": {},
   "outputs": [],
   "source": [
    "# time out cases\n",
    "dfA = df[df['timeoutPT'] + df['timeoutBB'] >= 1]\n",
    "dfA = dfA[['pid','dmax','costRELAX','costSBBU','costBB','costPT','gapRL','timeBB','timePT']]\n",
    "dfA"
   ]
  },
  {
   "cell_type": "code",
   "execution_count": null,
   "metadata": {},
   "outputs": [],
   "source": [
    "df.groupby(by=['pid','dmax']).mean()"
   ]
  },
  {
   "cell_type": "code",
   "execution_count": null,
   "metadata": {},
   "outputs": [],
   "source": [
    "df50 = df[df['dmax']==50]\n",
    "df60 = df[df['dmax']==60]"
   ]
  },
  {
   "cell_type": "markdown",
   "metadata": {},
   "source": [
    "### Instance Analysis"
   ]
  },
  {
   "cell_type": "code",
   "execution_count": null,
   "metadata": {},
   "outputs": [],
   "source": [
    "nmr = NMR('DATA_EPSD_00_DMAX_60/5ijn.nmr')\n",
    "E, S = nmr.E, nmr.S\n",
    "print('len(E):',len(E),'len(S):',len(S))"
   ]
  },
  {
   "cell_type": "code",
   "execution_count": null,
   "metadata": {},
   "outputs": [],
   "source": [
    "# degree of each segment\n",
    "degree = {}\n",
    "for sid in S:\n",
    "    s: NMRSegment = S[sid]\n",
    "    d = len(s.eid)\n",
    "    if d not in degree:\n",
    "        degree[d] = 0\n",
    "    degree[d] += 1\n",
    "# convert from dict to list\n",
    "degree = sorted([(d, degree[d]) for d in degree])\n"
   ]
  },
  {
   "cell_type": "code",
   "execution_count": null,
   "metadata": {},
   "outputs": [],
   "source": [
    "x, y = list(zip(*degree))\n",
    "df = {'degree':x,'#occurrencies':y}\n",
    "px.scatter(df,x='degree',y='#occurrencies')"
   ]
  },
  {
   "cell_type": "code",
   "execution_count": null,
   "metadata": {},
   "outputs": [],
   "source": [
    "# \n",
    "K = set()\n",
    "for sid in tqdm.tqdm(S):\n",
    "    s: NMRSegment = S[sid]\n",
    "    K.add(tuple(sorted(eid for eid in s.eid)))\n",
    "print('#K:',len(K))"
   ]
  },
  {
   "cell_type": "code",
   "execution_count": null,
   "metadata": {},
   "outputs": [],
   "source": [
    "# remover de (edge) 'a' de s.sid se existir (edge) 'b' s.sid tq b \\subset a.\n",
    "k = 0\n",
    "for eidA in E:\n",
    "    a: NMREdge = E[eidA]\n",
    "    for eidB in E:\n",
    "        if eidA == eidB:\n",
    "            continue\n",
    "        b: NMREdge = E[eidB]\n",
    "        if b.i<= a.i and a.j <= b.j:\n",
    "            k += 1\n",
    "            break\n",
    "print('k:',k)\n"
   ]
  },
  {
   "cell_type": "code",
   "execution_count": null,
   "metadata": {},
   "outputs": [],
   "source": []
  }
 ],
 "metadata": {
  "kernelspec": {
   "display_name": "Python 3.10.4 64-bit",
   "language": "python",
   "name": "python3"
  },
  "language_info": {
   "codemirror_mode": {
    "name": "ipython",
    "version": 3
   },
   "file_extension": ".py",
   "mimetype": "text/x-python",
   "name": "python",
   "nbconvert_exporter": "python",
   "pygments_lexer": "ipython3",
   "version": "3.10.6"
  },
  "vscode": {
   "interpreter": {
    "hash": "31f2aee4e71d21fbe5cf8b01ff0e069b9275f58929596ceb00d14d90e3e16cd6"
   }
  }
 },
 "nbformat": 4,
 "nbformat_minor": 4
}
