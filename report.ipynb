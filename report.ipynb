{
 "cells": [
  {
   "cell_type": "markdown",
   "metadata": {},
   "source": [
    "### Load libraries"
   ]
  },
  {
   "cell_type": "code",
   "execution_count": null,
   "metadata": {},
   "outputs": [],
   "source": [
    "import os\n",
    "import tqdm\n",
    "from codes.bb import *\n",
    "import pandas as pd\n",
    "import networkx as nx\n",
    "import plotly.express as px\n",
    "import matplotlib.pyplot as plt"
   ]
  },
  {
   "cell_type": "markdown",
   "metadata": {},
   "source": [
    "### Plot NMR Graph"
   ]
  },
  {
   "cell_type": "code",
   "execution_count": null,
   "metadata": {
    "slideshow": {
     "slide_type": "slide"
    }
   },
   "outputs": [],
   "source": [
    "def plot_graph(G, fnmr, savefig=False):\n",
    "    print(fnmr)\n",
    "    pos = nx.spring_layout(G)    \n",
    "    node_color = ['y' if ':' in node else 'r' for node in G.nodes()]\n",
    "    node_size = [800 if ':' in node else 300 for node in G.nodes()]\n",
    "    nx.draw_networkx_nodes(G, pos, \n",
    "        node_size=node_size, \n",
    "        node_shape='o', \n",
    "        node_color=node_color)\n",
    "    nx.draw_networkx_labels(G, pos, font_color='k', font_size=8)\n",
    "    nx.draw_networkx_edges(G, pos)\n",
    "    if savefig:\n",
    "        plt.savefig(fnmr.replace('.nmr', '.pdf'), format='pdf')\n",
    "    plt.show()"
   ]
  },
  {
   "cell_type": "code",
   "execution_count": null,
   "metadata": {},
   "outputs": [],
   "source": [
    "wdir = 'DATA_TEST'\n",
    "for fn in os.listdir(wdir):\n",
    "    if not fn.startswith('testRAND') or not fn.endswith('.nmr'):\n",
    "        continue\n",
    "    fn = os.path.join(wdir, fn)\n",
    "    nmr = NMR(fn)\n",
    "    E, S = nmr.E, nmr.S\n",
    "    G = nmr.ordering_graph\n",
    "    plot_graph(G, fn, True)"
   ]
  },
  {
   "cell_type": "markdown",
   "metadata": {},
   "source": [
    "### Read LOG Files"
   ]
  },
  {
   "cell_type": "code",
   "execution_count": null,
   "metadata": {},
   "outputs": [],
   "source": [
    "WDIR = ['DATA_EPSD_00_DMAX_50', 'DATA_EPSD_00_DMAX_60']\n",
    "df = []\n",
    "for wdir in WDIR:\n",
    "    print('Processing wdir=%s' % wdir)\n",
    "    dmax = int(wdir.split('_')[-1])\n",
    "    for flog in tqdm.tqdm(sorted(os.listdir(wdir))):\n",
    "        if not flog.endswith('.log'):\n",
    "            continue\n",
    "        pid = flog.replace('.log','')\n",
    "        flog = os.path.join(wdir, flog)\n",
    "        # check if the problem was pickled        \n",
    "        df_log = {'pid': pid, 'dmax':dmax}\n",
    "        with open(flog, 'r') as fid:\n",
    "            for row in fid:\n",
    "                row = row.replace(':','').replace('\\n','').split(' ')\n",
    "                field = row[1]\n",
    "                if 'fnmr' in field:\n",
    "                    value = row[-1]\n",
    "                elif 'timeoutBB' in field:\n",
    "                    value = int(row[-1])\n",
    "                elif 'time' in field:\n",
    "                    value = float(row[-1])\n",
    "                else:\n",
    "                    value = int(row[-1])\n",
    "                df_log[field] = value\n",
    "        df.append(df_log)\n",
    "df = pd.DataFrame(df)\n",
    "df['gapRL'] = (df['costSB'] - df['costRX']) / df['costRX']\n",
    "df['gapBB'] = (df['costSB'] - df['costBB']) / df['costBB']\n",
    "df['gapPT'] = (df['costSB'] - df['costPT']) / df['costPT']\n",
    "C = {'timeoutBB':'tOutBB','timeoutPT':'tOutPT'}\n",
    "df.rename(columns=C, inplace=True)\n",
    "df.drop(['fnmr'],axis=1,inplace=True)\n",
    "fname = 'results.xlsx'\n",
    "print('Save', fname)\n",
    "df.to_excel(fname,index=False)\n",
    "df.head()"
   ]
  },
  {
   "cell_type": "code",
   "execution_count": null,
   "metadata": {},
   "outputs": [],
   "source": [
    "# time out cases\n",
    "dfA = df[df['timeoutPT'] + df['timeoutBB'] >= 1]\n",
    "dfA = dfA[['pid','dmax','costRELAX','costSBBU','costBB','costPT','gapRL','timeBB','timePT']]\n",
    "dfA"
   ]
  },
  {
   "cell_type": "code",
   "execution_count": null,
   "metadata": {},
   "outputs": [],
   "source": [
    "df.groupby(by=['pid','dmax']).mean()"
   ]
  },
  {
   "cell_type": "code",
   "execution_count": null,
   "metadata": {},
   "outputs": [],
   "source": [
    "df50 = df[df['dmax']==50]\n",
    "df60 = df[df['dmax']==60]"
   ]
  },
  {
   "cell_type": "markdown",
   "metadata": {},
   "source": [
    "### Instance Analysis"
   ]
  },
  {
   "cell_type": "code",
   "execution_count": 27,
   "metadata": {},
   "outputs": [
    {
     "name": "stdout",
     "output_type": "stream",
     "text": [
      "len(E): 92 len(S): 27\n"
     ]
    }
   ],
   "source": [
    "fn  = 'DATA_EPSD_00_DMAX_50/1n6t.nmr'\n",
    "nmr = NMR(fn)\n",
    "E, S = nmr.E, nmr.S\n",
    "print('len(E):',len(E),'len(S):',len(S))"
   ]
  },
  {
   "cell_type": "code",
   "execution_count": 22,
   "metadata": {},
   "outputs": [
    {
     "name": "stdout",
     "output_type": "stream",
     "text": [
      "DATA_TEST/testE.nmr\n"
     ]
    },
    {
     "data": {
      "image/png": "[encoded data removed]",
      "text/plain": [
       "<Figure size 432x288 with 1 Axes>"
      ]
     },
     "metadata": {},
     "output_type": "display_data"
    }
   ],
   "source": [
    "G = nmr.ordering_graph\n",
    "plot_graph(G, fn, False)"
   ]
  },
  {
   "cell_type": "code",
   "execution_count": 23,
   "metadata": {},
   "outputs": [
    {
     "name": "stdout",
     "output_type": "stream",
     "text": [
      "costBF= 1072\n"
     ]
    }
   ],
   "source": [
    "order, costBF = order_brute(nmr)\n",
    "print('costBF=',costBF)"
   ]
  },
  {
   "cell_type": "code",
   "execution_count": 29,
   "metadata": {},
   "outputs": [
    {
     "data": {
      "application/vnd.plotly.v1+json": {
       "config": {
        "plotlyServerURL": "https://plot.ly"
       },
       "data": [
        {
         "hovertemplate": "z=nmr<br>x=%{x}<br>y=%{y}<extra></extra>",
         "legendgroup": "nmr",
         "marker": {
          "color": "#636efa",
          "symbol": "circle"
         },
         "mode": "markers",
         "name": "nmr",
         "orientation": "v",
         "showlegend": true,
         "type": "scatter",
         "x": [
          4,
          5,
          6,
          7,
          8,
          9,
          10,
          11,
          12,
          13,
          14,
          15,
          16,
          17,
          18,
          19,
          20,
          21,
          22,
          23,
          24,
          25,
          26,
          27,
          28,
          29,
          30
         ],
         "xaxis": "x",
         "y": [
          4,
          5,
          6,
          7,
          8,
          9,
          10,
          11,
          12,
          13,
          14,
          15,
          16,
          17,
          18,
          19,
          20,
          21,
          22,
          23,
          24,
          25,
          26,
          27,
          28,
          29,
          30
         ],
         "yaxis": "y"
        },
        {
         "hovertemplate": "z=x==y<br>x=%{x}<br>y=%{y}<extra></extra>",
         "legendgroup": "x==y",
         "marker": {
          "color": "#EF553B",
          "symbol": "circle"
         },
         "mode": "markers",
         "name": "x==y",
         "orientation": "v",
         "showlegend": true,
         "type": "scatter",
         "x": [
          4,
          5,
          6,
          7,
          8,
          9,
          10,
          11,
          12,
          13,
          14,
          15,
          16,
          17,
          18,
          19,
          20,
          21,
          22,
          23,
          24,
          25,
          26,
          27,
          28,
          29,
          30
         ],
         "xaxis": "x",
         "y": [
          4,
          5,
          6,
          7,
          8,
          9,
          10,
          11,
          12,
          13,
          14,
          15,
          16,
          17,
          18,
          19,
          20,
          21,
          22,
          23,
          24,
          25,
          26,
          27,
          28,
          29,
          30
         ],
         "yaxis": "y"
        }
       ],
       "layout": {
        "legend": {
         "title": {
          "text": "z"
         },
         "tracegroupgap": 0
        },
        "margin": {
         "t": 60
        },
        "template": {
         "data": {
          "bar": [
           {
            "error_x": {
             "color": "#2a3f5f"
            },
            "error_y": {
             "color": "#2a3f5f"
            },
            "marker": {
             "line": {
              "color": "#E5ECF6",
              "width": 0.5
             },
             "pattern": {
              "fillmode": "overlay",
              "size": 10,
              "solidity": 0.2
             }
            },
            "type": "bar"
           }
          ],
          "barpolar": [
           {
            "marker": {
             "line": {
              "color": "#E5ECF6",
              "width": 0.5
             },
             "pattern": {
              "fillmode": "overlay",
              "size": 10,
              "solidity": 0.2
             }
            },
            "type": "barpolar"
           }
          ],
          "carpet": [
           {
            "aaxis": {
             "endlinecolor": "#2a3f5f",
             "gridcolor": "white",
             "linecolor": "white",
             "minorgridcolor": "white",
             "startlinecolor": "#2a3f5f"
            },
            "baxis": {
             "endlinecolor": "#2a3f5f",
             "gridcolor": "white",
             "linecolor": "white",
             "minorgridcolor": "white",
             "startlinecolor": "#2a3f5f"
            },
            "type": "carpet"
           }
          ],
          "choropleth": [
           {
            "colorbar": {
             "outlinewidth": 0,
             "ticks": ""
            },
            "type": "choropleth"
           }
          ],
          "contour": [
           {
            "colorbar": {
             "outlinewidth": 0,
             "ticks": ""
            },
            "colorscale": [
             [
              0,
              "#0d0887"
             ],
             [
              0.1111111111111111,
              "#46039f"
             ],
             [
              0.2222222222222222,
              "#7201a8"
             ],
             [
              0.3333333333333333,
              "#9c179e"
             ],
             [
              0.4444444444444444,
              "#bd3786"
             ],
             [
              0.5555555555555556,
              "#d8576b"
             ],
             [
              0.6666666666666666,
              "#ed7953"
             ],
             [
              0.7777777777777778,
              "#fb9f3a"
             ],
             [
              0.8888888888888888,
              "#fdca26"
             ],
             [
              1,
              "#f0f921"
             ]
            ],
            "type": "contour"
           }
          ],
          "contourcarpet": [
           {
            "colorbar": {
             "outlinewidth": 0,
             "ticks": ""
            },
            "type": "contourcarpet"
           }
          ],
          "heatmap": [
           {
            "colorbar": {
             "outlinewidth": 0,
             "ticks": ""
            },
            "colorscale": [
             [
              0,
              "#0d0887"
             ],
             [
              0.1111111111111111,
              "#46039f"
             ],
             [
              0.2222222222222222,
              "#7201a8"
             ],
             [
              0.3333333333333333,
              "#9c179e"
             ],
             [
              0.4444444444444444,
              "#bd3786"
             ],
             [
              0.5555555555555556,
              "#d8576b"
             ],
             [
              0.6666666666666666,
              "#ed7953"
             ],
             [
              0.7777777777777778,
              "#fb9f3a"
             ],
             [
              0.8888888888888888,
              "#fdca26"
             ],
             [
              1,
              "#f0f921"
             ]
            ],
            "type": "heatmap"
           }
          ],
          "heatmapgl": [
           {
            "colorbar": {
             "outlinewidth": 0,
             "ticks": ""
            },
            "colorscale": [
             [
              0,
              "#0d0887"
             ],
             [
              0.1111111111111111,
              "#46039f"
             ],
             [
              0.2222222222222222,
              "#7201a8"
             ],
             [
              0.3333333333333333,
              "#9c179e"
             ],
             [
              0.4444444444444444,
              "#bd3786"
             ],
             [
              0.5555555555555556,
              "#d8576b"
             ],
             [
              0.6666666666666666,
              "#ed7953"
             ],
             [
              0.7777777777777778,
              "#fb9f3a"
             ],
             [
              0.8888888888888888,
              "#fdca26"
             ],
             [
              1,
              "#f0f921"
             ]
            ],
            "type": "heatmapgl"
           }
          ],
          "histogram": [
           {
            "marker": {
             "pattern": {
              "fillmode": "overlay",
              "size": 10,
              "solidity": 0.2
             }
            },
            "type": "histogram"
           }
          ],
          "histogram2d": [
           {
            "colorbar": {
             "outlinewidth": 0,
             "ticks": ""
            },
            "colorscale": [
             [
              0,
              "#0d0887"
             ],
             [
              0.1111111111111111,
              "#46039f"
             ],
             [
              0.2222222222222222,
              "#7201a8"
             ],
             [
              0.3333333333333333,
              "#9c179e"
             ],
             [
              0.4444444444444444,
              "#bd3786"
             ],
             [
              0.5555555555555556,
              "#d8576b"
             ],
             [
              0.6666666666666666,
              "#ed7953"
             ],
             [
              0.7777777777777778,
              "#fb9f3a"
             ],
             [
              0.8888888888888888,
              "#fdca26"
             ],
             [
              1,
              "#f0f921"
             ]
            ],
            "type": "histogram2d"
           }
          ],
          "histogram2dcontour": [
           {
            "colorbar": {
             "outlinewidth": 0,
             "ticks": ""
            },
            "colorscale": [
             [
              0,
              "#0d0887"
             ],
             [
              0.1111111111111111,
              "#46039f"
             ],
             [
              0.2222222222222222,
              "#7201a8"
             ],
             [
              0.3333333333333333,
              "#9c179e"
             ],
             [
              0.4444444444444444,
              "#bd3786"
             ],
             [
              0.5555555555555556,
              "#d8576b"
             ],
             [
              0.6666666666666666,
              "#ed7953"
             ],
             [
              0.7777777777777778,
              "#fb9f3a"
             ],
             [
              0.8888888888888888,
              "#fdca26"
             ],
             [
              1,
              "#f0f921"
             ]
            ],
            "type": "histogram2dcontour"
           }
          ],
          "mesh3d": [
           {
            "colorbar": {
             "outlinewidth": 0,
             "ticks": ""
            },
            "type": "mesh3d"
           }
          ],
          "parcoords": [
           {
            "line": {
             "colorbar": {
              "outlinewidth": 0,
              "ticks": ""
             }
            },
            "type": "parcoords"
           }
          ],
          "pie": [
           {
            "automargin": true,
            "type": "pie"
           }
          ],
          "scatter": [
           {
            "marker": {
             "colorbar": {
              "outlinewidth": 0,
              "ticks": ""
             }
            },
            "type": "scatter"
           }
          ],
          "scatter3d": [
           {
            "line": {
             "colorbar": {
              "outlinewidth": 0,
              "ticks": ""
             }
            },
            "marker": {
             "colorbar": {
              "outlinewidth": 0,
              "ticks": ""
             }
            },
            "type": "scatter3d"
           }
          ],
          "scattercarpet": [
           {
            "marker": {
             "colorbar": {
              "outlinewidth": 0,
              "ticks": ""
             }
            },
            "type": "scattercarpet"
           }
          ],
          "scattergeo": [
           {
            "marker": {
             "colorbar": {
              "outlinewidth": 0,
              "ticks": ""
             }
            },
            "type": "scattergeo"
           }
          ],
          "scattergl": [
           {
            "marker": {
             "colorbar": {
              "outlinewidth": 0,
              "ticks": ""
             }
            },
            "type": "scattergl"
           }
          ],
          "scattermapbox": [
           {
            "marker": {
             "colorbar": {
              "outlinewidth": 0,
              "ticks": ""
             }
            },
            "type": "scattermapbox"
           }
          ],
          "scatterpolar": [
           {
            "marker": {
             "colorbar": {
              "outlinewidth": 0,
              "ticks": ""
             }
            },
            "type": "scatterpolar"
           }
          ],
          "scatterpolargl": [
           {
            "marker": {
             "colorbar": {
              "outlinewidth": 0,
              "ticks": ""
             }
            },
            "type": "scatterpolargl"
           }
          ],
          "scatterternary": [
           {
            "marker": {
             "colorbar": {
              "outlinewidth": 0,
              "ticks": ""
             }
            },
            "type": "scatterternary"
           }
          ],
          "surface": [
           {
            "colorbar": {
             "outlinewidth": 0,
             "ticks": ""
            },
            "colorscale": [
             [
              0,
              "#0d0887"
             ],
             [
              0.1111111111111111,
              "#46039f"
             ],
             [
              0.2222222222222222,
              "#7201a8"
             ],
             [
              0.3333333333333333,
              "#9c179e"
             ],
             [
              0.4444444444444444,
              "#bd3786"
             ],
             [
              0.5555555555555556,
              "#d8576b"
             ],
             [
              0.6666666666666666,
              "#ed7953"
             ],
             [
              0.7777777777777778,
              "#fb9f3a"
             ],
             [
              0.8888888888888888,
              "#fdca26"
             ],
             [
              1,
              "#f0f921"
             ]
            ],
            "type": "surface"
           }
          ],
          "table": [
           {
            "cells": {
             "fill": {
              "color": "#EBF0F8"
             },
             "line": {
              "color": "white"
             }
            },
            "header": {
             "fill": {
              "color": "#C8D4E3"
             },
             "line": {
              "color": "white"
             }
            },
            "type": "table"
           }
          ]
         },
         "layout": {
          "annotationdefaults": {
           "arrowcolor": "#2a3f5f",
           "arrowhead": 0,
           "arrowwidth": 1
          },
          "autotypenumbers": "strict",
          "coloraxis": {
           "colorbar": {
            "outlinewidth": 0,
            "ticks": ""
           }
          },
          "colorscale": {
           "diverging": [
            [
             0,
             "#8e0152"
            ],
            [
             0.1,
             "#c51b7d"
            ],
            [
             0.2,
             "#de77ae"
            ],
            [
             0.3,
             "#f1b6da"
            ],
            [
             0.4,
             "#fde0ef"
            ],
            [
             0.5,
             "#f7f7f7"
            ],
            [
             0.6,
             "#e6f5d0"
            ],
            [
             0.7,
             "#b8e186"
            ],
            [
             0.8,
             "#7fbc41"
            ],
            [
             0.9,
             "#4d9221"
            ],
            [
             1,
             "#276419"
            ]
           ],
           "sequential": [
            [
             0,
             "#0d0887"
            ],
            [
             0.1111111111111111,
             "#46039f"
            ],
            [
             0.2222222222222222,
             "#7201a8"
            ],
            [
             0.3333333333333333,
             "#9c179e"
            ],
            [
             0.4444444444444444,
             "#bd3786"
            ],
            [
             0.5555555555555556,
             "#d8576b"
            ],
            [
             0.6666666666666666,
             "#ed7953"
            ],
            [
             0.7777777777777778,
             "#fb9f3a"
            ],
            [
             0.8888888888888888,
             "#fdca26"
            ],
            [
             1,
             "#f0f921"
            ]
           ],
           "sequentialminus": [
            [
             0,
             "#0d0887"
            ],
            [
             0.1111111111111111,
             "#46039f"
            ],
            [
             0.2222222222222222,
             "#7201a8"
            ],
            [
             0.3333333333333333,
             "#9c179e"
            ],
            [
             0.4444444444444444,
             "#bd3786"
            ],
            [
             0.5555555555555556,
             "#d8576b"
            ],
            [
             0.6666666666666666,
             "#ed7953"
            ],
            [
             0.7777777777777778,
             "#fb9f3a"
            ],
            [
             0.8888888888888888,
             "#fdca26"
            ],
            [
             1,
             "#f0f921"
            ]
           ]
          },
          "colorway": [
           "#636efa",
           "#EF553B",
           "#00cc96",
           "#ab63fa",
           "#FFA15A",
           "#19d3f3",
           "#FF6692",
           "#B6E880",
           "#FF97FF",
           "#FECB52"
          ],
          "font": {
           "color": "#2a3f5f"
          },
          "geo": {
           "bgcolor": "white",
           "lakecolor": "white",
           "landcolor": "#E5ECF6",
           "showlakes": true,
           "showland": true,
           "subunitcolor": "white"
          },
          "hoverlabel": {
           "align": "left"
          },
          "hovermode": "closest",
          "mapbox": {
           "style": "light"
          },
          "paper_bgcolor": "white",
          "plot_bgcolor": "#E5ECF6",
          "polar": {
           "angularaxis": {
            "gridcolor": "white",
            "linecolor": "white",
            "ticks": ""
           },
           "bgcolor": "#E5ECF6",
           "radialaxis": {
            "gridcolor": "white",
            "linecolor": "white",
            "ticks": ""
           }
          },
          "scene": {
           "xaxis": {
            "backgroundcolor": "#E5ECF6",
            "gridcolor": "white",
            "gridwidth": 2,
            "linecolor": "white",
            "showbackground": true,
            "ticks": "",
            "zerolinecolor": "white"
           },
           "yaxis": {
            "backgroundcolor": "#E5ECF6",
            "gridcolor": "white",
            "gridwidth": 2,
            "linecolor": "white",
            "showbackground": true,
            "ticks": "",
            "zerolinecolor": "white"
           },
           "zaxis": {
            "backgroundcolor": "#E5ECF6",
            "gridcolor": "white",
            "gridwidth": 2,
            "linecolor": "white",
            "showbackground": true,
            "ticks": "",
            "zerolinecolor": "white"
           }
          },
          "shapedefaults": {
           "line": {
            "color": "#2a3f5f"
           }
          },
          "ternary": {
           "aaxis": {
            "gridcolor": "white",
            "linecolor": "white",
            "ticks": ""
           },
           "baxis": {
            "gridcolor": "white",
            "linecolor": "white",
            "ticks": ""
           },
           "bgcolor": "#E5ECF6",
           "caxis": {
            "gridcolor": "white",
            "linecolor": "white",
            "ticks": ""
           }
          },
          "title": {
           "x": 0.05
          },
          "xaxis": {
           "automargin": true,
           "gridcolor": "white",
           "linecolor": "white",
           "ticks": "",
           "title": {
            "standoff": 15
           },
           "zerolinecolor": "white",
           "zerolinewidth": 2
          },
          "yaxis": {
           "automargin": true,
           "gridcolor": "white",
           "linecolor": "white",
           "ticks": "",
           "title": {
            "standoff": 15
           },
           "zerolinecolor": "white",
           "zerolinewidth": 2
          }
         }
        },
        "xaxis": {
         "anchor": "y",
         "domain": [
          0,
          1
         ],
         "title": {
          "text": "x"
         }
        },
        "yaxis": {
         "anchor": "x",
         "domain": [
          0,
          1
         ],
         "title": {
          "text": "y"
         }
        }
       }
      }
     },
     "metadata": {},
     "output_type": "display_data"
    }
   ],
   "source": [
    "x, y, z = [], [], []\n",
    "for sid in S:\n",
    "    s = S[sid]\n",
    "    x.append(s.i)\n",
    "    y.append(s.j)\n",
    "    z.append('nmr')\n",
    "    x.append(s.i)\n",
    "    y.append(s.i)\n",
    "    z.append('x==y')\n",
    "df = {'x':x, 'y':y, 'z':z}\n",
    "px.scatter(df, x='x', y='y', color='z')"
   ]
  },
  {
   "cell_type": "code",
   "execution_count": 30,
   "metadata": {},
   "outputs": [
    {
     "name": "stdout",
     "output_type": "stream",
     "text": [
      "4 1 5 {1, 2}\n",
      "5 1 10 {1, 2, 3, 4, 5, 6, 7}\n",
      "9 2 6 {2, 3}\n",
      "10 2 7 {2, 3, 4}\n",
      "11 2 10 {2, 3, 4, 5, 6, 7}\n",
      "15 3 7 {3, 4}\n",
      "16 3 8 {3, 4, 5}\n",
      "17 3 9 {3, 4, 5, 6}\n",
      "18 3 10 {3, 4, 5, 6, 7}\n",
      "19 3 11 {3, 4, 5, 6, 7, 8}\n",
      "20 3 12 {3, 4, 5, 6, 7, 8, 9}\n",
      "21 3 13 {3, 4, 5, 6, 7, 8, 9, 10}\n",
      "25 4 8 {4, 5}\n",
      "26 4 9 {4, 5, 6}\n",
      "27 4 10 {4, 5, 6, 7}\n",
      "28 4 13 {4, 5, 6, 7, 8, 9, 10}\n",
      "32 5 9 {5, 6}\n",
      "33 5 10 {5, 6, 7}\n",
      "34 5 13 {5, 6, 7, 8, 9, 10}\n",
      "35 5 14 {5, 6, 7, 8, 9, 10, 11}\n",
      "39 6 10 {6, 7}\n",
      "40 6 11 {8, 6, 7}\n",
      "41 6 12 {8, 9, 6, 7}\n",
      "42 6 13 {6, 7, 8, 9, 10}\n",
      "43 6 14 {6, 7, 8, 9, 10, 11}\n",
      "44 6 15 {6, 7, 8, 9, 10, 11, 12}\n",
      "45 6 16 {6, 7, 8, 9, 10, 11, 12, 13}\n",
      "49 7 11 {8, 7}\n",
      "50 7 12 {8, 9, 7}\n",
      "51 7 13 {8, 9, 10, 7}\n",
      "55 8 12 {8, 9}\n",
      "56 8 13 {8, 9, 10}\n",
      "57 8 16 {8, 9, 10, 11, 12, 13}\n",
      "61 9 13 {9, 10}\n",
      "62 9 14 {9, 10, 11}\n",
      "63 9 15 {9, 10, 11, 12}\n",
      "64 9 16 {9, 10, 11, 12, 13}\n",
      "65 9 17 {9, 10, 11, 12, 13, 14}\n",
      "69 10 14 {10, 11}\n",
      "70 10 15 {10, 11, 12}\n",
      "71 10 16 {10, 11, 12, 13}\n",
      "75 11 15 {11, 12}\n",
      "76 11 16 {11, 12, 13}\n",
      "80 12 16 {12, 13}\n",
      "81 12 17 {12, 13, 14}\n",
      "82 12 18 {12, 13, 14, 15}\n",
      "83 12 19 {12, 13, 14, 15, 16}\n",
      "87 13 17 {13, 14}\n",
      "88 13 18 {13, 14, 15}\n",
      "89 13 19 {16, 13, 14, 15}\n",
      "93 14 18 {14, 15}\n",
      "94 14 19 {16, 14, 15}\n",
      "95 14 22 {14, 15, 16, 17, 18, 19}\n",
      "99 15 19 {16, 15}\n",
      "100 15 20 {16, 17, 15}\n",
      "101 15 21 {16, 17, 18, 15}\n",
      "102 15 22 {15, 16, 17, 18, 19}\n",
      "103 15 23 {15, 16, 17, 18, 19, 20}\n",
      "107 16 20 {16, 17}\n",
      "108 16 21 {16, 17, 18}\n",
      "109 16 22 {16, 17, 18, 19}\n",
      "113 17 21 {17, 18}\n",
      "114 17 22 {17, 18, 19}\n",
      "115 17 25 {17, 18, 19, 20, 21, 22}\n",
      "119 18 22 {18, 19}\n",
      "120 18 23 {18, 19, 20}\n",
      "121 18 24 {18, 19, 20, 21}\n",
      "122 18 25 {18, 19, 20, 21, 22}\n",
      "123 18 26 {18, 19, 20, 21, 22, 23}\n",
      "124 18 28 {18, 19, 20, 21, 22, 23, 24, 25}\n",
      "128 19 23 {19, 20}\n",
      "129 19 24 {19, 20, 21}\n",
      "130 19 25 {19, 20, 21, 22}\n",
      "134 20 24 {20, 21}\n",
      "135 20 25 {20, 21, 22}\n",
      "136 20 28 {20, 21, 22, 23, 24, 25}\n",
      "140 21 25 {21, 22}\n",
      "141 21 26 {21, 22, 23}\n",
      "142 21 27 {24, 21, 22, 23}\n",
      "143 21 28 {21, 22, 23, 24, 25}\n",
      "144 21 29 {21, 22, 23, 24, 25, 26}\n",
      "148 22 26 {22, 23}\n",
      "149 22 27 {24, 22, 23}\n",
      "150 22 28 {24, 25, 22, 23}\n",
      "154 23 27 {24, 23}\n",
      "155 23 28 {24, 25, 23}\n",
      "159 24 28 {24, 25}\n",
      "160 24 29 {24, 25, 26}\n",
      "161 24 30 {24, 25, 26, 27}\n",
      "165 25 29 {25, 26}\n",
      "166 25 30 {25, 26, 27}\n",
      "170 26 30 {26, 27}\n"
     ]
    }
   ],
   "source": [
    "for eid in E:\n",
    "    e = E[eid]\n",
    "    print(eid, e.i, e.j, e.sid)"
   ]
  },
  {
   "cell_type": "code",
   "execution_count": 32,
   "metadata": {},
   "outputs": [
    {
     "data": {
      "text/plain": [
       "(4, 4)"
      ]
     },
     "execution_count": 32,
     "metadata": {},
     "output_type": "execute_result"
    }
   ],
   "source": [
    "S[1].i, S[1].j"
   ]
  },
  {
   "cell_type": "code",
   "execution_count": null,
   "metadata": {},
   "outputs": [],
   "source": [
    "# degree of each segment\n",
    "degree = {}\n",
    "for sid in S:\n",
    "    s: NMRSegment = S[sid]\n",
    "    d = len(s.eid)\n",
    "    if d not in degree:\n",
    "        degree[d] = 0\n",
    "    degree[d] += 1\n",
    "# convert from dict to list\n",
    "degree = sorted([(d, degree[d]) for d in degree])\n"
   ]
  },
  {
   "cell_type": "code",
   "execution_count": null,
   "metadata": {},
   "outputs": [],
   "source": [
    "x, y = list(zip(*degree))\n",
    "df = {'segment degree':x,'#occurrencies':y}\n",
    "px.scatter(df,x='segment degree',y='#occurrencies')"
   ]
  },
  {
   "cell_type": "code",
   "execution_count": null,
   "metadata": {},
   "outputs": [],
   "source": [
    "# any pair of segments have the same edges? \n",
    "K = set()\n",
    "for sid in tqdm.tqdm(S):\n",
    "    s: NMRSegment = S[sid]\n",
    "    K.add(tuple(sorted(eid for eid in s.eid)))\n",
    "print('#K:',len(K), '#S:', len(S))"
   ]
  },
  {
   "cell_type": "code",
   "execution_count": null,
   "metadata": {},
   "outputs": [],
   "source": [
    "# remover de (edge) 'a' de s.sid se existir (edge) 'b' s.sid tq b \\subset a.\n",
    "import copy\n",
    "W = copy.deepcopy(S)\n",
    "df = {'sid':[], 'degOld':[], 'degNew':[]}\n",
    "for sid in tqdm.tqdm(sorted(W)):\n",
    "    s : NMRSegment = W[sid]\n",
    "    s_eid = sorted(s.eid)\n",
    "    R = set() # eid to be removed\n",
    "    for eidA in s_eid:\n",
    "        a: NMREdge = E[eidA]\n",
    "        for eidB in s_eid:\n",
    "            if eidA == eidB:\n",
    "                continue\n",
    "            b: NMREdge = E[eidB]\n",
    "            # a contains b, so b precedes a\n",
    "            if a.i <= b.i and b.j <= a.j:\n",
    "                R.add(eidA)\n",
    "                break\n",
    "    s.eid = s.eid - R\n",
    "    df['sid'].append(sid)\n",
    "    df['degOld'].append(len(s_eid))\n",
    "    df['degNew'].append(len(s.eid))\n"
   ]
  },
  {
   "cell_type": "code",
   "execution_count": null,
   "metadata": {},
   "outputs": [],
   "source": [
    "px.scatter(df, x='degOld', y='degNew', text='sid')"
   ]
  },
  {
   "cell_type": "code",
   "execution_count": null,
   "metadata": {},
   "outputs": [],
   "source": [
    "sid = 623\n",
    "s = S[sid]\n",
    "for eid in s.eid:\n",
    "    e: NMREdge = E[eid]\n",
    "    print('(%d, %d)' % (e.i, e.j))\n"
   ]
  },
  {
   "cell_type": "code",
   "execution_count": null,
   "metadata": {},
   "outputs": [],
   "source": [
    "sid = 623\n",
    "s = W[sid]\n",
    "for eid in s.eid:\n",
    "    e: NMREdge = E[eid]\n",
    "    print('(%d, %d)' % (e.i, e.j))\n"
   ]
  },
  {
   "cell_type": "code",
   "execution_count": null,
   "metadata": {},
   "outputs": [],
   "source": [
    "s.i, s.j"
   ]
  },
  {
   "cell_type": "code",
   "execution_count": null,
   "metadata": {},
   "outputs": [],
   "source": []
  }
 ],
 "metadata": {
  "kernelspec": {
   "display_name": "Python 3.9.7 ('base')",
   "language": "python",
   "name": "python3"
  },
  "language_info": {
   "codemirror_mode": {
    "name": "ipython",
    "version": 3
   },
   "file_extension": ".py",
   "mimetype": "text/x-python",
   "name": "python",
   "nbconvert_exporter": "python",
   "pygments_lexer": "ipython3",
   "version": "3.9.7"
  },
  "vscode": {
   "interpreter": {
    "hash": "586ad1ed5c97141e2437e681efbf1ec0adcd17d830cf5af2ca3d2819e743e158"
   }
  }
 },
 "nbformat": 4,
 "nbformat_minor": 4
}
