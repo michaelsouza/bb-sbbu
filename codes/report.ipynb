{
 "cells": [
  {
   "cell_type": "code",
   "execution_count": 1,
   "metadata": {},
   "outputs": [],
   "source": [
    "import os\n",
    "from bb import *\n",
    "import pandas as pd\n",
    "import networkx as nx\n",
    "import plotly.express as px\n",
    "import matplotlib.pyplot as plt"
   ]
  },
  {
   "cell_type": "markdown",
   "metadata": {},
   "source": [
    "### Plot NMR Graph"
   ]
  },
  {
   "cell_type": "code",
   "execution_count": 2,
   "metadata": {},
   "outputs": [],
   "source": [
    "def plot_graph(G):\n",
    "    pos = nx.spring_layout(G)    \n",
    "    node_color = ['y' if ':' in node else 'r' for node in G.nodes()]\n",
    "    node_size = [800 if ':' in node else 300 for node in G.nodes()]\n",
    "    nx.draw_networkx_nodes(G, pos, \n",
    "        node_size=node_size, \n",
    "        node_shape='o', \n",
    "        node_color=node_color)\n",
    "    nx.draw_networkx_labels(G, pos, font_color='k', font_size=8)\n",
    "    nx.draw_networkx_edges(G, pos)    \n",
    "    plt.show()"
   ]
  },
  {
   "cell_type": "code",
   "execution_count": 3,
   "metadata": {},
   "outputs": [
    {
     "data": {
      "image/png": "[encoded data removed]",
      "text/plain": [
       "<Figure size 432x288 with 1 Axes>"
      ]
     },
     "metadata": {},
     "output_type": "display_data"
    }
   ],
   "source": [
    "fnmr = '../DATA_TEST/testA.nmr'\n",
    "# fnmr = '../DATA_EPSD_00_DMAX_60/1cza.nmr'\n",
    "nmr = NMR(fnmr)\n",
    "E, S = nmr.E, nmr.S\n",
    "G = nmr.ordering_graph\n",
    "plot_graph(G)"
   ]
  },
  {
   "cell_type": "code",
   "execution_count": null,
   "metadata": {},
   "outputs": [],
   "source": [
    "order_cost([3,2,1],E, S)"
   ]
  },
  {
   "cell_type": "markdown",
   "metadata": {},
   "source": [
    "### READ LOG FILES"
   ]
  },
  {
   "cell_type": "code",
   "execution_count": null,
   "metadata": {},
   "outputs": [],
   "source": [
    "WDIR = ['../DATA_EPSD_00_DMAX_50', '../DATA_EPSD_00_DMAX_60']\n",
    "df = []\n",
    "for wdir in WDIR:\n",
    "    dmax = int(wdir.split('_')[-1])\n",
    "    for flog in sorted(os.listdir(wdir)):\n",
    "        if not flog.endswith('.log'):\n",
    "            continue\n",
    "        pid = flog.replace('.log','')\n",
    "        flog = os.path.join(wdir, flog)\n",
    "        # check if the problem was pickled\n",
    "        pkl = os.path.exists(flog.replace('.log','.pkl'))\n",
    "        df_log = {'pid': pid, 'dmax':dmax, 'flog': flog, 'pkl': pkl}\n",
    "        with open(flog, 'r') as fid:\n",
    "            for row in fid:\n",
    "                row = row.replace(':','').replace('\\n','').split(' ')\n",
    "                field = row[1]\n",
    "                if 'fnmr' in field:\n",
    "                    value = row[-1]\n",
    "                elif 'timeoutBB' in field:\n",
    "                    value = bool(row[-1] == 'True')\n",
    "                elif 'time' in field:\n",
    "                    value = float(row[-1])\n",
    "                else:\n",
    "                    value = int(row[-1])                    \n",
    "                df_log[field] = value\n",
    "        if ('costSBBU' in df_log) and (df_log['costSBBU'] == df_log['costRELAX']):\n",
    "            df_log['costBB'] = df_log['costSBBU']\n",
    "            df_log['timeBB'] = df_log['timeSBBU']\n",
    "        df.append(df_log)\n",
    "df = pd.DataFrame(df)\n",
    "df['gapRL'] = (df['costSBBU'] - df['costRELAX']) / df['costRELAX']\n",
    "df['gapBB'] = (df['costSBBU'] - df['costBB']) / df['costBB']\n",
    "fname = '../results.xlsx'\n",
    "print('Save', fname)\n",
    "df.to_excel(fname,index=False)\n",
    "df.head()"
   ]
  },
  {
   "cell_type": "code",
   "execution_count": null,
   "metadata": {},
   "outputs": [],
   "source": [
    "df.groupby(by=['pid','dmax']).mean()"
   ]
  },
  {
   "cell_type": "code",
   "execution_count": null,
   "metadata": {},
   "outputs": [],
   "source": [
    "df50 = df[df['dmax']==50]\n",
    "df60 = df[df['dmax']==60]"
   ]
  }
 ],
 "metadata": {
  "kernelspec": {
   "display_name": "Python 3.9.7 ('base')",
   "language": "python",
   "name": "python3"
  },
  "language_info": {
   "codemirror_mode": {
    "name": "ipython",
    "version": 3
   },
   "file_extension": ".py",
   "mimetype": "text/x-python",
   "name": "python",
   "nbconvert_exporter": "python",
   "pygments_lexer": "ipython3",
   "version": "3.9.7"
  },
  "orig_nbformat": 4,
  "vscode": {
   "interpreter": {
    "hash": "586ad1ed5c97141e2437e681efbf1ec0adcd17d830cf5af2ca3d2819e743e158"
   }
  }
 },
 "nbformat": 4,
 "nbformat_minor": 2
}
